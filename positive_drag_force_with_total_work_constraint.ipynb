{
 "cells": [
  {
   "cell_type": "markdown",
   "id": "a3d32d77",
   "metadata": {},
   "source": [
    "## Training the positive-filtered drag model to capture the notion of total work"
   ]
  },
  {
   "cell_type": "markdown",
   "id": "70288a74",
   "metadata": {},
   "source": [
    "In the previous notebook (total_work_comparisons_filtered_drag_models), we answered the following question: How well do the two models currently predict real work? We found that the model trained only on negative drag forces captured real work surprisingly well (around 1% error), whereas the model trained for positive drag forces was a bit weaker (around 32% error). In this notebook, we will add a real work error term to the positive drag force DNN's loss function, with the hope that this will cause the total work prediction to improve. \n",
    "\n",
    "Questions:\n",
    "- What happens when we bake the real work conservation requirement into our loss function for the positive drag force model? Will it improve the outcome in terms of real work and predicted work?\n",
    "- If so, at what expense? How much will the mean absolute error rise if we put in this additional constraint?"
   ]
  },
  {
   "cell_type": "markdown",
   "id": "6daf2b2c",
   "metadata": {},
   "source": [
    "### Import and prepare data"
   ]
  },
  {
   "cell_type": "code",
   "execution_count": 1,
   "id": "c24eba4e",
   "metadata": {},
   "outputs": [
    {
     "name": "stdout",
     "output_type": "stream",
     "text": [
      "Requirement already satisfied: torch in /Library/Frameworks/Python.framework/Versions/3.8/lib/python3.8/site-packages (1.9.0)\n",
      "Requirement already satisfied: torchvision in /Library/Frameworks/Python.framework/Versions/3.8/lib/python3.8/site-packages (0.10.0)\n",
      "Requirement already satisfied: typing-extensions in /Library/Frameworks/Python.framework/Versions/3.8/lib/python3.8/site-packages (from torch) (3.10.0.0)\n",
      "Requirement already satisfied: pillow>=5.3.0 in /Library/Frameworks/Python.framework/Versions/3.8/lib/python3.8/site-packages (from torchvision) (8.3.0)\n",
      "Requirement already satisfied: numpy in /Library/Frameworks/Python.framework/Versions/3.8/lib/python3.8/site-packages (from torchvision) (1.21.1)\n",
      "\u001b[33mWARNING: You are using pip version 21.2.4; however, version 22.3.1 is available.\n",
      "You should consider upgrading via the '/Library/Frameworks/Python.framework/Versions/3.8/bin/python3.8 -m pip install --upgrade pip' command.\u001b[0m\n",
      "Note: you may need to restart the kernel to use updated packages.\n"
     ]
    }
   ],
   "source": [
    "%pip install torch torchvision"
   ]
  },
  {
   "cell_type": "code",
   "execution_count": 38,
   "id": "3c351a58",
   "metadata": {},
   "outputs": [],
   "source": [
    "import OpenMORe.OpenMORe.model_order_reduction as model_order_reduction\n",
    "from OpenMORe.OpenMORe.utilities import *\n",
    "import pandas as pd\n",
    "from numpy import genfromtxt\n",
    "import tensorflow as tf\n",
    "from tensorflow import keras\n",
    "from tensorflow.keras import layers\n",
    "import matplotlib.pyplot as plt\n",
    "from tensorflow.keras import regularizers\n",
    "import numpy as np\n",
    "from scipy.stats import pearsonr\n",
    "from sklearn.preprocessing import StandardScaler\n",
    "import torch\n",
    "import math"
   ]
  },
  {
   "cell_type": "code",
   "execution_count": 3,
   "id": "cbfc244b",
   "metadata": {},
   "outputs": [],
   "source": [
    "cu4_drag_force = genfromtxt('cu4_drag_force.csv', delimiter=',')"
   ]
  },
  {
   "cell_type": "code",
   "execution_count": 4,
   "id": "8aadc86e",
   "metadata": {},
   "outputs": [
    {
     "data": {
      "text/html": [
       "<div>\n",
       "<style scoped>\n",
       "    .dataframe tbody tr th:only-of-type {\n",
       "        vertical-align: middle;\n",
       "    }\n",
       "\n",
       "    .dataframe tbody tr th {\n",
       "        vertical-align: top;\n",
       "    }\n",
       "\n",
       "    .dataframe thead th {\n",
       "        text-align: right;\n",
       "    }\n",
       "</style>\n",
       "<table border=\"1\" class=\"dataframe\">\n",
       "  <thead>\n",
       "    <tr style=\"text-align: right;\">\n",
       "      <th></th>\n",
       "      <th>x</th>\n",
       "      <th>eta</th>\n",
       "      <th>u</th>\n",
       "      <th>v</th>\n",
       "      <th>pressure</th>\n",
       "      <th>deta_dx</th>\n",
       "      <th>drag_force</th>\n",
       "    </tr>\n",
       "  </thead>\n",
       "  <tbody>\n",
       "    <tr>\n",
       "      <th>0</th>\n",
       "      <td>-1.728670</td>\n",
       "      <td>1.594456</td>\n",
       "      <td>0.183840</td>\n",
       "      <td>0.726587</td>\n",
       "      <td>0.725233</td>\n",
       "      <td>NaN</td>\n",
       "      <td>NaN</td>\n",
       "    </tr>\n",
       "    <tr>\n",
       "      <th>1</th>\n",
       "      <td>-1.721907</td>\n",
       "      <td>1.592266</td>\n",
       "      <td>0.258540</td>\n",
       "      <td>0.806480</td>\n",
       "      <td>0.648305</td>\n",
       "      <td>-0.323798</td>\n",
       "      <td>-0.209920</td>\n",
       "    </tr>\n",
       "    <tr>\n",
       "      <th>2</th>\n",
       "      <td>-1.715139</td>\n",
       "      <td>1.582960</td>\n",
       "      <td>0.269511</td>\n",
       "      <td>0.808270</td>\n",
       "      <td>0.614005</td>\n",
       "      <td>-1.375024</td>\n",
       "      <td>-0.844272</td>\n",
       "    </tr>\n",
       "    <tr>\n",
       "      <th>3</th>\n",
       "      <td>-1.708376</td>\n",
       "      <td>1.568179</td>\n",
       "      <td>0.290845</td>\n",
       "      <td>0.924656</td>\n",
       "      <td>0.542222</td>\n",
       "      <td>-2.185638</td>\n",
       "      <td>-1.185102</td>\n",
       "    </tr>\n",
       "    <tr>\n",
       "      <th>4</th>\n",
       "      <td>-1.701608</td>\n",
       "      <td>1.536428</td>\n",
       "      <td>0.301410</td>\n",
       "      <td>0.924826</td>\n",
       "      <td>0.508903</td>\n",
       "      <td>-4.691257</td>\n",
       "      <td>-2.387395</td>\n",
       "    </tr>\n",
       "    <tr>\n",
       "      <th>...</th>\n",
       "      <td>...</td>\n",
       "      <td>...</td>\n",
       "      <td>...</td>\n",
       "      <td>...</td>\n",
       "      <td>...</td>\n",
       "      <td>...</td>\n",
       "      <td>...</td>\n",
       "    </tr>\n",
       "    <tr>\n",
       "      <th>10235</th>\n",
       "      <td>1.701608</td>\n",
       "      <td>1.513993</td>\n",
       "      <td>-1.130897</td>\n",
       "      <td>0.205433</td>\n",
       "      <td>1.193493</td>\n",
       "      <td>2.886742</td>\n",
       "      <td>3.445307</td>\n",
       "    </tr>\n",
       "    <tr>\n",
       "      <th>10236</th>\n",
       "      <td>1.708376</td>\n",
       "      <td>1.543437</td>\n",
       "      <td>-1.123716</td>\n",
       "      <td>0.359496</td>\n",
       "      <td>1.148804</td>\n",
       "      <td>4.350442</td>\n",
       "      <td>4.997804</td>\n",
       "    </tr>\n",
       "    <tr>\n",
       "      <th>10237</th>\n",
       "      <td>1.715139</td>\n",
       "      <td>1.580311</td>\n",
       "      <td>-1.125836</td>\n",
       "      <td>0.372134</td>\n",
       "      <td>1.124256</td>\n",
       "      <td>5.452650</td>\n",
       "      <td>6.130174</td>\n",
       "    </tr>\n",
       "    <tr>\n",
       "      <th>10238</th>\n",
       "      <td>1.721907</td>\n",
       "      <td>1.589667</td>\n",
       "      <td>-1.117356</td>\n",
       "      <td>0.447627</td>\n",
       "      <td>1.075160</td>\n",
       "      <td>1.382383</td>\n",
       "      <td>1.486284</td>\n",
       "    </tr>\n",
       "    <tr>\n",
       "      <th>10239</th>\n",
       "      <td>1.728670</td>\n",
       "      <td>1.608379</td>\n",
       "      <td>-1.107235</td>\n",
       "      <td>0.460704</td>\n",
       "      <td>1.040856</td>\n",
       "      <td>2.767016</td>\n",
       "      <td>2.880067</td>\n",
       "    </tr>\n",
       "  </tbody>\n",
       "</table>\n",
       "<p>10240 rows × 7 columns</p>\n",
       "</div>"
      ],
      "text/plain": [
       "              x       eta         u         v  pressure   deta_dx  drag_force\n",
       "0     -1.728670  1.594456  0.183840  0.726587  0.725233       NaN         NaN\n",
       "1     -1.721907  1.592266  0.258540  0.806480  0.648305 -0.323798   -0.209920\n",
       "2     -1.715139  1.582960  0.269511  0.808270  0.614005 -1.375024   -0.844272\n",
       "3     -1.708376  1.568179  0.290845  0.924656  0.542222 -2.185638   -1.185102\n",
       "4     -1.701608  1.536428  0.301410  0.924826  0.508903 -4.691257   -2.387395\n",
       "...         ...       ...       ...       ...       ...       ...         ...\n",
       "10235  1.701608  1.513993 -1.130897  0.205433  1.193493  2.886742    3.445307\n",
       "10236  1.708376  1.543437 -1.123716  0.359496  1.148804  4.350442    4.997804\n",
       "10237  1.715139  1.580311 -1.125836  0.372134  1.124256  5.452650    6.130174\n",
       "10238  1.721907  1.589667 -1.117356  0.447627  1.075160  1.382383    1.486284\n",
       "10239  1.728670  1.608379 -1.107235  0.460704  1.040856  2.767016    2.880067\n",
       "\n",
       "[10240 rows x 7 columns]"
      ]
     },
     "execution_count": 4,
     "metadata": {},
     "output_type": "execute_result"
    }
   ],
   "source": [
    "cu4_drag_force = pd.DataFrame(cu4_drag_force, columns=[\"x\",\"eta\",\"u\",\"v\",\"pressure\",\"deta_dx\",\"drag_force\"])\n",
    "cu4_drag_force"
   ]
  },
  {
   "cell_type": "code",
   "execution_count": 5,
   "id": "7700bc82",
   "metadata": {},
   "outputs": [],
   "source": [
    "cu4_pos_drag = cu4_drag_force.copy()\n",
    "\n",
    "# apply filter for drag force\n",
    "cu4_pos_drag[cu4_pos_drag['deta_dx'] < 0] = 0"
   ]
  },
  {
   "cell_type": "markdown",
   "id": "025583f9",
   "metadata": {},
   "source": [
    "### Calculation of real work"
   ]
  },
  {
   "cell_type": "markdown",
   "id": "ead34e56",
   "metadata": {},
   "source": [
    "The integral of drag force over x is W (work). We can estimate this integral ourselves using the real data.\n",
    "\n",
    "$W = \\int F_{D}dx \\approx \\sum F_{d}(x_{i})\\Delta x$"
   ]
  },
  {
   "cell_type": "code",
   "execution_count": 6,
   "id": "2f55562e",
   "metadata": {},
   "outputs": [
    {
     "data": {
      "text/plain": [
       "355.83458649274985"
      ]
     },
     "execution_count": 6,
     "metadata": {},
     "output_type": "execute_result"
    }
   ],
   "source": [
    "cu4_drag_force['dx'] = cu4_drag_force['x'].diff()\n",
    "\n",
    "products = cu4_drag_force['dx'] * cu4_drag_force['drag_force']\n",
    "real_work = np.sum(products)\n",
    "real_work"
   ]
  },
  {
   "cell_type": "markdown",
   "id": "5d0900f1",
   "metadata": {},
   "source": [
    "### Define helper functions"
   ]
  },
  {
   "cell_type": "code",
   "execution_count": 7,
   "id": "f98bbae6",
   "metadata": {},
   "outputs": [],
   "source": [
    "def build_and_compile_model(norm):\n",
    "  model = keras.Sequential([\n",
    "      norm,\n",
    "      layers.Dense(64, activation='relu'),\n",
    "      layers.Dense(64, activation='relu'),\n",
    "      layers.Dense(1)\n",
    "  ])\n",
    "\n",
    "  model.compile(loss='mean_absolute_error',\n",
    "                optimizer=tf.keras.optimizers.Adam(0.001))\n",
    "  return model\n",
    "\n",
    "def plot_loss(history):\n",
    "  plt.plot(history.history['loss'], label='loss')\n",
    "  plt.plot(history.history['val_loss'], label='val_loss')\n",
    "  plt.ylim([0, 10])\n",
    "  plt.xlabel('Epoch')\n",
    "  plt.ylabel('Loss')\n",
    "  plt.legend()\n",
    "  plt.grid(True)"
   ]
  },
  {
   "cell_type": "markdown",
   "id": "94fab67e",
   "metadata": {},
   "source": [
    "### Training for positive drag model with no custom loss function"
   ]
  },
  {
   "cell_type": "markdown",
   "id": "79211786",
   "metadata": {},
   "source": [
    "Positive drag model."
   ]
  },
  {
   "cell_type": "code",
   "execution_count": 8,
   "id": "60b4632e",
   "metadata": {},
   "outputs": [
    {
     "name": "stdout",
     "output_type": "stream",
     "text": [
      "shape of training dataset:  (8191, 5)\n",
      "shape of testing dataset:  (2048, 5)\n"
     ]
    },
    {
     "name": "stderr",
     "output_type": "stream",
     "text": [
      "2022-11-16 20:11:32.842417: I tensorflow/core/platform/cpu_feature_guard.cc:193] This TensorFlow binary is optimized with oneAPI Deep Neural Network Library (oneDNN) to use the following CPU instructions in performance-critical operations:  AVX2 FMA\n",
      "To enable them in other operations, rebuild TensorFlow with the appropriate compiler flags.\n"
     ]
    },
    {
     "name": "stdout",
     "output_type": "stream",
     "text": [
      "First example: [[0. 0. 0. 0.]]\n",
      "\n",
      "Normalized: [[-0.16 -0.01  0.46  0.41]]\n",
      "Model: \"sequential\"\n",
      "_________________________________________________________________\n",
      " Layer (type)                Output Shape              Param #   \n",
      "=================================================================\n",
      " normalization (Normalizatio  (None, 4)                9         \n",
      " n)                                                              \n",
      "                                                                 \n",
      " dense (Dense)               (None, 64)                320       \n",
      "                                                                 \n",
      " dense_1 (Dense)             (None, 64)                4160      \n",
      "                                                                 \n",
      " dense_2 (Dense)             (None, 1)                 65        \n",
      "                                                                 \n",
      "=================================================================\n",
      "Total params: 4,554\n",
      "Trainable params: 4,545\n",
      "Non-trainable params: 9\n",
      "_________________________________________________________________\n"
     ]
    }
   ],
   "source": [
    "# Prepare the data\n",
    "cu4_pos_drag = cu4_pos_drag.copy()[1:]\n",
    "\n",
    "# Split the data into train and test\n",
    "train_dataset_cu4_pos_drag = cu4_pos_drag.sample(frac=0.8, random_state=0)\n",
    "test_dataset_cu4_pos_drag = cu4_pos_drag.drop(train_dataset_cu4_pos_drag.index)\n",
    "\n",
    "train_dataset_cu4_pos_drag.pop('pressure')\n",
    "test_dataset_cu4_pos_drag.pop('pressure')\n",
    "\n",
    "train_dataset_cu4_pos_drag.pop('deta_dx')\n",
    "test_dataset_cu4_pos_drag.pop('deta_dx')\n",
    "\n",
    "print(\"shape of training dataset: \", train_dataset_cu4_pos_drag.shape)\n",
    "print(\"shape of testing dataset: \", test_dataset_cu4_pos_drag.shape)\n",
    "\n",
    "train_features_cu4_pos_drag = train_dataset_cu4_pos_drag.copy()\n",
    "test_features_cu4_pos_drag = test_dataset_cu4_pos_drag.copy()\n",
    "\n",
    "train_labels_cu4_pos_drag = train_features_cu4_pos_drag.pop('drag_force')\n",
    "test_labels_cu4_pos_drag = test_features_cu4_pos_drag.pop('drag_force')\n",
    "\n",
    "# Normalize the data\n",
    "normalizer_cu4_pos_drag = tf.keras.layers.Normalization(axis=-1)\n",
    "normalizer_cu4_pos_drag.adapt(np.array(train_features_cu4_pos_drag))\n",
    "\n",
    "first = np.array(train_features_cu4_pos_drag[:1])\n",
    "\n",
    "with np.printoptions(precision=2, suppress=True):\n",
    "  print('First example:', first)\n",
    "  print()\n",
    "  print('Normalized:', normalizer_cu4_pos_drag(first).numpy())\n",
    "\n",
    "# Build the model\n",
    "dnn_model_cu4_pos_drag = build_and_compile_model(normalizer_cu4_pos_drag)\n",
    "dnn_model_cu4_pos_drag.summary()"
   ]
  },
  {
   "cell_type": "code",
   "execution_count": 9,
   "id": "90db213c",
   "metadata": {},
   "outputs": [
    {
     "name": "stdout",
     "output_type": "stream",
     "text": [
      "CPU times: user 38 s, sys: 6.75 s, total: 44.7 s\n",
      "Wall time: 28.2 s\n"
     ]
    }
   ],
   "source": [
    "%%time\n",
    "history_cu4_pos_drag = dnn_model_cu4_pos_drag.fit(\n",
    "    train_features_cu4_pos_drag,\n",
    "    train_labels_cu4_pos_drag,\n",
    "    validation_split=0.2,\n",
    "    verbose=0, epochs=100)"
   ]
  },
  {
   "cell_type": "code",
   "execution_count": 10,
   "id": "c71d50ad",
   "metadata": {},
   "outputs": [
    {
     "data": {
      "image/png": "[encoded data removed]",
      "text/plain": [
       "<Figure size 432x288 with 1 Axes>"
      ]
     },
     "metadata": {
      "needs_background": "light"
     },
     "output_type": "display_data"
    }
   ],
   "source": [
    "plot_loss(history_cu4_pos_drag)"
   ]
  },
  {
   "cell_type": "markdown",
   "id": "9141f85a",
   "metadata": {},
   "source": [
    "### Evaluate the performance of positive drag model with no custom loss function"
   ]
  },
  {
   "cell_type": "code",
   "execution_count": 11,
   "id": "fe26f32d",
   "metadata": {},
   "outputs": [],
   "source": [
    "# Uncomment the following to inspect them\n",
    "\n",
    "test_features_cu4_pos_drag = test_features_cu4_pos_drag[['x','eta','u','v']]\n",
    "# test_dataset_cu4_pos_drag\n",
    "#test_features_cu4_pos_drag\n",
    "#test_labels_cu4_pos_drag"
   ]
  },
  {
   "cell_type": "code",
   "execution_count": 12,
   "id": "a62b38d3",
   "metadata": {},
   "outputs": [
    {
     "name": "stdout",
     "output_type": "stream",
     "text": [
      "64/64 [==============================] - 0s 1ms/step\n"
     ]
    }
   ],
   "source": [
    "predicted_pos_drag_force = dnn_model_cu4_pos_drag.predict(test_features_cu4_pos_drag)"
   ]
  },
  {
   "cell_type": "code",
   "execution_count": 13,
   "id": "73056217",
   "metadata": {},
   "outputs": [
    {
     "data": {
      "text/plain": [
       "(2048, 1)"
      ]
     },
     "execution_count": 13,
     "metadata": {},
     "output_type": "execute_result"
    }
   ],
   "source": [
    "predicted_pos_drag_force.shape"
   ]
  },
  {
   "cell_type": "code",
   "execution_count": 14,
   "id": "cf687ceb",
   "metadata": {},
   "outputs": [
    {
     "name": "stdout",
     "output_type": "stream",
     "text": [
      "average drag force:  3.0289498011373026\n",
      "standard deviation of drag force:  5.888705980783494\n"
     ]
    }
   ],
   "source": [
    "print(\"average drag force: \", np.average(test_labels_cu4_pos_drag))\n",
    "print(\"standard deviation of drag force: \", np.std(test_labels_cu4_pos_drag))"
   ]
  },
  {
   "cell_type": "code",
   "execution_count": 15,
   "id": "ff99cb3b",
   "metadata": {},
   "outputs": [],
   "source": [
    "true_drag_force = cu4_drag_force[cu4_drag_force.index.isin(test_features_cu4_pos_drag.index)]['drag_force']"
   ]
  },
  {
   "cell_type": "code",
   "execution_count": 16,
   "id": "0781434f",
   "metadata": {},
   "outputs": [
    {
     "data": {
      "text/plain": [
       "(2048, 1)"
      ]
     },
     "execution_count": 16,
     "metadata": {},
     "output_type": "execute_result"
    }
   ],
   "source": [
    "true_pos_drag_force = np.expand_dims(test_labels_cu4_pos_drag, axis=1)\n",
    "true_pos_drag_force.shape"
   ]
  },
  {
   "cell_type": "code",
   "execution_count": 17,
   "id": "0dbeec95",
   "metadata": {},
   "outputs": [
    {
     "data": {
      "text/plain": [
       "1.43561310070868"
      ]
     },
     "execution_count": 17,
     "metadata": {},
     "output_type": "execute_result"
    }
   ],
   "source": [
    "# mean absolute err for these predictions (can also compare against true_drag_force instead of true_pos_drag_force)\n",
    "np.sum(np.abs(true_pos_drag_force - predicted_pos_drag_force)) / len(predicted_pos_drag_force) "
   ]
  },
  {
   "cell_type": "code",
   "execution_count": 18,
   "id": "b206bc5b",
   "metadata": {},
   "outputs": [
    {
     "data": {
      "text/plain": [
       "265.87685748857706"
      ]
     },
     "execution_count": 18,
     "metadata": {},
     "output_type": "execute_result"
    }
   ],
   "source": [
    "test_features_cu4_pos_drag['dx'] = test_features_cu4_pos_drag['x'].diff()\n",
    "\n",
    "products = test_features_cu4_pos_drag['dx'] * np.squeeze(true_drag_force)\n",
    "products\n",
    "real_work = np.sum(products)\n",
    "real_work"
   ]
  },
  {
   "cell_type": "code",
   "execution_count": 19,
   "id": "cb1a654a",
   "metadata": {},
   "outputs": [
    {
     "data": {
      "text/plain": [
       "199.43528860354124"
      ]
     },
     "execution_count": 19,
     "metadata": {},
     "output_type": "execute_result"
    }
   ],
   "source": [
    "products = test_features_cu4_pos_drag['dx'] * np.squeeze(predicted_pos_drag_force)\n",
    "predicted_work = np.sum(products)\n",
    "predicted_work"
   ]
  },
  {
   "cell_type": "code",
   "execution_count": 20,
   "id": "3c390f9b",
   "metadata": {},
   "outputs": [
    {
     "data": {
      "text/plain": [
       "24.989602146132768"
      ]
     },
     "execution_count": 20,
     "metadata": {},
     "output_type": "execute_result"
    }
   ],
   "source": [
    "np.abs((predicted_work - real_work) / real_work) * 100"
   ]
  },
  {
   "cell_type": "markdown",
   "id": "3dadb576",
   "metadata": {},
   "source": [
    "With no custom loss function, we can see that the percent error of the total work prediction is about 32.9%, which is really high!"
   ]
  },
  {
   "cell_type": "markdown",
   "id": "ea93d19a",
   "metadata": {},
   "source": [
    "### Custom loss function"
   ]
  },
  {
   "cell_type": "markdown",
   "id": "49d52d98",
   "metadata": {},
   "source": [
    "Now, we will define our custom loss function."
   ]
  },
  {
   "cell_type": "markdown",
   "id": "3322668e",
   "metadata": {},
   "source": [
    "Note that dx is always the same value: 0.006763. We will hardcode this value in a variable to make our lives easier."
   ]
  },
  {
   "cell_type": "code",
   "execution_count": 21,
   "id": "abcb5e1f",
   "metadata": {},
   "outputs": [
    {
     "data": {
      "text/html": [
       "<div>\n",
       "<style scoped>\n",
       "    .dataframe tbody tr th:only-of-type {\n",
       "        vertical-align: middle;\n",
       "    }\n",
       "\n",
       "    .dataframe tbody tr th {\n",
       "        vertical-align: top;\n",
       "    }\n",
       "\n",
       "    .dataframe thead th {\n",
       "        text-align: right;\n",
       "    }\n",
       "</style>\n",
       "<table border=\"1\" class=\"dataframe\">\n",
       "  <thead>\n",
       "    <tr style=\"text-align: right;\">\n",
       "      <th></th>\n",
       "      <th>x</th>\n",
       "      <th>eta</th>\n",
       "      <th>u</th>\n",
       "      <th>v</th>\n",
       "      <th>pressure</th>\n",
       "      <th>deta_dx</th>\n",
       "      <th>drag_force</th>\n",
       "      <th>dx</th>\n",
       "    </tr>\n",
       "  </thead>\n",
       "  <tbody>\n",
       "    <tr>\n",
       "      <th>0</th>\n",
       "      <td>-1.728670</td>\n",
       "      <td>1.594456</td>\n",
       "      <td>0.183840</td>\n",
       "      <td>0.726587</td>\n",
       "      <td>0.725233</td>\n",
       "      <td>NaN</td>\n",
       "      <td>NaN</td>\n",
       "      <td>NaN</td>\n",
       "    </tr>\n",
       "    <tr>\n",
       "      <th>1</th>\n",
       "      <td>-1.721907</td>\n",
       "      <td>1.592266</td>\n",
       "      <td>0.258540</td>\n",
       "      <td>0.806480</td>\n",
       "      <td>0.648305</td>\n",
       "      <td>-0.323798</td>\n",
       "      <td>-0.209920</td>\n",
       "      <td>0.006763</td>\n",
       "    </tr>\n",
       "    <tr>\n",
       "      <th>2</th>\n",
       "      <td>-1.715139</td>\n",
       "      <td>1.582960</td>\n",
       "      <td>0.269511</td>\n",
       "      <td>0.808270</td>\n",
       "      <td>0.614005</td>\n",
       "      <td>-1.375024</td>\n",
       "      <td>-0.844272</td>\n",
       "      <td>0.006768</td>\n",
       "    </tr>\n",
       "    <tr>\n",
       "      <th>3</th>\n",
       "      <td>-1.708376</td>\n",
       "      <td>1.568179</td>\n",
       "      <td>0.290845</td>\n",
       "      <td>0.924656</td>\n",
       "      <td>0.542222</td>\n",
       "      <td>-2.185638</td>\n",
       "      <td>-1.185102</td>\n",
       "      <td>0.006763</td>\n",
       "    </tr>\n",
       "    <tr>\n",
       "      <th>4</th>\n",
       "      <td>-1.701608</td>\n",
       "      <td>1.536428</td>\n",
       "      <td>0.301410</td>\n",
       "      <td>0.924826</td>\n",
       "      <td>0.508903</td>\n",
       "      <td>-4.691257</td>\n",
       "      <td>-2.387395</td>\n",
       "      <td>0.006768</td>\n",
       "    </tr>\n",
       "    <tr>\n",
       "      <th>...</th>\n",
       "      <td>...</td>\n",
       "      <td>...</td>\n",
       "      <td>...</td>\n",
       "      <td>...</td>\n",
       "      <td>...</td>\n",
       "      <td>...</td>\n",
       "      <td>...</td>\n",
       "      <td>...</td>\n",
       "    </tr>\n",
       "    <tr>\n",
       "      <th>10235</th>\n",
       "      <td>1.701608</td>\n",
       "      <td>1.513993</td>\n",
       "      <td>-1.130897</td>\n",
       "      <td>0.205433</td>\n",
       "      <td>1.193493</td>\n",
       "      <td>2.886742</td>\n",
       "      <td>3.445307</td>\n",
       "      <td>0.006768</td>\n",
       "    </tr>\n",
       "    <tr>\n",
       "      <th>10236</th>\n",
       "      <td>1.708376</td>\n",
       "      <td>1.543437</td>\n",
       "      <td>-1.123716</td>\n",
       "      <td>0.359496</td>\n",
       "      <td>1.148804</td>\n",
       "      <td>4.350442</td>\n",
       "      <td>4.997804</td>\n",
       "      <td>0.006768</td>\n",
       "    </tr>\n",
       "    <tr>\n",
       "      <th>10237</th>\n",
       "      <td>1.715139</td>\n",
       "      <td>1.580311</td>\n",
       "      <td>-1.125836</td>\n",
       "      <td>0.372134</td>\n",
       "      <td>1.124256</td>\n",
       "      <td>5.452650</td>\n",
       "      <td>6.130174</td>\n",
       "      <td>0.006763</td>\n",
       "    </tr>\n",
       "    <tr>\n",
       "      <th>10238</th>\n",
       "      <td>1.721907</td>\n",
       "      <td>1.589667</td>\n",
       "      <td>-1.117356</td>\n",
       "      <td>0.447627</td>\n",
       "      <td>1.075160</td>\n",
       "      <td>1.382383</td>\n",
       "      <td>1.486284</td>\n",
       "      <td>0.006768</td>\n",
       "    </tr>\n",
       "    <tr>\n",
       "      <th>10239</th>\n",
       "      <td>1.728670</td>\n",
       "      <td>1.608379</td>\n",
       "      <td>-1.107235</td>\n",
       "      <td>0.460704</td>\n",
       "      <td>1.040856</td>\n",
       "      <td>2.767016</td>\n",
       "      <td>2.880067</td>\n",
       "      <td>0.006763</td>\n",
       "    </tr>\n",
       "  </tbody>\n",
       "</table>\n",
       "<p>10240 rows × 8 columns</p>\n",
       "</div>"
      ],
      "text/plain": [
       "              x       eta         u         v  pressure   deta_dx  drag_force  \\\n",
       "0     -1.728670  1.594456  0.183840  0.726587  0.725233       NaN         NaN   \n",
       "1     -1.721907  1.592266  0.258540  0.806480  0.648305 -0.323798   -0.209920   \n",
       "2     -1.715139  1.582960  0.269511  0.808270  0.614005 -1.375024   -0.844272   \n",
       "3     -1.708376  1.568179  0.290845  0.924656  0.542222 -2.185638   -1.185102   \n",
       "4     -1.701608  1.536428  0.301410  0.924826  0.508903 -4.691257   -2.387395   \n",
       "...         ...       ...       ...       ...       ...       ...         ...   \n",
       "10235  1.701608  1.513993 -1.130897  0.205433  1.193493  2.886742    3.445307   \n",
       "10236  1.708376  1.543437 -1.123716  0.359496  1.148804  4.350442    4.997804   \n",
       "10237  1.715139  1.580311 -1.125836  0.372134  1.124256  5.452650    6.130174   \n",
       "10238  1.721907  1.589667 -1.117356  0.447627  1.075160  1.382383    1.486284   \n",
       "10239  1.728670  1.608379 -1.107235  0.460704  1.040856  2.767016    2.880067   \n",
       "\n",
       "             dx  \n",
       "0           NaN  \n",
       "1      0.006763  \n",
       "2      0.006768  \n",
       "3      0.006763  \n",
       "4      0.006768  \n",
       "...         ...  \n",
       "10235  0.006768  \n",
       "10236  0.006768  \n",
       "10237  0.006763  \n",
       "10238  0.006768  \n",
       "10239  0.006763  \n",
       "\n",
       "[10240 rows x 8 columns]"
      ]
     },
     "execution_count": 21,
     "metadata": {},
     "output_type": "execute_result"
    }
   ],
   "source": [
    "cu4_drag_force['dx'] = cu4_drag_force['x'].diff()\n",
    "cu4_drag_force"
   ]
  },
  {
   "cell_type": "code",
   "execution_count": 22,
   "id": "514105bf",
   "metadata": {},
   "outputs": [],
   "source": [
    "dx = 0.006763"
   ]
  },
  {
   "cell_type": "code",
   "execution_count": 23,
   "id": "49edcd82",
   "metadata": {},
   "outputs": [
    {
     "name": "stdout",
     "output_type": "stream",
     "text": [
      "Model: \"sequential_1\"\n",
      "_________________________________________________________________\n",
      " Layer (type)                Output Shape              Param #   \n",
      "=================================================================\n",
      " normalization (Normalizatio  (None, 4)                9         \n",
      " n)                                                              \n",
      "                                                                 \n",
      " dense_3 (Dense)             (None, 64)                320       \n",
      "                                                                 \n",
      " dense_4 (Dense)             (None, 64)                4160      \n",
      "                                                                 \n",
      " dense_5 (Dense)             (None, 1)                 65        \n",
      "                                                                 \n",
      "=================================================================\n",
      "Total params: 4,554\n",
      "Trainable params: 4,545\n",
      "Non-trainable params: 9\n",
      "_________________________________________________________________\n"
     ]
    }
   ],
   "source": [
    "# input is tensors\n",
    "def calculate_total_work(drag_force_predictions):\n",
    "    product = tf.math.scalar_mul(dx, drag_force_predictions)\n",
    "    my_sum = tf.math.reduce_sum(product)\n",
    "    return my_sum\n",
    "\n",
    "# inputs are both tensors (keras built on top of tensorflow)\n",
    "def my_loss_fn(y_true, y_pred):\n",
    "    true_work = calculate_total_work(y_true)\n",
    "    predicted_work = calculate_total_work(y_pred)\n",
    "\n",
    "    first_loss = tf.math.scalar_mul(0.1, tf.math.scalar_mul(1 / tf.size(y_true), tf.cast(tf.square(y_true - y_pred), tf.float64)))\n",
    "    second_loss = tf.math.scalar_mul(0.9, tf.cast(tf.square(true_work - predicted_work), tf.float64))\n",
    "    \n",
    "    squared_difference = first_loss + second_loss\n",
    "    return tf.reduce_mean(squared_difference, axis=-1)  # Note the `axis=-1`\n",
    "\n",
    "def build_and_compile_model_custom(norm):\n",
    "  model = keras.Sequential([\n",
    "      norm,\n",
    "      layers.Dense(64, activation='relu'),\n",
    "      layers.Dense(64, activation='relu'),\n",
    "      layers.Dense(1)\n",
    "  ])\n",
    "\n",
    "  model.compile(loss=my_loss_fn,\n",
    "                optimizer=tf.keras.optimizers.Adam(0.001))\n",
    "  return model\n",
    "\n",
    "# Build the model\n",
    "dnn_model_cu4_pos_drag_custom = build_and_compile_model_custom(normalizer_cu4_pos_drag)\n",
    "dnn_model_cu4_pos_drag_custom.summary()"
   ]
  },
  {
   "cell_type": "code",
   "execution_count": 24,
   "id": "eab4f579",
   "metadata": {},
   "outputs": [
    {
     "name": "stdout",
     "output_type": "stream",
     "text": [
      "CPU times: user 39.5 s, sys: 6.92 s, total: 46.4 s\n",
      "Wall time: 29.7 s\n"
     ]
    }
   ],
   "source": [
    "%%time\n",
    "history_cu4_pos_drag_custom = dnn_model_cu4_pos_drag_custom.fit(\n",
    "    train_features_cu4_pos_drag,\n",
    "    train_labels_cu4_pos_drag,\n",
    "    validation_split=0.2,\n",
    "    verbose=0, epochs=100)"
   ]
  },
  {
   "cell_type": "code",
   "execution_count": 25,
   "id": "a7402bc8",
   "metadata": {},
   "outputs": [],
   "source": [
    "def plot_loss(history):\n",
    "  plt.plot(history.history['loss'], label='loss')\n",
    "  plt.plot(history.history['val_loss'], label='val_loss')\n",
    "  plt.ylim([0, 0.5])\n",
    "  plt.xlabel('Epoch')\n",
    "  plt.ylabel('Loss')\n",
    "  plt.legend()\n",
    "  plt.grid(True)"
   ]
  },
  {
   "cell_type": "code",
   "execution_count": 26,
   "id": "4097a5d1",
   "metadata": {},
   "outputs": [
    {
     "data": {
      "image/png": "[encoded data removed]",
      "text/plain": [
       "<Figure size 432x288 with 1 Axes>"
      ]
     },
     "metadata": {
      "needs_background": "light"
     },
     "output_type": "display_data"
    }
   ],
   "source": [
    "plot_loss(history_cu4_pos_drag_custom)"
   ]
  },
  {
   "cell_type": "markdown",
   "id": "4960ea3d",
   "metadata": {},
   "source": [
    "This loss looks so much higher than before. I wonder if the total work predictions are fixed/improved, though. FINGERS ARE CROSSED!"
   ]
  },
  {
   "cell_type": "markdown",
   "id": "71a52ec6",
   "metadata": {},
   "source": [
    "### Evaluate the performance of positive drag model WITH custom loss function"
   ]
  },
  {
   "cell_type": "code",
   "execution_count": 27,
   "id": "fbe90b59",
   "metadata": {},
   "outputs": [
    {
     "name": "stdout",
     "output_type": "stream",
     "text": [
      "64/64 [==============================] - 0s 1ms/step\n"
     ]
    }
   ],
   "source": [
    "test_features_cu4_pos_drag = test_features_cu4_pos_drag[['x','eta','u','v']]\n",
    "predicted_pos_drag_force_custom = dnn_model_cu4_pos_drag_custom.predict(test_features_cu4_pos_drag)"
   ]
  },
  {
   "cell_type": "code",
   "execution_count": 28,
   "id": "ad613923",
   "metadata": {},
   "outputs": [
    {
     "data": {
      "text/plain": [
       "26.089729515373577"
      ]
     },
     "execution_count": 28,
     "metadata": {},
     "output_type": "execute_result"
    }
   ],
   "source": [
    "true_drag_force = cu4_drag_force[cu4_drag_force.index.isin(test_features_cu4_pos_drag.index)]['drag_force']\n",
    "true_pos_drag_force = np.expand_dims(test_labels_cu4_pos_drag, axis=1)\n",
    "\n",
    "test_features_cu4_pos_drag['dx'] = test_features_cu4_pos_drag['x'].diff()\n",
    "\n",
    "# calculate the real work\n",
    "products = test_features_cu4_pos_drag['dx'] * np.squeeze(true_drag_force)\n",
    "products\n",
    "real_work = np.sum(products)\n",
    "\n",
    "# calculate the predicted work\n",
    "products = test_features_cu4_pos_drag['dx'] * np.squeeze(predicted_pos_drag_force_custom)\n",
    "predicted_work = np.sum(products)\n",
    "predicted_work\n",
    "\n",
    "# print the percent error\n",
    "np.abs((predicted_work - real_work) / real_work) * 100"
   ]
  },
  {
   "cell_type": "markdown",
   "id": "1e4bf0a9",
   "metadata": {},
   "source": [
    "So if you just train while trying to minimize the total work difference, you can reduce the percent error to 23.9% (as compared to the 32% from before). This is significant. How does it affect the overall performance, though?"
   ]
  },
  {
   "cell_type": "markdown",
   "id": "6e02b983",
   "metadata": {},
   "source": [
    "### Overall performance"
   ]
  },
  {
   "cell_type": "markdown",
   "id": "4db72ec2",
   "metadata": {},
   "source": [
    "From before, you have that the MAE is 1.439 (not bad)."
   ]
  },
  {
   "cell_type": "code",
   "execution_count": 29,
   "id": "aaffbce6",
   "metadata": {},
   "outputs": [
    {
     "data": {
      "text/plain": [
       "1.43561310070868"
      ]
     },
     "execution_count": 29,
     "metadata": {},
     "output_type": "execute_result"
    }
   ],
   "source": [
    "np.sum(np.abs(true_pos_drag_force - predicted_pos_drag_force)) / len(predicted_pos_drag_force) "
   ]
  },
  {
   "cell_type": "markdown",
   "id": "588f52fb",
   "metadata": {},
   "source": [
    "Now, you have that the MAE is surprisingly close (1.506)."
   ]
  },
  {
   "cell_type": "code",
   "execution_count": 30,
   "id": "5055dd9e",
   "metadata": {},
   "outputs": [
    {
     "data": {
      "text/plain": [
       "1.6057224828005785"
      ]
     },
     "execution_count": 30,
     "metadata": {},
     "output_type": "execute_result"
    }
   ],
   "source": [
    "np.sum(np.abs(true_pos_drag_force - predicted_pos_drag_force_custom)) / len(predicted_pos_drag_force_custom) "
   ]
  },
  {
   "cell_type": "markdown",
   "id": "00cdf43b",
   "metadata": {},
   "source": [
    "What percent difference is this?"
   ]
  },
  {
   "cell_type": "code",
   "execution_count": 31,
   "id": "80189ac5",
   "metadata": {},
   "outputs": [
    {
     "data": {
      "text/plain": [
       "27.318437086888135"
      ]
     },
     "execution_count": 31,
     "metadata": {},
     "output_type": "execute_result"
    }
   ],
   "source": [
    "100 * np.abs(23.889033649774902 - 32.86807918307063) / 32.86807918307063"
   ]
  },
  {
   "cell_type": "markdown",
   "id": "bbdf232c",
   "metadata": {},
   "source": [
    "Therefore, you can reduce the total work error by about 27.3% without sacrificing the mean absolute error metric of the model (meaning that they should be pretty close in terms of prediction power)."
   ]
  },
  {
   "cell_type": "markdown",
   "id": "d436dfea",
   "metadata": {},
   "source": [
    "### Drag force prediction visualization\n",
    "\n",
    "In the previous notebook (total_work_comparisons_filtered_drag_models), we saw that the two DNNs (trained on positive and negative drag forces) had a lot of 0-value predictions for drag force. This is still the case, since the model is trained on a lot of zeroed-out datapoints."
   ]
  },
  {
   "cell_type": "code",
   "execution_count": 32,
   "id": "f49e120b",
   "metadata": {},
   "outputs": [
    {
     "data": {
      "text/plain": [
       "[<matplotlib.lines.Line2D at 0x7fd13131bcd0>]"
      ]
     },
     "execution_count": 32,
     "metadata": {},
     "output_type": "execute_result"
    },
    {
     "data": {
      "image/png": "[encoded data removed]",
      "text/plain": [
       "<Figure size 432x288 with 1 Axes>"
      ]
     },
     "metadata": {
      "needs_background": "light"
     },
     "output_type": "display_data"
    }
   ],
   "source": [
    "plt.scatter(true_drag_force, predicted_pos_drag_force_custom)\n",
    "plt.title(\"True drag force against predicted drag force for custom positive model\")\n",
    "plt.xlabel(\"True drag force\")\n",
    "plt.ylabel(\"Drag force prediction by custom positive DNN\")\n",
    "xpoints = ypoints = plt.xlim()\n",
    "plt.plot(xpoints, ypoints, linestyle='--', color='k', lw=3, scalex=False, scaley=False)"
   ]
  },
  {
   "cell_type": "code",
   "execution_count": 33,
   "id": "edb7c503",
   "metadata": {},
   "outputs": [
    {
     "data": {
      "text/plain": [
       "[<matplotlib.lines.Line2D at 0x7fd131385220>]"
      ]
     },
     "execution_count": 33,
     "metadata": {},
     "output_type": "execute_result"
    },
    {
     "data": {
      "image/png": "[encoded data removed]",
      "text/plain": [
       "<Figure size 432x288 with 1 Axes>"
      ]
     },
     "metadata": {
      "needs_background": "light"
     },
     "output_type": "display_data"
    }
   ],
   "source": [
    "plt.scatter(true_drag_force, predicted_pos_drag_force)\n",
    "plt.title(\"True drag force against predicted drag force for unmodified positive model\")\n",
    "plt.xlabel(\"True drag force\")\n",
    "plt.ylabel(\"Drag force prediction by unmodified positive DNN\")\n",
    "xpoints = ypoints = plt.xlim()\n",
    "plt.plot(xpoints, ypoints, linestyle='--', color='k', lw=3, scalex=False, scaley=False)"
   ]
  },
  {
   "cell_type": "markdown",
   "id": "0c38ff82",
   "metadata": {},
   "source": [
    "We can compare the two model predictions side-by-side to see how they differ. In the custom positive drag force model, the total work is much more conserved. We already noted that this did not come at the expense of the mean absolute error of the model, so we don't actually expect these graphs to look very different from one another. In fact, they dont. Let's investigate a bit more to see if there are any notable differences, though.\n",
    "\n",
    "Okay, correction. Look at the bottom left corner. It looks like the custom model is not predicting the negative drag forces that SHOULD be negative. It's making them positive (numerically, it's trying to increase that sum for total work without diverging too much from the actual drag force predictions). So it's ignoring the local physical truth for drag force predictions in favor of the global physical truth for total work.  "
   ]
  },
  {
   "cell_type": "code",
   "execution_count": 36,
   "id": "64751b31",
   "metadata": {},
   "outputs": [],
   "source": [
    "def distance(x,y):\n",
    "    return np.abs(x - y) / math.sqrt(2)"
   ]
  },
  {
   "cell_type": "code",
   "execution_count": 104,
   "id": "47046de0",
   "metadata": {},
   "outputs": [
    {
     "data": {
      "text/plain": [
       "2.9749272638466473"
      ]
     },
     "execution_count": 104,
     "metadata": {},
     "output_type": "execute_result"
    }
   ],
   "source": [
    "total_distance = 0\n",
    "index = 0\n",
    "\n",
    "for i in true_drag_force.index:\n",
    "    dist = distance(true_drag_force.at[i], np.squeeze(predicted_pos_drag_force_custom[index]))\n",
    "    total_distance += dist\n",
    "    index += 1\n",
    "\n",
    "avg_distance = total_distance / len(true_drag_force)\n",
    "avg_distance"
   ]
  },
  {
   "cell_type": "code",
   "execution_count": 105,
   "id": "6bf3716e",
   "metadata": {},
   "outputs": [
    {
     "data": {
      "text/plain": [
       "2.864618104028566"
      ]
     },
     "execution_count": 105,
     "metadata": {},
     "output_type": "execute_result"
    }
   ],
   "source": [
    "total_distance = 0\n",
    "index = 0\n",
    "\n",
    "for i in true_drag_force.index:\n",
    "    dist = distance(true_drag_force.at[i], np.squeeze(predicted_pos_drag_force[index]))\n",
    "    total_distance += dist\n",
    "    index += 1\n",
    "\n",
    "avg_distance = total_distance / len(true_drag_force)\n",
    "avg_distance"
   ]
  },
  {
   "cell_type": "markdown",
   "id": "b1714a6e",
   "metadata": {},
   "source": [
    "We can see that the average distances, or the spread of the data around the y=x line, is more or less the same."
   ]
  }
 ],
 "metadata": {
  "kernelspec": {
   "display_name": "Python 3 (ipykernel)",
   "language": "python",
   "name": "python3"
  },
  "language_info": {
   "codemirror_mode": {
    "name": "ipython",
    "version": 3
   },
   "file_extension": ".py",
   "mimetype": "text/x-python",
   "name": "python",
   "nbconvert_exporter": "python",
   "pygments_lexer": "ipython3",
   "version": "3.8.5"
  }
 },
 "nbformat": 4,
 "nbformat_minor": 5
}
