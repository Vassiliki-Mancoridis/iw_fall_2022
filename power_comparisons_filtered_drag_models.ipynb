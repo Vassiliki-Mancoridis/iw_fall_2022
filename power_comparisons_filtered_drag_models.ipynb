{
 "cells": [
  {
   "cell_type": "markdown",
   "id": "f9dcdb49",
   "metadata": {},
   "source": [
    "# Can the filtered drag models capture the notion of power?\n",
    "\n",
    "Before, we were comparing our models against the notion of total work. Now, we will compare them against a different physical truth. We still want to predict drag force from our input features, but now we want to check that our model is also capturing the notion of total power, which is given by:\n",
    "\n",
    "$P = F \\cdot u$\n",
    "\n",
    "More specifically, we are interested in $P_{flux}$, which is given by:\n",
    "\n",
    "$P_{flux} = \\int P dx = \\int F_{D}u dx$, where $D$ refers to drag. We estimate this by $\\sum F_{D}(x_{i}) \\cdot u(x_{i}) \\cdot dx$"
   ]
  },
  {
   "cell_type": "markdown",
   "id": "6daf2b2c",
   "metadata": {},
   "source": [
    "### Import and prepare data"
   ]
  },
  {
   "cell_type": "code",
   "execution_count": 2,
   "id": "3c351a58",
   "metadata": {},
   "outputs": [],
   "source": [
    "import OpenMORe.OpenMORe.model_order_reduction as model_order_reduction\n",
    "from OpenMORe.OpenMORe.utilities import *\n",
    "import pandas as pd\n",
    "from numpy import genfromtxt\n",
    "import tensorflow as tf\n",
    "from tensorflow import keras\n",
    "from tensorflow.keras import layers\n",
    "import matplotlib.pyplot as plt\n",
    "from tensorflow.keras import regularizers\n",
    "import numpy as np\n",
    "from scipy.stats import pearsonr\n",
    "from sklearn.preprocessing import StandardScaler\n",
    "from tabulate import tabulate"
   ]
  },
  {
   "cell_type": "code",
   "execution_count": 214,
   "id": "e0552fb4",
   "metadata": {},
   "outputs": [],
   "source": [
    "# pip install tensorflow-datasets"
   ]
  },
  {
   "cell_type": "code",
   "execution_count": 3,
   "id": "cbfc244b",
   "metadata": {},
   "outputs": [],
   "source": [
    "cu4_drag_force = genfromtxt('cu4_drag_force.csv', delimiter=',')"
   ]
  },
  {
   "cell_type": "code",
   "execution_count": 4,
   "id": "8aadc86e",
   "metadata": {},
   "outputs": [
    {
     "data": {
      "text/html": [
       "<div>\n",
       "<style scoped>\n",
       "    .dataframe tbody tr th:only-of-type {\n",
       "        vertical-align: middle;\n",
       "    }\n",
       "\n",
       "    .dataframe tbody tr th {\n",
       "        vertical-align: top;\n",
       "    }\n",
       "\n",
       "    .dataframe thead th {\n",
       "        text-align: right;\n",
       "    }\n",
       "</style>\n",
       "<table border=\"1\" class=\"dataframe\">\n",
       "  <thead>\n",
       "    <tr style=\"text-align: right;\">\n",
       "      <th></th>\n",
       "      <th>x</th>\n",
       "      <th>eta</th>\n",
       "      <th>u</th>\n",
       "      <th>v</th>\n",
       "      <th>pressure</th>\n",
       "      <th>deta_dx</th>\n",
       "      <th>drag_force</th>\n",
       "      <th>dx</th>\n",
       "    </tr>\n",
       "  </thead>\n",
       "  <tbody>\n",
       "    <tr>\n",
       "      <th>0</th>\n",
       "      <td>-1.728670</td>\n",
       "      <td>1.594456</td>\n",
       "      <td>0.183840</td>\n",
       "      <td>0.726587</td>\n",
       "      <td>0.725233</td>\n",
       "      <td>NaN</td>\n",
       "      <td>NaN</td>\n",
       "      <td>NaN</td>\n",
       "    </tr>\n",
       "    <tr>\n",
       "      <th>1</th>\n",
       "      <td>-1.721907</td>\n",
       "      <td>1.592266</td>\n",
       "      <td>0.258540</td>\n",
       "      <td>0.806480</td>\n",
       "      <td>0.648305</td>\n",
       "      <td>-0.323798</td>\n",
       "      <td>-0.209920</td>\n",
       "      <td>0.006763</td>\n",
       "    </tr>\n",
       "    <tr>\n",
       "      <th>2</th>\n",
       "      <td>-1.715139</td>\n",
       "      <td>1.582960</td>\n",
       "      <td>0.269511</td>\n",
       "      <td>0.808270</td>\n",
       "      <td>0.614005</td>\n",
       "      <td>-1.375024</td>\n",
       "      <td>-0.844272</td>\n",
       "      <td>0.006768</td>\n",
       "    </tr>\n",
       "    <tr>\n",
       "      <th>3</th>\n",
       "      <td>-1.708376</td>\n",
       "      <td>1.568179</td>\n",
       "      <td>0.290845</td>\n",
       "      <td>0.924656</td>\n",
       "      <td>0.542222</td>\n",
       "      <td>-2.185638</td>\n",
       "      <td>-1.185102</td>\n",
       "      <td>0.006763</td>\n",
       "    </tr>\n",
       "    <tr>\n",
       "      <th>4</th>\n",
       "      <td>-1.701608</td>\n",
       "      <td>1.536428</td>\n",
       "      <td>0.301410</td>\n",
       "      <td>0.924826</td>\n",
       "      <td>0.508903</td>\n",
       "      <td>-4.691257</td>\n",
       "      <td>-2.387395</td>\n",
       "      <td>0.006768</td>\n",
       "    </tr>\n",
       "    <tr>\n",
       "      <th>5</th>\n",
       "      <td>-1.694840</td>\n",
       "      <td>1.508783</td>\n",
       "      <td>0.371505</td>\n",
       "      <td>0.989968</td>\n",
       "      <td>0.439815</td>\n",
       "      <td>-4.084629</td>\n",
       "      <td>-1.796480</td>\n",
       "      <td>0.006768</td>\n",
       "    </tr>\n",
       "    <tr>\n",
       "      <th>6</th>\n",
       "      <td>-1.688077</td>\n",
       "      <td>1.483601</td>\n",
       "      <td>0.377668</td>\n",
       "      <td>0.991503</td>\n",
       "      <td>0.379301</td>\n",
       "      <td>-3.723680</td>\n",
       "      <td>-1.412397</td>\n",
       "      <td>0.006763</td>\n",
       "    </tr>\n",
       "    <tr>\n",
       "      <th>7</th>\n",
       "      <td>-1.681309</td>\n",
       "      <td>1.437617</td>\n",
       "      <td>0.439839</td>\n",
       "      <td>1.028251</td>\n",
       "      <td>0.320993</td>\n",
       "      <td>-6.794235</td>\n",
       "      <td>-2.180900</td>\n",
       "      <td>0.006768</td>\n",
       "    </tr>\n",
       "    <tr>\n",
       "      <th>8</th>\n",
       "      <td>-1.674547</td>\n",
       "      <td>1.426394</td>\n",
       "      <td>0.445528</td>\n",
       "      <td>1.022112</td>\n",
       "      <td>0.250190</td>\n",
       "      <td>-1.659466</td>\n",
       "      <td>-0.415181</td>\n",
       "      <td>0.006763</td>\n",
       "    </tr>\n",
       "    <tr>\n",
       "      <th>9</th>\n",
       "      <td>-1.667779</td>\n",
       "      <td>1.385063</td>\n",
       "      <td>0.478104</td>\n",
       "      <td>1.059373</td>\n",
       "      <td>0.191636</td>\n",
       "      <td>-6.106723</td>\n",
       "      <td>-1.170268</td>\n",
       "      <td>0.006768</td>\n",
       "    </tr>\n",
       "  </tbody>\n",
       "</table>\n",
       "</div>"
      ],
      "text/plain": [
       "          x       eta         u         v  pressure   deta_dx  drag_force  \\\n",
       "0 -1.728670  1.594456  0.183840  0.726587  0.725233       NaN         NaN   \n",
       "1 -1.721907  1.592266  0.258540  0.806480  0.648305 -0.323798   -0.209920   \n",
       "2 -1.715139  1.582960  0.269511  0.808270  0.614005 -1.375024   -0.844272   \n",
       "3 -1.708376  1.568179  0.290845  0.924656  0.542222 -2.185638   -1.185102   \n",
       "4 -1.701608  1.536428  0.301410  0.924826  0.508903 -4.691257   -2.387395   \n",
       "5 -1.694840  1.508783  0.371505  0.989968  0.439815 -4.084629   -1.796480   \n",
       "6 -1.688077  1.483601  0.377668  0.991503  0.379301 -3.723680   -1.412397   \n",
       "7 -1.681309  1.437617  0.439839  1.028251  0.320993 -6.794235   -2.180900   \n",
       "8 -1.674547  1.426394  0.445528  1.022112  0.250190 -1.659466   -0.415181   \n",
       "9 -1.667779  1.385063  0.478104  1.059373  0.191636 -6.106723   -1.170268   \n",
       "\n",
       "         dx  \n",
       "0       NaN  \n",
       "1  0.006763  \n",
       "2  0.006768  \n",
       "3  0.006763  \n",
       "4  0.006768  \n",
       "5  0.006768  \n",
       "6  0.006763  \n",
       "7  0.006768  \n",
       "8  0.006763  \n",
       "9  0.006768  "
      ]
     },
     "execution_count": 4,
     "metadata": {},
     "output_type": "execute_result"
    }
   ],
   "source": [
    "cu4_drag_force = pd.DataFrame(cu4_drag_force, columns=[\"x\",\"eta\",\"u\",\"v\",\"pressure\",\"deta_dx\",\"drag_force\"])\n",
    "cu4_drag_force['dx'] = cu4_drag_force['x'].diff()\n",
    "cu4_drag_force.head(10)"
   ]
  },
  {
   "cell_type": "code",
   "execution_count": 5,
   "id": "3b193824",
   "metadata": {},
   "outputs": [],
   "source": [
    "dx = 0.006763\n",
    "\n",
    "cu4_pos_drag = cu4_drag_force.copy()\n",
    "cu4_neg_drag = cu4_drag_force.copy()\n",
    "\n",
    "# apply filters for drag force\n",
    "cu4_pos_drag[cu4_pos_drag['deta_dx'] < 0] = 0\n",
    "cu4_neg_drag[cu4_neg_drag['deta_dx'] > 0] = 0"
   ]
  },
  {
   "cell_type": "markdown",
   "id": "596c32ea",
   "metadata": {},
   "source": [
    "### Run the models again to have them saved in this notebook"
   ]
  },
  {
   "cell_type": "markdown",
   "id": "9c02fbce",
   "metadata": {},
   "source": [
    "Helper functions."
   ]
  },
  {
   "cell_type": "code",
   "execution_count": 6,
   "id": "14c8b179",
   "metadata": {},
   "outputs": [],
   "source": [
    "def build_and_compile_model(norm):\n",
    "  model = keras.Sequential([\n",
    "      norm,\n",
    "      layers.Dense(64, activation='relu'),\n",
    "      layers.Dense(64, activation='relu'),\n",
    "      layers.Dense(1)\n",
    "  ])\n",
    "\n",
    "  model.compile(loss='mean_absolute_error',\n",
    "                optimizer=tf.keras.optimizers.Adam(0.001))\n",
    "  return model"
   ]
  },
  {
   "cell_type": "code",
   "execution_count": 7,
   "id": "6626b9f5",
   "metadata": {},
   "outputs": [],
   "source": [
    "def plot_loss(history):\n",
    "  plt.plot(history.history['loss'], label='loss')\n",
    "  plt.plot(history.history['val_loss'], label='val_loss')\n",
    "  plt.ylim([0, 3])\n",
    "  plt.xlabel('Epoch')\n",
    "  plt.ylabel('Loss')\n",
    "  plt.legend()\n",
    "  plt.grid(True)"
   ]
  },
  {
   "cell_type": "markdown",
   "id": "ce7a7021",
   "metadata": {},
   "source": [
    "Negative drag model."
   ]
  },
  {
   "cell_type": "code",
   "execution_count": 8,
   "id": "9c918a76",
   "metadata": {},
   "outputs": [
    {
     "name": "stdout",
     "output_type": "stream",
     "text": [
      "shape of training dataset:  (8191, 5)\n",
      "shape of testing dataset:  (2048, 5)\n"
     ]
    },
    {
     "name": "stderr",
     "output_type": "stream",
     "text": [
      "2022-11-26 08:33:15.200396: I tensorflow/core/platform/cpu_feature_guard.cc:193] This TensorFlow binary is optimized with oneAPI Deep Neural Network Library (oneDNN) to use the following CPU instructions in performance-critical operations:  AVX2 FMA\n",
      "To enable them in other operations, rebuild TensorFlow with the appropriate compiler flags.\n"
     ]
    },
    {
     "name": "stdout",
     "output_type": "stream",
     "text": [
      "First example: [[0.9  1.54 1.13 1.02]]\n",
      "\n",
      "Normalized: [[1.43 2.19 1.32 1.13]]\n",
      "Model: \"sequential\"\n",
      "_________________________________________________________________\n",
      " Layer (type)                Output Shape              Param #   \n",
      "=================================================================\n",
      " normalization (Normalizatio  (None, 4)                9         \n",
      " n)                                                              \n",
      "                                                                 \n",
      " dense (Dense)               (None, 64)                320       \n",
      "                                                                 \n",
      " dense_1 (Dense)             (None, 64)                4160      \n",
      "                                                                 \n",
      " dense_2 (Dense)             (None, 1)                 65        \n",
      "                                                                 \n",
      "=================================================================\n",
      "Total params: 4,554\n",
      "Trainable params: 4,545\n",
      "Non-trainable params: 9\n",
      "_________________________________________________________________\n"
     ]
    }
   ],
   "source": [
    "# Prepare the data\n",
    "cu4_neg_drag = cu4_neg_drag.copy()[1:]\n",
    "\n",
    "# Split the data into train and test\n",
    "train_dataset_cu4_neg_drag = cu4_neg_drag.sample(frac=0.8, random_state=0)\n",
    "test_dataset_cu4_neg_drag = cu4_neg_drag.drop(train_dataset_cu4_neg_drag.index)\n",
    "\n",
    "train_dataset_cu4_neg_drag.pop('pressure')\n",
    "test_dataset_cu4_neg_drag.pop('pressure')\n",
    "\n",
    "train_dataset_cu4_neg_drag.pop('deta_dx')\n",
    "test_dataset_cu4_neg_drag.pop('deta_dx')\n",
    "\n",
    "train_dataset_cu4_neg_drag.pop('dx')\n",
    "test_dataset_cu4_neg_drag.pop('dx')\n",
    "\n",
    "print(\"shape of training dataset: \", train_dataset_cu4_neg_drag.shape)\n",
    "print(\"shape of testing dataset: \", test_dataset_cu4_neg_drag.shape)\n",
    "\n",
    "train_features_cu4_neg_drag = train_dataset_cu4_neg_drag.copy()\n",
    "test_features_cu4_neg_drag = test_dataset_cu4_neg_drag.copy()\n",
    "\n",
    "train_labels_cu4_neg_drag = train_features_cu4_neg_drag.pop('drag_force')\n",
    "test_labels_cu4_neg_drag = test_features_cu4_neg_drag.pop('drag_force')\n",
    "\n",
    "# Normalize the data\n",
    "normalizer_cu4_neg_drag = tf.keras.layers.Normalization(axis=-1)\n",
    "normalizer_cu4_neg_drag.adapt(np.array(train_features_cu4_neg_drag))\n",
    "\n",
    "first = np.array(train_features_cu4_neg_drag[:1])\n",
    "\n",
    "with np.printoptions(precision=2, suppress=True):\n",
    "  print('First example:', first)\n",
    "  print()\n",
    "  print('Normalized:', normalizer_cu4_neg_drag(first).numpy())\n",
    "\n",
    "# Build the model\n",
    "dnn_model_cu4_neg_drag = build_and_compile_model(normalizer_cu4_neg_drag)\n",
    "dnn_model_cu4_neg_drag.summary()"
   ]
  },
  {
   "cell_type": "code",
   "execution_count": 9,
   "id": "6e50d65d",
   "metadata": {},
   "outputs": [
    {
     "name": "stdout",
     "output_type": "stream",
     "text": [
      "CPU times: user 35 s, sys: 6.09 s, total: 41.1 s\n",
      "Wall time: 26 s\n"
     ]
    }
   ],
   "source": [
    "%%time\n",
    "history_cu4_neg_drag = dnn_model_cu4_neg_drag.fit(\n",
    "    train_features_cu4_neg_drag,\n",
    "    train_labels_cu4_neg_drag,\n",
    "    validation_split=0.2,\n",
    "    verbose=0, epochs=100)"
   ]
  },
  {
   "cell_type": "code",
   "execution_count": 10,
   "id": "ed7a0829",
   "metadata": {},
   "outputs": [
    {
     "data": {
      "image/png": "[encoded data removed]",
      "text/plain": [
       "<Figure size 432x288 with 1 Axes>"
      ]
     },
     "metadata": {
      "needs_background": "light"
     },
     "output_type": "display_data"
    }
   ],
   "source": [
    "plot_loss(history_cu4_neg_drag)"
   ]
  },
  {
   "cell_type": "markdown",
   "id": "79211786",
   "metadata": {},
   "source": [
    "Positive drag model."
   ]
  },
  {
   "cell_type": "code",
   "execution_count": 105,
   "id": "60b4632e",
   "metadata": {},
   "outputs": [
    {
     "name": "stdout",
     "output_type": "stream",
     "text": [
      "shape of training dataset:  (8190, 5)\n",
      "shape of testing dataset:  (2047, 5)\n",
      "training dataset:               x       eta         u         v  drag_force\n",
      "5509  0.000000  0.000000  0.000000  0.000000    0.000000\n",
      "4128  0.000000  0.000000  0.000000  0.000000    0.000000\n",
      "2414  0.747623  0.825223 -0.419315 -0.601937    6.399172\n",
      "6506  0.720562  0.543915 -0.875699 -0.088316   18.902099\n",
      "7049  0.000000  0.000000  0.000000  0.000000    0.000000\n",
      "...        ...       ...       ...       ...         ...\n",
      "7280 -0.970900  0.978734 -1.368781  0.074809   18.764796\n",
      "3744  0.000000  0.000000  0.000000  0.000000    0.000000\n",
      "5352 -0.158996  0.389009 -1.136506 -0.518907    9.294384\n",
      "591  -1.194170 -1.018756 -1.161022 -1.984114   -0.072715\n",
      "4799  0.000000  0.000000  0.000000  0.000000    0.000000\n",
      "\n",
      "[8190 rows x 5 columns]\n",
      "train features:               x       eta         u         v\n",
      "5509  0.000000  0.000000  0.000000  0.000000\n",
      "4128  0.000000  0.000000  0.000000  0.000000\n",
      "2414  0.747623  0.825223 -0.419315 -0.601937\n",
      "6506  0.720562  0.543915 -0.875699 -0.088316\n",
      "7049  0.000000  0.000000  0.000000  0.000000\n",
      "...        ...       ...       ...       ...\n",
      "7280 -0.970900  0.978734 -1.368781  0.074809\n",
      "3744  0.000000  0.000000  0.000000  0.000000\n",
      "5352 -0.158996  0.389009 -1.136506 -0.518907\n",
      "591  -1.194170 -1.018756 -1.161022 -1.984114\n",
      "4799  0.000000  0.000000  0.000000  0.000000\n",
      "\n",
      "[8190 rows x 4 columns]\n",
      "First example: [[0. 0. 0. 0.]]\n",
      "\n",
      "Normalized: [[-0.16 -0.01  0.46  0.41]]\n",
      "Model: \"sequential_24\"\n",
      "_________________________________________________________________\n",
      " Layer (type)                Output Shape              Param #   \n",
      "=================================================================\n",
      " normalization_11 (Normaliza  (None, 4)                9         \n",
      " tion)                                                           \n",
      "                                                                 \n",
      " dense_72 (Dense)            (None, 64)                320       \n",
      "                                                                 \n",
      " dense_73 (Dense)            (None, 64)                4160      \n",
      "                                                                 \n",
      " dense_74 (Dense)            (None, 1)                 65        \n",
      "                                                                 \n",
      "=================================================================\n",
      "Total params: 4,554\n",
      "Trainable params: 4,545\n",
      "Non-trainable params: 9\n",
      "_________________________________________________________________\n"
     ]
    }
   ],
   "source": [
    "# Prepare the data\n",
    "cu4_pos_drag = cu4_pos_drag.copy()[1:]\n",
    "\n",
    "# Split the data into train and test\n",
    "train_dataset_cu4_pos_drag = cu4_pos_drag.sample(frac=0.8, random_state=0)\n",
    "test_dataset_cu4_pos_drag = cu4_pos_drag.drop(train_dataset_cu4_pos_drag.index)\n",
    "\n",
    "train_dataset_cu4_pos_drag.pop('pressure')\n",
    "test_dataset_cu4_pos_drag.pop('pressure')\n",
    "\n",
    "train_dataset_cu4_pos_drag.pop('deta_dx')\n",
    "test_dataset_cu4_pos_drag.pop('deta_dx')\n",
    "\n",
    "train_dataset_cu4_pos_drag.pop('dx')\n",
    "test_dataset_cu4_pos_drag.pop('dx')\n",
    "\n",
    "print(\"shape of training dataset: \", train_dataset_cu4_pos_drag.shape)\n",
    "print(\"shape of testing dataset: \", test_dataset_cu4_pos_drag.shape)\n",
    "print(\"training dataset: \", train_dataset_cu4_pos_drag)\n",
    "\n",
    "train_features_cu4_pos_drag = train_dataset_cu4_pos_drag.copy()\n",
    "test_features_cu4_pos_drag = test_dataset_cu4_pos_drag.copy()\n",
    "\n",
    "train_labels_cu4_pos_drag = train_features_cu4_pos_drag.pop('drag_force')\n",
    "test_labels_cu4_pos_drag = test_features_cu4_pos_drag.pop('drag_force')\n",
    "\n",
    "# Normalize the data\n",
    "normalizer_cu4_pos_drag = tf.keras.layers.Normalization(axis=-1)\n",
    "normalizer_cu4_pos_drag.adapt(np.array(train_features_cu4_pos_drag))\n",
    "\n",
    "\n",
    "first = np.array(train_features_cu4_pos_drag[:1])\n",
    "\n",
    "with np.printoptions(precision=2, suppress=True):\n",
    "  print('First example:', first)\n",
    "  print()\n",
    "  print('Normalized:', normalizer_cu4_pos_drag(first).numpy())\n",
    "\n",
    "# Build the model\n",
    "dnn_model_cu4_pos_drag = build_and_compile_model(normalizer_cu4_pos_drag)\n",
    "dnn_model_cu4_pos_drag.summary()"
   ]
  },
  {
   "cell_type": "code",
   "execution_count": 12,
   "id": "90db213c",
   "metadata": {},
   "outputs": [
    {
     "name": "stdout",
     "output_type": "stream",
     "text": [
      "CPU times: user 36.5 s, sys: 6.37 s, total: 42.8 s\n",
      "Wall time: 26.8 s\n"
     ]
    }
   ],
   "source": [
    "%%time\n",
    "history_cu4_pos_drag = dnn_model_cu4_pos_drag.fit(\n",
    "    train_features_cu4_pos_drag,\n",
    "    train_labels_cu4_pos_drag,\n",
    "    validation_split=0.2,\n",
    "    verbose=0, epochs=100)"
   ]
  },
  {
   "cell_type": "code",
   "execution_count": 13,
   "id": "c71d50ad",
   "metadata": {},
   "outputs": [
    {
     "data": {
      "image/png": "[encoded data removed]",
      "text/plain": [
       "<Figure size 432x288 with 1 Axes>"
      ]
     },
     "metadata": {
      "needs_background": "light"
     },
     "output_type": "display_data"
    }
   ],
   "source": [
    "plot_loss(history_cu4_pos_drag)"
   ]
  },
  {
   "cell_type": "markdown",
   "id": "d28d7a37",
   "metadata": {},
   "source": [
    "### True power predictions against unfiltered drag force values"
   ]
  },
  {
   "cell_type": "markdown",
   "id": "f16ce254",
   "metadata": {},
   "source": [
    "Recall that cu4_neg_drag was copied from cu4_drag_force. And the test_features_cu4_neg_drag were sampled from cu4_neg_drag. That means that we can use the indices of the test_features_cu4_neg_drag to map back to the original data (cu4_drag_force). That means that we can get the unfiltered drag force and u values for all of our testing datapoints! This is all that we need to calculate the total power values."
   ]
  },
  {
   "cell_type": "code",
   "execution_count": 14,
   "id": "8e49ab52",
   "metadata": {},
   "outputs": [],
   "source": [
    "true_drag_force = cu4_drag_force[cu4_drag_force.index.isin(test_features_cu4_neg_drag.index)][['drag_force', 'u']]"
   ]
  },
  {
   "cell_type": "code",
   "execution_count": 15,
   "id": "cd09ea9e",
   "metadata": {},
   "outputs": [
    {
     "data": {
      "text/html": [
       "<div>\n",
       "<style scoped>\n",
       "    .dataframe tbody tr th:only-of-type {\n",
       "        vertical-align: middle;\n",
       "    }\n",
       "\n",
       "    .dataframe tbody tr th {\n",
       "        vertical-align: top;\n",
       "    }\n",
       "\n",
       "    .dataframe thead th {\n",
       "        text-align: right;\n",
       "    }\n",
       "</style>\n",
       "<table border=\"1\" class=\"dataframe\">\n",
       "  <thead>\n",
       "    <tr style=\"text-align: right;\">\n",
       "      <th></th>\n",
       "      <th>x</th>\n",
       "      <th>eta</th>\n",
       "      <th>u</th>\n",
       "      <th>v</th>\n",
       "    </tr>\n",
       "  </thead>\n",
       "  <tbody>\n",
       "    <tr>\n",
       "      <th>1</th>\n",
       "      <td>-1.721907</td>\n",
       "      <td>1.592266</td>\n",
       "      <td>0.258540</td>\n",
       "      <td>0.806480</td>\n",
       "    </tr>\n",
       "    <tr>\n",
       "      <th>14</th>\n",
       "      <td>-1.633949</td>\n",
       "      <td>1.105053</td>\n",
       "      <td>0.588292</td>\n",
       "      <td>1.079666</td>\n",
       "    </tr>\n",
       "    <tr>\n",
       "      <th>22</th>\n",
       "      <td>-1.579821</td>\n",
       "      <td>0.517113</td>\n",
       "      <td>0.885603</td>\n",
       "      <td>1.000114</td>\n",
       "    </tr>\n",
       "    <tr>\n",
       "      <th>26</th>\n",
       "      <td>-1.552759</td>\n",
       "      <td>0.274601</td>\n",
       "      <td>1.053696</td>\n",
       "      <td>0.935484</td>\n",
       "    </tr>\n",
       "    <tr>\n",
       "      <th>27</th>\n",
       "      <td>-1.545991</td>\n",
       "      <td>0.202614</td>\n",
       "      <td>1.132054</td>\n",
       "      <td>0.850646</td>\n",
       "    </tr>\n",
       "    <tr>\n",
       "      <th>...</th>\n",
       "      <td>...</td>\n",
       "      <td>...</td>\n",
       "      <td>...</td>\n",
       "      <td>...</td>\n",
       "    </tr>\n",
       "    <tr>\n",
       "      <th>10208</th>\n",
       "      <td>0.000000</td>\n",
       "      <td>0.000000</td>\n",
       "      <td>0.000000</td>\n",
       "      <td>0.000000</td>\n",
       "    </tr>\n",
       "    <tr>\n",
       "      <th>10212</th>\n",
       "      <td>0.000000</td>\n",
       "      <td>0.000000</td>\n",
       "      <td>0.000000</td>\n",
       "      <td>0.000000</td>\n",
       "    </tr>\n",
       "    <tr>\n",
       "      <th>10222</th>\n",
       "      <td>0.000000</td>\n",
       "      <td>0.000000</td>\n",
       "      <td>0.000000</td>\n",
       "      <td>0.000000</td>\n",
       "    </tr>\n",
       "    <tr>\n",
       "      <th>10224</th>\n",
       "      <td>0.000000</td>\n",
       "      <td>0.000000</td>\n",
       "      <td>0.000000</td>\n",
       "      <td>0.000000</td>\n",
       "    </tr>\n",
       "    <tr>\n",
       "      <th>10238</th>\n",
       "      <td>0.000000</td>\n",
       "      <td>0.000000</td>\n",
       "      <td>0.000000</td>\n",
       "      <td>0.000000</td>\n",
       "    </tr>\n",
       "  </tbody>\n",
       "</table>\n",
       "<p>2048 rows × 4 columns</p>\n",
       "</div>"
      ],
      "text/plain": [
       "              x       eta         u         v\n",
       "1     -1.721907  1.592266  0.258540  0.806480\n",
       "14    -1.633949  1.105053  0.588292  1.079666\n",
       "22    -1.579821  0.517113  0.885603  1.000114\n",
       "26    -1.552759  0.274601  1.053696  0.935484\n",
       "27    -1.545991  0.202614  1.132054  0.850646\n",
       "...         ...       ...       ...       ...\n",
       "10208  0.000000  0.000000  0.000000  0.000000\n",
       "10212  0.000000  0.000000  0.000000  0.000000\n",
       "10222  0.000000  0.000000  0.000000  0.000000\n",
       "10224  0.000000  0.000000  0.000000  0.000000\n",
       "10238  0.000000  0.000000  0.000000  0.000000\n",
       "\n",
       "[2048 rows x 4 columns]"
      ]
     },
     "execution_count": 15,
     "metadata": {},
     "output_type": "execute_result"
    }
   ],
   "source": [
    "# Uncomment the following to inspect them\n",
    "\n",
    "test_features_cu4_neg_drag = test_features_cu4_neg_drag[['x','eta','u','v']]\n",
    "#test_dataset_cu4_neg_drag\n",
    "test_features_cu4_neg_drag\n",
    "#test_labels_cu4_neg_drag"
   ]
  },
  {
   "cell_type": "code",
   "execution_count": 16,
   "id": "e759231a",
   "metadata": {},
   "outputs": [
    {
     "name": "stdout",
     "output_type": "stream",
     "text": [
      "64/64 [==============================] - 0s 1ms/step\n"
     ]
    }
   ],
   "source": [
    "predicted_neg_drag_force = dnn_model_cu4_neg_drag.predict(test_features_cu4_neg_drag)"
   ]
  },
  {
   "cell_type": "markdown",
   "id": "5f4dfea7",
   "metadata": {},
   "source": [
    "Now, we will compare real power against predicted power. It makes sense that the power is negative since the waves are exerting negative force on the overhead wind."
   ]
  },
  {
   "cell_type": "code",
   "execution_count": 17,
   "id": "c6f4d4a0",
   "metadata": {},
   "outputs": [
    {
     "data": {
      "text/plain": [
       "-3.308508135133584"
      ]
     },
     "execution_count": 17,
     "metadata": {},
     "output_type": "execute_result"
    }
   ],
   "source": [
    "products = dx * np.squeeze(true_drag_force)['drag_force'] * np.squeeze(true_drag_force)['u']\n",
    "products\n",
    "real_work = np.sum(products)\n",
    "real_work"
   ]
  },
  {
   "cell_type": "code",
   "execution_count": 18,
   "id": "c99f2e8c",
   "metadata": {
    "scrolled": true
   },
   "outputs": [
    {
     "data": {
      "text/plain": [
       "23.650970018661944"
      ]
     },
     "execution_count": 18,
     "metadata": {},
     "output_type": "execute_result"
    }
   ],
   "source": [
    "products = dx * np.squeeze(predicted_neg_drag_force) * np.squeeze(true_drag_force)['u']\n",
    "predicted_work = np.sum(products)\n",
    "predicted_work"
   ]
  },
  {
   "cell_type": "markdown",
   "id": "69e2bab3",
   "metadata": {},
   "source": [
    "The negative DNN is not very good at predicting overall power. The percent error is ginormous, at 814.9%!"
   ]
  },
  {
   "cell_type": "code",
   "execution_count": 19,
   "id": "af41ab9f",
   "metadata": {},
   "outputs": [
    {
     "data": {
      "text/plain": [
       "814.8530108633695"
      ]
     },
     "execution_count": 19,
     "metadata": {},
     "output_type": "execute_result"
    }
   ],
   "source": [
    "np.abs((predicted_work - real_work) / real_work) * 100"
   ]
  },
  {
   "cell_type": "markdown",
   "id": "07e8f258",
   "metadata": {},
   "source": [
    "For reference, the mean absolute error is about 1.14 (relatively small!)"
   ]
  },
  {
   "cell_type": "code",
   "execution_count": 20,
   "id": "79a03853",
   "metadata": {},
   "outputs": [
    {
     "data": {
      "text/plain": [
       "1.1355150014071254"
      ]
     },
     "execution_count": 20,
     "metadata": {},
     "output_type": "execute_result"
    }
   ],
   "source": [
    "true_neg_drag_force = np.expand_dims(test_labels_cu4_neg_drag, axis=1)\n",
    "np.sum(np.abs(true_neg_drag_force - predicted_neg_drag_force)) / len(predicted_neg_drag_force) "
   ]
  },
  {
   "cell_type": "markdown",
   "id": "db6ccd45",
   "metadata": {},
   "source": [
    "How does the positive model do? I predict not much better..."
   ]
  },
  {
   "cell_type": "code",
   "execution_count": 21,
   "id": "a4b1014f",
   "metadata": {},
   "outputs": [],
   "source": [
    "true_drag_force = cu4_drag_force[cu4_drag_force.index.isin(test_features_cu4_pos_drag.index)][['drag_force', 'u']]"
   ]
  },
  {
   "cell_type": "code",
   "execution_count": 22,
   "id": "02ed386f",
   "metadata": {},
   "outputs": [],
   "source": [
    "# Uncomment the following to inspect them\n",
    "\n",
    "test_features_cu4_pos_drag = test_features_cu4_pos_drag[['x','eta','u','v']]\n",
    "#test_dataset_cu4_neg_drag\n",
    "# test_features_cu4_pos_drag\n",
    "#test_labels_cu4_neg_drag"
   ]
  },
  {
   "cell_type": "code",
   "execution_count": 23,
   "id": "9ea867fe",
   "metadata": {},
   "outputs": [
    {
     "name": "stdout",
     "output_type": "stream",
     "text": [
      "64/64 [==============================] - 0s 2ms/step\n"
     ]
    }
   ],
   "source": [
    "predicted_pos_drag_force = dnn_model_cu4_pos_drag.predict(test_features_cu4_pos_drag)"
   ]
  },
  {
   "cell_type": "code",
   "execution_count": 24,
   "id": "57c3051c",
   "metadata": {},
   "outputs": [
    {
     "data": {
      "text/plain": [
       "-3.308508135133584"
      ]
     },
     "execution_count": 24,
     "metadata": {},
     "output_type": "execute_result"
    }
   ],
   "source": [
    "products = dx * np.squeeze(true_drag_force)['drag_force'] * np.squeeze(true_drag_force)['u']\n",
    "products \n",
    "real_power = np.sum(products)\n",
    "real_power"
   ]
  },
  {
   "cell_type": "code",
   "execution_count": 25,
   "id": "2e77faa1",
   "metadata": {},
   "outputs": [
    {
     "data": {
      "text/plain": [
       "-27.324726543655306"
      ]
     },
     "execution_count": 25,
     "metadata": {},
     "output_type": "execute_result"
    }
   ],
   "source": [
    "products = dx * np.squeeze(predicted_pos_drag_force) * np.squeeze(true_drag_force)['u']\n",
    "predicted_power = np.sum(products)\n",
    "predicted_power"
   ]
  },
  {
   "cell_type": "markdown",
   "id": "798740c1",
   "metadata": {},
   "source": [
    "At least the sign is right here. But the percent error is still huge, at 814.9% (slightly more than the negative-trained DNN, which was 1169.9%)."
   ]
  },
  {
   "cell_type": "code",
   "execution_count": 26,
   "id": "ae61a34d",
   "metadata": {},
   "outputs": [
    {
     "data": {
      "text/plain": [
       "814.8530108633695"
      ]
     },
     "execution_count": 26,
     "metadata": {},
     "output_type": "execute_result"
    }
   ],
   "source": [
    "np.abs((predicted_work - real_work) / real_work) * 100"
   ]
  },
  {
   "cell_type": "markdown",
   "id": "4f16feac",
   "metadata": {},
   "source": [
    "For reference, the mean absolute error was 1.41 (relatively small)."
   ]
  },
  {
   "cell_type": "code",
   "execution_count": 27,
   "id": "d9daad56",
   "metadata": {},
   "outputs": [
    {
     "data": {
      "text/plain": [
       "1.408669463381053"
      ]
     },
     "execution_count": 27,
     "metadata": {},
     "output_type": "execute_result"
    }
   ],
   "source": [
    "true_pos_drag_force = np.expand_dims(test_labels_cu4_pos_drag, axis=1)\n",
    "np.sum(np.abs(true_pos_drag_force - predicted_pos_drag_force)) / len(predicted_pos_drag_force) "
   ]
  },
  {
   "cell_type": "markdown",
   "id": "3a5df16f",
   "metadata": {},
   "source": [
    "### Training the positive-filtered DNN to capture the notion of power"
   ]
  },
  {
   "cell_type": "code",
   "execution_count": 504,
   "id": "295c5a6c",
   "metadata": {},
   "outputs": [
    {
     "name": "stdout",
     "output_type": "stream",
     "text": [
      "shape of training dataset:  (8189, 5)\n",
      "shape of testing dataset:  (2047, 5)\n"
     ]
    }
   ],
   "source": [
    "# Prepare the data\n",
    "cu4_power = cu4_pos_drag.copy()[1:]\n",
    "\n",
    "# Split the data into train and test\n",
    "train_dataset_cu4_power = cu4_power.sample(frac=0.8, random_state=0)\n",
    "test_dataset_cu4_power = cu4_power.drop(train_dataset_cu4_power.index)\n",
    "\n",
    "train_dataset_cu4_power.pop('pressure')\n",
    "test_dataset_cu4_power.pop('pressure')\n",
    "\n",
    "train_dataset_cu4_power.pop('deta_dx')\n",
    "test_dataset_cu4_power.pop('deta_dx')\n",
    "\n",
    "train_dataset_cu4_power.pop('dx')\n",
    "test_dataset_cu4_power.pop('dx')\n",
    "\n",
    "print(\"shape of training dataset: \", train_dataset_cu4_power.shape)\n",
    "print(\"shape of testing dataset: \", test_dataset_cu4_power.shape)\n",
    "# print(\"training dataset: \", train_dataset_cu4_power)\n",
    "\n",
    "train_features_cu4_power = train_dataset_cu4_power.copy()\n",
    "test_features_cu4_power = test_dataset_cu4_power.copy()\n",
    "\n",
    "train_labels_cu4_power = train_features_cu4_power[['drag_force','u']]\n",
    "test_labels_cu4_power = test_features_cu4_power[['drag_force','u']]\n",
    "# print(\"train labels: \", train_labels_cu4_power)\n",
    "\n",
    "train_features_cu4_power.pop('drag_force')\n",
    "test_features_cu4_power.pop('drag_force')\n",
    "\n",
    "# print(\"train features: \", train_features_cu4_power)\n",
    "normalizer_cu4_power = tf.keras.layers.Normalization(axis=-1)\n",
    "normalizer_cu4_power.adapt(np.array(train_features_cu4_power))\n",
    "\n",
    "# train_labels_cu4_power"
   ]
  },
  {
   "cell_type": "code",
   "execution_count": 505,
   "id": "eba5f291",
   "metadata": {
    "scrolled": true
   },
   "outputs": [
    {
     "name": "stdout",
     "output_type": "stream",
     "text": [
      "Model: \"sequential_50\"\n",
      "_________________________________________________________________\n",
      " Layer (type)                Output Shape              Param #   \n",
      "=================================================================\n",
      " normalization_28 (Normaliza  (None, 4)                9         \n",
      " tion)                                                           \n",
      "                                                                 \n",
      " dense_150 (Dense)           (None, 64)                320       \n",
      "                                                                 \n",
      " dense_151 (Dense)           (None, 64)                4160      \n",
      "                                                                 \n",
      " dense_152 (Dense)           (None, 2)                 130       \n",
      "                                                                 \n",
      "=================================================================\n",
      "Total params: 4,619\n",
      "Trainable params: 4,610\n",
      "Non-trainable params: 9\n",
      "_________________________________________________________________\n"
     ]
    }
   ],
   "source": [
    "# input is tensors\n",
    "def calculate_power(drag_force, u):\n",
    "    prod1 = tf.math.multiply(drag_force, u)\n",
    "    product = tf.math.scalar_mul(dx, prod1)\n",
    "    my_sum = tf.math.reduce_sum(product)\n",
    "    return my_sum\n",
    "\n",
    "# inputs are both tensors (keras built on top of tensorflow)\n",
    "def my_loss_fn(y_true, y_pred):\n",
    "    # drag_force is at index 0, u is at index 1\n",
    "    drag_force_true = tf.gather(y_true, [0], axis=1)\n",
    "    u_true = tf.gather(y_true, [1], axis=1)\n",
    "    \n",
    "    drag_force_pred = tf.gather(y_pred, [0], axis=1)\n",
    "    u_pred = tf.gather(y_pred, [1], axis=1)\n",
    "    \n",
    "    power_true = calculate_power(drag_force_true, u_true)\n",
    "    power_pred = calculate_power(drag_force_pred, u_pred)\n",
    "    \n",
    "    # Note that we are using mean absolute error as opposed to square error. Important to specify for your paper!\n",
    "    first_loss = tf.math.scalar_mul(0, tf.math.scalar_mul(1 / tf.size(y_true), tf.cast(tf.abs(y_true - y_pred), tf.float64)))\n",
    "    second_loss = tf.math.scalar_mul(1, tf.cast(tf.abs(power_true - power_pred), tf.float64))\n",
    "    \n",
    "    squared_difference = first_loss + second_loss\n",
    "    return tf.reduce_mean(squared_difference, axis=-1)  # Note the `axis=-1`\n",
    "\n",
    "def build_and_compile_model_power(norm):\n",
    "  model = keras.Sequential([\n",
    "      norm,\n",
    "      layers.Dense(64, activation='relu'),\n",
    "      layers.Dense(64, activation='relu'),\n",
    "      layers.Dense(2)\n",
    "  ])\n",
    "\n",
    "  model.compile(loss=my_loss_fn,\n",
    "                optimizer=tf.keras.optimizers.Adam(0.001))\n",
    "  return model\n",
    "\n",
    "# Build the model\n",
    "dnn_model_cu4_power = build_and_compile_model_power(normalizer_cu4_power)\n",
    "dnn_model_cu4_power.summary()"
   ]
  },
  {
   "cell_type": "code",
   "execution_count": 109,
   "id": "be89efb6",
   "metadata": {},
   "outputs": [
    {
     "name": "stdout",
     "output_type": "stream",
     "text": [
      "CPU times: user 42.9 s, sys: 7.69 s, total: 50.6 s\n",
      "Wall time: 30.5 s\n"
     ]
    }
   ],
   "source": [
    "%%time\n",
    "history_cu4_power = dnn_model_cu4_power.fit(\n",
    "    train_features_cu4_power,\n",
    "    train_labels_cu4_power,\n",
    "    validation_split=0.2,\n",
    "    verbose=0, epochs=100)"
   ]
  },
  {
   "cell_type": "code",
   "execution_count": 92,
   "id": "222fbc92",
   "metadata": {},
   "outputs": [],
   "source": [
    "def plot_loss_power(history):\n",
    "  plt.plot(history.history['loss'], label='loss')\n",
    "  plt.plot(history.history['val_loss'], label='val_loss')\n",
    "  plt.ylim([0, 0.3])\n",
    "  plt.xlabel('Epoch')\n",
    "  plt.ylabel('Loss')\n",
    "  plt.legend()\n",
    "  plt.grid(True)"
   ]
  },
  {
   "cell_type": "code",
   "execution_count": 110,
   "id": "979bf416",
   "metadata": {},
   "outputs": [
    {
     "data": {
      "image/png": "[encoded data removed]",
      "text/plain": [
       "<Figure size 432x288 with 1 Axes>"
      ]
     },
     "metadata": {
      "needs_background": "light"
     },
     "output_type": "display_data"
    }
   ],
   "source": [
    "plot_loss_power(history_cu4_power)"
   ]
  },
  {
   "cell_type": "markdown",
   "id": "33a7bf97",
   "metadata": {},
   "source": [
    "### How well did it work?"
   ]
  },
  {
   "cell_type": "markdown",
   "id": "b43a16d4",
   "metadata": {},
   "source": [
    "Recall that cu4_neg_drag was copied from cu4_drag_force. And the test_features_cu4_neg_drag were sampled from cu4_neg_drag. That means that we can use the indices of the test_features_cu4_neg_drag to map back to the original data (cu4_drag_force). That means that we can get the unfiltered drag force and u values for all of our testing datapoints! This is all that we need to calculate the total power values."
   ]
  },
  {
   "cell_type": "code",
   "execution_count": 113,
   "id": "4f2db467",
   "metadata": {},
   "outputs": [
    {
     "data": {
      "text/html": [
       "<div>\n",
       "<style scoped>\n",
       "    .dataframe tbody tr th:only-of-type {\n",
       "        vertical-align: middle;\n",
       "    }\n",
       "\n",
       "    .dataframe tbody tr th {\n",
       "        vertical-align: top;\n",
       "    }\n",
       "\n",
       "    .dataframe thead th {\n",
       "        text-align: right;\n",
       "    }\n",
       "</style>\n",
       "<table border=\"1\" class=\"dataframe\">\n",
       "  <thead>\n",
       "    <tr style=\"text-align: right;\">\n",
       "      <th></th>\n",
       "      <th>drag_force</th>\n",
       "      <th>u</th>\n",
       "    </tr>\n",
       "  </thead>\n",
       "  <tbody>\n",
       "    <tr>\n",
       "      <th>4</th>\n",
       "      <td>0.000000</td>\n",
       "      <td>0.000000</td>\n",
       "    </tr>\n",
       "    <tr>\n",
       "      <th>17</th>\n",
       "      <td>0.000000</td>\n",
       "      <td>0.000000</td>\n",
       "    </tr>\n",
       "    <tr>\n",
       "      <th>25</th>\n",
       "      <td>0.000000</td>\n",
       "      <td>0.000000</td>\n",
       "    </tr>\n",
       "    <tr>\n",
       "      <th>29</th>\n",
       "      <td>0.000000</td>\n",
       "      <td>0.000000</td>\n",
       "    </tr>\n",
       "    <tr>\n",
       "      <th>30</th>\n",
       "      <td>0.000000</td>\n",
       "      <td>0.000000</td>\n",
       "    </tr>\n",
       "    <tr>\n",
       "      <th>...</th>\n",
       "      <td>...</td>\n",
       "      <td>...</td>\n",
       "    </tr>\n",
       "    <tr>\n",
       "      <th>10204</th>\n",
       "      <td>12.206702</td>\n",
       "      <td>-1.199148</td>\n",
       "    </tr>\n",
       "    <tr>\n",
       "      <th>10208</th>\n",
       "      <td>7.784577</td>\n",
       "      <td>-1.022913</td>\n",
       "    </tr>\n",
       "    <tr>\n",
       "      <th>10211</th>\n",
       "      <td>14.954201</td>\n",
       "      <td>-1.042609</td>\n",
       "    </tr>\n",
       "    <tr>\n",
       "      <th>10212</th>\n",
       "      <td>16.422499</td>\n",
       "      <td>-0.976752</td>\n",
       "    </tr>\n",
       "    <tr>\n",
       "      <th>10222</th>\n",
       "      <td>7.530309</td>\n",
       "      <td>-0.922794</td>\n",
       "    </tr>\n",
       "  </tbody>\n",
       "</table>\n",
       "<p>2047 rows × 2 columns</p>\n",
       "</div>"
      ],
      "text/plain": [
       "       drag_force         u\n",
       "4        0.000000  0.000000\n",
       "17       0.000000  0.000000\n",
       "25       0.000000  0.000000\n",
       "29       0.000000  0.000000\n",
       "30       0.000000  0.000000\n",
       "...           ...       ...\n",
       "10204   12.206702 -1.199148\n",
       "10208    7.784577 -1.022913\n",
       "10211   14.954201 -1.042609\n",
       "10212   16.422499 -0.976752\n",
       "10222    7.530309 -0.922794\n",
       "\n",
       "[2047 rows x 2 columns]"
      ]
     },
     "execution_count": 113,
     "metadata": {},
     "output_type": "execute_result"
    }
   ],
   "source": [
    "true_power = cu4_power[cu4_power.index.isin(test_features_cu4_power.index)][['drag_force', 'u']]\n",
    "true_power"
   ]
  },
  {
   "cell_type": "code",
   "execution_count": 114,
   "id": "2643c938",
   "metadata": {},
   "outputs": [],
   "source": [
    "test_features_cu4_power = test_features_cu4_power[['x','eta','u','v']]\n",
    "# test_features_cu4_power"
   ]
  },
  {
   "cell_type": "code",
   "execution_count": 180,
   "id": "12561e41",
   "metadata": {},
   "outputs": [
    {
     "name": "stdout",
     "output_type": "stream",
     "text": [
      "64/64 [==============================] - 0s 1ms/step\n"
     ]
    }
   ],
   "source": [
    "predicted_power = dnn_model_cu4_power.predict(test_features_cu4_power)"
   ]
  },
  {
   "cell_type": "markdown",
   "id": "19a004dd",
   "metadata": {},
   "source": [
    "Now, we will compare real power against predicted power. It makes sense that the power is negative since the waves are exerting negative force on the overhead wind."
   ]
  },
  {
   "cell_type": "code",
   "execution_count": 181,
   "id": "c51edb24",
   "metadata": {},
   "outputs": [
    {
     "data": {
      "text/plain": [
       "-28.33418935082215"
      ]
     },
     "execution_count": 181,
     "metadata": {},
     "output_type": "execute_result"
    }
   ],
   "source": [
    "products = dx * np.squeeze(true_power)['drag_force'] * np.squeeze(true_power)['u']\n",
    "products\n",
    "real_power = np.sum(products)\n",
    "real_power"
   ]
  },
  {
   "cell_type": "code",
   "execution_count": 182,
   "id": "70558489",
   "metadata": {},
   "outputs": [
    {
     "data": {
      "text/plain": [
       "-29.630783"
      ]
     },
     "execution_count": 182,
     "metadata": {},
     "output_type": "execute_result"
    }
   ],
   "source": [
    "products = tf.math.multiply(tf.gather(predicted_power, [0], axis=1), tf.gather(predicted_power, [1], axis=1))\n",
    "products2 = tf.math.scalar_mul(dx, products)\n",
    "pred_power = np.sum(products2)\n",
    "pred_power"
   ]
  },
  {
   "cell_type": "markdown",
   "id": "e7bd0b50",
   "metadata": {},
   "source": [
    "Now, it is fantastic at predicting power (not a surprise)! The percent error is about 4.6%."
   ]
  },
  {
   "cell_type": "code",
   "execution_count": 183,
   "id": "6fdfb310",
   "metadata": {},
   "outputs": [
    {
     "data": {
      "text/plain": [
       "4.576074911403509"
      ]
     },
     "execution_count": 183,
     "metadata": {},
     "output_type": "execute_result"
    }
   ],
   "source": [
    "np.abs((pred_power - real_power) / real_power) * 100"
   ]
  },
  {
   "cell_type": "markdown",
   "id": "92f375d9",
   "metadata": {},
   "source": [
    "What about if drag force is the only takeaway from the model? Should be the same, actually, since u should be a 1:1 mapping. But it's not the same. Interesting."
   ]
  },
  {
   "cell_type": "code",
   "execution_count": 184,
   "id": "3a8df047",
   "metadata": {},
   "outputs": [
    {
     "data": {
      "text/plain": [
       "-14.110442325743167"
      ]
     },
     "execution_count": 184,
     "metadata": {},
     "output_type": "execute_result"
    }
   ],
   "source": [
    "u = tf.convert_to_tensor(true_power['u'].to_numpy())\n",
    "u = tf.expand_dims(u,axis=1)\n",
    "products = tf.math.multiply(tf.cast(tf.gather(predicted_power, [0], axis=1), tf.float64), tf.cast(u, tf.float64))\n",
    "products2 = tf.math.scalar_mul(dx, products)\n",
    "pred_power = np.sum(products2)\n",
    "pred_power"
   ]
  },
  {
   "cell_type": "markdown",
   "id": "b086b849",
   "metadata": {},
   "source": [
    "The percent error on this is much bigger, at about 50.2%. This is a pretty suspicious number, 50%, when you consider that there's two output variables. My idea is that u is being shrunk to about half the value that it should be, and drag_force is twice as big as it should be, or something along those lines. Correction: after inspecting the drag force and u predictions, we can see that the model isn't predicting either of them very well, but is predicting their product pretty decently."
   ]
  },
  {
   "cell_type": "code",
   "execution_count": 185,
   "id": "91ed008a",
   "metadata": {},
   "outputs": [
    {
     "data": {
      "text/plain": [
       "50.19994342864891"
      ]
     },
     "execution_count": 185,
     "metadata": {},
     "output_type": "execute_result"
    }
   ],
   "source": [
    "np.abs((pred_power - real_power) / real_power) * 100"
   ]
  },
  {
   "cell_type": "markdown",
   "id": "5725f0b3",
   "metadata": {},
   "source": [
    "So it seems that u is not being straightforwardly copied over like a 1:1 mapping from the input to the output. I guess that makes sense, since the model is trying to optimize for a product, and we have not punished changes in u (IDEA: I SHOULD EMBED THAT INTO THE LOSS FUNCTION SO THAT WE ARE OPTIMIZING FOR THE PRODUCT BUT DRAG FORCE IS THE ONLY THING THAT'S REALLY CHANGING)."
   ]
  },
  {
   "cell_type": "code",
   "execution_count": 194,
   "id": "b7fb0b6a",
   "metadata": {},
   "outputs": [
    {
     "data": {
      "text/plain": [
       "[<matplotlib.lines.Line2D at 0x7f9400103b80>]"
      ]
     },
     "execution_count": 194,
     "metadata": {},
     "output_type": "execute_result"
    },
    {
     "data": {
      "image/png": "[encoded data removed]",
      "text/plain": [
       "<Figure size 432x288 with 1 Axes>"
      ]
     },
     "metadata": {
      "needs_background": "light"
     },
     "output_type": "display_data"
    }
   ],
   "source": [
    "predicted_drag_force = np.squeeze(np.array(tf.gather(predicted_power, [0], axis=1)))\n",
    "plt.scatter(true_power['drag_force'], predicted_drag_force)\n",
    "plt.title(\"True drag force against predicted drag force for custom power model\")\n",
    "plt.xlabel(\"True drag force\")\n",
    "plt.ylabel(\"Drag force prediction by custom power DNN\")\n",
    "xpoints = ypoints = plt.xlim()\n",
    "plt.plot(xpoints, ypoints, linestyle='--', color='k', lw=3, scalex=False, scaley=False)"
   ]
  },
  {
   "cell_type": "markdown",
   "id": "654000bb",
   "metadata": {},
   "source": [
    "The black dashed line is y=x. We can see that the predicted drag force has a skew to be shrunken a lot compared to its true value. Another notable difference is that the zeroed-out drag forces are hardly being predicted. That's probably because they would lead to zero products and then the model would be training for the power integral with fewer datapoints (it's like it would be omitting datapoints from consideration). In any case, what's going on with the u values?"
   ]
  },
  {
   "cell_type": "code",
   "execution_count": 195,
   "id": "9169b97f",
   "metadata": {},
   "outputs": [
    {
     "data": {
      "text/plain": [
       "[<matplotlib.lines.Line2D at 0x7f94002359a0>]"
      ]
     },
     "execution_count": 195,
     "metadata": {},
     "output_type": "execute_result"
    },
    {
     "data": {
      "image/png": "[encoded data removed]",
      "text/plain": [
       "<Figure size 432x288 with 1 Axes>"
      ]
     },
     "metadata": {
      "needs_background": "light"
     },
     "output_type": "display_data"
    }
   ],
   "source": [
    "predicted_u = np.squeeze(np.array(tf.gather(predicted_power, [1], axis=1)))\n",
    "plt.scatter(true_power['u'], predicted_u)\n",
    "plt.title(\"True u values against predicted u values for custom power model\")\n",
    "plt.xlabel(\"True u values\")\n",
    "plt.ylabel(\"u value prediction by custom power DNN\")\n",
    "xpoints = ypoints = plt.xlim()\n",
    "plt.plot(xpoints, ypoints, linestyle='--', color='k', lw=3, scalex=False, scaley=False)"
   ]
  },
  {
   "cell_type": "markdown",
   "id": "6ee9a167",
   "metadata": {},
   "source": [
    "When the true value of u is zero, the model is likely to predict 0 (or near zero). As the value of u skews further and further from 0, the model is more likely to overcompensate. Negative u values are still getting negative predictions, just the predictions are a bit exaggerated."
   ]
  },
  {
   "cell_type": "markdown",
   "id": "78fe3dca",
   "metadata": {},
   "source": [
    "What about if you view them together, like in a 3D graph? This could give us interesting insights. But not sure what the axes would be in this case, because you have 4 series of interest: true u, predicted u, true drag force, predicted drag force (power and work predictions are just scalars)."
   ]
  },
  {
   "cell_type": "markdown",
   "id": "6a8e5aa8",
   "metadata": {},
   "source": [
    "Is it still decent at predicting drag force in general? What about work?"
   ]
  },
  {
   "cell_type": "markdown",
   "id": "eff9ad43",
   "metadata": {},
   "source": [
    "For reference, the mean absolute error for drag_force is about 2.52. This is about twice as big when compared to the mean absolute error for the positive drag force with total work constraint (value was 1.14, which was relatively small!)."
   ]
  },
  {
   "cell_type": "code",
   "execution_count": 210,
   "id": "9d4ffdd6",
   "metadata": {},
   "outputs": [
    {
     "data": {
      "text/plain": [
       "2.523286898251457"
      ]
     },
     "execution_count": 210,
     "metadata": {},
     "output_type": "execute_result"
    }
   ],
   "source": [
    "np.sum(np.abs(true_power['drag_force'] - my_predictions[:, 0])) / len(true_power) "
   ]
  },
  {
   "cell_type": "markdown",
   "id": "f3e7bb42",
   "metadata": {},
   "source": [
    "So it is not super decent at predicting drag force in general anymore. What about work? Nope, it is horrific at predicting work. The percent error is 70%. This makes sense, because the model simply isn't optimizing for work."
   ]
  },
  {
   "cell_type": "code",
   "execution_count": 211,
   "id": "b9286c39",
   "metadata": {},
   "outputs": [
    {
     "data": {
      "text/plain": [
       "41.49613748988095"
      ]
     },
     "execution_count": 211,
     "metadata": {},
     "output_type": "execute_result"
    }
   ],
   "source": [
    "products = dx * true_power['drag_force']\n",
    "real_work = np.sum(products)\n",
    "real_work"
   ]
  },
  {
   "cell_type": "code",
   "execution_count": 212,
   "id": "122ba2ba",
   "metadata": {},
   "outputs": [
    {
     "data": {
      "text/plain": [
       "12.39043"
      ]
     },
     "execution_count": 212,
     "metadata": {},
     "output_type": "execute_result"
    }
   ],
   "source": [
    "products = dx * np.squeeze(np.array(tf.gather(predicted_power, [0], axis=1)))\n",
    "predicted_work = np.sum(products)\n",
    "predicted_work"
   ]
  },
  {
   "cell_type": "code",
   "execution_count": 213,
   "id": "e939e4a4",
   "metadata": {},
   "outputs": [
    {
     "data": {
      "text/plain": [
       "70.14076200836541"
      ]
     },
     "execution_count": 213,
     "metadata": {},
     "output_type": "execute_result"
    }
   ],
   "source": [
    "np.abs((predicted_work - real_work) / real_work) * 100"
   ]
  },
  {
   "cell_type": "markdown",
   "id": "c7eedb62",
   "metadata": {},
   "source": [
    "Right now, the model is really good at predicting power. It's got the glorious 4% error in that realm. But it's still not great at predicting drag force or work (even though those matter less). If we play around with the loss function, can we improve the model in that capacity without affecting the power prediction metrics? Specifically, if we penalize high prediction differences for drag_force, can the model perform nearly as well? "
   ]
  },
  {
   "cell_type": "markdown",
   "id": "fb893a2c",
   "metadata": {},
   "source": [
    "### Improve power model for drag force predictions"
   ]
  },
  {
   "cell_type": "code",
   "execution_count": 735,
   "id": "eedcbf89",
   "metadata": {},
   "outputs": [],
   "source": [
    "# Prepare the data\n",
    "cu4_power_drag = cu4_pos_drag.copy()[1:]\n",
    "\n",
    "# Split the data into train and test\n",
    "train_dataset_cu4_power_drag = cu4_power_drag.sample(frac=0.8, random_state=0)\n",
    "test_dataset_cu4_power_drag = cu4_power_drag.drop(train_dataset_cu4_power_drag.index)\n",
    "\n",
    "train_dataset_cu4_power_drag.pop('pressure')\n",
    "test_dataset_cu4_power_drag.pop('pressure')\n",
    "\n",
    "train_dataset_cu4_power_drag.pop('deta_dx')\n",
    "test_dataset_cu4_power_drag.pop('deta_dx')\n",
    "\n",
    "train_dataset_cu4_power_drag.pop('dx')\n",
    "test_dataset_cu4_power_drag.pop('dx')\n",
    "\n",
    "# print(\"shape of training dataset: \", train_dataset_cu4_power_drag.shape)\n",
    "# print(\"shape of testing dataset: \", test_dataset_cu4_power_drag.shape)\n",
    "# print(\"training dataset: \", train_dataset_cu4_power)\n",
    "\n",
    "train_features_cu4_power_drag = train_dataset_cu4_power_drag.copy()\n",
    "test_features_cu4_power_drag = test_dataset_cu4_power_drag.copy()\n",
    "\n",
    "train_labels_cu4_power_drag = train_features_cu4_power_drag[['drag_force','u']]\n",
    "test_labels_cu4_power_drag = test_features_cu4_power_drag[['drag_force','u']]\n",
    "# print(\"train labels: \", train_labels_cu4_power)\n",
    "\n",
    "train_features_cu4_power_drag.pop('drag_force')\n",
    "test_features_cu4_power_drag.pop('drag_force')\n",
    "\n",
    "# print(\"train features: \", train_features_cu4_power)\n",
    "normalizer_cu4_power_drag = tf.keras.layers.Normalization(axis=-1)\n",
    "normalizer_cu4_power_drag.adapt(np.array(train_features_cu4_power_drag))\n",
    "\n",
    "# train_labels_cu4_power"
   ]
  },
  {
   "cell_type": "code",
   "execution_count": 736,
   "id": "aa6dc07d",
   "metadata": {
    "scrolled": true
   },
   "outputs": [
    {
     "name": "stdout",
     "output_type": "stream",
     "text": [
      "Model: \"sequential_62\"\n",
      "_________________________________________________________________\n",
      " Layer (type)                Output Shape              Param #   \n",
      "=================================================================\n",
      " normalization_41 (Normaliza  (None, 4)                9         \n",
      " tion)                                                           \n",
      "                                                                 \n",
      " dense_186 (Dense)           (None, 64)                320       \n",
      "                                                                 \n",
      " dense_187 (Dense)           (None, 64)                4160      \n",
      "                                                                 \n",
      " dense_188 (Dense)           (None, 2)                 130       \n",
      "                                                                 \n",
      "=================================================================\n",
      "Total params: 4,619\n",
      "Trainable params: 4,610\n",
      "Non-trainable params: 9\n",
      "_________________________________________________________________\n"
     ]
    }
   ],
   "source": [
    "# input is tensors\n",
    "def calculate_power(drag_force, u):\n",
    "    prod1 = tf.math.multiply(drag_force, u)\n",
    "    product = tf.math.scalar_mul(dx, prod1)\n",
    "    my_sum = tf.math.reduce_sum(product)\n",
    "    return my_sum\n",
    "\n",
    "# inputs are both tensors (keras built on top of tensorflow)\n",
    "def my_loss_fn(y_true, y_pred):\n",
    "    # drag_force is at index 0, u is at index 1\n",
    "    drag_force_true = tf.gather(y_true, [0], axis=1)\n",
    "    u_true = tf.gather(y_true, [1], axis=1)\n",
    "#     tf.print(\"size of y_true: \", tf.shape(y_true))\n",
    "    \n",
    "    drag_force_pred = tf.gather(y_pred, [0], axis=1)\n",
    "    u_pred = tf.gather(y_pred, [1], axis=1)\n",
    "    \n",
    "    power_true = calculate_power(drag_force_true, u_true)\n",
    "    power_pred = calculate_power(drag_force_pred, u_pred)\n",
    "    \n",
    "    # Note that we are sometimes using mean absolute error as opposed to square error. Important to specify for your paper! (tf.abs instead of tf.math.square)\n",
    "    first_loss = tf.math.scalar_mul(1, tf.math.scalar_mul(1 / tf.size(y_true), tf.cast(tf.math.square(drag_force_true - drag_force_pred), tf.float64)))\n",
    "    second_loss = tf.math.scalar_mul(0, tf.cast(tf.math.square(power_true - power_pred), tf.float64))\n",
    "    third_loss = tf.math.scalar_mul(0.5, tf.math.scalar_mul(1 / tf.size(y_true), tf.cast(tf.math.square(u_true - u_pred), tf.float64)))\n",
    "    \n",
    "    squared_difference = first_loss + second_loss + third_loss\n",
    "#     tf.print(\"my loss: \", tf.reduce_mean(squared_difference, axis=-1))\n",
    "    return tf.reduce_mean(squared_difference, axis=-1)  # Note the `axis=-1`\n",
    "\n",
    "def build_and_compile_model_power(norm):\n",
    "  model = keras.Sequential([\n",
    "      norm,\n",
    "      layers.Dense(64, activation='relu'),\n",
    "      layers.Dense(64, activation='relu'),\n",
    "      layers.Dense(2)\n",
    "  ])\n",
    "\n",
    "  model.compile(loss=my_loss_fn,\n",
    "                optimizer=tf.keras.optimizers.Adam(0.001))\n",
    "  return model\n",
    "\n",
    "# Build the model\n",
    "dnn_model_cu4_power_drag = build_and_compile_model_power(normalizer_cu4_power_drag)\n",
    "dnn_model_cu4_power_drag.summary()"
   ]
  },
  {
   "cell_type": "code",
   "execution_count": 737,
   "id": "be89efb6",
   "metadata": {},
   "outputs": [
    {
     "name": "stdout",
     "output_type": "stream",
     "text": [
      "CPU times: user 43.9 s, sys: 8.08 s, total: 52 s\n",
      "Wall time: 31.5 s\n"
     ]
    }
   ],
   "source": [
    "%%time\n",
    "history_cu4_power_drag = dnn_model_cu4_power_drag.fit(\n",
    "    train_features_cu4_power_drag,\n",
    "    train_labels_cu4_power_drag,\n",
    "    validation_split=0.2,\n",
    "    verbose=0, epochs=100)"
   ]
  },
  {
   "cell_type": "code",
   "execution_count": 738,
   "id": "2ee3d38f",
   "metadata": {},
   "outputs": [],
   "source": [
    "def plot_loss_power(history):\n",
    "  plt.plot(history.history['loss'], label='loss')\n",
    "  plt.plot(history.history['val_loss'], label='val_loss')\n",
    "  plt.ylim([0, 0.2])\n",
    "  plt.xlabel('Epoch')\n",
    "  plt.ylabel('Loss')\n",
    "  plt.legend()\n",
    "  plt.grid(True)"
   ]
  },
  {
   "cell_type": "code",
   "execution_count": 739,
   "id": "90bd7a93",
   "metadata": {},
   "outputs": [
    {
     "data": {
      "image/png": "[encoded data removed]",
      "text/plain": [
       "<Figure size 432x288 with 1 Axes>"
      ]
     },
     "metadata": {
      "needs_background": "light"
     },
     "output_type": "display_data"
    }
   ],
   "source": [
    "plot_loss_power(history_cu4_power_drag)"
   ]
  },
  {
   "cell_type": "markdown",
   "id": "bd44cfac",
   "metadata": {},
   "source": [
    "### How well did it work? Part two..."
   ]
  },
  {
   "cell_type": "markdown",
   "id": "f16ce254",
   "metadata": {},
   "source": [
    "Recall that cu4_neg_drag was copied from cu4_drag_force. And the test_features_cu4_neg_drag were sampled from cu4_neg_drag. That means that we can use the indices of the test_features_cu4_neg_drag to map back to the original data (cu4_drag_force). That means that we can get the unfiltered drag force and u values for all of our testing datapoints! This is all that we need to calculate the total power values."
   ]
  },
  {
   "cell_type": "code",
   "execution_count": 740,
   "id": "8e49ab52",
   "metadata": {},
   "outputs": [
    {
     "data": {
      "text/html": [
       "<div>\n",
       "<style scoped>\n",
       "    .dataframe tbody tr th:only-of-type {\n",
       "        vertical-align: middle;\n",
       "    }\n",
       "\n",
       "    .dataframe tbody tr th {\n",
       "        vertical-align: top;\n",
       "    }\n",
       "\n",
       "    .dataframe thead th {\n",
       "        text-align: right;\n",
       "    }\n",
       "</style>\n",
       "<table border=\"1\" class=\"dataframe\">\n",
       "  <thead>\n",
       "    <tr style=\"text-align: right;\">\n",
       "      <th></th>\n",
       "      <th>drag_force</th>\n",
       "      <th>u</th>\n",
       "    </tr>\n",
       "  </thead>\n",
       "  <tbody>\n",
       "    <tr>\n",
       "      <th>4</th>\n",
       "      <td>0.000000</td>\n",
       "      <td>0.000000</td>\n",
       "    </tr>\n",
       "    <tr>\n",
       "      <th>17</th>\n",
       "      <td>0.000000</td>\n",
       "      <td>0.000000</td>\n",
       "    </tr>\n",
       "    <tr>\n",
       "      <th>25</th>\n",
       "      <td>0.000000</td>\n",
       "      <td>0.000000</td>\n",
       "    </tr>\n",
       "    <tr>\n",
       "      <th>29</th>\n",
       "      <td>0.000000</td>\n",
       "      <td>0.000000</td>\n",
       "    </tr>\n",
       "    <tr>\n",
       "      <th>30</th>\n",
       "      <td>0.000000</td>\n",
       "      <td>0.000000</td>\n",
       "    </tr>\n",
       "    <tr>\n",
       "      <th>...</th>\n",
       "      <td>...</td>\n",
       "      <td>...</td>\n",
       "    </tr>\n",
       "    <tr>\n",
       "      <th>10204</th>\n",
       "      <td>12.206702</td>\n",
       "      <td>-1.199148</td>\n",
       "    </tr>\n",
       "    <tr>\n",
       "      <th>10208</th>\n",
       "      <td>7.784577</td>\n",
       "      <td>-1.022913</td>\n",
       "    </tr>\n",
       "    <tr>\n",
       "      <th>10211</th>\n",
       "      <td>14.954201</td>\n",
       "      <td>-1.042609</td>\n",
       "    </tr>\n",
       "    <tr>\n",
       "      <th>10212</th>\n",
       "      <td>16.422499</td>\n",
       "      <td>-0.976752</td>\n",
       "    </tr>\n",
       "    <tr>\n",
       "      <th>10222</th>\n",
       "      <td>7.530309</td>\n",
       "      <td>-0.922794</td>\n",
       "    </tr>\n",
       "  </tbody>\n",
       "</table>\n",
       "<p>2047 rows × 2 columns</p>\n",
       "</div>"
      ],
      "text/plain": [
       "       drag_force         u\n",
       "4        0.000000  0.000000\n",
       "17       0.000000  0.000000\n",
       "25       0.000000  0.000000\n",
       "29       0.000000  0.000000\n",
       "30       0.000000  0.000000\n",
       "...           ...       ...\n",
       "10204   12.206702 -1.199148\n",
       "10208    7.784577 -1.022913\n",
       "10211   14.954201 -1.042609\n",
       "10212   16.422499 -0.976752\n",
       "10222    7.530309 -0.922794\n",
       "\n",
       "[2047 rows x 2 columns]"
      ]
     },
     "execution_count": 740,
     "metadata": {},
     "output_type": "execute_result"
    }
   ],
   "source": [
    "true_power = cu4_power[cu4_power.index.isin(test_features_cu4_power_drag.index)][['drag_force', 'u']]\n",
    "true_power"
   ]
  },
  {
   "cell_type": "code",
   "execution_count": 741,
   "id": "cd09ea9e",
   "metadata": {},
   "outputs": [],
   "source": [
    "test_features_cu4_power_drag = test_features_cu4_power_drag[['x','eta','u','v']]\n",
    "# test_features_cu4_power_drag"
   ]
  },
  {
   "cell_type": "code",
   "execution_count": 742,
   "id": "e759231a",
   "metadata": {},
   "outputs": [
    {
     "name": "stdout",
     "output_type": "stream",
     "text": [
      "64/64 [==============================] - 0s 1ms/step\n"
     ]
    }
   ],
   "source": [
    "predicted_power_drag = dnn_model_cu4_power_drag.predict(test_features_cu4_power_drag)"
   ]
  },
  {
   "cell_type": "markdown",
   "id": "5f4dfea7",
   "metadata": {},
   "source": [
    "Now, we will compare real power against predicted power. It makes sense that the power is negative since the waves are exerting negative force on the overhead wind."
   ]
  },
  {
   "cell_type": "code",
   "execution_count": 743,
   "id": "c6f4d4a0",
   "metadata": {},
   "outputs": [
    {
     "data": {
      "text/plain": [
       "-28.33418935082215"
      ]
     },
     "execution_count": 743,
     "metadata": {},
     "output_type": "execute_result"
    }
   ],
   "source": [
    "products = dx * np.squeeze(true_power)['drag_force'] * np.squeeze(true_power)['u']\n",
    "products\n",
    "real_power = np.sum(products)\n",
    "real_power"
   ]
  },
  {
   "cell_type": "code",
   "execution_count": 744,
   "id": "c99f2e8c",
   "metadata": {},
   "outputs": [
    {
     "data": {
      "text/plain": [
       "-28.764729"
      ]
     },
     "execution_count": 744,
     "metadata": {},
     "output_type": "execute_result"
    }
   ],
   "source": [
    "products = tf.math.multiply(tf.gather(predicted_power_drag, [0], axis=1), tf.gather(predicted_power_drag, [1], axis=1))\n",
    "products2 = tf.math.scalar_mul(dx, products)\n",
    "pred_power = np.sum(products2)\n",
    "pred_power"
   ]
  },
  {
   "cell_type": "markdown",
   "id": "21f2abdf",
   "metadata": {},
   "source": [
    "The model does a bit worse at predicting power now. The hope is that the drag force predictions drastically improved, though. To be specific, the percent difference for power predictions increased from about 4.6% to about 17.5% after the edit to the custom loss function was implemented."
   ]
  },
  {
   "cell_type": "code",
   "execution_count": 745,
   "id": "2e69eac2",
   "metadata": {},
   "outputs": [
    {
     "data": {
      "text/plain": [
       "1.519504193289847"
      ]
     },
     "execution_count": 745,
     "metadata": {},
     "output_type": "execute_result"
    }
   ],
   "source": [
    "np.abs((pred_power - real_power) / real_power) * 100"
   ]
  },
  {
   "cell_type": "markdown",
   "id": "e1fea70c",
   "metadata": {},
   "source": [
    "Now, what's the result if drag force is the only takeaway from the model? The power prediction is even stronger, with percent error of about 11.0%. This is an interesting finding, since the model was supposed to be optimizing for power. "
   ]
  },
  {
   "cell_type": "code",
   "execution_count": 746,
   "id": "74554607",
   "metadata": {},
   "outputs": [
    {
     "data": {
      "text/plain": [
       "-28.737437383319328"
      ]
     },
     "execution_count": 746,
     "metadata": {},
     "output_type": "execute_result"
    }
   ],
   "source": [
    "u = tf.convert_to_tensor(true_power['u'].to_numpy())\n",
    "u = tf.expand_dims(u,axis=1)\n",
    "products = tf.math.multiply(tf.cast(tf.gather(predicted_power_drag, [0], axis=1), tf.float64), tf.cast(u, tf.float64))\n",
    "products2 = tf.math.scalar_mul(dx, products)\n",
    "pred_power = np.sum(products2)\n",
    "pred_power"
   ]
  },
  {
   "cell_type": "code",
   "execution_count": 747,
   "id": "373a3dce",
   "metadata": {},
   "outputs": [
    {
     "data": {
      "text/plain": [
       "1.4231853521705826"
      ]
     },
     "execution_count": 747,
     "metadata": {},
     "output_type": "execute_result"
    }
   ],
   "source": [
    "np.abs((pred_power - real_power) / real_power) * 100"
   ]
  },
  {
   "cell_type": "markdown",
   "id": "d9472c40",
   "metadata": {},
   "source": [
    "Is the model predicting either drag force or u values well? (It would have no reason right now to really be predicting u values too well)."
   ]
  },
  {
   "cell_type": "code",
   "execution_count": 748,
   "id": "a31846a7",
   "metadata": {},
   "outputs": [
    {
     "data": {
      "text/plain": [
       "[<matplotlib.lines.Line2D at 0x7f9405b8bf70>]"
      ]
     },
     "execution_count": 748,
     "metadata": {},
     "output_type": "execute_result"
    },
    {
     "data": {
      "image/png": "[encoded data removed]",
      "text/plain": [
       "<Figure size 432x288 with 1 Axes>"
      ]
     },
     "metadata": {
      "needs_background": "light"
     },
     "output_type": "display_data"
    }
   ],
   "source": [
    "predicted_drag_force = np.squeeze(np.array(tf.gather(predicted_power_drag, [0], axis=1)))\n",
    "plt.scatter(true_power['drag_force'], predicted_drag_force)\n",
    "plt.title(\"True drag force against predicted drag force for custom power model\")\n",
    "plt.xlabel(\"True drag force\")\n",
    "plt.ylabel(\"Drag force prediction by custom power DNN\")\n",
    "xpoints = ypoints = plt.xlim()\n",
    "plt.plot(xpoints, ypoints, linestyle='--', color='k', lw=3, scalex=False, scaley=False)"
   ]
  },
  {
   "cell_type": "markdown",
   "id": "0905b09f",
   "metadata": {},
   "source": [
    "The black dashed line is y=x. We can see that the predicted drag force lies along where it should, with some underpredictions. The u values are pretty good as well. We could calculate correlation with the dashed line, if we wanted to."
   ]
  },
  {
   "cell_type": "code",
   "execution_count": 749,
   "id": "e196f5d7",
   "metadata": {},
   "outputs": [
    {
     "data": {
      "text/plain": [
       "[<matplotlib.lines.Line2D at 0x7f9404551bb0>]"
      ]
     },
     "execution_count": 749,
     "metadata": {},
     "output_type": "execute_result"
    },
    {
     "data": {
      "image/png": "[encoded data removed]",
      "text/plain": [
       "<Figure size 432x288 with 1 Axes>"
      ]
     },
     "metadata": {
      "needs_background": "light"
     },
     "output_type": "display_data"
    }
   ],
   "source": [
    "predicted_u = np.squeeze(np.array(tf.gather(predicted_power_drag, [1], axis=1)))\n",
    "plt.scatter(true_power['u'], predicted_u)\n",
    "plt.title(\"True u values against predicted u values for custom power model\")\n",
    "plt.xlabel(\"True u values\")\n",
    "plt.ylabel(\"u value prediction by custom power DNN\")\n",
    "xpoints = ypoints = plt.xlim()\n",
    "plt.plot(xpoints, ypoints, linestyle='--', color='k', lw=3, scalex=False, scaley=False)"
   ]
  },
  {
   "cell_type": "markdown",
   "id": "84087a30",
   "metadata": {},
   "source": [
    "Is it still decent at predicting drag force in general? What about work?"
   ]
  },
  {
   "cell_type": "markdown",
   "id": "07e8f258",
   "metadata": {},
   "source": [
    "For reference, the mean absolute error for drag_force is about 1.86. This is pretty similar to the error associated with the positive drag force that had the total work constraint (value was 1.14, which was relatively small!)."
   ]
  },
  {
   "cell_type": "code",
   "execution_count": 750,
   "id": "f48cb096",
   "metadata": {},
   "outputs": [
    {
     "data": {
      "text/plain": [
       "array([ 0.02990136,  0.02990136,  0.02990136, ..., 12.43272   ,\n",
       "       12.880987  , 15.001321  ], dtype=float32)"
      ]
     },
     "execution_count": 750,
     "metadata": {},
     "output_type": "execute_result"
    }
   ],
   "source": [
    "predicted_drag_force = np.squeeze(np.array(tf.gather(predicted_power_drag, [0], axis=1)))\n",
    "predicted_drag_force"
   ]
  },
  {
   "cell_type": "code",
   "execution_count": 751,
   "id": "79a03853",
   "metadata": {},
   "outputs": [
    {
     "data": {
      "text/plain": [
       "1.4001678054043285"
      ]
     },
     "execution_count": 751,
     "metadata": {},
     "output_type": "execute_result"
    }
   ],
   "source": [
    "np.sum(np.abs(true_power['drag_force'] - predicted_drag_force)) / len(true_power) "
   ]
  },
  {
   "cell_type": "markdown",
   "id": "b53a6761",
   "metadata": {},
   "source": [
    "##### Model with 3 terms in loss function (one to address u prediction error)"
   ]
  },
  {
   "cell_type": "markdown",
   "id": "07e8f258",
   "metadata": {},
   "source": [
    "For reference, the mean absolute error for drag_force is about 1.86. This is pretty similar to the error associated with the positive drag force that had the total work constraint (value was 1.14, which was relatively small!)."
   ]
  },
  {
   "cell_type": "code",
   "execution_count": 754,
   "id": "d87d65ff",
   "metadata": {},
   "outputs": [
    {
     "data": {
      "text/plain": [
       "array([-0.00368798, -0.00368798, -0.00368798, ..., -1.0801022 ,\n",
       "       -1.0098469 , -0.90300393], dtype=float32)"
      ]
     },
     "execution_count": 754,
     "metadata": {},
     "output_type": "execute_result"
    }
   ],
   "source": [
    "predicted_u = np.squeeze(np.array(tf.gather(predicted_power_drag, [1], axis=1)))\n",
    "predicted_u"
   ]
  },
  {
   "cell_type": "code",
   "execution_count": 755,
   "id": "79a03853",
   "metadata": {},
   "outputs": [
    {
     "data": {
      "text/plain": [
       "0.0161794345940831"
      ]
     },
     "execution_count": 755,
     "metadata": {},
     "output_type": "execute_result"
    }
   ],
   "source": [
    "np.sum(np.abs(true_power['u'] - predicted_u)) / len(true_power) "
   ]
  },
  {
   "cell_type": "markdown",
   "id": "57198981",
   "metadata": {},
   "source": [
    "##### Continue"
   ]
  },
  {
   "cell_type": "markdown",
   "id": "1bb9a558",
   "metadata": {},
   "source": [
    "So, it's decent at predicting drag force now, with not that much takeaway from its ability to predict power. What about work? With the last model, the percent error was 70% (not good). Now, it is 29.7% (much better)."
   ]
  },
  {
   "cell_type": "code",
   "execution_count": 756,
   "id": "37e071c4",
   "metadata": {},
   "outputs": [
    {
     "data": {
      "text/plain": [
       "41.49613748988095"
      ]
     },
     "execution_count": 756,
     "metadata": {},
     "output_type": "execute_result"
    }
   ],
   "source": [
    "products = dx * true_power['drag_force']\n",
    "real_work = np.sum(products)\n",
    "real_work"
   ]
  },
  {
   "cell_type": "code",
   "execution_count": 757,
   "id": "f43645aa",
   "metadata": {},
   "outputs": [
    {
     "data": {
      "text/plain": [
       "42.654778"
      ]
     },
     "execution_count": 757,
     "metadata": {},
     "output_type": "execute_result"
    }
   ],
   "source": [
    "products = dx * np.squeeze(np.array(tf.gather(predicted_power_drag, [0], axis=1)))\n",
    "predicted_work = np.sum(products)\n",
    "predicted_work"
   ]
  },
  {
   "cell_type": "code",
   "execution_count": 758,
   "id": "65ec2522",
   "metadata": {},
   "outputs": [
    {
     "data": {
      "text/plain": [
       "2.7921635772897133"
      ]
     },
     "execution_count": 758,
     "metadata": {},
     "output_type": "execute_result"
    }
   ],
   "source": [
    "np.abs((predicted_work - real_work) / real_work) * 100"
   ]
  },
  {
   "cell_type": "markdown",
   "id": "0a5c6a0c",
   "metadata": {},
   "source": [
    "### Hypertuning loss function for double prediction model (drag force and u)\n",
    "\n",
    "It seems that we can hypertune the parameters to have a model that predicts both power and work well. Here, we will play around with hyperparameters."
   ]
  },
  {
   "cell_type": "markdown",
   "id": "9aa7eeab",
   "metadata": {},
   "source": [
    "Let $d$ denote drag force and $u$ denote $u$. Here are the loss equations used for each model. The first 7 models are analogous to the mean_absolute_error loss function, whereas the last 7 models are based off of the mean_squared_error loss function.\n",
    "\n",
    "Model 1: $|p_{true} - p_{pred}|$\n",
    "\n",
    "Model 2: $0.1\\frac{1}{n}\\sum_{i=1}^{n}|d_{i,true} - d_{i,pred}| + 0.9|p_{true} - p_{pred}|$\n",
    "\n",
    "Model 3: $0.3\\frac{1}{n}\\sum_{i=1}^{n}|d_{i,true} - d_{i,pred}| + 0.7|p_{true} - p_{pred}|$\n",
    "\n",
    "Model 4: $0.5\\frac{1}{n}\\sum_{i=1}^{n}|d_{i,true} - d_{i,pred}| + 0.5|p_{true} - p_{pred}|$\n",
    "\n",
    "Model 5: $0.7\\frac{1}{n}\\sum_{i=1}^{n}|d_{i,true} - d_{i,pred}| + 0.3|p_{true} - p_{pred}|$\n",
    "\n",
    "Model 6: $0.9\\frac{1}{n}\\sum_{i=1}^{n}|d_{i,true} - d_{i,pred}| + 0.1|p_{true} - p_{pred}|$\n",
    "\n",
    "Model 7: $\\frac{1}{n}\\sum_{i=1}^{n}|d_{i,true} - d_{i,pred}|$\n",
    "\n",
    "-----------------------\n",
    "\n",
    "Model 8: $(p_{true} - p_{pred})^{2}$\n",
    "\n",
    "Model 9: $0.1\\frac{1}{n}\\sum_{i=1}^{n}(d_{i,true} - d_{i,pred})^{2} + 0.9(p_{true} - p_{pred})^{2}$\n",
    "\n",
    "Model 10: $0.3\\frac{1}{n}\\sum_{i=1}^{n}(d_{i,true} - d_{i,pred})^{2} + 0.7(p_{true} - p_{pred})^{2}$\n",
    "\n",
    "Model 11: $0.5\\frac{1}{n}\\sum_{i=1}^{n}(d_{i,true} - d_{i,pred})^{2} + 0.5(p_{true} - p_{pred})^{2}$\n",
    "\n",
    "Model 12: $0.7\\frac{1}{n}\\sum_{i=1}^{n}(d_{i,true} - d_{i,pred})^{2} + 0.3(p_{true} - p_{pred})^{2}$\n",
    "\n",
    "Model 13: $0.9\\frac{1}{n}\\sum_{i=1}^{n}(d_{i,true} - d_{i,pred})^{2} + 0.1(p_{true} - p_{pred})^{2}$\n",
    "\n",
    "Model 14: $\\frac{1}{n}\\sum_{i=1}^{n}(d_{i,true} - d_{i,pred})^{2}$\n"
   ]
  },
  {
   "cell_type": "code",
   "execution_count": 655,
   "id": "f8194014",
   "metadata": {},
   "outputs": [
    {
     "name": "stdout",
     "output_type": "stream",
     "text": [
      "|   Loss equation number |   Power % err (drag, u) |   Power % err (drag) |   Drag force MAE |   Work %err |\n",
      "|-----------------------:|------------------------:|---------------------:|-----------------:|------------:|\n",
      "|                      1 |                    1.8  |                 48.2 |              2.9 |        76   |\n",
      "|                      2 |                    4.5  |                 54.3 |              2.5 |        69.9 |\n",
      "|                      3 |                    7.8  |                136.9 |              3.8 |       117   |\n",
      "|                      4 |                   11.3  |                 27.1 |              1.9 |        39.9 |\n",
      "|                      5 |                    2.2  |                 15.1 |              1.7 |        26.1 |\n",
      "|                      6 |                    7.3  |                  0.5 |              1.5 |         4.8 |\n",
      "|                      7 |                   21.7  |                  1.6 |              1.5 |         4.6 |\n",
      "|                      8 |                    0.97 |                147.4 |              4   |       123.4 |\n",
      "|                      9 |                   10.3  |                  5.1 |              1.6 |         1.4 |\n",
      "|                     10 |                    7.7  |                  4   |              1.5 |         5.8 |\n",
      "|                     11 |                    0.4  |                  7.2 |              1.5 |         9.3 |\n",
      "|                     12 |                   18.4  |                  6.5 |              1.5 |         3.5 |\n",
      "|                     13 |                   11    |                  0.9 |              1.4 |         3.4 |\n",
      "|                     14 |                  208.3  |                  1   |              1.5 |         8.9 |\n"
     ]
    }
   ],
   "source": [
    "table = [['Loss equation number', 'Power % err (drag, u)', 'Power % err (drag)', 'Drag force MAE', 'Work %err'],\n",
    "         ['1', '1.8','48.2','2.9','76.0'],\n",
    "         ['2', '4.5','54.3','2.5','69.9'],\n",
    "         ['3', '7.8','136.9','3.8','117.0'],\n",
    "         ['4', '11.3','27.1','1.9','39.9'],\n",
    "         ['5', '2.2','15.1','1.7','26.1'],\n",
    "         ['6', '7.3','0.5','1.5','4.8'],\n",
    "         ['7', '21.7','1.6','1.5','4.6'],\n",
    "         ['8', '0.97','147.4','4.0','123.4'],\n",
    "         ['9', '10.3','5.1','1.6','1.4'],\n",
    "         ['10', '7.7','4.0','1.5','5.8'],\n",
    "         ['11', '0.4','7.2','1.5','9.3'],\n",
    "         ['12', '18.4','6.5','1.5','3.5'],\n",
    "         ['13', '11.0','0.9','1.4','3.4'],\n",
    "         ['14', '208.3','1.0','1.5','8.9']\n",
    "        ]\n",
    "\n",
    "\n",
    "print(tabulate(table, headers=\"firstrow\", tablefmt=\"pipe\"))"
   ]
  },
  {
   "cell_type": "markdown",
   "id": "483cdaa6",
   "metadata": {},
   "source": [
    "We can clearly see that some models perform better than others. Model 11 (mean squared error with 0.5 weights) is a notable model because the power prediction rocks (0.4% error) and the work prediction is also very fair (<10%). Model 6 is also notable (7.3% error for power, 4.6% error for work). You can clearly see that the inclusion of both terms is critical, as models 1, 7, 8, and 14 all have very high loss values (>20% and usually on the scale of 100%) for either power or work.\n",
    "\n",
    "Let's investigate the trends of the performance metrics across the models, as the percentage of the loss dedicated mitigating drag force error increases.\n",
    "\n",
    "First, we will take a look at the models which use mean absolute errors in their loss functions."
   ]
  },
  {
   "cell_type": "code",
   "execution_count": 759,
   "id": "ea70c158",
   "metadata": {},
   "outputs": [],
   "source": [
    "my_df = pd.DataFrame([['power % err',0,1.8,'red'],\n",
    "                      ['power % err',0.1,4.5,'red'],\n",
    "                      ['power % err',0.3,7.8,'red'],\n",
    "                      ['power % err',0.5,11.3,'red'],\n",
    "                      ['power % err',0.7,2.2,'red'],\n",
    "                      ['power % err',0.9,7.3,'red'],\n",
    "                      ['power % err',1,21.7,'red'],\n",
    "                      ['power % err (drag)',0,48.2,'blue'],\n",
    "                      ['power % err (drag)',0.1,54.3,'blue'],\n",
    "                      ['power % err (drag)',0.3,136.9,'blue'],\n",
    "                      ['power % err (drag)',0.5,27.1,'blue'],\n",
    "                      ['power % err (drag)',0.7,15.1,'blue'],\n",
    "                      ['power % err (drag)',0.9,0.5,'blue'],\n",
    "                      ['power % err (drag)',1,1.6,'blue'],\n",
    "                      ['work % err',0,76.0,'green'],\n",
    "                      ['work % err',0.1,69.9,'green'],\n",
    "                      ['work % err',0.3,117.0,'green'],\n",
    "                      ['work % err',0.5,39.9,'green'],\n",
    "                      ['work % err',0.7,26.1,'green'],\n",
    "                      ['work % err',0.9,4.8,'green'],\n",
    "                      ['work % err',1,4.6,'green']],\n",
    "                     columns=['performance metric', 'proportion of loss function dedicated to drag force error', 'y','color'])"
   ]
  },
  {
   "cell_type": "code",
   "execution_count": 760,
   "id": "275cec4a",
   "metadata": {},
   "outputs": [
    {
     "data": {
      "image/png": "[encoded data removed]",
      "text/plain": [
       "<Figure size 432x288 with 1 Axes>"
      ]
     },
     "metadata": {
      "needs_background": "light"
     },
     "output_type": "display_data"
    }
   ],
   "source": [
    "fig, ax = plt.subplots()\n",
    "\n",
    "for key, grp in my_df.groupby(['color']):\n",
    "    ax = grp.plot(ax=ax, kind='line', x='proportion of loss function dedicated to drag force error', y='y', c=key, label=grp['performance metric'].iloc[0])\n",
    "\n",
    "plt.legend(loc='best')\n",
    "plt.title(\"MEAN ABSOLUTE ERR MODELS\\n Performance metrics by proportion of loss function dedicated to\\n drag force error (rather than power error)\")\n",
    "ax.set_ylabel(\"Percent error\")\n",
    "plt.show()"
   ]
  },
  {
   "cell_type": "code",
   "execution_count": 761,
   "id": "0672d9a5",
   "metadata": {},
   "outputs": [],
   "source": [
    "my_df = pd.DataFrame([['power % err',0,0.97,'red'],\n",
    "                      ['power % err',0.1,10.3,'red'],\n",
    "                      ['power % err',0.3,7.7,'red'],\n",
    "                      ['power % err',0.5,0.4,'red'],\n",
    "                      ['power % err',0.7,18.4,'red'],\n",
    "                      ['power % err',0.9,11.0,'red'],\n",
    "                      ['power % err',1,208.3,'red'],\n",
    "                      ['power % err (drag)',0,147.4,'blue'],\n",
    "                      ['power % err (drag)',0.1,5.1,'blue'],\n",
    "                      ['power % err (drag)',0.3,4.0,'blue'],\n",
    "                      ['power % err (drag)',0.5,7.2,'blue'],\n",
    "                      ['power % err (drag)',0.7,6.5,'blue'],\n",
    "                      ['power % err (drag)',0.9,0.9,'blue'],\n",
    "                      ['power % err (drag)',1,1.0,'blue'],\n",
    "                      ['work % err',0,123.4,'green'],\n",
    "                      ['work % err',0.1,1.4,'green'],\n",
    "                      ['work % err',0.3,5.8,'green'],\n",
    "                      ['work % err',0.5,9.3,'green'],\n",
    "                      ['work % err',0.7,3.5,'green'],\n",
    "                      ['work % err',0.9,3.4,'green'],\n",
    "                      ['work % err',1,8.9,'green']],\n",
    "                     columns=['performance metric', 'proportion of loss function dedicated to drag force error', 'y','color'])"
   ]
  },
  {
   "cell_type": "code",
   "execution_count": 762,
   "id": "8a122b4f",
   "metadata": {},
   "outputs": [
    {
     "data": {
      "image/png": "[encoded data removed]",
      "text/plain": [
       "<Figure size 432x288 with 1 Axes>"
      ]
     },
     "metadata": {
      "needs_background": "light"
     },
     "output_type": "display_data"
    }
   ],
   "source": [
    "fig, ax = plt.subplots()\n",
    "\n",
    "for key, grp in my_df.groupby(['color']):\n",
    "    ax = grp.plot(ax=ax, kind='line', x='proportion of loss function dedicated to drag force error', y='y', c=key, label=grp['performance metric'].iloc[0])\n",
    "\n",
    "plt.legend(loc='best')\n",
    "plt.title(\"MEAN SQUARED ERR MODELS\\n Performance metrics by proportion of loss function dedicated to\\n drag force error (rather than power error)\")\n",
    "ax.set_ylabel(\"Percent error\")\n",
    "plt.show()"
   ]
  },
  {
   "cell_type": "code",
   "execution_count": 763,
   "id": "4f12568a",
   "metadata": {},
   "outputs": [],
   "source": [
    "my_df = pd.DataFrame([['power % err',0.1,10.3,'red'],\n",
    "                      ['power % err',0.3,7.7,'red'],\n",
    "                      ['power % err',0.5,0.4,'red'],\n",
    "                      ['power % err',0.7,18.4,'red'],\n",
    "                      ['power % err',0.9,11.0,'red'],\n",
    "                      ['power % err (drag)',0.1,5.1,'blue'],\n",
    "                      ['power % err (drag)',0.3,4.0,'blue'],\n",
    "                      ['power % err (drag)',0.5,7.2,'blue'],\n",
    "                      ['power % err (drag)',0.7,6.5,'blue'],\n",
    "                      ['power % err (drag)',0.9,0.9,'blue'],\n",
    "                      ['work % err',0.1,1.4,'green'],\n",
    "                      ['work % err',0.3,5.8,'green'],\n",
    "                      ['work % err',0.5,9.3,'green'],\n",
    "                      ['work % err',0.7,3.5,'green'],\n",
    "                      ['work % err',0.9,3.4,'green']],\n",
    "                     columns=['performance metric', 'proportion of loss function dedicated to drag force error', 'y','color'])"
   ]
  },
  {
   "cell_type": "code",
   "execution_count": 764,
   "id": "021916ee",
   "metadata": {},
   "outputs": [
    {
     "data": {
      "image/png": "[encoded data removed]",
      "text/plain": [
       "<Figure size 432x288 with 1 Axes>"
      ]
     },
     "metadata": {
      "needs_background": "light"
     },
     "output_type": "display_data"
    }
   ],
   "source": [
    "fig, ax = plt.subplots()\n",
    "\n",
    "for key, grp in my_df.groupby(['color']):\n",
    "    ax = grp.plot(ax=ax, kind='line', x='proportion of loss function dedicated to drag force error', y='y', c=key, label=grp['performance metric'].iloc[0])\n",
    "\n",
    "plt.legend(loc='best')\n",
    "plt.title(\"MEAN SQUARED ERR MODELS (no edge models)\\n Performance metrics by proportion of loss function dedicated to\\n drag force error (rather than power error)\")\n",
    "ax.set_ylabel(\"Percent error\")\n",
    "plt.show()"
   ]
  },
  {
   "cell_type": "code",
   "execution_count": 765,
   "id": "29d5e359",
   "metadata": {},
   "outputs": [],
   "source": [
    "my_df = pd.DataFrame([['MAE, power % err',0,1.8,'#e61000'],\n",
    "                      ['MAE, power % err',0.1,4.5,'#e61000'],\n",
    "                      ['MAE, power % err',0.3,7.8,'#e61000'],\n",
    "                      ['MAE, power % err',0.5,11.3,'#e61000'],\n",
    "                      ['MAE, power % err',0.7,2.2,'#e61000'],\n",
    "                      ['MAE, power % err',0.9,7.3,'#e61000'],\n",
    "                      ['MAE, power % err',1,21.7,'#e61000'],\n",
    "                      ['MAE, power % err (drag)',0,48.2,'#b21000'],\n",
    "                      ['MAE, power % err (drag)',0.1,54.3,'#b21000'],\n",
    "                      ['MAE, power % err (drag)',0.3,136.9,'#b21000'],\n",
    "                      ['MAE, power % err (drag)',0.5,27.1,'#b21000'],\n",
    "                      ['MAE, power % err (drag)',0.7,15.1,'#b21000'],\n",
    "                      ['MAE, power % err (drag)',0.9,0.5,'#b21000'],\n",
    "                      ['MAE, power % err (drag)',1,1.6,'#b21000'],\n",
    "                      ['MAE, work % err',0,76.0,'#7e1000'],\n",
    "                      ['MAE, work % err',0.1,69.9,'#7e1000'],\n",
    "                      ['MAE, work % err',0.3,117.0,'#7e1000'],\n",
    "                      ['MAE, work % err',0.5,39.9,'#7e1000'],\n",
    "                      ['MAE, work % err',0.7,26.1,'#7e1000'],\n",
    "                      ['MAE, work % err',0.9,4.8,'#7e1000'],\n",
    "                      ['MAE, work % err',1,4.6,'#7e1000'],\n",
    "                      ['MSE, power % err',0.1,10.3,'#3a3eff'],\n",
    "                      ['MSE, power % err',0.3,7.7,'#3a3eff'],\n",
    "                      ['MSE, power % err',0.5,0.4,'#3a3eff'],\n",
    "                      ['MSE, power % err',0.7,18.4,'#3a3eff'],\n",
    "                      ['MSE, power % err',0.9,11.0,'#3a3eff'],\n",
    "                      ['MSE, power % err (drag)',0.1,5.1,'#3a3ecf'],\n",
    "                      ['MSE, power % err (drag)',0.3,4.0,'#3a3ecf'],\n",
    "                      ['MSE, power % err (drag)',0.5,7.2,'#3a3ecf'],\n",
    "                      ['MSE, power % err (drag)',0.7,6.5,'#3a3ecf'],\n",
    "                      ['MSE, power % err (drag)',0.9,0.9,'#3a3ecf'],\n",
    "                      ['MSE, work % err',0.1,1.4,'#3a3e7b'],\n",
    "                      ['MSE, work % err',0.3,5.8,'#3a3e7b'],\n",
    "                      ['MSE, work % err',0.5,9.3,'#3a3e7b'],\n",
    "                      ['MSE, work % err',0.7,3.5,'#3a3e7b'],\n",
    "                      ['MSE, work % err',0.9,3.4,'#3a3e7b']],\n",
    "                     columns=['performance metric', 'proportion of loss function dedicated to drag force error', 'y','color'])"
   ]
  },
  {
   "cell_type": "code",
   "execution_count": 766,
   "id": "e6497372",
   "metadata": {},
   "outputs": [
    {
     "data": {
      "image/png": "[encoded data removed]",
      "text/plain": [
       "<Figure size 432x288 with 1 Axes>"
      ]
     },
     "metadata": {
      "needs_background": "light"
     },
     "output_type": "display_data"
    }
   ],
   "source": [
    "fig, ax = plt.subplots()\n",
    "\n",
    "for key, grp in my_df.groupby(['color']):\n",
    "    ax = grp.plot(ax=ax, kind='line', x='proportion of loss function dedicated to drag force error', y='y', c=key, label=grp['performance metric'].iloc[0])\n",
    "\n",
    "plt.legend(loc='best')\n",
    "plt.title(\"ALL MODELS\\n Performance metrics by proportion of loss function dedicated to\\n drag force error (rather than power error)\")\n",
    "ax.set_ylabel(\"Percent error\")\n",
    "plt.show()"
   ]
  },
  {
   "cell_type": "markdown",
   "id": "29c69124",
   "metadata": {},
   "source": [
    "You can see that the best model is either MSE at 0.5 or MAE at 0.9."
   ]
  },
  {
   "cell_type": "markdown",
   "id": "ad20281b",
   "metadata": {},
   "source": [
    "### Optimizing for power only with drag force predictions, not with u values"
   ]
  },
  {
   "cell_type": "markdown",
   "id": "6b2489bf",
   "metadata": {},
   "source": [
    "This isn't exactly what we talked about in our last meeting (1:1 correspondence for u values). But we can take a look at that as well.\n",
    "\n",
    "If we penalize loss for u, we can keep u values almost the same and simply predict drag force values while trying to capture power (or both power and work). We are going to build off of our best model from before (MSE at 0.5) but now we are editing the loss function even more. Here is the new loss function:\n",
    "\n",
    "$0.5\\frac{1}{n}\\sum_{i=1}^{n}(d_{i,true} - d_{i,pred})^{2} + 0.5(p_{true} - p_{pred})^{2} + 0.5\\frac{1}{n}\\sum_{i=1}^{n}(u_{i,true} - u_{i,pred})^{2}$\n",
    "\n",
    "Note that we are weighing the u squared differences just as much as each other term.\n",
    "\n",
    "After training the model, we want to make sure that our u values are minimally altered by the model. MAE will be our metric to assess this."
   ]
  },
  {
   "cell_type": "markdown",
   "id": "ccb01b59",
   "metadata": {},
   "source": [
    "The results were great!\n",
    "\n",
    "power with u and drag force % err: 1.5\n",
    "\n",
    "power with just drag force % err: 1.4\n",
    "\n",
    "drag force MAE: 1.4\n",
    "\n",
    "work % err: 2.8\n",
    "\n",
    "u MAE: 0.02 (this is exactly what we wanted)\n",
    "\n",
    "Let's compare these results to our two best models so far (MSE at 0.5, MAE at 0.9)"
   ]
  },
  {
   "cell_type": "code",
   "execution_count": 10,
   "id": "79040b90",
   "metadata": {},
   "outputs": [
    {
     "data": {
      "text/html": [
       "<div>\n",
       "<style scoped>\n",
       "    .dataframe tbody tr th:only-of-type {\n",
       "        vertical-align: middle;\n",
       "    }\n",
       "\n",
       "    .dataframe tbody tr th {\n",
       "        vertical-align: top;\n",
       "    }\n",
       "\n",
       "    .dataframe thead th {\n",
       "        text-align: right;\n",
       "    }\n",
       "</style>\n",
       "<table border=\"1\" class=\"dataframe\">\n",
       "  <thead>\n",
       "    <tr style=\"text-align: right;\">\n",
       "      <th></th>\n",
       "      <th>Performance metric</th>\n",
       "      <th>0.9 MAE</th>\n",
       "      <th>0.5 MSE</th>\n",
       "      <th>u (MSE)</th>\n",
       "    </tr>\n",
       "  </thead>\n",
       "  <tbody>\n",
       "    <tr>\n",
       "      <th>0</th>\n",
       "      <td>power % err</td>\n",
       "      <td>7.3</td>\n",
       "      <td>0.4</td>\n",
       "      <td>1.5</td>\n",
       "    </tr>\n",
       "    <tr>\n",
       "      <th>1</th>\n",
       "      <td>power % err (drag)</td>\n",
       "      <td>0.5</td>\n",
       "      <td>7.2</td>\n",
       "      <td>1.4</td>\n",
       "    </tr>\n",
       "    <tr>\n",
       "      <th>2</th>\n",
       "      <td>work % err</td>\n",
       "      <td>4.8</td>\n",
       "      <td>9.3</td>\n",
       "      <td>2.8</td>\n",
       "    </tr>\n",
       "  </tbody>\n",
       "</table>\n",
       "</div>"
      ],
      "text/plain": [
       "   Performance metric  0.9 MAE  0.5 MSE  u (MSE)\n",
       "0         power % err      7.3      0.4      1.5\n",
       "1  power % err (drag)      0.5      7.2      1.4\n",
       "2          work % err      4.8      9.3      2.8"
      ]
     },
     "execution_count": 10,
     "metadata": {},
     "output_type": "execute_result"
    }
   ],
   "source": [
    "df = pd.DataFrame([['power % err',7.3,0.4,1.5],\n",
    "                   ['power % err (drag)',0.5,7.2,1.4],\n",
    "                   ['work % err',4.8,9.3,2.8]],\n",
    "                  columns=[\"Performance metric\", \"0.9 MAE\", \"0.5 MSE\", \"u (MSE)\"])\n",
    "\n",
    "df"
   ]
  },
  {
   "cell_type": "code",
   "execution_count": 9,
   "id": "55c4363d",
   "metadata": {},
   "outputs": [],
   "source": [
    "np.savetxt(\"graphic3.csv\", df, delimiter=\",\")"
   ]
  },
  {
   "cell_type": "code",
   "execution_count": 6,
   "id": "bc2ffb7f",
   "metadata": {},
   "outputs": [
    {
     "data": {
      "image/png": "[encoded data removed]",
      "text/plain": [
       "<Figure size 432x288 with 1 Axes>"
      ]
     },
     "metadata": {
      "needs_background": "light"
     },
     "output_type": "display_data"
    }
   ],
   "source": [
    "ax = df.plot(x=\"Performance metric\", y=[\"0.9 MAE\", \"0.5 MSE\", \"u (MSE)\"], kind=\"bar\", rot=0)"
   ]
  },
  {
   "cell_type": "markdown",
   "id": "9e7d02ab",
   "metadata": {},
   "source": [
    "We can see that when u is controlled, the model is better at optimizing across the three metrics. Idea: turning one knob instead of 2. With a limited number of epochs, when turning 1 knob, maybe you can reach better optimums."
   ]
  },
  {
   "cell_type": "markdown",
   "id": "ccc91e27",
   "metadata": {},
   "source": [
    "### Predicting the product of drag force and u for power DNN (instead of each separately)\n",
    "\n",
    "A downside to this technique is that you cannot optimize for both power and work (when predicting each separately, you can). You also can't tell if the model is predicting either drag_force or u well. But we will see if it can improve our ability to capture the notion of power anyhow."
   ]
  },
  {
   "cell_type": "code",
   "execution_count": 818,
   "id": "27a5129d",
   "metadata": {},
   "outputs": [],
   "source": [
    "# Prepare the data\n",
    "cu4_power_product = cu4_pos_drag.copy()[1:]\n",
    "cu4_power_product['product'] = cu4_power_product['u'] * cu4_power_product['drag_force']\n",
    "\n",
    "# Split the data into train and test\n",
    "train_dataset_cu4_power_product = cu4_power_product.sample(frac=0.8, random_state=0)\n",
    "test_dataset_cu4_power_product = cu4_power_product.drop(train_dataset_cu4_power_drag.index)\n",
    "\n",
    "train_dataset_cu4_power_product.pop('pressure')\n",
    "test_dataset_cu4_power_product.pop('pressure')\n",
    "\n",
    "train_dataset_cu4_power_product.pop('deta_dx')\n",
    "test_dataset_cu4_power_product.pop('deta_dx')\n",
    "\n",
    "train_dataset_cu4_power_product.pop('dx')\n",
    "test_dataset_cu4_power_product.pop('dx')\n",
    "\n",
    "# print(\"shape of training dataset: \", train_dataset_cu4_power_drag.shape)\n",
    "# print(\"shape of testing dataset: \", test_dataset_cu4_power_drag.shape)\n",
    "# print(\"training dataset: \", train_dataset_cu4_power)\n",
    "\n",
    "train_features_cu4_power_product = train_dataset_cu4_power_product.copy()\n",
    "test_features_cu4_power_product = test_dataset_cu4_power_product.copy()\n",
    "\n",
    "train_labels_cu4_power_product = train_features_cu4_power_product['product']\n",
    "test_labels_cu4_power_product = test_features_cu4_power_product['product']\n",
    "# print(\"train labels: \", train_labels_cu4_power_product)\n",
    "\n",
    "train_features_cu4_power_product.pop('drag_force')\n",
    "test_features_cu4_power_product.pop('drag_force')\n",
    "\n",
    "train_features_cu4_power_product.pop('product')\n",
    "test_features_cu4_power_product.pop('product')\n",
    "\n",
    "# print(\"train features: \", train_features_cu4_power_product)\n",
    "normalizer_cu4_power_product = tf.keras.layers.Normalization(axis=-1)\n",
    "normalizer_cu4_power_product.adapt(np.array(train_features_cu4_power_product))\n",
    "\n",
    "# train_labels_cu4_power"
   ]
  },
  {
   "cell_type": "code",
   "execution_count": 819,
   "id": "eba5f291",
   "metadata": {
    "scrolled": true
   },
   "outputs": [
    {
     "name": "stdout",
     "output_type": "stream",
     "text": [
      "Model: \"sequential_69\"\n",
      "_________________________________________________________________\n",
      " Layer (type)                Output Shape              Param #   \n",
      "=================================================================\n",
      " normalization_48 (Normaliza  (None, 4)                9         \n",
      " tion)                                                           \n",
      "                                                                 \n",
      " dense_207 (Dense)           (None, 64)                320       \n",
      "                                                                 \n",
      " dense_208 (Dense)           (None, 64)                4160      \n",
      "                                                                 \n",
      " dense_209 (Dense)           (None, 1)                 65        \n",
      "                                                                 \n",
      "=================================================================\n",
      "Total params: 4,554\n",
      "Trainable params: 4,545\n",
      "Non-trainable params: 9\n",
      "_________________________________________________________________\n"
     ]
    }
   ],
   "source": [
    "# input is tensors\n",
    "def calculate_power_product(product):\n",
    "    prod = tf.math.scalar_mul(dx, product)\n",
    "    my_sum = tf.math.reduce_sum(prod)\n",
    "    return my_sum\n",
    "\n",
    "# inputs are both tensors (keras built on top of tensorflow)\n",
    "def my_loss_fn(y_true, y_pred):\n",
    "    # drag_force is at index 0, u is at index 1\n",
    "#     drag_force_true = tf.gather(y_true, [0], axis=1)\n",
    "#     u_true = tf.gather(y_true, [1], axis=1)\n",
    "#     tf.print(\"size of y_true: \", tf.shape(y_true))\n",
    "#     tf.print(\"y_true shape: \", tf.shape(y_true))\n",
    "#     tf.print(\"y_pred shape: \", tf.shape(y_pred))\n",
    "    \n",
    "#     drag_force_pred = tf.gather(y_pred, [0], axis=1)\n",
    "#     u_pred = tf.gather(y_pred, [1], axis=1)\n",
    "    \n",
    "#     power_true = calculate_power_product(y_true)\n",
    "#     power_pred = calculate_power_product(y_pred)\n",
    "    \n",
    "    # Note that we are sometimes using mean absolute error as opposed to square error. Important to specify for your paper! (tf.abs instead of tf.math.square)\n",
    "    loss = tf.math.scalar_mul(1 / tf.size(y_true), tf.cast(tf.math.square(y_true - y_pred), tf.float64))\n",
    "\n",
    "#     tf.print(\"my loss: \", tf.reduce_mean(squared_difference, axis=-1))\n",
    "    return loss\n",
    "\n",
    "def build_and_compile_model_product(norm):\n",
    "  model = keras.Sequential([\n",
    "      norm,\n",
    "      layers.Dense(64, activation='relu'),\n",
    "      layers.Dense(64, activation='relu'),\n",
    "      layers.Dense(1)\n",
    "  ])\n",
    "\n",
    "  model.compile(loss=my_loss_fn,\n",
    "                optimizer=tf.keras.optimizers.Adam(0.001))\n",
    "  return model\n",
    "\n",
    "# Build the model\n",
    "dnn_model_cu4_power_product = build_and_compile_model_product(normalizer_cu4_power_product)\n",
    "dnn_model_cu4_power_product.summary()"
   ]
  },
  {
   "cell_type": "code",
   "execution_count": 820,
   "id": "be89efb6",
   "metadata": {},
   "outputs": [
    {
     "name": "stdout",
     "output_type": "stream",
     "text": [
      "CPU times: user 36.5 s, sys: 6.8 s, total: 43.3 s\n",
      "Wall time: 27.6 s\n"
     ]
    }
   ],
   "source": [
    "%%time\n",
    "history_cu4_power_product = dnn_model_cu4_power_product.fit(\n",
    "    train_features_cu4_power_product,\n",
    "    train_labels_cu4_power_product,\n",
    "    validation_split=0.2,\n",
    "    verbose=0, epochs=100)"
   ]
  },
  {
   "cell_type": "code",
   "execution_count": 821,
   "id": "28aae01b",
   "metadata": {},
   "outputs": [],
   "source": [
    "def plot_loss_power(history):\n",
    "  plt.plot(history.history['loss'], label='loss')\n",
    "  plt.plot(history.history['val_loss'], label='val_loss')\n",
    "  plt.ylim([0, 0.2])\n",
    "  plt.xlabel('Epoch')\n",
    "  plt.ylabel('Loss')\n",
    "  plt.legend()\n",
    "  plt.grid(True)"
   ]
  },
  {
   "cell_type": "code",
   "execution_count": 822,
   "id": "6bdbba62",
   "metadata": {},
   "outputs": [
    {
     "data": {
      "image/png": "[encoded data removed]",
      "text/plain": [
       "<Figure size 432x288 with 1 Axes>"
      ]
     },
     "metadata": {
      "needs_background": "light"
     },
     "output_type": "display_data"
    }
   ],
   "source": [
    "plot_loss_power(history_cu4_power_drag)"
   ]
  },
  {
   "cell_type": "markdown",
   "id": "85b6daed",
   "metadata": {},
   "source": [
    "### How well did it work? Part three..."
   ]
  },
  {
   "cell_type": "code",
   "execution_count": 823,
   "id": "8e49ab52",
   "metadata": {},
   "outputs": [
    {
     "data": {
      "text/html": [
       "<div>\n",
       "<style scoped>\n",
       "    .dataframe tbody tr th:only-of-type {\n",
       "        vertical-align: middle;\n",
       "    }\n",
       "\n",
       "    .dataframe tbody tr th {\n",
       "        vertical-align: top;\n",
       "    }\n",
       "\n",
       "    .dataframe thead th {\n",
       "        text-align: right;\n",
       "    }\n",
       "</style>\n",
       "<table border=\"1\" class=\"dataframe\">\n",
       "  <thead>\n",
       "    <tr style=\"text-align: right;\">\n",
       "      <th></th>\n",
       "      <th>drag_force</th>\n",
       "      <th>u</th>\n",
       "      <th>product</th>\n",
       "    </tr>\n",
       "  </thead>\n",
       "  <tbody>\n",
       "    <tr>\n",
       "      <th>4</th>\n",
       "      <td>0.000000</td>\n",
       "      <td>0.000000</td>\n",
       "      <td>0.000000</td>\n",
       "    </tr>\n",
       "    <tr>\n",
       "      <th>17</th>\n",
       "      <td>0.000000</td>\n",
       "      <td>0.000000</td>\n",
       "      <td>0.000000</td>\n",
       "    </tr>\n",
       "    <tr>\n",
       "      <th>25</th>\n",
       "      <td>0.000000</td>\n",
       "      <td>0.000000</td>\n",
       "      <td>0.000000</td>\n",
       "    </tr>\n",
       "    <tr>\n",
       "      <th>29</th>\n",
       "      <td>0.000000</td>\n",
       "      <td>0.000000</td>\n",
       "      <td>0.000000</td>\n",
       "    </tr>\n",
       "    <tr>\n",
       "      <th>30</th>\n",
       "      <td>0.000000</td>\n",
       "      <td>0.000000</td>\n",
       "      <td>0.000000</td>\n",
       "    </tr>\n",
       "    <tr>\n",
       "      <th>...</th>\n",
       "      <td>...</td>\n",
       "      <td>...</td>\n",
       "      <td>...</td>\n",
       "    </tr>\n",
       "    <tr>\n",
       "      <th>10204</th>\n",
       "      <td>12.206702</td>\n",
       "      <td>-1.199148</td>\n",
       "      <td>-14.637638</td>\n",
       "    </tr>\n",
       "    <tr>\n",
       "      <th>10208</th>\n",
       "      <td>7.784577</td>\n",
       "      <td>-1.022913</td>\n",
       "      <td>-7.962946</td>\n",
       "    </tr>\n",
       "    <tr>\n",
       "      <th>10211</th>\n",
       "      <td>14.954201</td>\n",
       "      <td>-1.042609</td>\n",
       "      <td>-15.591379</td>\n",
       "    </tr>\n",
       "    <tr>\n",
       "      <th>10212</th>\n",
       "      <td>16.422499</td>\n",
       "      <td>-0.976752</td>\n",
       "      <td>-16.040700</td>\n",
       "    </tr>\n",
       "    <tr>\n",
       "      <th>10222</th>\n",
       "      <td>7.530309</td>\n",
       "      <td>-0.922794</td>\n",
       "      <td>-6.948922</td>\n",
       "    </tr>\n",
       "  </tbody>\n",
       "</table>\n",
       "<p>2047 rows × 3 columns</p>\n",
       "</div>"
      ],
      "text/plain": [
       "       drag_force         u    product\n",
       "4        0.000000  0.000000   0.000000\n",
       "17       0.000000  0.000000   0.000000\n",
       "25       0.000000  0.000000   0.000000\n",
       "29       0.000000  0.000000   0.000000\n",
       "30       0.000000  0.000000   0.000000\n",
       "...           ...       ...        ...\n",
       "10204   12.206702 -1.199148 -14.637638\n",
       "10208    7.784577 -1.022913  -7.962946\n",
       "10211   14.954201 -1.042609 -15.591379\n",
       "10212   16.422499 -0.976752 -16.040700\n",
       "10222    7.530309 -0.922794  -6.948922\n",
       "\n",
       "[2047 rows x 3 columns]"
      ]
     },
     "execution_count": 823,
     "metadata": {},
     "output_type": "execute_result"
    }
   ],
   "source": [
    "true_power = cu4_power[cu4_power.index.isin(test_features_cu4_power_drag.index)][['drag_force', 'u']]\n",
    "true_power['product'] = true_power['drag_force'] * true_power['u']\n",
    "true_power"
   ]
  },
  {
   "cell_type": "code",
   "execution_count": 824,
   "id": "cd09ea9e",
   "metadata": {},
   "outputs": [],
   "source": [
    "test_features_cu4_power_product = test_features_cu4_power_product[['x','eta','u','v']]"
   ]
  },
  {
   "cell_type": "code",
   "execution_count": 825,
   "id": "e759231a",
   "metadata": {},
   "outputs": [
    {
     "name": "stdout",
     "output_type": "stream",
     "text": [
      "64/64 [==============================] - 0s 1ms/step\n"
     ]
    }
   ],
   "source": [
    "predicted_power_product = dnn_model_cu4_power_product.predict(test_features_cu4_power_product)"
   ]
  },
  {
   "cell_type": "markdown",
   "id": "5f4dfea7",
   "metadata": {},
   "source": [
    "Now, we will compare real power against predicted power. It makes sense that the power is negative since the waves are exerting negative force on the overhead wind."
   ]
  },
  {
   "cell_type": "code",
   "execution_count": 826,
   "id": "c6f4d4a0",
   "metadata": {},
   "outputs": [
    {
     "data": {
      "text/plain": [
       "-28.33418935082215"
      ]
     },
     "execution_count": 826,
     "metadata": {},
     "output_type": "execute_result"
    }
   ],
   "source": [
    "products = dx * np.squeeze(true_power)['drag_force'] * np.squeeze(true_power)['u']\n",
    "products\n",
    "real_power = np.sum(products)\n",
    "real_power"
   ]
  },
  {
   "cell_type": "code",
   "execution_count": 827,
   "id": "c99f2e8c",
   "metadata": {},
   "outputs": [
    {
     "data": {
      "text/plain": [
       "-23.712568"
      ]
     },
     "execution_count": 827,
     "metadata": {},
     "output_type": "execute_result"
    }
   ],
   "source": [
    "products2 = tf.math.scalar_mul(dx, predicted_power_product)\n",
    "pred_power = np.sum(products2)\n",
    "pred_power"
   ]
  },
  {
   "cell_type": "markdown",
   "id": "7fa9fbb5",
   "metadata": {},
   "source": [
    "The model does a bit worse at predicting power now. Percent error is 16.3%."
   ]
  },
  {
   "cell_type": "code",
   "execution_count": 828,
   "id": "c984af15",
   "metadata": {},
   "outputs": [
    {
     "data": {
      "text/plain": [
       "16.311110970983165"
      ]
     },
     "execution_count": 828,
     "metadata": {},
     "output_type": "execute_result"
    }
   ],
   "source": [
    "np.abs((pred_power - real_power) / real_power) * 100"
   ]
  }
 ],
 "metadata": {
  "kernelspec": {
   "display_name": "Python 3 (ipykernel)",
   "language": "python",
   "name": "python3"
  },
  "language_info": {
   "codemirror_mode": {
    "name": "ipython",
    "version": 3
   },
   "file_extension": ".py",
   "mimetype": "text/x-python",
   "name": "python",
   "nbconvert_exporter": "python",
   "pygments_lexer": "ipython3",
   "version": "3.8.5"
  }
 },
 "nbformat": 4,
 "nbformat_minor": 5
}
