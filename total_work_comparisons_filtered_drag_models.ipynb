{
 "cells": [
  {
   "cell_type": "markdown",
   "id": "90fdcb6a",
   "metadata": {},
   "source": [
    "# Can the filtered drag models capture the notion of total work?"
   ]
  },
  {
   "cell_type": "markdown",
   "id": "453942cd",
   "metadata": {},
   "source": [
    "Now, we want to start comparing our models against a physical truth. We still want to predict drag force from our input features, but now we want to check that our model is also capturing the notion of total work, which is the integral of drag force over x."
   ]
  },
  {
   "cell_type": "markdown",
   "id": "6daf2b2c",
   "metadata": {},
   "source": [
    "### Import and prepare data"
   ]
  },
  {
   "cell_type": "code",
   "execution_count": 3,
   "id": "3c351a58",
   "metadata": {},
   "outputs": [],
   "source": [
    "import OpenMORe.OpenMORe.model_order_reduction as model_order_reduction\n",
    "from OpenMORe.OpenMORe.utilities import *\n",
    "import pandas as pd\n",
    "from numpy import genfromtxt\n",
    "import tensorflow as tf\n",
    "from tensorflow import keras\n",
    "from tensorflow.keras import layers\n",
    "import matplotlib.pyplot as plt\n",
    "from tensorflow.keras import regularizers\n",
    "import numpy as np\n",
    "from scipy.stats import pearsonr\n",
    "from sklearn.preprocessing import StandardScaler"
   ]
  },
  {
   "cell_type": "code",
   "execution_count": 4,
   "id": "cbfc244b",
   "metadata": {},
   "outputs": [],
   "source": [
    "cu4_drag_force = genfromtxt('cu4_drag_force.csv', delimiter=',')"
   ]
  },
  {
   "cell_type": "code",
   "execution_count": 5,
   "id": "8aadc86e",
   "metadata": {},
   "outputs": [
    {
     "data": {
      "text/html": [
       "<div>\n",
       "<style scoped>\n",
       "    .dataframe tbody tr th:only-of-type {\n",
       "        vertical-align: middle;\n",
       "    }\n",
       "\n",
       "    .dataframe tbody tr th {\n",
       "        vertical-align: top;\n",
       "    }\n",
       "\n",
       "    .dataframe thead th {\n",
       "        text-align: right;\n",
       "    }\n",
       "</style>\n",
       "<table border=\"1\" class=\"dataframe\">\n",
       "  <thead>\n",
       "    <tr style=\"text-align: right;\">\n",
       "      <th></th>\n",
       "      <th>x</th>\n",
       "      <th>eta</th>\n",
       "      <th>u</th>\n",
       "      <th>v</th>\n",
       "      <th>pressure</th>\n",
       "      <th>deta_dx</th>\n",
       "      <th>drag_force</th>\n",
       "    </tr>\n",
       "  </thead>\n",
       "  <tbody>\n",
       "    <tr>\n",
       "      <th>0</th>\n",
       "      <td>-1.728670</td>\n",
       "      <td>1.594456</td>\n",
       "      <td>0.183840</td>\n",
       "      <td>0.726587</td>\n",
       "      <td>0.725233</td>\n",
       "      <td>NaN</td>\n",
       "      <td>NaN</td>\n",
       "    </tr>\n",
       "    <tr>\n",
       "      <th>1</th>\n",
       "      <td>-1.721907</td>\n",
       "      <td>1.592266</td>\n",
       "      <td>0.258540</td>\n",
       "      <td>0.806480</td>\n",
       "      <td>0.648305</td>\n",
       "      <td>-0.323798</td>\n",
       "      <td>-0.209920</td>\n",
       "    </tr>\n",
       "    <tr>\n",
       "      <th>2</th>\n",
       "      <td>-1.715139</td>\n",
       "      <td>1.582960</td>\n",
       "      <td>0.269511</td>\n",
       "      <td>0.808270</td>\n",
       "      <td>0.614005</td>\n",
       "      <td>-1.375024</td>\n",
       "      <td>-0.844272</td>\n",
       "    </tr>\n",
       "    <tr>\n",
       "      <th>3</th>\n",
       "      <td>-1.708376</td>\n",
       "      <td>1.568179</td>\n",
       "      <td>0.290845</td>\n",
       "      <td>0.924656</td>\n",
       "      <td>0.542222</td>\n",
       "      <td>-2.185638</td>\n",
       "      <td>-1.185102</td>\n",
       "    </tr>\n",
       "    <tr>\n",
       "      <th>4</th>\n",
       "      <td>-1.701608</td>\n",
       "      <td>1.536428</td>\n",
       "      <td>0.301410</td>\n",
       "      <td>0.924826</td>\n",
       "      <td>0.508903</td>\n",
       "      <td>-4.691257</td>\n",
       "      <td>-2.387395</td>\n",
       "    </tr>\n",
       "    <tr>\n",
       "      <th>...</th>\n",
       "      <td>...</td>\n",
       "      <td>...</td>\n",
       "      <td>...</td>\n",
       "      <td>...</td>\n",
       "      <td>...</td>\n",
       "      <td>...</td>\n",
       "      <td>...</td>\n",
       "    </tr>\n",
       "    <tr>\n",
       "      <th>10235</th>\n",
       "      <td>1.701608</td>\n",
       "      <td>1.513993</td>\n",
       "      <td>-1.130897</td>\n",
       "      <td>0.205433</td>\n",
       "      <td>1.193493</td>\n",
       "      <td>2.886742</td>\n",
       "      <td>3.445307</td>\n",
       "    </tr>\n",
       "    <tr>\n",
       "      <th>10236</th>\n",
       "      <td>1.708376</td>\n",
       "      <td>1.543437</td>\n",
       "      <td>-1.123716</td>\n",
       "      <td>0.359496</td>\n",
       "      <td>1.148804</td>\n",
       "      <td>4.350442</td>\n",
       "      <td>4.997804</td>\n",
       "    </tr>\n",
       "    <tr>\n",
       "      <th>10237</th>\n",
       "      <td>1.715139</td>\n",
       "      <td>1.580311</td>\n",
       "      <td>-1.125836</td>\n",
       "      <td>0.372134</td>\n",
       "      <td>1.124256</td>\n",
       "      <td>5.452650</td>\n",
       "      <td>6.130174</td>\n",
       "    </tr>\n",
       "    <tr>\n",
       "      <th>10238</th>\n",
       "      <td>1.721907</td>\n",
       "      <td>1.589667</td>\n",
       "      <td>-1.117356</td>\n",
       "      <td>0.447627</td>\n",
       "      <td>1.075160</td>\n",
       "      <td>1.382383</td>\n",
       "      <td>1.486284</td>\n",
       "    </tr>\n",
       "    <tr>\n",
       "      <th>10239</th>\n",
       "      <td>1.728670</td>\n",
       "      <td>1.608379</td>\n",
       "      <td>-1.107235</td>\n",
       "      <td>0.460704</td>\n",
       "      <td>1.040856</td>\n",
       "      <td>2.767016</td>\n",
       "      <td>2.880067</td>\n",
       "    </tr>\n",
       "  </tbody>\n",
       "</table>\n",
       "<p>10240 rows × 7 columns</p>\n",
       "</div>"
      ],
      "text/plain": [
       "              x       eta         u         v  pressure   deta_dx  drag_force\n",
       "0     -1.728670  1.594456  0.183840  0.726587  0.725233       NaN         NaN\n",
       "1     -1.721907  1.592266  0.258540  0.806480  0.648305 -0.323798   -0.209920\n",
       "2     -1.715139  1.582960  0.269511  0.808270  0.614005 -1.375024   -0.844272\n",
       "3     -1.708376  1.568179  0.290845  0.924656  0.542222 -2.185638   -1.185102\n",
       "4     -1.701608  1.536428  0.301410  0.924826  0.508903 -4.691257   -2.387395\n",
       "...         ...       ...       ...       ...       ...       ...         ...\n",
       "10235  1.701608  1.513993 -1.130897  0.205433  1.193493  2.886742    3.445307\n",
       "10236  1.708376  1.543437 -1.123716  0.359496  1.148804  4.350442    4.997804\n",
       "10237  1.715139  1.580311 -1.125836  0.372134  1.124256  5.452650    6.130174\n",
       "10238  1.721907  1.589667 -1.117356  0.447627  1.075160  1.382383    1.486284\n",
       "10239  1.728670  1.608379 -1.107235  0.460704  1.040856  2.767016    2.880067\n",
       "\n",
       "[10240 rows x 7 columns]"
      ]
     },
     "execution_count": 5,
     "metadata": {},
     "output_type": "execute_result"
    }
   ],
   "source": [
    "cu4_drag_force = pd.DataFrame(cu4_drag_force, columns=[\"x\",\"eta\",\"u\",\"v\",\"pressure\",\"deta_dx\",\"drag_force\"])\n",
    "cu4_drag_force"
   ]
  },
  {
   "cell_type": "code",
   "execution_count": 6,
   "id": "7700bc82",
   "metadata": {},
   "outputs": [],
   "source": [
    "cu4_pos_drag = cu4_drag_force.copy()\n",
    "cu4_neg_drag = cu4_drag_force.copy()\n",
    "\n",
    "# apply filters for drag force\n",
    "cu4_pos_drag[cu4_pos_drag['deta_dx'] < 0] = 0\n",
    "cu4_neg_drag[cu4_neg_drag['deta_dx'] > 0] = 0"
   ]
  },
  {
   "cell_type": "markdown",
   "id": "025583f9",
   "metadata": {},
   "source": [
    "### Calculation of real work"
   ]
  },
  {
   "cell_type": "markdown",
   "id": "ead34e56",
   "metadata": {},
   "source": [
    "The integral of drag force over x is W (work). We can estimate this integral ourselves using the real data.\n",
    "\n",
    "$W = \\int F_{D}dx \\approx \\sum F_{d}(x_{i})\\Delta x$"
   ]
  },
  {
   "cell_type": "code",
   "execution_count": 7,
   "id": "2f55562e",
   "metadata": {},
   "outputs": [
    {
     "data": {
      "text/plain": [
       "355.83458649274985"
      ]
     },
     "execution_count": 7,
     "metadata": {},
     "output_type": "execute_result"
    }
   ],
   "source": [
    "cu4_drag_force['dx'] = cu4_drag_force['x'].diff()\n",
    "\n",
    "products = cu4_drag_force['dx'] * cu4_drag_force['drag_force']\n",
    "real_work = np.sum(products)\n",
    "real_work"
   ]
  },
  {
   "cell_type": "markdown",
   "id": "35c9c35f",
   "metadata": {},
   "source": [
    "### Research questions"
   ]
  },
  {
   "cell_type": "markdown",
   "id": "c5bd64e0",
   "metadata": {},
   "source": [
    "- How well do the two models currently predict real work? (this notebook)\n",
    "- If you add real work error terms in the loss function, do they predict it better? (next notebook: positive_drag_force_with_total_work_constraint)"
   ]
  },
  {
   "cell_type": "markdown",
   "id": "596c32ea",
   "metadata": {},
   "source": [
    "### Run the models again to have them saved in this notebook"
   ]
  },
  {
   "cell_type": "markdown",
   "id": "9c02fbce",
   "metadata": {},
   "source": [
    "Helper functions."
   ]
  },
  {
   "cell_type": "code",
   "execution_count": 8,
   "id": "14c8b179",
   "metadata": {},
   "outputs": [],
   "source": [
    "def build_and_compile_model(norm):\n",
    "  model = keras.Sequential([\n",
    "      norm,\n",
    "      layers.Dense(64, activation='relu'),\n",
    "      layers.Dense(64, activation='relu'),\n",
    "      layers.Dense(1)\n",
    "  ])\n",
    "\n",
    "  model.compile(loss='mean_absolute_error',\n",
    "                optimizer=tf.keras.optimizers.Adam(0.001))\n",
    "  return model"
   ]
  },
  {
   "cell_type": "code",
   "execution_count": 9,
   "id": "6626b9f5",
   "metadata": {},
   "outputs": [],
   "source": [
    "def plot_loss(history):\n",
    "  plt.plot(history.history['loss'], label='loss')\n",
    "  plt.plot(history.history['val_loss'], label='val_loss')\n",
    "  plt.ylim([0, 3])\n",
    "  plt.xlabel('Epoch')\n",
    "  plt.ylabel('Loss')\n",
    "  plt.legend()\n",
    "  plt.grid(True)"
   ]
  },
  {
   "cell_type": "markdown",
   "id": "ce7a7021",
   "metadata": {},
   "source": [
    "Negative drag model."
   ]
  },
  {
   "cell_type": "code",
   "execution_count": 10,
   "id": "9c918a76",
   "metadata": {},
   "outputs": [
    {
     "name": "stdout",
     "output_type": "stream",
     "text": [
      "shape of training dataset:  (8191, 5)\n",
      "shape of testing dataset:  (2048, 5)\n"
     ]
    },
    {
     "name": "stderr",
     "output_type": "stream",
     "text": [
      "2022-12-07 15:05:52.772463: I tensorflow/core/platform/cpu_feature_guard.cc:193] This TensorFlow binary is optimized with oneAPI Deep Neural Network Library (oneDNN) to use the following CPU instructions in performance-critical operations:  AVX2 FMA\n",
      "To enable them in other operations, rebuild TensorFlow with the appropriate compiler flags.\n"
     ]
    },
    {
     "name": "stdout",
     "output_type": "stream",
     "text": [
      "First example: [[0.9  1.54 1.13 1.02]]\n",
      "\n",
      "Normalized: [[1.43 2.19 1.32 1.13]]\n",
      "Model: \"sequential\"\n",
      "_________________________________________________________________\n",
      " Layer (type)                Output Shape              Param #   \n",
      "=================================================================\n",
      " normalization (Normalizatio  (None, 4)                9         \n",
      " n)                                                              \n",
      "                                                                 \n",
      " dense (Dense)               (None, 64)                320       \n",
      "                                                                 \n",
      " dense_1 (Dense)             (None, 64)                4160      \n",
      "                                                                 \n",
      " dense_2 (Dense)             (None, 1)                 65        \n",
      "                                                                 \n",
      "=================================================================\n",
      "Total params: 4,554\n",
      "Trainable params: 4,545\n",
      "Non-trainable params: 9\n",
      "_________________________________________________________________\n"
     ]
    }
   ],
   "source": [
    "# Prepare the data\n",
    "cu4_neg_drag = cu4_neg_drag.copy()[1:]\n",
    "\n",
    "# Split the data into train and test\n",
    "train_dataset_cu4_neg_drag = cu4_neg_drag.sample(frac=0.8, random_state=0)\n",
    "test_dataset_cu4_neg_drag = cu4_neg_drag.drop(train_dataset_cu4_neg_drag.index)\n",
    "\n",
    "train_dataset_cu4_neg_drag.pop('pressure')\n",
    "test_dataset_cu4_neg_drag.pop('pressure')\n",
    "\n",
    "train_dataset_cu4_neg_drag.pop('deta_dx')\n",
    "test_dataset_cu4_neg_drag.pop('deta_dx')\n",
    "\n",
    "print(\"shape of training dataset: \", train_dataset_cu4_neg_drag.shape)\n",
    "print(\"shape of testing dataset: \", test_dataset_cu4_neg_drag.shape)\n",
    "\n",
    "train_features_cu4_neg_drag = train_dataset_cu4_neg_drag.copy()\n",
    "test_features_cu4_neg_drag = test_dataset_cu4_neg_drag.copy()\n",
    "\n",
    "train_labels_cu4_neg_drag = train_features_cu4_neg_drag.pop('drag_force')\n",
    "test_labels_cu4_neg_drag = test_features_cu4_neg_drag.pop('drag_force')\n",
    "\n",
    "# Normalize the data\n",
    "normalizer_cu4_neg_drag = tf.keras.layers.Normalization(axis=-1)\n",
    "normalizer_cu4_neg_drag.adapt(np.array(train_features_cu4_neg_drag))\n",
    "\n",
    "first = np.array(train_features_cu4_neg_drag[:1])\n",
    "\n",
    "with np.printoptions(precision=2, suppress=True):\n",
    "  print('First example:', first)\n",
    "  print()\n",
    "  print('Normalized:', normalizer_cu4_neg_drag(first).numpy())\n",
    "\n",
    "# Build the model\n",
    "dnn_model_cu4_neg_drag = build_and_compile_model(normalizer_cu4_neg_drag)\n",
    "dnn_model_cu4_neg_drag.summary()"
   ]
  },
  {
   "cell_type": "code",
   "execution_count": 11,
   "id": "6e50d65d",
   "metadata": {},
   "outputs": [
    {
     "name": "stdout",
     "output_type": "stream",
     "text": [
      "CPU times: user 38.4 s, sys: 6.8 s, total: 45.2 s\n",
      "Wall time: 29.7 s\n"
     ]
    }
   ],
   "source": [
    "%%time\n",
    "history_cu4_neg_drag = dnn_model_cu4_neg_drag.fit(\n",
    "    train_features_cu4_neg_drag,\n",
    "    train_labels_cu4_neg_drag,\n",
    "    validation_split=0.2,\n",
    "    verbose=0, epochs=100)"
   ]
  },
  {
   "cell_type": "code",
   "execution_count": 12,
   "id": "ed7a0829",
   "metadata": {},
   "outputs": [
    {
     "data": {
      "image/png": "[encoded data removed]",
      "text/plain": [
       "<Figure size 432x288 with 1 Axes>"
      ]
     },
     "metadata": {
      "needs_background": "light"
     },
     "output_type": "display_data"
    }
   ],
   "source": [
    "plot_loss(history_cu4_neg_drag)"
   ]
  },
  {
   "cell_type": "markdown",
   "id": "d95cf001",
   "metadata": {},
   "source": [
    "Set epochs=1000 and you get an example of overfitting! Might be nice to include in your paper to say that you kept an eye out for this one. Regularly set epochs=100. Honestly, there seems to be a bit of overfitting here, but we will ignore that for now."
   ]
  },
  {
   "cell_type": "markdown",
   "id": "79211786",
   "metadata": {},
   "source": [
    "Positive drag model."
   ]
  },
  {
   "cell_type": "code",
   "execution_count": 13,
   "id": "60b4632e",
   "metadata": {},
   "outputs": [
    {
     "name": "stdout",
     "output_type": "stream",
     "text": [
      "shape of training dataset:  (8191, 5)\n",
      "shape of testing dataset:  (2048, 5)\n",
      "First example: [[0. 0. 0. 0.]]\n",
      "\n",
      "Normalized: [[-0.16 -0.01  0.46  0.41]]\n",
      "Model: \"sequential_1\"\n",
      "_________________________________________________________________\n",
      " Layer (type)                Output Shape              Param #   \n",
      "=================================================================\n",
      " normalization_1 (Normalizat  (None, 4)                9         \n",
      " ion)                                                            \n",
      "                                                                 \n",
      " dense_3 (Dense)             (None, 64)                320       \n",
      "                                                                 \n",
      " dense_4 (Dense)             (None, 64)                4160      \n",
      "                                                                 \n",
      " dense_5 (Dense)             (None, 1)                 65        \n",
      "                                                                 \n",
      "=================================================================\n",
      "Total params: 4,554\n",
      "Trainable params: 4,545\n",
      "Non-trainable params: 9\n",
      "_________________________________________________________________\n"
     ]
    }
   ],
   "source": [
    "# Prepare the data\n",
    "cu4_pos_drag = cu4_pos_drag.copy()[1:]\n",
    "\n",
    "# Split the data into train and test\n",
    "train_dataset_cu4_pos_drag = cu4_pos_drag.sample(frac=0.8, random_state=0)\n",
    "test_dataset_cu4_pos_drag = cu4_pos_drag.drop(train_dataset_cu4_pos_drag.index)\n",
    "\n",
    "train_dataset_cu4_pos_drag.pop('pressure')\n",
    "test_dataset_cu4_pos_drag.pop('pressure')\n",
    "\n",
    "train_dataset_cu4_pos_drag.pop('deta_dx')\n",
    "test_dataset_cu4_pos_drag.pop('deta_dx')\n",
    "\n",
    "print(\"shape of training dataset: \", train_dataset_cu4_pos_drag.shape)\n",
    "print(\"shape of testing dataset: \", test_dataset_cu4_pos_drag.shape)\n",
    "\n",
    "train_features_cu4_pos_drag = train_dataset_cu4_pos_drag.copy()\n",
    "test_features_cu4_pos_drag = test_dataset_cu4_pos_drag.copy()\n",
    "\n",
    "train_labels_cu4_pos_drag = train_features_cu4_pos_drag.pop('drag_force')\n",
    "test_labels_cu4_pos_drag = test_features_cu4_pos_drag.pop('drag_force')\n",
    "\n",
    "# Normalize the data\n",
    "normalizer_cu4_pos_drag = tf.keras.layers.Normalization(axis=-1)\n",
    "normalizer_cu4_pos_drag.adapt(np.array(train_features_cu4_pos_drag))\n",
    "\n",
    "first = np.array(train_features_cu4_pos_drag[:1])\n",
    "\n",
    "with np.printoptions(precision=2, suppress=True):\n",
    "  print('First example:', first)\n",
    "  print()\n",
    "  print('Normalized:', normalizer_cu4_pos_drag(first).numpy())\n",
    "\n",
    "# Build the model\n",
    "dnn_model_cu4_pos_drag = build_and_compile_model(normalizer_cu4_pos_drag)\n",
    "dnn_model_cu4_pos_drag.summary()"
   ]
  },
  {
   "cell_type": "code",
   "execution_count": 14,
   "id": "90db213c",
   "metadata": {},
   "outputs": [
    {
     "name": "stdout",
     "output_type": "stream",
     "text": [
      "CPU times: user 37 s, sys: 6.71 s, total: 43.7 s\n",
      "Wall time: 27.9 s\n"
     ]
    }
   ],
   "source": [
    "%%time\n",
    "history_cu4_pos_drag = dnn_model_cu4_pos_drag.fit(\n",
    "    train_features_cu4_pos_drag,\n",
    "    train_labels_cu4_pos_drag,\n",
    "    validation_split=0.2,\n",
    "    verbose=0, epochs=100)"
   ]
  },
  {
   "cell_type": "code",
   "execution_count": 15,
   "id": "c71d50ad",
   "metadata": {},
   "outputs": [
    {
     "data": {
      "image/png": "[encoded data removed]",
      "text/plain": [
       "<Figure size 432x288 with 1 Axes>"
      ]
     },
     "metadata": {
      "needs_background": "light"
     },
     "output_type": "display_data"
    }
   ],
   "source": [
    "plot_loss(history_cu4_pos_drag)"
   ]
  },
  {
   "cell_type": "markdown",
   "id": "e22bb461",
   "metadata": {},
   "source": [
    "### Research question 1: how well do the filtered drag force models predict total work?"
   ]
  },
  {
   "cell_type": "code",
   "execution_count": 16,
   "id": "94ac4fb0",
   "metadata": {},
   "outputs": [],
   "source": [
    "drag_force_input = cu4_drag_force[['x','eta','u','v']][1:] # doesn't use deta_dx"
   ]
  },
  {
   "cell_type": "markdown",
   "id": "9779ccf5",
   "metadata": {},
   "source": [
    "First, we will calculate the work predicted by the positive drag model."
   ]
  },
  {
   "cell_type": "code",
   "execution_count": 17,
   "id": "9405c44f",
   "metadata": {},
   "outputs": [
    {
     "name": "stdout",
     "output_type": "stream",
     "text": [
      "320/320 [==============================] - 0s 1ms/step\n"
     ]
    },
    {
     "data": {
      "text/plain": [
       "(10239, 1)"
      ]
     },
     "execution_count": 17,
     "metadata": {},
     "output_type": "execute_result"
    }
   ],
   "source": [
    "predicted_pos_drag_force = dnn_model_cu4_pos_drag.predict(drag_force_input)\n",
    "predicted_pos_drag_force.shape"
   ]
  },
  {
   "cell_type": "code",
   "execution_count": 18,
   "id": "e4e06f03",
   "metadata": {},
   "outputs": [
    {
     "data": {
      "text/plain": [
       "(10239, 1)"
      ]
     },
     "execution_count": 18,
     "metadata": {},
     "output_type": "execute_result"
    }
   ],
   "source": [
    "predicted_pos_drag_force.shape"
   ]
  },
  {
   "cell_type": "code",
   "execution_count": 19,
   "id": "bc1fa562",
   "metadata": {},
   "outputs": [
    {
     "data": {
      "text/plain": [
       "(10239, 1)"
      ]
     },
     "execution_count": 19,
     "metadata": {},
     "output_type": "execute_result"
    }
   ],
   "source": [
    "true_values = np.expand_dims(np.array(cu4_pos_drag['drag_force']), axis=1)\n",
    "true_values.shape"
   ]
  },
  {
   "cell_type": "code",
   "execution_count": 20,
   "id": "22e809bb",
   "metadata": {},
   "outputs": [
    {
     "data": {
      "text/plain": [
       "3.403273047797759"
      ]
     },
     "execution_count": 20,
     "metadata": {},
     "output_type": "execute_result"
    }
   ],
   "source": [
    "np.sum(np.abs(true_values - predicted_pos_drag_force)) / len(true_values) # mean absolute err for these predictions -> pretty high"
   ]
  },
  {
   "cell_type": "code",
   "execution_count": 21,
   "id": "e7eebd0e",
   "metadata": {},
   "outputs": [
    {
     "data": {
      "text/plain": [
       "232.15029463894427"
      ]
     },
     "execution_count": 21,
     "metadata": {},
     "output_type": "execute_result"
    }
   ],
   "source": [
    "drag_force_input['dx'] = drag_force_input['x'].diff()\n",
    "\n",
    "products = drag_force_input['dx'] * np.squeeze(predicted_pos_drag_force)\n",
    "real_work = np.sum(products)\n",
    "real_work"
   ]
  },
  {
   "cell_type": "markdown",
   "id": "fd972670",
   "metadata": {},
   "source": [
    "The real work value was 355.83458649274985. This value is 346.7291874600445. Therefore, we have a percent error of 2.56%. This is super surprising to me. It's such a small percent error! Actually, if you think about it, I bet **it's because we are making predictions on datapoints that we have already trained for.**"
   ]
  },
  {
   "cell_type": "code",
   "execution_count": 22,
   "id": "8481e1a6",
   "metadata": {},
   "outputs": [
    {
     "data": {
      "text/plain": [
       "2.558885329965212"
      ]
     },
     "execution_count": 22,
     "metadata": {},
     "output_type": "execute_result"
    }
   ],
   "source": [
    "np.abs((346.7291874600445 - 355.83458649274985) / 355.83458649274985) * 100"
   ]
  },
  {
   "cell_type": "markdown",
   "id": "2c717fb2",
   "metadata": {},
   "source": [
    "That was for positive drag force. What about negative drag force?"
   ]
  },
  {
   "cell_type": "code",
   "execution_count": 23,
   "id": "5906cfb5",
   "metadata": {},
   "outputs": [
    {
     "name": "stdout",
     "output_type": "stream",
     "text": [
      "320/320 [==============================] - 0s 1ms/step\n"
     ]
    }
   ],
   "source": [
    "drag_force_input = cu4_drag_force[['x','eta','u','v']][1:] # doesn't use deta_dx\n",
    "\n",
    "predicted_neg_drag_force = dnn_model_cu4_neg_drag.predict(drag_force_input)"
   ]
  },
  {
   "cell_type": "code",
   "execution_count": 24,
   "id": "1ef1129a",
   "metadata": {},
   "outputs": [
    {
     "data": {
      "text/plain": [
       "(10239, 1)"
      ]
     },
     "execution_count": 24,
     "metadata": {},
     "output_type": "execute_result"
    }
   ],
   "source": [
    "predicted_neg_drag_force.shape"
   ]
  },
  {
   "cell_type": "code",
   "execution_count": 25,
   "id": "abd50e1e",
   "metadata": {},
   "outputs": [
    {
     "data": {
      "text/plain": [
       "(10239, 1)"
      ]
     },
     "execution_count": 25,
     "metadata": {},
     "output_type": "execute_result"
    }
   ],
   "source": [
    "true_values = np.expand_dims(np.array(cu4_neg_drag['drag_force']), axis=1)\n",
    "true_values.shape"
   ]
  },
  {
   "cell_type": "code",
   "execution_count": 26,
   "id": "50ccbba4",
   "metadata": {},
   "outputs": [
    {
     "ename": "NameError",
     "evalue": "name 'true' is not defined",
     "output_type": "error",
     "traceback": [
      "\u001b[0;31m---------------------------------------------------------------------------\u001b[0m",
      "\u001b[0;31mNameError\u001b[0m                                 Traceback (most recent call last)",
      "\u001b[0;32m/var/folders/d9/5gccb_yx3td6t3hywwvhbq2h0000gn/T/ipykernel_5284/2436612750.py\u001b[0m in \u001b[0;36m<module>\u001b[0;34m\u001b[0m\n\u001b[0;32m----> 1\u001b[0;31m \u001b[0mnp\u001b[0m\u001b[0;34m.\u001b[0m\u001b[0msum\u001b[0m\u001b[0;34m(\u001b[0m\u001b[0mnp\u001b[0m\u001b[0;34m.\u001b[0m\u001b[0mabs\u001b[0m\u001b[0;34m(\u001b[0m\u001b[0mtrue\u001b[0m \u001b[0;34m-\u001b[0m \u001b[0mpredicted_neg_drag_force\u001b[0m\u001b[0;34m)\u001b[0m\u001b[0;34m)\u001b[0m \u001b[0;34m/\u001b[0m \u001b[0mlen\u001b[0m\u001b[0;34m(\u001b[0m\u001b[0mtrue\u001b[0m\u001b[0;34m)\u001b[0m \u001b[0;31m# mean absolute err for these predictions -> really high\u001b[0m\u001b[0;34m\u001b[0m\u001b[0;34m\u001b[0m\u001b[0m\n\u001b[0m",
      "\u001b[0;31mNameError\u001b[0m: name 'true' is not defined"
     ]
    }
   ],
   "source": [
    "np.sum(np.abs(true - predicted_neg_drag_force)) / len(true) # mean absolute err for these predictions -> really high"
   ]
  },
  {
   "cell_type": "code",
   "execution_count": 27,
   "id": "795d0209",
   "metadata": {},
   "outputs": [
    {
     "data": {
      "text/plain": [
       "260.0388990537924"
      ]
     },
     "execution_count": 27,
     "metadata": {},
     "output_type": "execute_result"
    }
   ],
   "source": [
    "drag_force_input['dx'] = drag_force_input['x'].diff()\n",
    "\n",
    "products = drag_force_input['dx'] * np.squeeze(predicted_neg_drag_force)\n",
    "real_work = np.sum(products)\n",
    "real_work"
   ]
  },
  {
   "cell_type": "markdown",
   "id": "a1904f51",
   "metadata": {},
   "source": [
    "Note that this value doesn't necessarily have to be negative, since some drag_forces are negative and some are positive. Remember that we filtered drag force by deta_dx being positive/negative, not drag_force itself."
   ]
  },
  {
   "cell_type": "markdown",
   "id": "8ca997e6",
   "metadata": {},
   "source": [
    "Okay, now this total work estimate is WAY off. The error is huge: 96.69%! It's weird, because you would have thought that the results would be similar to the positive drag force predictions (very small error), but this is not the case."
   ]
  },
  {
   "cell_type": "code",
   "execution_count": 28,
   "id": "1e900259",
   "metadata": {},
   "outputs": [
    {
     "data": {
      "text/plain": [
       "96.69274997937646"
      ]
     },
     "execution_count": 28,
     "metadata": {},
     "output_type": "execute_result"
    }
   ],
   "source": [
    "np.abs((11.768339435167162 - 355.83458649274985) / 355.83458649274985) * 100"
   ]
  },
  {
   "cell_type": "markdown",
   "id": "88484483",
   "metadata": {},
   "source": [
    "Note: I would have thought that the total work would be way off for both models, though. I would have thought that both are estimating a portion of the overall work, and that you'd have to add the predicted work for both models in order to get the total predicted work across the models, or something like that."
   ]
  },
  {
   "cell_type": "markdown",
   "id": "066cd6cc",
   "metadata": {},
   "source": [
    "Does it make sense to add them? I am not sure it makes complete physical sense. It is not like you are training on only half of the dataset. You've just zeroed out half of the values that you are trying to predict, in both cases. You get a teensy tiny error of 0.75% though, if you add them."
   ]
  },
  {
   "cell_type": "code",
   "execution_count": 29,
   "id": "b99510e6",
   "metadata": {},
   "outputs": [
    {
     "data": {
      "text/plain": [
       "0.7483646906583257"
      ]
     },
     "execution_count": 29,
     "metadata": {},
     "output_type": "execute_result"
    }
   ],
   "source": [
    "np.abs((11.768339435167162 + 346.7291874600445 - 355.83458649274985) / 355.83458649274985) * 100"
   ]
  },
  {
   "cell_type": "markdown",
   "id": "d587948d",
   "metadata": {},
   "source": [
    "This isn't really a great estimate of how good our models are currently at predicting total work, though. (But the code is good, so I'll keep it around, for now). This is because the models have been trained on most of the data that I've been passing in. So I need to redo these steps, but with entirely new data. This can either be data that I acquire, or I can train the models instead on a smaller subset of data and leave a set of datapoints out for testing."
   ]
  },
  {
   "cell_type": "markdown",
   "id": "f45232d3",
   "metadata": {},
   "source": [
    "### Test true total work predictions"
   ]
  },
  {
   "cell_type": "markdown",
   "id": "56362e5e",
   "metadata": {},
   "source": [
    "Before, we tested how well our two drag force models predicted total work. But the issue we saw was that we were using the model to predict outcomes that we had previously trained on, which probably gave us buggy results. For one of the models, we got a super small percent error of around 2.5%, which was not expected at all! We should only do the testing on our test dataset."
   ]
  },
  {
   "cell_type": "code",
   "execution_count": 30,
   "id": "528bf77f",
   "metadata": {},
   "outputs": [],
   "source": [
    "# Uncomment the following to inspect them\n",
    "\n",
    "#test_features_cu4_neg_drag = test_features_cu4_neg_drag[['x','eta','u','v']]\n",
    "#test_dataset_cu4_neg_drag\n",
    "#test_features_cu4_neg_drag\n",
    "#test_labels_cu4_neg_drag"
   ]
  },
  {
   "cell_type": "markdown",
   "id": "01251ff7",
   "metadata": {},
   "source": [
    "Here are our actual results now:"
   ]
  },
  {
   "cell_type": "code",
   "execution_count": 31,
   "id": "be682dbd",
   "metadata": {},
   "outputs": [
    {
     "name": "stdout",
     "output_type": "stream",
     "text": [
      "64/64 [==============================] - 0s 1ms/step\n"
     ]
    }
   ],
   "source": [
    "predicted_neg_drag_force = dnn_model_cu4_neg_drag.predict(test_features_cu4_neg_drag)"
   ]
  },
  {
   "cell_type": "code",
   "execution_count": 32,
   "id": "c840d535",
   "metadata": {},
   "outputs": [
    {
     "data": {
      "text/plain": [
       "(2048, 1)"
      ]
     },
     "execution_count": 32,
     "metadata": {},
     "output_type": "execute_result"
    }
   ],
   "source": [
    "predicted_neg_drag_force.shape"
   ]
  },
  {
   "cell_type": "code",
   "execution_count": 33,
   "id": "073d8faf",
   "metadata": {},
   "outputs": [
    {
     "data": {
      "text/plain": [
       "(2048, 1)"
      ]
     },
     "execution_count": 33,
     "metadata": {},
     "output_type": "execute_result"
    }
   ],
   "source": [
    "true_neg_drag_force = np.expand_dims(test_labels_cu4_neg_drag, axis=1)\n",
    "true_neg_drag_force.shape"
   ]
  },
  {
   "cell_type": "code",
   "execution_count": 34,
   "id": "0f7d812a",
   "metadata": {},
   "outputs": [
    {
     "name": "stdout",
     "output_type": "stream",
     "text": [
      "average drag force:  2.130703474278678\n",
      "standard deviation of drag force:  4.596920434826871\n"
     ]
    }
   ],
   "source": [
    "print(\"average drag force: \", np.average(test_labels_cu4_neg_drag))\n",
    "print(\"standard deviation of drag force: \", np.std(test_labels_cu4_neg_drag))"
   ]
  },
  {
   "cell_type": "code",
   "execution_count": 35,
   "id": "62414664",
   "metadata": {},
   "outputs": [
    {
     "data": {
      "text/plain": [
       "1.16891422362318"
      ]
     },
     "execution_count": 35,
     "metadata": {},
     "output_type": "execute_result"
    }
   ],
   "source": [
    "# mean absolute err for these predictions -> kinda high\n",
    "np.sum(np.abs(true_neg_drag_force - predicted_neg_drag_force)) / len(predicted_neg_drag_force) "
   ]
  },
  {
   "cell_type": "markdown",
   "id": "63619724",
   "metadata": {},
   "source": [
    "The mean absolute error is about 3.12, which is concerning because the average drag force is about 2.13. This means that the model may sometimes be predicting negative drag when it should be positive, and vice versa. And the sign is important here because of the physical implications. But the standard deviation is about 4.6, which makes me feel a bit better about the mean absolute error."
   ]
  },
  {
   "cell_type": "code",
   "execution_count": 36,
   "id": "04fe7c85",
   "metadata": {},
   "outputs": [
    {
     "data": {
      "text/html": [
       "<div>\n",
       "<style scoped>\n",
       "    .dataframe tbody tr th:only-of-type {\n",
       "        vertical-align: middle;\n",
       "    }\n",
       "\n",
       "    .dataframe tbody tr th {\n",
       "        vertical-align: top;\n",
       "    }\n",
       "\n",
       "    .dataframe thead th {\n",
       "        text-align: right;\n",
       "    }\n",
       "</style>\n",
       "<table border=\"1\" class=\"dataframe\">\n",
       "  <thead>\n",
       "    <tr style=\"text-align: right;\">\n",
       "      <th></th>\n",
       "      <th>x</th>\n",
       "      <th>eta</th>\n",
       "      <th>u</th>\n",
       "      <th>v</th>\n",
       "      <th>dx</th>\n",
       "    </tr>\n",
       "  </thead>\n",
       "  <tbody>\n",
       "    <tr>\n",
       "      <th>1</th>\n",
       "      <td>-1.721907</td>\n",
       "      <td>1.592266</td>\n",
       "      <td>0.258540</td>\n",
       "      <td>0.806480</td>\n",
       "      <td>NaN</td>\n",
       "    </tr>\n",
       "    <tr>\n",
       "      <th>14</th>\n",
       "      <td>-1.633949</td>\n",
       "      <td>1.105053</td>\n",
       "      <td>0.588292</td>\n",
       "      <td>1.079666</td>\n",
       "      <td>0.087958</td>\n",
       "    </tr>\n",
       "    <tr>\n",
       "      <th>22</th>\n",
       "      <td>-1.579821</td>\n",
       "      <td>0.517113</td>\n",
       "      <td>0.885603</td>\n",
       "      <td>1.000114</td>\n",
       "      <td>0.054128</td>\n",
       "    </tr>\n",
       "    <tr>\n",
       "      <th>26</th>\n",
       "      <td>-1.552759</td>\n",
       "      <td>0.274601</td>\n",
       "      <td>1.053696</td>\n",
       "      <td>0.935484</td>\n",
       "      <td>0.027061</td>\n",
       "    </tr>\n",
       "    <tr>\n",
       "      <th>27</th>\n",
       "      <td>-1.545991</td>\n",
       "      <td>0.202614</td>\n",
       "      <td>1.132054</td>\n",
       "      <td>0.850646</td>\n",
       "      <td>0.006768</td>\n",
       "    </tr>\n",
       "    <tr>\n",
       "      <th>...</th>\n",
       "      <td>...</td>\n",
       "      <td>...</td>\n",
       "      <td>...</td>\n",
       "      <td>...</td>\n",
       "      <td>...</td>\n",
       "    </tr>\n",
       "    <tr>\n",
       "      <th>10208</th>\n",
       "      <td>0.000000</td>\n",
       "      <td>0.000000</td>\n",
       "      <td>0.000000</td>\n",
       "      <td>0.000000</td>\n",
       "      <td>0.000000</td>\n",
       "    </tr>\n",
       "    <tr>\n",
       "      <th>10212</th>\n",
       "      <td>0.000000</td>\n",
       "      <td>0.000000</td>\n",
       "      <td>0.000000</td>\n",
       "      <td>0.000000</td>\n",
       "      <td>0.000000</td>\n",
       "    </tr>\n",
       "    <tr>\n",
       "      <th>10222</th>\n",
       "      <td>0.000000</td>\n",
       "      <td>0.000000</td>\n",
       "      <td>0.000000</td>\n",
       "      <td>0.000000</td>\n",
       "      <td>0.000000</td>\n",
       "    </tr>\n",
       "    <tr>\n",
       "      <th>10224</th>\n",
       "      <td>0.000000</td>\n",
       "      <td>0.000000</td>\n",
       "      <td>0.000000</td>\n",
       "      <td>0.000000</td>\n",
       "      <td>0.000000</td>\n",
       "    </tr>\n",
       "    <tr>\n",
       "      <th>10238</th>\n",
       "      <td>0.000000</td>\n",
       "      <td>0.000000</td>\n",
       "      <td>0.000000</td>\n",
       "      <td>0.000000</td>\n",
       "      <td>0.000000</td>\n",
       "    </tr>\n",
       "  </tbody>\n",
       "</table>\n",
       "<p>2048 rows × 5 columns</p>\n",
       "</div>"
      ],
      "text/plain": [
       "              x       eta         u         v        dx\n",
       "1     -1.721907  1.592266  0.258540  0.806480       NaN\n",
       "14    -1.633949  1.105053  0.588292  1.079666  0.087958\n",
       "22    -1.579821  0.517113  0.885603  1.000114  0.054128\n",
       "26    -1.552759  0.274601  1.053696  0.935484  0.027061\n",
       "27    -1.545991  0.202614  1.132054  0.850646  0.006768\n",
       "...         ...       ...       ...       ...       ...\n",
       "10208  0.000000  0.000000  0.000000  0.000000  0.000000\n",
       "10212  0.000000  0.000000  0.000000  0.000000  0.000000\n",
       "10222  0.000000  0.000000  0.000000  0.000000  0.000000\n",
       "10224  0.000000  0.000000  0.000000  0.000000  0.000000\n",
       "10238  0.000000  0.000000  0.000000  0.000000  0.000000\n",
       "\n",
       "[2048 rows x 5 columns]"
      ]
     },
     "execution_count": 36,
     "metadata": {},
     "output_type": "execute_result"
    }
   ],
   "source": [
    "test_features_cu4_neg_drag['dx'] = test_features_cu4_neg_drag['x'].diff()\n",
    "test_features_cu4_neg_drag"
   ]
  },
  {
   "cell_type": "code",
   "execution_count": 37,
   "id": "5384b79f",
   "metadata": {},
   "outputs": [
    {
     "data": {
      "text/plain": [
       "177.07711266571613"
      ]
     },
     "execution_count": 37,
     "metadata": {},
     "output_type": "execute_result"
    }
   ],
   "source": [
    "test_features_cu4_neg_drag['dx'] = test_features_cu4_neg_drag['x'].diff()\n",
    "\n",
    "products = test_features_cu4_neg_drag['dx'] * test_labels_cu4_neg_drag\n",
    "products\n",
    "real_work = np.sum(products)\n",
    "real_work"
   ]
  },
  {
   "cell_type": "code",
   "execution_count": 38,
   "id": "9c97b871",
   "metadata": {},
   "outputs": [
    {
     "data": {
      "text/plain": [
       "166.98329149263864"
      ]
     },
     "execution_count": 38,
     "metadata": {},
     "output_type": "execute_result"
    }
   ],
   "source": [
    "products = test_features_cu4_neg_drag['dx'] * np.squeeze(predicted_neg_drag_force)\n",
    "predicted_work = np.sum(products)\n",
    "predicted_work"
   ]
  },
  {
   "cell_type": "markdown",
   "id": "3cf9602c",
   "metadata": {},
   "source": [
    "The total work comparison is almost spot on! And this is only on testing data, which means that the model didn't train on any of this data. It is a bit surprising to me how closely these two values match. The percent error is 1.03%!"
   ]
  },
  {
   "cell_type": "code",
   "execution_count": 40,
   "id": "10708e0d",
   "metadata": {},
   "outputs": [
    {
     "data": {
      "text/plain": [
       "1.0301640810979975"
      ]
     },
     "execution_count": 40,
     "metadata": {},
     "output_type": "execute_result"
    }
   ],
   "source": [
    "np.abs((178.90129747624377 - 177.07711266571613) / 177.07711266571613) * 100"
   ]
  },
  {
   "cell_type": "markdown",
   "id": "c989d09c",
   "metadata": {},
   "source": [
    "Let's see how the same process unfolds for the positive drag force model."
   ]
  },
  {
   "cell_type": "code",
   "execution_count": 41,
   "id": "a57a876a",
   "metadata": {},
   "outputs": [
    {
     "name": "stdout",
     "output_type": "stream",
     "text": [
      "64/64 [==============================] - 0s 1ms/step\n"
     ]
    }
   ],
   "source": [
    "predicted_pos_drag_force = dnn_model_cu4_pos_drag.predict(test_features_cu4_pos_drag)"
   ]
  },
  {
   "cell_type": "code",
   "execution_count": 42,
   "id": "a2aa0484",
   "metadata": {},
   "outputs": [
    {
     "data": {
      "text/plain": [
       "(2048, 1)"
      ]
     },
     "execution_count": 42,
     "metadata": {},
     "output_type": "execute_result"
    }
   ],
   "source": [
    "predicted_pos_drag_force.shape"
   ]
  },
  {
   "cell_type": "code",
   "execution_count": 43,
   "id": "785e0540",
   "metadata": {},
   "outputs": [
    {
     "data": {
      "text/plain": [
       "(2048, 1)"
      ]
     },
     "execution_count": 43,
     "metadata": {},
     "output_type": "execute_result"
    }
   ],
   "source": [
    "true_pos_drag_force = np.expand_dims(test_labels_cu4_pos_drag, axis=1)\n",
    "true_pos_drag_force.shape"
   ]
  },
  {
   "cell_type": "code",
   "execution_count": 44,
   "id": "9b8e2cfe",
   "metadata": {},
   "outputs": [
    {
     "name": "stdout",
     "output_type": "stream",
     "text": [
      "average drag force:  3.0289498011373026\n",
      "standard deviation of drag force:  5.888705980783494\n"
     ]
    }
   ],
   "source": [
    "print(\"average drag force: \", np.average(test_labels_cu4_pos_drag))\n",
    "print(\"standard deviation of drag force: \", np.std(test_labels_cu4_pos_drag))"
   ]
  },
  {
   "cell_type": "code",
   "execution_count": 45,
   "id": "3b334cf2",
   "metadata": {},
   "outputs": [
    {
     "data": {
      "text/plain": [
       "1.4519532277166278"
      ]
     },
     "execution_count": 45,
     "metadata": {},
     "output_type": "execute_result"
    }
   ],
   "source": [
    "# mean absolute err for these predictions -> very small!\n",
    "np.sum(np.abs(true_pos_drag_force - predicted_pos_drag_force)) / len(predicted_pos_drag_force)"
   ]
  },
  {
   "cell_type": "markdown",
   "id": "472f3770",
   "metadata": {},
   "source": [
    "The mean absolute error is about 1.41, which is less concerning than before because the average drag force is about 3.03. This means that the model may sometimes (but not super frequently) be predicting negative drag when it should be positive, and vice versa. And the sign is important here because of the physical implications."
   ]
  },
  {
   "cell_type": "code",
   "execution_count": 46,
   "id": "2ead12af",
   "metadata": {},
   "outputs": [
    {
     "data": {
      "text/plain": [
       "214.3815980222052"
      ]
     },
     "execution_count": 46,
     "metadata": {},
     "output_type": "execute_result"
    }
   ],
   "source": [
    "test_features_cu4_pos_drag['dx'] = test_features_cu4_pos_drag['x'].diff()\n",
    "\n",
    "products = test_features_cu4_pos_drag['dx'] * test_labels_cu4_pos_drag\n",
    "real_work = np.sum(products)\n",
    "real_work"
   ]
  },
  {
   "cell_type": "code",
   "execution_count": 47,
   "id": "bf6b148d",
   "metadata": {},
   "outputs": [
    {
     "data": {
      "text/plain": [
       "211.67199522076766"
      ]
     },
     "execution_count": 47,
     "metadata": {},
     "output_type": "execute_result"
    }
   ],
   "source": [
    "products = test_features_cu4_pos_drag['dx'] * np.squeeze(predicted_pos_drag_force)\n",
    "predicted_work = np.sum(products)\n",
    "predicted_work"
   ]
  },
  {
   "cell_type": "markdown",
   "id": "16250110",
   "metadata": {},
   "source": [
    "The total work comparison is way closer than before (thank God lol). The percent error is about 16.7%. This could definitely be improved, though."
   ]
  },
  {
   "cell_type": "code",
   "execution_count": 48,
   "id": "b3ab4d86",
   "metadata": {
    "scrolled": true
   },
   "outputs": [
    {
     "data": {
      "text/plain": [
       "1.263915758831542"
      ]
     },
     "execution_count": 48,
     "metadata": {},
     "output_type": "execute_result"
    }
   ],
   "source": [
    "np.abs((predicted_work - real_work) / real_work) * 100"
   ]
  },
  {
   "cell_type": "markdown",
   "id": "129c63fe",
   "metadata": {},
   "source": [
    "I wonder why it was easier for the filtered drag force model output's total work to match the real total work for negative drag than for positive drag."
   ]
  },
  {
   "cell_type": "markdown",
   "id": "fc17d0d7",
   "metadata": {},
   "source": [
    "Here is an issue, though: we are doing this as compared to the FILTERED drag forces. Don't we need to compare the output for the real values, instead?"
   ]
  },
  {
   "cell_type": "markdown",
   "id": "d28d7a37",
   "metadata": {},
   "source": [
    "### True total work predictions against unfiltered drag force values"
   ]
  },
  {
   "cell_type": "markdown",
   "id": "f16ce254",
   "metadata": {},
   "source": [
    "Recall that cu4_neg_drag was copied from cu4_drag_force. And the test_features_cu4_neg_drag were sampled from cu4_neg_drag. That means that we can use the indices of the test_features_cu4_neg_drag to map back to the original data (cu4_drag_force). That means that we can get the unfiltered drag force values for all of our testing datapoints!"
   ]
  },
  {
   "cell_type": "code",
   "execution_count": 49,
   "id": "ccff2ec1",
   "metadata": {},
   "outputs": [
    {
     "data": {
      "text/plain": [
       "Int64Index([    1,    14,    22,    26,    27,    28,    29,    36,    42,\n",
       "               44,\n",
       "            ...\n",
       "            10178, 10192, 10196, 10201, 10202, 10208, 10212, 10222, 10224,\n",
       "            10238],\n",
       "           dtype='int64', length=2048)"
      ]
     },
     "execution_count": 49,
     "metadata": {},
     "output_type": "execute_result"
    }
   ],
   "source": [
    "test_features_cu4_neg_drag.index"
   ]
  },
  {
   "cell_type": "code",
   "execution_count": 50,
   "id": "8e49ab52",
   "metadata": {},
   "outputs": [
    {
     "data": {
      "text/plain": [
       "(2048, 1)"
      ]
     },
     "execution_count": 50,
     "metadata": {},
     "output_type": "execute_result"
    }
   ],
   "source": [
    "true_drag_force = cu4_drag_force[cu4_drag_force.index.isin(test_features_cu4_neg_drag.index)]['drag_force']\n",
    "true_drag_force = np.expand_dims(true_drag_force, axis=1)\n",
    "true_drag_force.shape"
   ]
  },
  {
   "cell_type": "code",
   "execution_count": 51,
   "id": "cd09ea9e",
   "metadata": {},
   "outputs": [],
   "source": [
    "# Uncomment the following to inspect them\n",
    "\n",
    "test_features_cu4_neg_drag = test_features_cu4_neg_drag[['x','eta','u','v']]\n",
    "#test_dataset_cu4_neg_drag\n",
    "#test_features_cu4_neg_drag\n",
    "#test_labels_cu4_neg_drag"
   ]
  },
  {
   "cell_type": "code",
   "execution_count": 52,
   "id": "e759231a",
   "metadata": {},
   "outputs": [
    {
     "name": "stdout",
     "output_type": "stream",
     "text": [
      "64/64 [==============================] - 0s 1ms/step\n"
     ]
    }
   ],
   "source": [
    "predicted_neg_drag_force = dnn_model_cu4_neg_drag.predict(test_features_cu4_neg_drag)"
   ]
  },
  {
   "cell_type": "code",
   "execution_count": 53,
   "id": "72368b8f",
   "metadata": {},
   "outputs": [
    {
     "data": {
      "text/plain": [
       "(2048, 1)"
      ]
     },
     "execution_count": 53,
     "metadata": {},
     "output_type": "execute_result"
    }
   ],
   "source": [
    "predicted_neg_drag_force.shape"
   ]
  },
  {
   "cell_type": "code",
   "execution_count": 54,
   "id": "73c6c800",
   "metadata": {},
   "outputs": [
    {
     "name": "stdout",
     "output_type": "stream",
     "text": [
      "average drag force:  2.130703474278678\n",
      "standard deviation of drag force:  4.596920434826871\n"
     ]
    }
   ],
   "source": [
    "print(\"average drag force: \", np.average(test_labels_cu4_neg_drag))\n",
    "print(\"standard deviation of drag force: \", np.std(test_labels_cu4_neg_drag))"
   ]
  },
  {
   "cell_type": "code",
   "execution_count": 55,
   "id": "7fbccc11",
   "metadata": {},
   "outputs": [
    {
     "data": {
      "text/plain": [
       "1.16891422362318"
      ]
     },
     "execution_count": 55,
     "metadata": {},
     "output_type": "execute_result"
    }
   ],
   "source": [
    "# mean absolute err for these predictions -> higher than previous, which is definitely expected\n",
    "np.sum(np.abs(true_neg_drag_force - predicted_neg_drag_force)) / len(predicted_neg_drag_force) "
   ]
  },
  {
   "cell_type": "code",
   "execution_count": 56,
   "id": "4bf4fc10",
   "metadata": {},
   "outputs": [
    {
     "data": {
      "text/plain": [
       "175.82545366605143"
      ]
     },
     "execution_count": 56,
     "metadata": {},
     "output_type": "execute_result"
    }
   ],
   "source": [
    "test_features_cu4_neg_drag['dx'] = test_features_cu4_neg_drag['x'].diff()\n",
    "\n",
    "products = test_features_cu4_neg_drag['dx'] * np.squeeze(true_drag_force)\n",
    "products\n",
    "real_work = np.sum(products)\n",
    "real_work"
   ]
  },
  {
   "cell_type": "code",
   "execution_count": 57,
   "id": "91c6b98d",
   "metadata": {},
   "outputs": [
    {
     "data": {
      "text/plain": [
       "166.98329149263864"
      ]
     },
     "execution_count": 57,
     "metadata": {},
     "output_type": "execute_result"
    }
   ],
   "source": [
    "products = test_features_cu4_neg_drag['dx'] * np.squeeze(predicted_neg_drag_force)\n",
    "predicted_work = np.sum(products)\n",
    "predicted_work"
   ]
  },
  {
   "cell_type": "markdown",
   "id": "8e2eb48f",
   "metadata": {},
   "source": [
    "***NEGATIVE DRAG FORCE MODEL RESULT***. The total work comparison is almost spot on! And this is only on testing data, which means that the model didn't train on any of this data. It is a bit surprising to me how closely these two values match. The percent error is 1.03%!"
   ]
  },
  {
   "cell_type": "code",
   "execution_count": 58,
   "id": "66faf4d1",
   "metadata": {},
   "outputs": [
    {
     "data": {
      "text/plain": [
       "1.0301640810979975"
      ]
     },
     "execution_count": 58,
     "metadata": {},
     "output_type": "execute_result"
    }
   ],
   "source": [
    "np.abs((178.90129747624377 - 177.07711266571613) / 177.07711266571613) * 100"
   ]
  },
  {
   "cell_type": "markdown",
   "id": "677c8025",
   "metadata": {},
   "source": [
    "How does the positive filtered drag model do?"
   ]
  },
  {
   "cell_type": "code",
   "execution_count": 59,
   "id": "8d54ce73",
   "metadata": {},
   "outputs": [
    {
     "data": {
      "text/plain": [
       "Int64Index([    1,    14,    22,    26,    27,    28,    29,    36,    42,\n",
       "               44,\n",
       "            ...\n",
       "            10178, 10192, 10196, 10201, 10202, 10208, 10212, 10222, 10224,\n",
       "            10238],\n",
       "           dtype='int64', length=2048)"
      ]
     },
     "execution_count": 59,
     "metadata": {},
     "output_type": "execute_result"
    }
   ],
   "source": [
    "test_features_cu4_pos_drag.index"
   ]
  },
  {
   "cell_type": "code",
   "execution_count": 60,
   "id": "d166f1df",
   "metadata": {},
   "outputs": [
    {
     "data": {
      "text/plain": [
       "(2048, 1)"
      ]
     },
     "execution_count": 60,
     "metadata": {},
     "output_type": "execute_result"
    }
   ],
   "source": [
    "true_drag_force = cu4_drag_force[cu4_drag_force.index.isin(test_features_cu4_pos_drag.index)]['drag_force']\n",
    "true_drag_force = np.expand_dims(true_drag_force, axis=1)\n",
    "true_drag_force.shape"
   ]
  },
  {
   "cell_type": "code",
   "execution_count": 61,
   "id": "fe26f32d",
   "metadata": {},
   "outputs": [],
   "source": [
    "# Uncomment the following to inspect them\n",
    "\n",
    "test_features_cu4_pos_drag = test_features_cu4_pos_drag[['x','eta','u','v']]\n",
    "#test_dataset_cu4_pos_drag\n",
    "#test_features_cu4_pos_drag\n",
    "#test_labels_cu4_pos_drag"
   ]
  },
  {
   "cell_type": "code",
   "execution_count": 62,
   "id": "a62b38d3",
   "metadata": {},
   "outputs": [
    {
     "name": "stdout",
     "output_type": "stream",
     "text": [
      "64/64 [==============================] - 0s 1ms/step\n"
     ]
    }
   ],
   "source": [
    "predicted_pos_drag_force = dnn_model_cu4_pos_drag.predict(test_features_cu4_pos_drag)"
   ]
  },
  {
   "cell_type": "code",
   "execution_count": 63,
   "id": "73056217",
   "metadata": {},
   "outputs": [
    {
     "data": {
      "text/plain": [
       "(2048, 1)"
      ]
     },
     "execution_count": 63,
     "metadata": {},
     "output_type": "execute_result"
    }
   ],
   "source": [
    "predicted_pos_drag_force.shape"
   ]
  },
  {
   "cell_type": "code",
   "execution_count": 64,
   "id": "cf687ceb",
   "metadata": {},
   "outputs": [
    {
     "name": "stdout",
     "output_type": "stream",
     "text": [
      "average drag force:  3.0289498011373026\n",
      "standard deviation of drag force:  5.888705980783494\n"
     ]
    }
   ],
   "source": [
    "print(\"average drag force: \", np.average(test_labels_cu4_pos_drag))\n",
    "print(\"standard deviation of drag force: \", np.std(test_labels_cu4_pos_drag))"
   ]
  },
  {
   "cell_type": "code",
   "execution_count": 65,
   "id": "0dbeec95",
   "metadata": {},
   "outputs": [
    {
     "data": {
      "text/plain": [
       "1.4519532277166278"
      ]
     },
     "execution_count": 65,
     "metadata": {},
     "output_type": "execute_result"
    }
   ],
   "source": [
    "# mean absolute err for these predictions (can also compare against true_drag_force instead of true_pos_drag_force)\n",
    "np.sum(np.abs(true_pos_drag_force - predicted_pos_drag_force)) / len(predicted_pos_drag_force) "
   ]
  },
  {
   "cell_type": "code",
   "execution_count": 66,
   "id": "b206bc5b",
   "metadata": {
    "scrolled": true
   },
   "outputs": [
    {
     "data": {
      "text/plain": [
       "265.87685748857706"
      ]
     },
     "execution_count": 66,
     "metadata": {},
     "output_type": "execute_result"
    }
   ],
   "source": [
    "test_features_cu4_pos_drag['dx'] = test_features_cu4_pos_drag['x'].diff()\n",
    "\n",
    "products = test_features_cu4_pos_drag['dx'] * np.squeeze(true_drag_force)\n",
    "products\n",
    "real_work = np.sum(products)\n",
    "real_work"
   ]
  },
  {
   "cell_type": "code",
   "execution_count": 67,
   "id": "cb1a654a",
   "metadata": {},
   "outputs": [
    {
     "data": {
      "text/plain": [
       "211.67199522076766"
      ]
     },
     "execution_count": 67,
     "metadata": {},
     "output_type": "execute_result"
    }
   ],
   "source": [
    "products = test_features_cu4_pos_drag['dx'] * np.squeeze(predicted_pos_drag_force)\n",
    "predicted_work = np.sum(products)\n",
    "predicted_work"
   ]
  },
  {
   "cell_type": "code",
   "execution_count": 68,
   "id": "3c390f9b",
   "metadata": {},
   "outputs": [
    {
     "data": {
      "text/plain": [
       "20.387205859065123"
      ]
     },
     "execution_count": 68,
     "metadata": {},
     "output_type": "execute_result"
    }
   ],
   "source": [
    "np.abs((predicted_work - real_work) / real_work) * 100"
   ]
  },
  {
   "cell_type": "markdown",
   "id": "6069c84e",
   "metadata": {},
   "source": [
    "***POSITIVE DRAG FORCE MODEL RESULT***. Unlike the previous model, the total predicted work is pretty far off from the total real work. The percent error is about 32.9%. Maybe this goes back to what we were talking about a few weeks ago in the meeting, where the front of the wave only exerts negative force, but the back of the wave has postive and negative forces applied because of the little wind eddies. So the positive force relationship is slightly harder to learn? This doesn't exactly match with our conclusions from the DNNs, which is that both relationships are similarly learnable (negative drag model converged to a MAE loss of about 1.1, whereas postiive drag model converged to an MAE loss of about 1.4, which is very similar)."
   ]
  },
  {
   "cell_type": "markdown",
   "id": "b6a11679",
   "metadata": {},
   "source": [
    "### Comparing force predictions\n",
    "\n",
    "For the negative drag model, we will compare the real work predictions with more granularity. "
   ]
  },
  {
   "cell_type": "markdown",
   "id": "fff3fdbe",
   "metadata": {},
   "source": [
    "Plot of true drag force against predicted negative drag force."
   ]
  },
  {
   "cell_type": "code",
   "execution_count": 69,
   "id": "67b54913",
   "metadata": {},
   "outputs": [
    {
     "data": {
      "text/plain": [
       "[<matplotlib.lines.Line2D at 0x7fdfed7483a0>]"
      ]
     },
     "execution_count": 69,
     "metadata": {},
     "output_type": "execute_result"
    },
    {
     "data": {
      "image/png": "[encoded data removed]",
      "text/plain": [
       "<Figure size 432x288 with 1 Axes>"
      ]
     },
     "metadata": {
      "needs_background": "light"
     },
     "output_type": "display_data"
    }
   ],
   "source": [
    "plt.scatter(true_drag_force, predicted_neg_drag_force)\n",
    "plt.title(\"True drag force against predicted drag force for negative model\")\n",
    "plt.xlabel(\"True drag force\")\n",
    "plt.ylabel(\"Drag force prediction by negative DNN\")\n",
    "xpoints = ypoints = plt.xlim()\n",
    "plt.plot(xpoints, ypoints, linestyle='--', color='k', lw=3, scalex=False, scaley=False)"
   ]
  },
  {
   "cell_type": "markdown",
   "id": "854004ee",
   "metadata": {},
   "source": [
    "Ideally, we would want all points to lie along the y=x line (true drag force would equal predicted drag force, in that case). We can see here that the negatie DNN predicts many drag forces to be 0, regardless of their true value. These roughly correspond to the points that have been zeroed-out in the training dataset (model's estimates). The other points may not lie exactly on the y=x line due to the natural imperfectness of the model on new datapoints."
   ]
  },
  {
   "cell_type": "markdown",
   "id": "0d0df655",
   "metadata": {},
   "source": [
    "Here is the case for the DNN trained on the positive drag force. We also see a lot of 0 predictions."
   ]
  },
  {
   "cell_type": "code",
   "execution_count": 71,
   "id": "e8f6dc47",
   "metadata": {},
   "outputs": [
    {
     "data": {
      "text/plain": [
       "[<matplotlib.lines.Line2D at 0x7fdfeeda38b0>]"
      ]
     },
     "execution_count": 71,
     "metadata": {},
     "output_type": "execute_result"
    },
    {
     "data": {
      "image/png": "[encoded data removed]",
      "text/plain": [
       "<Figure size 432x288 with 1 Axes>"
      ]
     },
     "metadata": {
      "needs_background": "light"
     },
     "output_type": "display_data"
    }
   ],
   "source": [
    "plt.scatter(true_drag_force, predicted_pos_drag_force)\n",
    "plt.title(\"True drag force against predicted drag force for positive model\")\n",
    "plt.xlabel(\"True drag force\")\n",
    "plt.ylabel(\"Drag force prediction by positive DNN\")\n",
    "xpoints = ypoints = plt.xlim()\n",
    "plt.plot(xpoints, ypoints, linestyle='--', color='k', lw=3, scalex=False, scaley=False)"
   ]
  },
  {
   "cell_type": "code",
   "execution_count": 81,
   "id": "0d065e28",
   "metadata": {},
   "outputs": [
    {
     "data": {
      "text/html": [
       "<div>\n",
       "<style scoped>\n",
       "    .dataframe tbody tr th:only-of-type {\n",
       "        vertical-align: middle;\n",
       "    }\n",
       "\n",
       "    .dataframe tbody tr th {\n",
       "        vertical-align: top;\n",
       "    }\n",
       "\n",
       "    .dataframe thead th {\n",
       "        text-align: right;\n",
       "    }\n",
       "</style>\n",
       "<table border=\"1\" class=\"dataframe\">\n",
       "  <thead>\n",
       "    <tr style=\"text-align: right;\">\n",
       "      <th></th>\n",
       "      <th>0</th>\n",
       "      <th>1</th>\n",
       "      <th>2</th>\n",
       "    </tr>\n",
       "  </thead>\n",
       "  <tbody>\n",
       "    <tr>\n",
       "      <th>0</th>\n",
       "      <td>-0.209920</td>\n",
       "      <td>-1.669400</td>\n",
       "      <td>-0.016417</td>\n",
       "    </tr>\n",
       "    <tr>\n",
       "      <th>1</th>\n",
       "      <td>0.100043</td>\n",
       "      <td>-1.007283</td>\n",
       "      <td>-0.016417</td>\n",
       "    </tr>\n",
       "    <tr>\n",
       "      <th>2</th>\n",
       "      <td>3.262955</td>\n",
       "      <td>4.134096</td>\n",
       "      <td>-0.016417</td>\n",
       "    </tr>\n",
       "    <tr>\n",
       "      <th>3</th>\n",
       "      <td>2.834713</td>\n",
       "      <td>6.009842</td>\n",
       "      <td>-0.016417</td>\n",
       "    </tr>\n",
       "    <tr>\n",
       "      <th>4</th>\n",
       "      <td>6.334178</td>\n",
       "      <td>6.104504</td>\n",
       "      <td>-0.016417</td>\n",
       "    </tr>\n",
       "    <tr>\n",
       "      <th>...</th>\n",
       "      <td>...</td>\n",
       "      <td>...</td>\n",
       "      <td>...</td>\n",
       "    </tr>\n",
       "    <tr>\n",
       "      <th>2043</th>\n",
       "      <td>7.784577</td>\n",
       "      <td>0.014895</td>\n",
       "      <td>10.032746</td>\n",
       "    </tr>\n",
       "    <tr>\n",
       "      <th>2044</th>\n",
       "      <td>16.422499</td>\n",
       "      <td>0.014895</td>\n",
       "      <td>12.424960</td>\n",
       "    </tr>\n",
       "    <tr>\n",
       "      <th>2045</th>\n",
       "      <td>7.530309</td>\n",
       "      <td>0.014895</td>\n",
       "      <td>15.055795</td>\n",
       "    </tr>\n",
       "    <tr>\n",
       "      <th>2046</th>\n",
       "      <td>7.102939</td>\n",
       "      <td>0.014895</td>\n",
       "      <td>14.939099</td>\n",
       "    </tr>\n",
       "    <tr>\n",
       "      <th>2047</th>\n",
       "      <td>1.486284</td>\n",
       "      <td>0.014895</td>\n",
       "      <td>3.713405</td>\n",
       "    </tr>\n",
       "  </tbody>\n",
       "</table>\n",
       "<p>2048 rows × 3 columns</p>\n",
       "</div>"
      ],
      "text/plain": [
       "              0         1          2\n",
       "0     -0.209920 -1.669400  -0.016417\n",
       "1      0.100043 -1.007283  -0.016417\n",
       "2      3.262955  4.134096  -0.016417\n",
       "3      2.834713  6.009842  -0.016417\n",
       "4      6.334178  6.104504  -0.016417\n",
       "...         ...       ...        ...\n",
       "2043   7.784577  0.014895  10.032746\n",
       "2044  16.422499  0.014895  12.424960\n",
       "2045   7.530309  0.014895  15.055795\n",
       "2046   7.102939  0.014895  14.939099\n",
       "2047   1.486284  0.014895   3.713405\n",
       "\n",
       "[2048 rows x 3 columns]"
      ]
     },
     "execution_count": 81,
     "metadata": {},
     "output_type": "execute_result"
    }
   ],
   "source": [
    "my_df = pd.DataFrame([np.squeeze(true_drag_force), np.squeeze(predicted_neg_drag_force),np.squeeze(predicted_pos_drag_force)]).T\n",
    "my_df"
   ]
  },
  {
   "cell_type": "code",
   "execution_count": 84,
   "id": "c5a7de50",
   "metadata": {},
   "outputs": [],
   "source": [
    "np.savetxt(\"graphic2.csv\", my_df, delimiter=\",\")"
   ]
  }
 ],
 "metadata": {
  "kernelspec": {
   "display_name": "Python 3 (ipykernel)",
   "language": "python",
   "name": "python3"
  },
  "language_info": {
   "codemirror_mode": {
    "name": "ipython",
    "version": 3
   },
   "file_extension": ".py",
   "mimetype": "text/x-python",
   "name": "python",
   "nbconvert_exporter": "python",
   "pygments_lexer": "ipython3",
   "version": "3.8.5"
  }
 },
 "nbformat": 4,
 "nbformat_minor": 5
}
