{
 "cells": [
  {
   "cell_type": "markdown",
   "id": "9da703d0",
   "metadata": {},
   "source": [
    "# CU4 Simulation Deep Neural Network Comparisons\n",
    "\n",
    "- Loading data and importing libraries\n",
    "- DNN using original data\n",
    "- DNN using results of PCA feature extraction\n",
    "- DNN using results of PCA feature selection\n",
    "- Comparison of DNNs\n",
    "- Adding regularization"
   ]
  },
  {
   "cell_type": "markdown",
   "id": "173201b0",
   "metadata": {},
   "source": [
    "### Loading data and importing libraries\n",
    "\n",
    "First, we will load the datasets that we will use for our deep neural networks."
   ]
  },
  {
   "cell_type": "code",
   "execution_count": 116,
   "id": "e4b421cb",
   "metadata": {},
   "outputs": [],
   "source": [
    "# import necessary libraries\n",
    "from numpy import genfromtxt\n",
    "import numpy as np\n",
    "import pandas as pd\n",
    "import tensorflow as tf\n",
    "from tensorflow import keras\n",
    "from tensorflow.keras import layers\n",
    "import matplotlib.pyplot as plt\n",
    "from tensorflow.keras import regularizers"
   ]
  },
  {
   "cell_type": "code",
   "execution_count": 102,
   "id": "6c53afce",
   "metadata": {},
   "outputs": [],
   "source": [
    "cu4_concat = genfromtxt('cu4_concat.csv', delimiter=',')\n",
    "cu4_feature_extraction = genfromtxt('cu4_feature_extraction.csv', delimiter=',')\n",
    "cu4_feature_selection = genfromtxt('cu4_feature_selection.csv', delimiter=',')"
   ]
  },
  {
   "cell_type": "markdown",
   "id": "ba3accd3",
   "metadata": {},
   "source": [
    "Let us check if the data is loaded properly."
   ]
  },
  {
   "cell_type": "code",
   "execution_count": 11,
   "id": "11dbfb37",
   "metadata": {},
   "outputs": [
    {
     "data": {
      "text/plain": [
       "array([[-1.72866966,  1.59445558,  0.18383971,  0.72658722,  0.72523273],\n",
       "       [-1.72190705,  1.59226585,  0.25854009,  0.80647963,  0.64830464],\n",
       "       [-1.71513894,  1.58295954,  0.26951149,  0.80827018,  0.61400549],\n",
       "       ...,\n",
       "       [ 1.71513894,  1.58031104, -1.12583626,  0.37213362,  1.12425601],\n",
       "       [ 1.72190705,  1.58966717, -1.11735621,  0.44762699,  1.07516044],\n",
       "       [ 1.72866966,  1.60837943, -1.10723486,  0.46070372,  1.04085649]])"
      ]
     },
     "execution_count": 11,
     "metadata": {},
     "output_type": "execute_result"
    }
   ],
   "source": [
    "cu4_concat"
   ]
  },
  {
   "cell_type": "code",
   "execution_count": 12,
   "id": "dbb1cc22",
   "metadata": {},
   "outputs": [
    {
     "data": {
      "text/plain": [
       "(10240, 5)"
      ]
     },
     "execution_count": 12,
     "metadata": {},
     "output_type": "execute_result"
    }
   ],
   "source": [
    "cu4_concat.shape"
   ]
  },
  {
   "cell_type": "code",
   "execution_count": 103,
   "id": "d5b128c6",
   "metadata": {},
   "outputs": [
    {
     "data": {
      "text/plain": [
       "array([[-1.86772058, -0.27994295,  1.42047481],\n",
       "       [-1.9335587 , -0.34898975,  1.37311926],\n",
       "       [-1.92923041, -0.35922553,  1.36207826],\n",
       "       ...,\n",
       "       [-0.88512713,  2.1935268 , -1.1001839 ],\n",
       "       [-0.94605689,  2.18350584, -1.11949626],\n",
       "       [-0.96820646,  2.18394213, -1.13109148]])"
      ]
     },
     "execution_count": 103,
     "metadata": {},
     "output_type": "execute_result"
    }
   ],
   "source": [
    "cu4_feature_extraction"
   ]
  },
  {
   "cell_type": "code",
   "execution_count": 104,
   "id": "58927f1c",
   "metadata": {},
   "outputs": [
    {
     "data": {
      "text/plain": [
       "(10240, 3)"
      ]
     },
     "execution_count": 104,
     "metadata": {},
     "output_type": "execute_result"
    }
   ],
   "source": [
    "cu4_feature_extraction.shape"
   ]
  },
  {
   "cell_type": "code",
   "execution_count": 17,
   "id": "8ebffc17",
   "metadata": {},
   "outputs": [
    {
     "data": {
      "text/plain": [
       "array([[-1.72866966,  0.18383971,  0.72658722,  0.72523273],\n",
       "       [-1.72190705,  0.25854009,  0.80647963,  0.64830464],\n",
       "       [-1.71513894,  0.26951149,  0.80827018,  0.61400549],\n",
       "       ...,\n",
       "       [ 1.71513894, -1.12583626,  0.37213362,  1.12425601],\n",
       "       [ 1.72190705, -1.11735621,  0.44762699,  1.07516044],\n",
       "       [ 1.72866966, -1.10723486,  0.46070372,  1.04085649]])"
      ]
     },
     "execution_count": 17,
     "metadata": {},
     "output_type": "execute_result"
    }
   ],
   "source": [
    "cu4_feature_selection"
   ]
  },
  {
   "cell_type": "code",
   "execution_count": 18,
   "id": "2bab71c9",
   "metadata": {},
   "outputs": [
    {
     "data": {
      "text/plain": [
       "(10240, 4)"
      ]
     },
     "execution_count": 18,
     "metadata": {},
     "output_type": "execute_result"
    }
   ],
   "source": [
    "cu4_feature_selection.shape"
   ]
  },
  {
   "cell_type": "markdown",
   "id": "56d8c536",
   "metadata": {},
   "source": [
    "Everything appears exactly as we would expect it! Note the that cu4_concat has different dimensionality than cu4_feature_extraction and cu4_feature_selection. This is because the latter two represent data that is given as a result of PCA analysis; this data has reduced dimsension, but is supposed to capture most of the essence of the original data."
   ]
  },
  {
   "cell_type": "markdown",
   "id": "a2b91646",
   "metadata": {},
   "source": [
    "### DNN using original data"
   ]
  },
  {
   "cell_type": "markdown",
   "id": "5625591a",
   "metadata": {},
   "source": [
    "First, we split the data into train and test sets."
   ]
  },
  {
   "cell_type": "code",
   "execution_count": 55,
   "id": "ccf18401",
   "metadata": {},
   "outputs": [
    {
     "data": {
      "text/html": [
       "<div>\n",
       "<style scoped>\n",
       "    .dataframe tbody tr th:only-of-type {\n",
       "        vertical-align: middle;\n",
       "    }\n",
       "\n",
       "    .dataframe tbody tr th {\n",
       "        vertical-align: top;\n",
       "    }\n",
       "\n",
       "    .dataframe thead th {\n",
       "        text-align: right;\n",
       "    }\n",
       "</style>\n",
       "<table border=\"1\" class=\"dataframe\">\n",
       "  <thead>\n",
       "    <tr style=\"text-align: right;\">\n",
       "      <th></th>\n",
       "      <th>x</th>\n",
       "      <th>eta</th>\n",
       "      <th>u</th>\n",
       "      <th>v</th>\n",
       "      <th>pressure</th>\n",
       "    </tr>\n",
       "  </thead>\n",
       "  <tbody>\n",
       "    <tr>\n",
       "      <th>0</th>\n",
       "      <td>-1.728670</td>\n",
       "      <td>1.594456</td>\n",
       "      <td>0.183840</td>\n",
       "      <td>0.726587</td>\n",
       "      <td>0.725233</td>\n",
       "    </tr>\n",
       "    <tr>\n",
       "      <th>1</th>\n",
       "      <td>-1.721907</td>\n",
       "      <td>1.592266</td>\n",
       "      <td>0.258540</td>\n",
       "      <td>0.806480</td>\n",
       "      <td>0.648305</td>\n",
       "    </tr>\n",
       "    <tr>\n",
       "      <th>2</th>\n",
       "      <td>-1.715139</td>\n",
       "      <td>1.582960</td>\n",
       "      <td>0.269511</td>\n",
       "      <td>0.808270</td>\n",
       "      <td>0.614005</td>\n",
       "    </tr>\n",
       "    <tr>\n",
       "      <th>3</th>\n",
       "      <td>-1.708376</td>\n",
       "      <td>1.568179</td>\n",
       "      <td>0.290845</td>\n",
       "      <td>0.924656</td>\n",
       "      <td>0.542222</td>\n",
       "    </tr>\n",
       "    <tr>\n",
       "      <th>4</th>\n",
       "      <td>-1.701608</td>\n",
       "      <td>1.536428</td>\n",
       "      <td>0.301410</td>\n",
       "      <td>0.924826</td>\n",
       "      <td>0.508903</td>\n",
       "    </tr>\n",
       "    <tr>\n",
       "      <th>...</th>\n",
       "      <td>...</td>\n",
       "      <td>...</td>\n",
       "      <td>...</td>\n",
       "      <td>...</td>\n",
       "      <td>...</td>\n",
       "    </tr>\n",
       "    <tr>\n",
       "      <th>10235</th>\n",
       "      <td>1.701608</td>\n",
       "      <td>1.513993</td>\n",
       "      <td>-1.130897</td>\n",
       "      <td>0.205433</td>\n",
       "      <td>1.193493</td>\n",
       "    </tr>\n",
       "    <tr>\n",
       "      <th>10236</th>\n",
       "      <td>1.708376</td>\n",
       "      <td>1.543437</td>\n",
       "      <td>-1.123716</td>\n",
       "      <td>0.359496</td>\n",
       "      <td>1.148804</td>\n",
       "    </tr>\n",
       "    <tr>\n",
       "      <th>10237</th>\n",
       "      <td>1.715139</td>\n",
       "      <td>1.580311</td>\n",
       "      <td>-1.125836</td>\n",
       "      <td>0.372134</td>\n",
       "      <td>1.124256</td>\n",
       "    </tr>\n",
       "    <tr>\n",
       "      <th>10238</th>\n",
       "      <td>1.721907</td>\n",
       "      <td>1.589667</td>\n",
       "      <td>-1.117356</td>\n",
       "      <td>0.447627</td>\n",
       "      <td>1.075160</td>\n",
       "    </tr>\n",
       "    <tr>\n",
       "      <th>10239</th>\n",
       "      <td>1.728670</td>\n",
       "      <td>1.608379</td>\n",
       "      <td>-1.107235</td>\n",
       "      <td>0.460704</td>\n",
       "      <td>1.040856</td>\n",
       "    </tr>\n",
       "  </tbody>\n",
       "</table>\n",
       "<p>10240 rows × 5 columns</p>\n",
       "</div>"
      ],
      "text/plain": [
       "              x       eta         u         v  pressure\n",
       "0     -1.728670  1.594456  0.183840  0.726587  0.725233\n",
       "1     -1.721907  1.592266  0.258540  0.806480  0.648305\n",
       "2     -1.715139  1.582960  0.269511  0.808270  0.614005\n",
       "3     -1.708376  1.568179  0.290845  0.924656  0.542222\n",
       "4     -1.701608  1.536428  0.301410  0.924826  0.508903\n",
       "...         ...       ...       ...       ...       ...\n",
       "10235  1.701608  1.513993 -1.130897  0.205433  1.193493\n",
       "10236  1.708376  1.543437 -1.123716  0.359496  1.148804\n",
       "10237  1.715139  1.580311 -1.125836  0.372134  1.124256\n",
       "10238  1.721907  1.589667 -1.117356  0.447627  1.075160\n",
       "10239  1.728670  1.608379 -1.107235  0.460704  1.040856\n",
       "\n",
       "[10240 rows x 5 columns]"
      ]
     },
     "execution_count": 55,
     "metadata": {},
     "output_type": "execute_result"
    }
   ],
   "source": [
    "cu4_df_concat = pd.DataFrame(cu4_concat, columns = ['x', 'eta', 'u', 'v', 'pressure'])\n",
    "cu4_df_concat"
   ]
  },
  {
   "cell_type": "code",
   "execution_count": 56,
   "id": "edb0e8fd",
   "metadata": {},
   "outputs": [
    {
     "name": "stdout",
     "output_type": "stream",
     "text": [
      "shape of training dataset:  (8192, 5)\n",
      "shape of testing dataset:  (2048, 5)\n"
     ]
    }
   ],
   "source": [
    "dataset_concat = cu4_df_concat.copy()\n",
    "\n",
    "train_dataset_concat = dataset_concat.sample(frac=0.8, random_state=0)\n",
    "test_dataset_concat = dataset_concat.drop(train_dataset_concat.index)\n",
    "\n",
    "print(\"shape of training dataset: \", train_dataset_concat.shape)\n",
    "print(\"shape of testing dataset: \", test_dataset_concat.shape)"
   ]
  },
  {
   "cell_type": "code",
   "execution_count": 57,
   "id": "01646715",
   "metadata": {},
   "outputs": [],
   "source": [
    "train_features_concat = train_dataset_concat.copy()\n",
    "test_features_concat = test_dataset_concat.copy()\n",
    "\n",
    "train_labels_concat = train_features_concat.pop('pressure')\n",
    "test_labels_concat = test_features_concat.pop('pressure')"
   ]
  },
  {
   "cell_type": "markdown",
   "id": "45aef023",
   "metadata": {},
   "source": [
    "Next, we normalize the data."
   ]
  },
  {
   "cell_type": "code",
   "execution_count": 58,
   "id": "d2bdff73",
   "metadata": {},
   "outputs": [
    {
     "name": "stdout",
     "output_type": "stream",
     "text": [
      "First example: [[-0.58 -0.73  1.    0.6 ]]\n",
      "\n",
      "Normalized: [[-0.58 -0.73  1.    0.6 ]]\n"
     ]
    }
   ],
   "source": [
    "normalizer_concat = tf.keras.layers.Normalization(axis=-1)\n",
    "normalizer_concat.adapt(np.array(train_features_concat))\n",
    "\n",
    "first = np.array(train_features_concat[:1])\n",
    "\n",
    "with np.printoptions(precision=2, suppress=True):\n",
    "  print('First example:', first)\n",
    "  print()\n",
    "  print('Normalized:', normalizer_concat(first).numpy())"
   ]
  },
  {
   "cell_type": "markdown",
   "id": "970262c6",
   "metadata": {},
   "source": [
    "This model uses the ReLU activation function, the Adam optimizer, and the mean absolute error to indicate loss."
   ]
  },
  {
   "cell_type": "code",
   "execution_count": 59,
   "id": "79252a18",
   "metadata": {},
   "outputs": [],
   "source": [
    "def build_and_compile_model(norm):\n",
    "  model = keras.Sequential([\n",
    "      norm,\n",
    "      layers.Dense(64, activation='relu'),\n",
    "      layers.Dense(64, activation='relu'),\n",
    "      layers.Dense(1)\n",
    "  ])\n",
    "\n",
    "  model.compile(loss='mean_absolute_error',\n",
    "                optimizer=tf.keras.optimizers.Adam(0.001))\n",
    "  return model"
   ]
  },
  {
   "cell_type": "code",
   "execution_count": 61,
   "id": "5378a2fc",
   "metadata": {},
   "outputs": [
    {
     "name": "stdout",
     "output_type": "stream",
     "text": [
      "Model: \"sequential_2\"\n",
      "_________________________________________________________________\n",
      " Layer (type)                Output Shape              Param #   \n",
      "=================================================================\n",
      " normalization (Normalizatio  (None, 4)                9         \n",
      " n)                                                              \n",
      "                                                                 \n",
      " dense_6 (Dense)             (None, 64)                320       \n",
      "                                                                 \n",
      " dense_7 (Dense)             (None, 64)                4160      \n",
      "                                                                 \n",
      " dense_8 (Dense)             (None, 1)                 65        \n",
      "                                                                 \n",
      "=================================================================\n",
      "Total params: 4,554\n",
      "Trainable params: 4,545\n",
      "Non-trainable params: 9\n",
      "_________________________________________________________________\n"
     ]
    }
   ],
   "source": [
    "dnn_model_concat = build_and_compile_model(normalizer_concat)\n",
    "dnn_model_concat.summary()"
   ]
  },
  {
   "cell_type": "markdown",
   "id": "bddf818e",
   "metadata": {},
   "source": [
    "Now, we will train the model."
   ]
  },
  {
   "cell_type": "code",
   "execution_count": 63,
   "id": "95e364f1",
   "metadata": {},
   "outputs": [
    {
     "name": "stdout",
     "output_type": "stream",
     "text": [
      "CPU times: user 34.3 s, sys: 6.24 s, total: 40.5 s\n",
      "Wall time: 25.5 s\n"
     ]
    }
   ],
   "source": [
    "%%time\n",
    "history_concat = dnn_model_concat.fit(\n",
    "    train_features_concat,\n",
    "    train_labels_concat,\n",
    "    validation_split=0.2,\n",
    "    verbose=0, epochs=100)"
   ]
  },
  {
   "cell_type": "markdown",
   "id": "24f60503",
   "metadata": {},
   "source": [
    "Plot the loss."
   ]
  },
  {
   "cell_type": "code",
   "execution_count": 64,
   "id": "34414d3b",
   "metadata": {},
   "outputs": [],
   "source": [
    "def plot_loss(history_concat):\n",
    "  plt.plot(history_concat.history['loss'], label='loss')\n",
    "  plt.plot(history_concat.history['val_loss'], label='val_loss')\n",
    "  plt.ylim([0, 0.6])\n",
    "  plt.xlabel('Epoch')\n",
    "  plt.ylabel('Loss')\n",
    "  plt.legend()\n",
    "  plt.grid(True)"
   ]
  },
  {
   "cell_type": "code",
   "execution_count": 65,
   "id": "219c0009",
   "metadata": {},
   "outputs": [
    {
     "data": {
      "image/png": "[encoded data removed]",
      "text/plain": [
       "<Figure size 432x288 with 1 Axes>"
      ]
     },
     "metadata": {
      "needs_background": "light"
     },
     "output_type": "display_data"
    }
   ],
   "source": [
    "plot_loss(history_concat)"
   ]
  },
  {
   "cell_type": "markdown",
   "id": "7692f364",
   "metadata": {},
   "source": [
    "Save the results of the model."
   ]
  },
  {
   "cell_type": "code",
   "execution_count": 66,
   "id": "393e5202",
   "metadata": {},
   "outputs": [],
   "source": [
    "test_results = {}\n",
    "\n",
    "test_results['dnn_model_concat'] = dnn_model_concat.evaluate(test_features_concat, test_labels_concat, verbose=0)"
   ]
  },
  {
   "cell_type": "markdown",
   "id": "e97762bd",
   "metadata": {},
   "source": [
    "### DNN using results of PCA feature extraction"
   ]
  },
  {
   "cell_type": "markdown",
   "id": "51fbc543",
   "metadata": {},
   "source": [
    "We will perform similar steps for our deep neural network, as it is trained on data resulting from the PCA feature extraction.\n",
    "\n",
    "First, we must add the pressure variable to the data."
   ]
  },
  {
   "cell_type": "code",
   "execution_count": 105,
   "id": "df66f3d3",
   "metadata": {},
   "outputs": [
    {
     "data": {
      "text/html": [
       "<div>\n",
       "<style scoped>\n",
       "    .dataframe tbody tr th:only-of-type {\n",
       "        vertical-align: middle;\n",
       "    }\n",
       "\n",
       "    .dataframe tbody tr th {\n",
       "        vertical-align: top;\n",
       "    }\n",
       "\n",
       "    .dataframe thead th {\n",
       "        text-align: right;\n",
       "    }\n",
       "</style>\n",
       "<table border=\"1\" class=\"dataframe\">\n",
       "  <thead>\n",
       "    <tr style=\"text-align: right;\">\n",
       "      <th></th>\n",
       "      <th>pc1</th>\n",
       "      <th>pc2</th>\n",
       "      <th>pc3</th>\n",
       "      <th>pressure</th>\n",
       "    </tr>\n",
       "  </thead>\n",
       "  <tbody>\n",
       "    <tr>\n",
       "      <th>0</th>\n",
       "      <td>-1.867721</td>\n",
       "      <td>-0.279943</td>\n",
       "      <td>1.420475</td>\n",
       "      <td>0.725233</td>\n",
       "    </tr>\n",
       "    <tr>\n",
       "      <th>1</th>\n",
       "      <td>-1.933559</td>\n",
       "      <td>-0.348990</td>\n",
       "      <td>1.373119</td>\n",
       "      <td>0.648305</td>\n",
       "    </tr>\n",
       "    <tr>\n",
       "      <th>2</th>\n",
       "      <td>-1.929230</td>\n",
       "      <td>-0.359226</td>\n",
       "      <td>1.362078</td>\n",
       "      <td>0.614005</td>\n",
       "    </tr>\n",
       "    <tr>\n",
       "      <th>3</th>\n",
       "      <td>-2.005684</td>\n",
       "      <td>-0.394751</td>\n",
       "      <td>1.331622</td>\n",
       "      <td>0.542222</td>\n",
       "    </tr>\n",
       "    <tr>\n",
       "      <th>4</th>\n",
       "      <td>-1.985363</td>\n",
       "      <td>-0.413603</td>\n",
       "      <td>1.320501</td>\n",
       "      <td>0.508903</td>\n",
       "    </tr>\n",
       "    <tr>\n",
       "      <th>...</th>\n",
       "      <td>...</td>\n",
       "      <td>...</td>\n",
       "      <td>...</td>\n",
       "      <td>...</td>\n",
       "    </tr>\n",
       "    <tr>\n",
       "      <th>10235</th>\n",
       "      <td>-0.722256</td>\n",
       "      <td>2.186505</td>\n",
       "      <td>-1.065369</td>\n",
       "      <td>1.193493</td>\n",
       "    </tr>\n",
       "    <tr>\n",
       "      <th>10236</th>\n",
       "      <td>-0.853072</td>\n",
       "      <td>2.175691</td>\n",
       "      <td>-1.094052</td>\n",
       "      <td>1.148804</td>\n",
       "    </tr>\n",
       "    <tr>\n",
       "      <th>10237</th>\n",
       "      <td>-0.885127</td>\n",
       "      <td>2.193527</td>\n",
       "      <td>-1.100184</td>\n",
       "      <td>1.124256</td>\n",
       "    </tr>\n",
       "    <tr>\n",
       "      <th>10238</th>\n",
       "      <td>-0.946057</td>\n",
       "      <td>2.183506</td>\n",
       "      <td>-1.119496</td>\n",
       "      <td>1.075160</td>\n",
       "    </tr>\n",
       "    <tr>\n",
       "      <th>10239</th>\n",
       "      <td>-0.968206</td>\n",
       "      <td>2.183942</td>\n",
       "      <td>-1.131091</td>\n",
       "      <td>1.040856</td>\n",
       "    </tr>\n",
       "  </tbody>\n",
       "</table>\n",
       "<p>10240 rows × 4 columns</p>\n",
       "</div>"
      ],
      "text/plain": [
       "            pc1       pc2       pc3  pressure\n",
       "0     -1.867721 -0.279943  1.420475  0.725233\n",
       "1     -1.933559 -0.348990  1.373119  0.648305\n",
       "2     -1.929230 -0.359226  1.362078  0.614005\n",
       "3     -2.005684 -0.394751  1.331622  0.542222\n",
       "4     -1.985363 -0.413603  1.320501  0.508903\n",
       "...         ...       ...       ...       ...\n",
       "10235 -0.722256  2.186505 -1.065369  1.193493\n",
       "10236 -0.853072  2.175691 -1.094052  1.148804\n",
       "10237 -0.885127  2.193527 -1.100184  1.124256\n",
       "10238 -0.946057  2.183506 -1.119496  1.075160\n",
       "10239 -0.968206  2.183942 -1.131091  1.040856\n",
       "\n",
       "[10240 rows x 4 columns]"
      ]
     },
     "execution_count": 105,
     "metadata": {},
     "output_type": "execute_result"
    }
   ],
   "source": [
    "cu4_df_feature_extraction = pd.DataFrame(cu4_feature_extraction, columns = ['pc1', 'pc2', 'pc3'])\n",
    "cu4_df_feature_extraction['pressure'] = cu4_df_concat['pressure']\n",
    "cu4_df_feature_extraction"
   ]
  },
  {
   "cell_type": "markdown",
   "id": "99d2de1b",
   "metadata": {},
   "source": [
    "Split the data into train and test sets."
   ]
  },
  {
   "cell_type": "code",
   "execution_count": 106,
   "id": "d3e24eb2",
   "metadata": {},
   "outputs": [
    {
     "name": "stdout",
     "output_type": "stream",
     "text": [
      "shape of training dataset:  (8192, 4)\n",
      "shape of testing dataset:  (2048, 4)\n"
     ]
    }
   ],
   "source": [
    "dataset_feature_extraction = cu4_df_feature_extraction.copy()\n",
    "\n",
    "train_dataset_feature_extraction = dataset_feature_extraction.sample(frac=0.8, random_state=0)\n",
    "test_dataset_feature_extraction = dataset_feature_extraction.drop(train_dataset_feature_extraction.index)\n",
    "\n",
    "print(\"shape of training dataset: \", train_dataset_feature_extraction.shape)\n",
    "print(\"shape of testing dataset: \", test_dataset_feature_extraction.shape)"
   ]
  },
  {
   "cell_type": "code",
   "execution_count": 107,
   "id": "679970f2",
   "metadata": {},
   "outputs": [],
   "source": [
    "train_features_feature_extraction = train_dataset_feature_extraction.copy()\n",
    "test_features_feature_extraction = test_dataset_feature_extraction.copy()\n",
    "\n",
    "train_labels_feature_extraction = train_features_feature_extraction.pop('pressure')\n",
    "test_labels_feature_extraction = test_features_feature_extraction.pop('pressure')"
   ]
  },
  {
   "cell_type": "markdown",
   "id": "c22d1cfb",
   "metadata": {},
   "source": [
    "Normalize the data."
   ]
  },
  {
   "cell_type": "code",
   "execution_count": 108,
   "id": "ed212b85",
   "metadata": {},
   "outputs": [
    {
     "name": "stdout",
     "output_type": "stream",
     "text": [
      "First example: [[-0.18 -1.42  0.02]]\n",
      "\n",
      "Normalized: [[-0.14 -1.3   0.02]]\n"
     ]
    }
   ],
   "source": [
    "normalizer_feature_extraction = tf.keras.layers.Normalization(axis=-1)\n",
    "normalizer_feature_extraction.adapt(np.array(train_features_feature_extraction))\n",
    "\n",
    "first = np.array(train_features_feature_extraction[:1])\n",
    "\n",
    "with np.printoptions(precision=2, suppress=True):\n",
    "  print('First example:', first)\n",
    "  print()\n",
    "  print('Normalized:', normalizer_feature_extraction(first).numpy())"
   ]
  },
  {
   "cell_type": "markdown",
   "id": "8f1f60e2",
   "metadata": {},
   "source": [
    "Build the model."
   ]
  },
  {
   "cell_type": "code",
   "execution_count": 109,
   "id": "bbcc3807",
   "metadata": {},
   "outputs": [],
   "source": [
    "def build_and_compile_model(norm):\n",
    "  model = keras.Sequential([\n",
    "      norm,\n",
    "      layers.Dense(64, activation='relu'),\n",
    "      layers.Dense(64, activation='relu'),\n",
    "      layers.Dense(1)\n",
    "  ])\n",
    "\n",
    "  model.compile(loss='mean_absolute_error',\n",
    "                optimizer=tf.keras.optimizers.Adam(0.001))\n",
    "  return model"
   ]
  },
  {
   "cell_type": "code",
   "execution_count": 110,
   "id": "fe3f42c5",
   "metadata": {},
   "outputs": [
    {
     "name": "stdout",
     "output_type": "stream",
     "text": [
      "Model: \"sequential_5\"\n",
      "_________________________________________________________________\n",
      " Layer (type)                Output Shape              Param #   \n",
      "=================================================================\n",
      " normalization_4 (Normalizat  (None, 3)                7         \n",
      " ion)                                                            \n",
      "                                                                 \n",
      " dense_15 (Dense)            (None, 64)                256       \n",
      "                                                                 \n",
      " dense_16 (Dense)            (None, 64)                4160      \n",
      "                                                                 \n",
      " dense_17 (Dense)            (None, 1)                 65        \n",
      "                                                                 \n",
      "=================================================================\n",
      "Total params: 4,488\n",
      "Trainable params: 4,481\n",
      "Non-trainable params: 7\n",
      "_________________________________________________________________\n"
     ]
    }
   ],
   "source": [
    "dnn_model_feature_extraction = build_and_compile_model(normalizer_feature_extraction)\n",
    "dnn_model_feature_extraction.summary()"
   ]
  },
  {
   "cell_type": "markdown",
   "id": "1960a46b",
   "metadata": {},
   "source": [
    "Train the model."
   ]
  },
  {
   "cell_type": "code",
   "execution_count": 111,
   "id": "1aeeea10",
   "metadata": {},
   "outputs": [
    {
     "name": "stdout",
     "output_type": "stream",
     "text": [
      "CPU times: user 43.9 s, sys: 8.17 s, total: 52 s\n",
      "Wall time: 33.4 s\n"
     ]
    }
   ],
   "source": [
    "%%time\n",
    "history_feature_extraction = dnn_model_feature_extraction.fit(\n",
    "    train_features_feature_extraction,\n",
    "    train_labels_feature_extraction,\n",
    "    validation_split=0.2,\n",
    "    verbose=0, epochs=100)"
   ]
  },
  {
   "cell_type": "markdown",
   "id": "5cc3b779",
   "metadata": {},
   "source": [
    "Plot the loss."
   ]
  },
  {
   "cell_type": "code",
   "execution_count": 112,
   "id": "9835e767",
   "metadata": {},
   "outputs": [
    {
     "data": {
      "image/png": "[encoded data removed]",
      "text/plain": [
       "<Figure size 432x288 with 1 Axes>"
      ]
     },
     "metadata": {
      "needs_background": "light"
     },
     "output_type": "display_data"
    }
   ],
   "source": [
    "plot_loss(history_feature_extraction)"
   ]
  },
  {
   "cell_type": "markdown",
   "id": "3896a9a0",
   "metadata": {},
   "source": [
    "Save the results of the model."
   ]
  },
  {
   "cell_type": "code",
   "execution_count": 113,
   "id": "40961281",
   "metadata": {},
   "outputs": [],
   "source": [
    "test_results['dnn_model_feature_extraction'] = dnn_model_feature_extraction.evaluate(test_features_feature_extraction, test_labels_feature_extraction, verbose=0)"
   ]
  },
  {
   "cell_type": "markdown",
   "id": "9b2ce85b",
   "metadata": {},
   "source": [
    "Side note: You originally build the principal components using pressure. And you saw basically no loss (below 0.05 for the mean absolute error metric.)"
   ]
  },
  {
   "cell_type": "markdown",
   "id": "b7fdd197",
   "metadata": {},
   "source": [
    "### DNN using results of PCA feature selection"
   ]
  },
  {
   "cell_type": "markdown",
   "id": "6d49f766",
   "metadata": {},
   "source": [
    "Finally, we will do a similar analysis using data obtained via PCA feature selection analysis."
   ]
  },
  {
   "cell_type": "markdown",
   "id": "ef0a9377",
   "metadata": {},
   "source": [
    "First, prepare the data."
   ]
  },
  {
   "cell_type": "code",
   "execution_count": 84,
   "id": "78f449e3",
   "metadata": {},
   "outputs": [
    {
     "data": {
      "text/html": [
       "<div>\n",
       "<style scoped>\n",
       "    .dataframe tbody tr th:only-of-type {\n",
       "        vertical-align: middle;\n",
       "    }\n",
       "\n",
       "    .dataframe tbody tr th {\n",
       "        vertical-align: top;\n",
       "    }\n",
       "\n",
       "    .dataframe thead th {\n",
       "        text-align: right;\n",
       "    }\n",
       "</style>\n",
       "<table border=\"1\" class=\"dataframe\">\n",
       "  <thead>\n",
       "    <tr style=\"text-align: right;\">\n",
       "      <th></th>\n",
       "      <th>x</th>\n",
       "      <th>u</th>\n",
       "      <th>v</th>\n",
       "      <th>pressure</th>\n",
       "    </tr>\n",
       "  </thead>\n",
       "  <tbody>\n",
       "    <tr>\n",
       "      <th>0</th>\n",
       "      <td>-1.728670</td>\n",
       "      <td>0.183840</td>\n",
       "      <td>0.726587</td>\n",
       "      <td>0.725233</td>\n",
       "    </tr>\n",
       "    <tr>\n",
       "      <th>1</th>\n",
       "      <td>-1.721907</td>\n",
       "      <td>0.258540</td>\n",
       "      <td>0.806480</td>\n",
       "      <td>0.648305</td>\n",
       "    </tr>\n",
       "    <tr>\n",
       "      <th>2</th>\n",
       "      <td>-1.715139</td>\n",
       "      <td>0.269511</td>\n",
       "      <td>0.808270</td>\n",
       "      <td>0.614005</td>\n",
       "    </tr>\n",
       "    <tr>\n",
       "      <th>3</th>\n",
       "      <td>-1.708376</td>\n",
       "      <td>0.290845</td>\n",
       "      <td>0.924656</td>\n",
       "      <td>0.542222</td>\n",
       "    </tr>\n",
       "    <tr>\n",
       "      <th>4</th>\n",
       "      <td>-1.701608</td>\n",
       "      <td>0.301410</td>\n",
       "      <td>0.924826</td>\n",
       "      <td>0.508903</td>\n",
       "    </tr>\n",
       "    <tr>\n",
       "      <th>...</th>\n",
       "      <td>...</td>\n",
       "      <td>...</td>\n",
       "      <td>...</td>\n",
       "      <td>...</td>\n",
       "    </tr>\n",
       "    <tr>\n",
       "      <th>10235</th>\n",
       "      <td>1.701608</td>\n",
       "      <td>-1.130897</td>\n",
       "      <td>0.205433</td>\n",
       "      <td>1.193493</td>\n",
       "    </tr>\n",
       "    <tr>\n",
       "      <th>10236</th>\n",
       "      <td>1.708376</td>\n",
       "      <td>-1.123716</td>\n",
       "      <td>0.359496</td>\n",
       "      <td>1.148804</td>\n",
       "    </tr>\n",
       "    <tr>\n",
       "      <th>10237</th>\n",
       "      <td>1.715139</td>\n",
       "      <td>-1.125836</td>\n",
       "      <td>0.372134</td>\n",
       "      <td>1.124256</td>\n",
       "    </tr>\n",
       "    <tr>\n",
       "      <th>10238</th>\n",
       "      <td>1.721907</td>\n",
       "      <td>-1.117356</td>\n",
       "      <td>0.447627</td>\n",
       "      <td>1.075160</td>\n",
       "    </tr>\n",
       "    <tr>\n",
       "      <th>10239</th>\n",
       "      <td>1.728670</td>\n",
       "      <td>-1.107235</td>\n",
       "      <td>0.460704</td>\n",
       "      <td>1.040856</td>\n",
       "    </tr>\n",
       "  </tbody>\n",
       "</table>\n",
       "<p>10240 rows × 4 columns</p>\n",
       "</div>"
      ],
      "text/plain": [
       "              x         u         v  pressure\n",
       "0     -1.728670  0.183840  0.726587  0.725233\n",
       "1     -1.721907  0.258540  0.806480  0.648305\n",
       "2     -1.715139  0.269511  0.808270  0.614005\n",
       "3     -1.708376  0.290845  0.924656  0.542222\n",
       "4     -1.701608  0.301410  0.924826  0.508903\n",
       "...         ...       ...       ...       ...\n",
       "10235  1.701608 -1.130897  0.205433  1.193493\n",
       "10236  1.708376 -1.123716  0.359496  1.148804\n",
       "10237  1.715139 -1.125836  0.372134  1.124256\n",
       "10238  1.721907 -1.117356  0.447627  1.075160\n",
       "10239  1.728670 -1.107235  0.460704  1.040856\n",
       "\n",
       "[10240 rows x 4 columns]"
      ]
     },
     "execution_count": 84,
     "metadata": {},
     "output_type": "execute_result"
    }
   ],
   "source": [
    "cu4_df_feature_selection = pd.DataFrame(cu4_feature_selection, columns = ['x', 'u', 'v', 'pressure'])\n",
    "cu4_df_feature_selection"
   ]
  },
  {
   "cell_type": "markdown",
   "id": "217689fb",
   "metadata": {},
   "source": [
    "Split the data into train and test sets."
   ]
  },
  {
   "cell_type": "code",
   "execution_count": 85,
   "id": "00bd6d0c",
   "metadata": {},
   "outputs": [
    {
     "name": "stdout",
     "output_type": "stream",
     "text": [
      "shape of training dataset:  (8192, 4)\n",
      "shape of testing dataset:  (2048, 4)\n"
     ]
    }
   ],
   "source": [
    "dataset_feature_selection = cu4_df_feature_selection.copy()\n",
    "\n",
    "train_dataset_feature_selection = dataset_feature_selection.sample(frac=0.8, random_state=0)\n",
    "test_dataset_feature_selection = dataset_feature_selection.drop(train_dataset_feature_selection.index)\n",
    "\n",
    "print(\"shape of training dataset: \", train_dataset_feature_selection.shape)\n",
    "print(\"shape of testing dataset: \", test_dataset_feature_selection.shape)"
   ]
  },
  {
   "cell_type": "code",
   "execution_count": 86,
   "id": "26611902",
   "metadata": {},
   "outputs": [],
   "source": [
    "train_features_feature_selection = train_dataset_feature_selection.copy()\n",
    "test_features_feature_selection = test_dataset_feature_selection.copy()\n",
    "\n",
    "train_labels_feature_selection = train_features_feature_selection.pop('pressure')\n",
    "test_labels_feature_selection = test_features_feature_selection.pop('pressure')"
   ]
  },
  {
   "cell_type": "markdown",
   "id": "f25be7ac",
   "metadata": {},
   "source": [
    "Normalize the data."
   ]
  },
  {
   "cell_type": "code",
   "execution_count": 87,
   "id": "97ae2efd",
   "metadata": {},
   "outputs": [
    {
     "name": "stdout",
     "output_type": "stream",
     "text": [
      "First example: [[-0.58  1.    0.6 ]]\n",
      "\n",
      "Normalized: [[-0.58  1.    0.6 ]]\n"
     ]
    }
   ],
   "source": [
    "normalizer_feature_selection = tf.keras.layers.Normalization(axis=-1)\n",
    "normalizer_feature_selection.adapt(np.array(train_features_feature_selection))\n",
    "\n",
    "first = np.array(train_features_feature_selection[:1])\n",
    "\n",
    "with np.printoptions(precision=2, suppress=True):\n",
    "  print('First example:', first)\n",
    "  print()\n",
    "  print('Normalized:', normalizer_feature_selection(first).numpy())"
   ]
  },
  {
   "cell_type": "markdown",
   "id": "4526bcc2",
   "metadata": {},
   "source": [
    "Build the model."
   ]
  },
  {
   "cell_type": "code",
   "execution_count": 88,
   "id": "ceb30e30",
   "metadata": {},
   "outputs": [],
   "source": [
    "def build_and_compile_model(norm):\n",
    "  model = keras.Sequential([\n",
    "      norm,\n",
    "      layers.Dense(64, activation='relu'),\n",
    "      layers.Dense(64, activation='relu'),\n",
    "      layers.Dense(1)\n",
    "  ])\n",
    "\n",
    "  model.compile(loss='mean_absolute_error',\n",
    "                optimizer=tf.keras.optimizers.Adam(0.001))\n",
    "  return model"
   ]
  },
  {
   "cell_type": "code",
   "execution_count": 89,
   "id": "6a7a706c",
   "metadata": {},
   "outputs": [
    {
     "name": "stdout",
     "output_type": "stream",
     "text": [
      "Model: \"sequential_4\"\n",
      "_________________________________________________________________\n",
      " Layer (type)                Output Shape              Param #   \n",
      "=================================================================\n",
      " normalization_3 (Normalizat  (None, 3)                7         \n",
      " ion)                                                            \n",
      "                                                                 \n",
      " dense_12 (Dense)            (None, 64)                256       \n",
      "                                                                 \n",
      " dense_13 (Dense)            (None, 64)                4160      \n",
      "                                                                 \n",
      " dense_14 (Dense)            (None, 1)                 65        \n",
      "                                                                 \n",
      "=================================================================\n",
      "Total params: 4,488\n",
      "Trainable params: 4,481\n",
      "Non-trainable params: 7\n",
      "_________________________________________________________________\n"
     ]
    }
   ],
   "source": [
    "dnn_model_feature_selection = build_and_compile_model(normalizer_feature_selection)\n",
    "dnn_model_feature_selection.summary()"
   ]
  },
  {
   "cell_type": "markdown",
   "id": "3c0d064b",
   "metadata": {},
   "source": [
    "Train the model."
   ]
  },
  {
   "cell_type": "code",
   "execution_count": 90,
   "id": "3202e09c",
   "metadata": {},
   "outputs": [
    {
     "name": "stdout",
     "output_type": "stream",
     "text": [
      "CPU times: user 38.8 s, sys: 7.24 s, total: 46 s\n",
      "Wall time: 29.2 s\n"
     ]
    }
   ],
   "source": [
    "%%time\n",
    "history_feature_selection = dnn_model_feature_selection.fit(\n",
    "    train_features_feature_selection,\n",
    "    train_labels_feature_selection,\n",
    "    validation_split=0.2,\n",
    "    verbose=0, epochs=100)"
   ]
  },
  {
   "cell_type": "markdown",
   "id": "aaad37af",
   "metadata": {},
   "source": [
    "Plot the loss."
   ]
  },
  {
   "cell_type": "code",
   "execution_count": 91,
   "id": "876d19bc",
   "metadata": {},
   "outputs": [
    {
     "data": {
      "image/png": "[encoded data removed]",
      "text/plain": [
       "<Figure size 432x288 with 1 Axes>"
      ]
     },
     "metadata": {
      "needs_background": "light"
     },
     "output_type": "display_data"
    }
   ],
   "source": [
    "plot_loss(history_feature_selection)"
   ]
  },
  {
   "cell_type": "markdown",
   "id": "9109cdda",
   "metadata": {},
   "source": [
    "Save the results of the model."
   ]
  },
  {
   "cell_type": "code",
   "execution_count": 92,
   "id": "1d741b13",
   "metadata": {},
   "outputs": [],
   "source": [
    "test_results['dnn_model_feature_selection'] = dnn_model_feature_selection.evaluate(test_features_feature_selection, test_labels_feature_selection, verbose=0)"
   ]
  },
  {
   "cell_type": "markdown",
   "id": "05c0812c",
   "metadata": {},
   "source": [
    "### Comparison of DNNs"
   ]
  },
  {
   "cell_type": "markdown",
   "id": "a700fbf9",
   "metadata": {},
   "source": [
    "We have just built and trained deep neural nets using the entire dataset, the results of PCA feature extraction, and the results of PCA feature selection. Now, we will view how these models compare with one another! We expect to see that the DNN on the entire dataset (dnn_model_concat) performs the best, since it was trained on the most comprehensive data. We hope to see that the other models perform comparably, given that they are trained on smaller data that captures the \"essence\" of the larger dataset.\n",
    "\n",
    "For starters, let's take a look at the mean absolute error from the three trials."
   ]
  },
  {
   "cell_type": "code",
   "execution_count": 114,
   "id": "fdb5cab7",
   "metadata": {},
   "outputs": [
    {
     "data": {
      "text/html": [
       "<div>\n",
       "<style scoped>\n",
       "    .dataframe tbody tr th:only-of-type {\n",
       "        vertical-align: middle;\n",
       "    }\n",
       "\n",
       "    .dataframe tbody tr th {\n",
       "        vertical-align: top;\n",
       "    }\n",
       "\n",
       "    .dataframe thead th {\n",
       "        text-align: right;\n",
       "    }\n",
       "</style>\n",
       "<table border=\"1\" class=\"dataframe\">\n",
       "  <thead>\n",
       "    <tr style=\"text-align: right;\">\n",
       "      <th></th>\n",
       "      <th>Mean absolute error [MPG]</th>\n",
       "    </tr>\n",
       "  </thead>\n",
       "  <tbody>\n",
       "    <tr>\n",
       "      <th>dnn_model_concat</th>\n",
       "      <td>0.222284</td>\n",
       "    </tr>\n",
       "    <tr>\n",
       "      <th>dnn_model_feature_extraction</th>\n",
       "      <td>0.304758</td>\n",
       "    </tr>\n",
       "    <tr>\n",
       "      <th>dnn_model_feature_selection</th>\n",
       "      <td>0.289820</td>\n",
       "    </tr>\n",
       "  </tbody>\n",
       "</table>\n",
       "</div>"
      ],
      "text/plain": [
       "                              Mean absolute error [MPG]\n",
       "dnn_model_concat                               0.222284\n",
       "dnn_model_feature_extraction                   0.304758\n",
       "dnn_model_feature_selection                    0.289820"
      ]
     },
     "execution_count": 114,
     "metadata": {},
     "output_type": "execute_result"
    }
   ],
   "source": [
    "pd.DataFrame(test_results, index=['Mean absolute error [MPG]']).T"
   ]
  },
  {
   "cell_type": "markdown",
   "id": "d0c6fc2d",
   "metadata": {},
   "source": [
    "It makes sense that the model trained on the full data (concat) performed the best. It's interesting that feature selection outperformed feature extraction, though! More variance was lost when reducing all of the data from 4 dimensions to 3 by constructing a new set of principal components than it was by simply dropping a column."
   ]
  },
  {
   "cell_type": "markdown",
   "id": "e521eeec",
   "metadata": {},
   "source": [
    "### Adding regularization"
   ]
  },
  {
   "cell_type": "markdown",
   "id": "ace74362",
   "metadata": {},
   "source": [
    "We will add l2-regularization to the model that performed the best (dnn_model_concat) to see if we can get that mean absolute error even lower! Here, we define a new model. Note that we still use relu activation (could use elu instead). We use the same number of layers, although we could add more. We use the same optimizer."
   ]
  },
  {
   "cell_type": "code",
   "execution_count": 131,
   "id": "beb9fe18",
   "metadata": {},
   "outputs": [],
   "source": [
    "def build_and_compile_model(norm):\n",
    "  model = tf.keras.Sequential([\n",
    "        layers.Dense(512, activation='relu',\n",
    "                     kernel_regularizer=regularizers.l2(0.001),\n",
    "                     input_shape=(cu4_concat.shape[1] - 1,)),\n",
    "        layers.Dense(512, activation='relu',\n",
    "                     kernel_regularizer=regularizers.l2(0.001)),\n",
    "        layers.Dense(1)\n",
    "    ])\n",
    "\n",
    "  model.compile(loss='mean_absolute_error',\n",
    "                optimizer=tf.keras.optimizers.Adam(0.001))\n",
    "  return model"
   ]
  },
  {
   "cell_type": "code",
   "execution_count": 132,
   "id": "1c11e900",
   "metadata": {},
   "outputs": [
    {
     "name": "stdout",
     "output_type": "stream",
     "text": [
      "Model: \"sequential_9\"\n",
      "_________________________________________________________________\n",
      " Layer (type)                Output Shape              Param #   \n",
      "=================================================================\n",
      " dense_27 (Dense)            (None, 512)               2560      \n",
      "                                                                 \n",
      " dense_28 (Dense)            (None, 512)               262656    \n",
      "                                                                 \n",
      " dense_29 (Dense)            (None, 1)                 513       \n",
      "                                                                 \n",
      "=================================================================\n",
      "Total params: 265,729\n",
      "Trainable params: 265,729\n",
      "Non-trainable params: 0\n",
      "_________________________________________________________________\n"
     ]
    }
   ],
   "source": [
    "dnn_model_l2 = build_and_compile_model(normalizer_concat)\n",
    "dnn_model_l2.summary()"
   ]
  },
  {
   "cell_type": "code",
   "execution_count": 133,
   "id": "7560fe0c",
   "metadata": {},
   "outputs": [
    {
     "name": "stdout",
     "output_type": "stream",
     "text": [
      "CPU times: user 2min 39s, sys: 27 s, total: 3min 6s\n",
      "Wall time: 55 s\n"
     ]
    }
   ],
   "source": [
    "%%time\n",
    "history_l2 = dnn_model_l2.fit(\n",
    "    train_features_concat,\n",
    "    train_labels_concat,\n",
    "    validation_split=0.2,\n",
    "    verbose=0, epochs=100)"
   ]
  },
  {
   "cell_type": "code",
   "execution_count": 134,
   "id": "db74d205",
   "metadata": {},
   "outputs": [
    {
     "data": {
      "image/png": "[encoded data removed]",
      "text/plain": [
       "<Figure size 432x288 with 1 Axes>"
      ]
     },
     "metadata": {
      "needs_background": "light"
     },
     "output_type": "display_data"
    }
   ],
   "source": [
    "plot_loss(history_l2)"
   ]
  },
  {
   "cell_type": "code",
   "execution_count": 136,
   "id": "d6a92635",
   "metadata": {},
   "outputs": [],
   "source": [
    "test_results['dnn_model_l2'] = dnn_model_l2.evaluate(test_features_concat, test_labels_concat, verbose=0)"
   ]
  },
  {
   "cell_type": "markdown",
   "id": "11589a9c",
   "metadata": {},
   "source": [
    "Now, how does this model compare to the others?"
   ]
  },
  {
   "cell_type": "code",
   "execution_count": 137,
   "id": "3b865a97",
   "metadata": {},
   "outputs": [
    {
     "data": {
      "text/html": [
       "<div>\n",
       "<style scoped>\n",
       "    .dataframe tbody tr th:only-of-type {\n",
       "        vertical-align: middle;\n",
       "    }\n",
       "\n",
       "    .dataframe tbody tr th {\n",
       "        vertical-align: top;\n",
       "    }\n",
       "\n",
       "    .dataframe thead th {\n",
       "        text-align: right;\n",
       "    }\n",
       "</style>\n",
       "<table border=\"1\" class=\"dataframe\">\n",
       "  <thead>\n",
       "    <tr style=\"text-align: right;\">\n",
       "      <th></th>\n",
       "      <th>Mean absolute error [MPG]</th>\n",
       "    </tr>\n",
       "  </thead>\n",
       "  <tbody>\n",
       "    <tr>\n",
       "      <th>dnn_model_concat</th>\n",
       "      <td>0.222284</td>\n",
       "    </tr>\n",
       "    <tr>\n",
       "      <th>dnn_model_feature_extraction</th>\n",
       "      <td>0.304758</td>\n",
       "    </tr>\n",
       "    <tr>\n",
       "      <th>dnn_model_feature_selection</th>\n",
       "      <td>0.289820</td>\n",
       "    </tr>\n",
       "    <tr>\n",
       "      <th>dnn_model_l2</th>\n",
       "      <td>0.283773</td>\n",
       "    </tr>\n",
       "  </tbody>\n",
       "</table>\n",
       "</div>"
      ],
      "text/plain": [
       "                              Mean absolute error [MPG]\n",
       "dnn_model_concat                               0.222284\n",
       "dnn_model_feature_extraction                   0.304758\n",
       "dnn_model_feature_selection                    0.289820\n",
       "dnn_model_l2                                   0.283773"
      ]
     },
     "execution_count": 137,
     "metadata": {},
     "output_type": "execute_result"
    }
   ],
   "source": [
    "pd.DataFrame(test_results, index=['Mean absolute error [MPG]']).T"
   ]
  },
  {
   "cell_type": "markdown",
   "id": "cd576dd4",
   "metadata": {},
   "source": [
    "Meh, it doesn't do as well!"
   ]
  }
 ],
 "metadata": {
  "kernelspec": {
   "display_name": "Python 3 (ipykernel)",
   "language": "python",
   "name": "python3"
  },
  "language_info": {
   "codemirror_mode": {
    "name": "ipython",
    "version": 3
   },
   "file_extension": ".py",
   "mimetype": "text/x-python",
   "name": "python",
   "nbconvert_exporter": "python",
   "pygments_lexer": "ipython3",
   "version": "3.8.5"
  }
 },
 "nbformat": 4,
 "nbformat_minor": 5
}
