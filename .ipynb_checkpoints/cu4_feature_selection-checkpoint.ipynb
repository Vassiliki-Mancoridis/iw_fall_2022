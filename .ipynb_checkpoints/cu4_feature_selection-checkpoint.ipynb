{
 "cells": [
  {
   "cell_type": "markdown",
   "id": "c4c73cf4",
   "metadata": {},
   "source": [
    "## CU4 Feature Selection\n",
    "- Notebook design\n",
    "- Data loading and setup\n",
    "- When does eta get selected out?\n",
    "- Does it depend on which PCA feature selection algorithm is used?\n",
    "- Results summary"
   ]
  },
  {
   "cell_type": "markdown",
   "id": "f73b17b3",
   "metadata": {},
   "source": [
    "### Notebook design\n",
    "\n",
    "In the cu4_data_exploration notebook, we had the unusual result that, when performing feature selection on the data, the eta variable was selected out. In other words, with three eigenvectors, the eta value was the feature out of all original features that explained the least variance of the data. This seems counter-intuitive, because we would expect wave height to be heavily coupled with all other variables in the set. In this notebook, we will perform manual feature selection, taking certain variables and viewing correlations, to investigate the level of correlation of eta with all other variables in the set."
   ]
  },
  {
   "cell_type": "markdown",
   "id": "a9131d7b",
   "metadata": {},
   "source": [
    "### Data loading and setup\n",
    "\n",
    "We must install software, import libraries, and download the data before beginning."
   ]
  },
  {
   "cell_type": "code",
   "execution_count": 3,
   "id": "bfbd3091",
   "metadata": {},
   "outputs": [
    {
     "name": "stdout",
     "output_type": "stream",
     "text": [
      "Requirement already satisfied: tabulate in /Library/Frameworks/Python.framework/Versions/3.8/lib/python3.8/site-packages (0.9.0)\n",
      "\u001b[33mWARNING: You are using pip version 21.2.4; however, version 22.3 is available.\n",
      "You should consider upgrading via the '/Library/Frameworks/Python.framework/Versions/3.8/bin/python3.8 -m pip install --upgrade pip' command.\u001b[0m\n"
     ]
    }
   ],
   "source": [
    "! pip install tabulate"
   ]
  },
  {
   "cell_type": "code",
   "execution_count": 4,
   "id": "febdfae2",
   "metadata": {},
   "outputs": [],
   "source": [
    "import OpenMORe.OpenMORe.model_order_reduction as model_order_reduction\n",
    "import numpy as np\n",
    "from OpenMORe.OpenMORe.utilities import *\n",
    "from numpy import genfromtxt\n",
    "from tabulate import tabulate\n",
    "import pandas as pd\n",
    "from scipy.stats import pearsonr"
   ]
  },
  {
   "cell_type": "code",
   "execution_count": 5,
   "id": "6c0f1185",
   "metadata": {},
   "outputs": [],
   "source": [
    "cu4_concat = genfromtxt('cu4_concat.csv', delimiter=',')"
   ]
  },
  {
   "cell_type": "markdown",
   "id": "1c9d3c25",
   "metadata": {},
   "source": [
    "### When does eta get selected out?\n",
    "\n",
    "Recall that there are 5 variables: x, eta, u, v, and pressure. They correspond to the indices 0, 1, 2, 3, and 4, respectively. We saw that eta was selected out when all five variables were given. Does it always get selected out, no matter the subset of variables considered? Let us investigate."
   ]
  },
  {
   "cell_type": "markdown",
   "id": "66b817d6",
   "metadata": {},
   "source": [
    "Again, we are referencing the OpenMORe library. Here is the credit:\n",
    "\n",
    "D'Alessio et al., \"Analysis of turbulent reacting jets via principal component analysis.\" Data Analysis for Direct Numerical Simulations of Turbulent Combustion. Springer, Cham, 2020. 233-251.\n",
    "\n",
    "Here is the selection with all data:"
   ]
  },
  {
   "cell_type": "code",
   "execution_count": 8,
   "id": "3900f9fb",
   "metadata": {},
   "outputs": [
    {
     "data": {
      "text/plain": [
       "(10240, 5)"
      ]
     },
     "execution_count": 8,
     "metadata": {},
     "output_type": "execute_result"
    }
   ],
   "source": [
    "cu4_concat.shape"
   ]
  },
  {
   "cell_type": "code",
   "execution_count": 9,
   "id": "fb3d82c6",
   "metadata": {},
   "outputs": [
    {
     "name": "stdout",
     "output_type": "stream",
     "text": [
      "Could not open/read the selected file: not given\n",
      "Using variables numbers instead of names.\n",
      "Selecting global variables via PCA and procrustes Analysis...\n",
      "Current number of variables: 4\n",
      "[0 2 3 4]\n"
     ]
    }
   ],
   "source": [
    "# Dictionary with the instructions for PCA feature selection class:\n",
    "settings = {\n",
    "    #centering and scaling options\n",
    "    \"center\"                    : True,\n",
    "    \"centering_method\"          : \"mean\",\n",
    "    \"scale\"                     : True,\n",
    "    \"scaling_method\"            : \"auto\",\n",
    "\n",
    "    #variables selection options\n",
    "    \"method\"                    : \"procrustes\",\n",
    "    \"number_of_eigenvectors\"    : 3,\n",
    "    \"number_of_variables\"       : 4\n",
    "}\n",
    "\n",
    "PVs = model_order_reduction.variables_selection(cu4_concat, settings)\n",
    "labels, numbers = PVs.fit()\n",
    "print(labels)"
   ]
  },
  {
   "cell_type": "markdown",
   "id": "2eff698f",
   "metadata": {},
   "source": [
    "Next, we will prepare the data inputs, removing one variable at a time."
   ]
  },
  {
   "cell_type": "code",
   "execution_count": 6,
   "id": "2971d65a",
   "metadata": {},
   "outputs": [],
   "source": [
    "cu4_no_x = cu4_concat[:,[1,2,3,4]]\n",
    "cu4_no_u = cu4_concat[:,[0,1,3,4]]\n",
    "cu4_no_v = cu4_concat[:,[0,1,2,4]]\n",
    "cu4_no_pressure = cu4_concat[:,[0,1,2,3]]\n",
    "cu4_no_eta = cu4_concat[:,[0,2,3,4]]"
   ]
  },
  {
   "cell_type": "markdown",
   "id": "5cbe7daf",
   "metadata": {},
   "source": [
    "We also specify our settings for PCA feature selection."
   ]
  },
  {
   "cell_type": "code",
   "execution_count": 7,
   "id": "919e7833",
   "metadata": {},
   "outputs": [],
   "source": [
    "# Dictionary with the instructions for PCA feature selection class:\n",
    "settings = {\n",
    "    #centering and scaling options\n",
    "    \"center\"                    : True,\n",
    "    \"centering_method\"          : \"mean\",\n",
    "    \"scale\"                     : True,\n",
    "    \"scaling_method\"            : \"auto\",\n",
    "\n",
    "    #variables selection options\n",
    "    \"method\"                    : \"procrustes\",\n",
    "    \"number_of_eigenvectors\"    : 2,\n",
    "    \"number_of_variables\"       : 3\n",
    "}"
   ]
  },
  {
   "cell_type": "markdown",
   "id": "58b7f1fd",
   "metadata": {},
   "source": [
    "What happens when x is removed? Is eta still selected out? Yes, it is."
   ]
  },
  {
   "cell_type": "code",
   "execution_count": 8,
   "id": "cd98a16f",
   "metadata": {},
   "outputs": [
    {
     "name": "stdout",
     "output_type": "stream",
     "text": [
      "Could not open/read the selected file: not given\n",
      "Using variables numbers instead of names.\n",
      "Selecting global variables via PCA and procrustes Analysis...\n",
      "Current number of variables: 3\n",
      "[1 2 3]\n"
     ]
    }
   ],
   "source": [
    "PVs = model_order_reduction.variables_selection(cu4_no_x, settings)\n",
    "labels, numbers = PVs.fit()\n",
    "print(labels)"
   ]
  },
  {
   "cell_type": "markdown",
   "id": "fce353ea",
   "metadata": {},
   "source": [
    "What happens when u is removed? Is eta still selected out? Yes, it is."
   ]
  },
  {
   "cell_type": "code",
   "execution_count": 9,
   "id": "88afb243",
   "metadata": {},
   "outputs": [
    {
     "name": "stdout",
     "output_type": "stream",
     "text": [
      "Could not open/read the selected file: not given\n",
      "Using variables numbers instead of names.\n",
      "Selecting global variables via PCA and procrustes Analysis...\n",
      "Current number of variables: 3\n",
      "[0 2 3]\n"
     ]
    }
   ],
   "source": [
    "PVs = model_order_reduction.variables_selection(cu4_no_u, settings)\n",
    "labels, numbers = PVs.fit()\n",
    "print(labels)"
   ]
  },
  {
   "cell_type": "markdown",
   "id": "75fb4bd3",
   "metadata": {},
   "source": [
    "What happens when v is removed? Is eta still selected out? No, u is selected out."
   ]
  },
  {
   "cell_type": "code",
   "execution_count": 10,
   "id": "ed5974a3",
   "metadata": {},
   "outputs": [
    {
     "name": "stdout",
     "output_type": "stream",
     "text": [
      "Could not open/read the selected file: not given\n",
      "Using variables numbers instead of names.\n",
      "Selecting global variables via PCA and procrustes Analysis...\n",
      "Current number of variables: 3\n",
      "[0 1 3]\n"
     ]
    }
   ],
   "source": [
    "PVs = model_order_reduction.variables_selection(cu4_no_v, settings)\n",
    "labels, numbers = PVs.fit()\n",
    "print(labels)"
   ]
  },
  {
   "cell_type": "markdown",
   "id": "c29a26be",
   "metadata": {},
   "source": [
    "What happens when pressure is removed? Is eta still selected out? No, x is selected out."
   ]
  },
  {
   "cell_type": "code",
   "execution_count": 11,
   "id": "7968e262",
   "metadata": {},
   "outputs": [
    {
     "name": "stdout",
     "output_type": "stream",
     "text": [
      "Could not open/read the selected file: not given\n",
      "Using variables numbers instead of names.\n",
      "Selecting global variables via PCA and procrustes Analysis...\n",
      "Current number of variables: 3\n",
      "[1 2 3]\n"
     ]
    }
   ],
   "source": [
    "PVs = model_order_reduction.variables_selection(cu4_no_pressure, settings)\n",
    "labels, numbers = PVs.fit()\n",
    "print(labels)"
   ]
  },
  {
   "cell_type": "markdown",
   "id": "33526d7c",
   "metadata": {},
   "source": [
    "What about when eta is removed? Then, x is selected out."
   ]
  },
  {
   "cell_type": "code",
   "execution_count": 12,
   "id": "ceecc1c4",
   "metadata": {},
   "outputs": [
    {
     "name": "stdout",
     "output_type": "stream",
     "text": [
      "Could not open/read the selected file: not given\n",
      "Using variables numbers instead of names.\n",
      "Selecting global variables via PCA and procrustes Analysis...\n",
      "Current number of variables: 3\n",
      "[1 2 3]\n"
     ]
    }
   ],
   "source": [
    "PVs = model_order_reduction.variables_selection(cu4_no_eta, settings)\n",
    "labels, numbers = PVs.fit()\n",
    "print(labels)"
   ]
  },
  {
   "cell_type": "markdown",
   "id": "243f7b90",
   "metadata": {},
   "source": [
    "Here is a table summarizing our results:"
   ]
  },
  {
   "cell_type": "code",
   "execution_count": 13,
   "id": "c8dadb6f",
   "metadata": {},
   "outputs": [],
   "source": [
    "table = [['Variables Removed', 'Feature Selected out'],\n",
    "         ['None', 'eta'],['x', 'eta'],['u', 'eta'],['v', 'u'],['pressure','x'],['eta','x']]"
   ]
  },
  {
   "cell_type": "code",
   "execution_count": 14,
   "id": "8f0220d9",
   "metadata": {},
   "outputs": [
    {
     "name": "stdout",
     "output_type": "stream",
     "text": [
      "╒═════════════════════╤════════════════════════╕\n",
      "│ Variables Removed   │ Feature Selected out   │\n",
      "╞═════════════════════╪════════════════════════╡\n",
      "│ None                │ eta                    │\n",
      "├─────────────────────┼────────────────────────┤\n",
      "│ x                   │ eta                    │\n",
      "├─────────────────────┼────────────────────────┤\n",
      "│ u                   │ eta                    │\n",
      "├─────────────────────┼────────────────────────┤\n",
      "│ v                   │ u                      │\n",
      "├─────────────────────┼────────────────────────┤\n",
      "│ pressure            │ x                      │\n",
      "├─────────────────────┼────────────────────────┤\n",
      "│ eta                 │ x                      │\n",
      "╘═════════════════════╧════════════════════════╛\n"
     ]
    }
   ],
   "source": [
    "print(tabulate(table, headers=\"firstrow\", tablefmt='fancy_grid'))"
   ]
  },
  {
   "cell_type": "markdown",
   "id": "29401360",
   "metadata": {},
   "source": [
    "### Does it depend on which PCA feature selection algorithm is used?"
   ]
  },
  {
   "cell_type": "markdown",
   "id": "eb5e1aa7",
   "metadata": {},
   "source": [
    "We will now conduct the same exploration, using a different feature selection algorithm. Note that the algorithm we used before was procrustes.\n",
    "\n",
    "####  Algorithm: procrustes_rotation\n",
    "\n",
    "With all variables, eta is still removed."
   ]
  },
  {
   "cell_type": "code",
   "execution_count": 34,
   "id": "67d5cb70",
   "metadata": {},
   "outputs": [
    {
     "name": "stdout",
     "output_type": "stream",
     "text": [
      "Could not open/read the selected file: not given\n",
      "Using variables numbers instead of names.\n",
      "Iteration number: 2\n",
      "Convergence residuals: 1.9579613454153063e-16\n",
      "Iteration number: 3\n",
      "Convergence residuals: 0.0\n",
      "Iteration number: 2\n",
      "Convergence residuals: 1.2675710703049954e-16\n",
      "Iteration number: 3\n",
      "Convergence residuals: 1.2675710703049956e-16\n",
      "Iteration number: 4\n",
      "Convergence residuals: 1.2675710703049959e-16\n",
      "Iteration number: 5\n",
      "Convergence residuals: 1.2675710703049956e-16\n",
      "Iteration number: 6\n",
      "Convergence residuals: 0.0\n",
      "Iteration number: 2\n",
      "Convergence residuals: 3.022043376861385e-16\n",
      "Iteration number: 3\n",
      "Convergence residuals: 1.5110216884306928e-16\n",
      "Iteration number: 4\n",
      "Convergence residuals: 1.5110216884306925e-16\n",
      "Iteration number: 5\n",
      "Convergence residuals: 0.0\n",
      "Iteration number: 2\n",
      "Convergence residuals: 1.608150512877493e-16\n",
      "Iteration number: 3\n",
      "Convergence residuals: 1.6081505128774928e-16\n",
      "Iteration number: 4\n",
      "Convergence residuals: 0.0\n",
      "Iteration number: 2\n",
      "Convergence residuals: 1.8088069996923338e-16\n",
      "Iteration number: 3\n",
      "Convergence residuals: 1.8088069996923343e-16\n",
      "Iteration number: 4\n",
      "Convergence residuals: 0.0\n",
      "Current number of variables: 4\n",
      "[0 2 3 4]\n"
     ]
    }
   ],
   "source": [
    "# Dictionary with the instructions for PCA feature selection class:\n",
    "settings = {\n",
    "    #centering and scaling options\n",
    "    \"center\"                    : True,\n",
    "    \"centering_method\"          : \"mean\",\n",
    "    \"scale\"                     : True,\n",
    "    \"scaling_method\"            : \"auto\",\n",
    "\n",
    "    #variables selection options\n",
    "    \"method\"                    : \"procrustes_rotation\",\n",
    "    \"number_of_eigenvectors\"    : 3,\n",
    "    \"number_of_variables\"       : 4\n",
    "}\n",
    "\n",
    "PVs = model_order_reduction.variables_selection(cu4_concat, settings)\n",
    "labels, numbers = PVs.fit()\n",
    "print(labels)"
   ]
  },
  {
   "cell_type": "markdown",
   "id": "0c7fdf92",
   "metadata": {},
   "source": [
    "For removal of one variable at a time, specify feature selection class settings."
   ]
  },
  {
   "cell_type": "code",
   "execution_count": 35,
   "id": "889f9492",
   "metadata": {},
   "outputs": [],
   "source": [
    "# Dictionary with the instructions for PCA feature selection class:\n",
    "settings = {\n",
    "    #centering and scaling options\n",
    "    \"center\"                    : True,\n",
    "    \"centering_method\"          : \"mean\",\n",
    "    \"scale\"                     : True,\n",
    "    \"scaling_method\"            : \"auto\",\n",
    "\n",
    "    #variables selection options\n",
    "    \"method\"                    : \"procrustes_rotation\",\n",
    "    \"number_of_eigenvectors\"    : 2,\n",
    "    \"number_of_variables\"       : 3\n",
    "}"
   ]
  },
  {
   "cell_type": "markdown",
   "id": "1cb83d82",
   "metadata": {},
   "source": [
    "With no x, eta is still selected out."
   ]
  },
  {
   "cell_type": "code",
   "execution_count": 36,
   "id": "92552690",
   "metadata": {},
   "outputs": [
    {
     "name": "stdout",
     "output_type": "stream",
     "text": [
      "Could not open/read the selected file: not given\n",
      "Using variables numbers instead of names.\n",
      "Iteration number: 2\n",
      "Convergence residuals: 0.0\n",
      "Iteration number: 2\n",
      "Convergence residuals: 1.518999753736639e-16\n",
      "Iteration number: 3\n",
      "Convergence residuals: 0.0\n",
      "Iteration number: 2\n",
      "Convergence residuals: 1.2625184455400964e-16\n",
      "Iteration number: 3\n",
      "Convergence residuals: 1.2625184455400964e-16\n",
      "Iteration number: 4\n",
      "Convergence residuals: 0.0\n",
      "Iteration number: 2\n",
      "Convergence residuals: 4.18310858242211e-16\n",
      "Iteration number: 3\n",
      "Convergence residuals: 0.0\n",
      "Current number of variables: 3\n",
      "[1 2 3]\n"
     ]
    }
   ],
   "source": [
    "PVs = model_order_reduction.variables_selection(cu4_no_x, settings)\n",
    "labels, numbers = PVs.fit()\n",
    "print(labels)"
   ]
  },
  {
   "cell_type": "markdown",
   "id": "814847da",
   "metadata": {},
   "source": [
    "With no u, eta is selected out."
   ]
  },
  {
   "cell_type": "code",
   "execution_count": 37,
   "id": "23700d6c",
   "metadata": {},
   "outputs": [
    {
     "name": "stdout",
     "output_type": "stream",
     "text": [
      "Could not open/read the selected file: not given\n",
      "Using variables numbers instead of names.\n",
      "Iteration number: 2\n",
      "Convergence residuals: 1.518999753736639e-16\n",
      "Iteration number: 3\n",
      "Convergence residuals: 0.0\n",
      "Iteration number: 2\n",
      "Convergence residuals: 0.0\n",
      "Iteration number: 2\n",
      "Convergence residuals: 1.8167302673153517e-16\n",
      "Iteration number: 3\n",
      "Convergence residuals: 0.0\n",
      "Iteration number: 2\n",
      "Convergence residuals: 2.967676696299443e-16\n",
      "Iteration number: 3\n",
      "Convergence residuals: 0.0\n",
      "Current number of variables: 3\n",
      "[0 2 3]\n"
     ]
    }
   ],
   "source": [
    "PVs = model_order_reduction.variables_selection(cu4_no_u, settings)\n",
    "labels, numbers = PVs.fit()\n",
    "print(labels)"
   ]
  },
  {
   "cell_type": "markdown",
   "id": "81606dde",
   "metadata": {},
   "source": [
    "With no v, u is selected out."
   ]
  },
  {
   "cell_type": "code",
   "execution_count": 38,
   "id": "247d1228",
   "metadata": {},
   "outputs": [
    {
     "name": "stdout",
     "output_type": "stream",
     "text": [
      "Could not open/read the selected file: not given\n",
      "Using variables numbers instead of names.\n",
      "Iteration number: 2\n",
      "Convergence residuals: 1.2625184455400964e-16\n",
      "Iteration number: 3\n",
      "Convergence residuals: 1.2625184455400964e-16\n",
      "Iteration number: 4\n",
      "Convergence residuals: 0.0\n",
      "Iteration number: 2\n",
      "Convergence residuals: 0.0\n",
      "Iteration number: 2\n",
      "Convergence residuals: 1.8167302673153517e-16\n",
      "Iteration number: 3\n",
      "Convergence residuals: 0.0\n",
      "Iteration number: 2\n",
      "Convergence residuals: 1.383731827351381e-16\n",
      "Iteration number: 3\n",
      "Convergence residuals: 0.0\n",
      "Current number of variables: 3\n",
      "[0 1 3]\n"
     ]
    }
   ],
   "source": [
    "PVs = model_order_reduction.variables_selection(cu4_no_v, settings)\n",
    "labels, numbers = PVs.fit()\n",
    "print(labels)"
   ]
  },
  {
   "cell_type": "markdown",
   "id": "20fe0d7d",
   "metadata": {},
   "source": [
    "With no pressure, x is selected out."
   ]
  },
  {
   "cell_type": "code",
   "execution_count": 39,
   "id": "b81077f0",
   "metadata": {},
   "outputs": [
    {
     "name": "stdout",
     "output_type": "stream",
     "text": [
      "Could not open/read the selected file: not given\n",
      "Using variables numbers instead of names.\n",
      "Iteration number: 2\n",
      "Convergence residuals: 4.18310858242211e-16\n",
      "Iteration number: 3\n",
      "Convergence residuals: 0.0\n",
      "Iteration number: 2\n",
      "Convergence residuals: 1.2685414225647842e-16\n",
      "Iteration number: 3\n",
      "Convergence residuals: 0.0\n",
      "Iteration number: 2\n",
      "Convergence residuals: 2.967676696299443e-16\n",
      "Iteration number: 3\n",
      "Convergence residuals: 0.0\n",
      "Iteration number: 2\n",
      "Convergence residuals: 1.383731827351381e-16\n",
      "Iteration number: 3\n",
      "Convergence residuals: 0.0\n",
      "Current number of variables: 3\n",
      "[1 2 3]\n"
     ]
    }
   ],
   "source": [
    "PVs = model_order_reduction.variables_selection(cu4_no_pressure, settings)\n",
    "labels, numbers = PVs.fit()\n",
    "print(labels)"
   ]
  },
  {
   "cell_type": "markdown",
   "id": "acffc240",
   "metadata": {},
   "source": [
    "#### Algorithm: B4\n",
    "\n",
    "With all the data still there, pressure is removed."
   ]
  },
  {
   "cell_type": "code",
   "execution_count": 41,
   "id": "cfe72d34",
   "metadata": {},
   "outputs": [
    {
     "name": "stdout",
     "output_type": "stream",
     "text": [
      "Could not open/read the selected file: not given\n",
      "Using variables numbers instead of names.\n",
      "Selecting global variables via B4 method..\n",
      "[1, 3, 0, 2]\n"
     ]
    }
   ],
   "source": [
    "# Dictionary with the instructions for PCA feature selection class:\n",
    "settings = {\n",
    "    #centering and scaling options\n",
    "    \"center\"                    : True,\n",
    "    \"centering_method\"          : \"mean\",\n",
    "    \"scale\"                     : True,\n",
    "    \"scaling_method\"            : \"auto\",\n",
    "\n",
    "    #variables selection options\n",
    "    \"method\"                    : \"B4\",\n",
    "    \"number_of_eigenvectors\"    : 4,\n",
    "    \"number_of_variables\"       : 4\n",
    "}\n",
    "\n",
    "PVs = model_order_reduction.variables_selection(cu4_concat, settings)\n",
    "labels, numbers = PVs.fit()\n",
    "print(labels)"
   ]
  },
  {
   "cell_type": "markdown",
   "id": "12415f4f",
   "metadata": {},
   "source": [
    "For removal of one variable at a time, specify feature selection class settings."
   ]
  },
  {
   "cell_type": "code",
   "execution_count": 44,
   "id": "f3c9cc50",
   "metadata": {},
   "outputs": [],
   "source": [
    "# Dictionary with the instructions for PCA feature selection class:\n",
    "settings = {\n",
    "    #centering and scaling options\n",
    "    \"center\"                    : True,\n",
    "    \"centering_method\"          : \"mean\",\n",
    "    \"scale\"                     : True,\n",
    "    \"scaling_method\"            : \"auto\",\n",
    "\n",
    "    #variables selection options\n",
    "    \"method\"                    : \"B4\",\n",
    "    \"number_of_eigenvectors\"    : 3,\n",
    "    \"number_of_variables\"       : 3\n",
    "}"
   ]
  },
  {
   "cell_type": "markdown",
   "id": "7c43994b",
   "metadata": {},
   "source": [
    "With no x, pressure is selected out."
   ]
  },
  {
   "cell_type": "code",
   "execution_count": 45,
   "id": "f90b8119",
   "metadata": {},
   "outputs": [
    {
     "name": "stdout",
     "output_type": "stream",
     "text": [
      "Could not open/read the selected file: not given\n",
      "Using variables numbers instead of names.\n",
      "Selecting global variables via B4 method..\n",
      "[0, 2, 1]\n"
     ]
    }
   ],
   "source": [
    "PVs = model_order_reduction.variables_selection(cu4_no_x, settings)\n",
    "labels, numbers = PVs.fit()\n",
    "print(labels)"
   ]
  },
  {
   "cell_type": "markdown",
   "id": "b3ee2a37",
   "metadata": {},
   "source": [
    "With no u, v is selected out."
   ]
  },
  {
   "cell_type": "code",
   "execution_count": 46,
   "id": "3941bdb9",
   "metadata": {},
   "outputs": [
    {
     "name": "stdout",
     "output_type": "stream",
     "text": [
      "Could not open/read the selected file: not given\n",
      "Using variables numbers instead of names.\n",
      "Selecting global variables via B4 method..\n",
      "[1, 0, 3]\n"
     ]
    }
   ],
   "source": [
    "PVs = model_order_reduction.variables_selection(cu4_no_u, settings)\n",
    "labels, numbers = PVs.fit()\n",
    "print(labels)"
   ]
  },
  {
   "cell_type": "markdown",
   "id": "9bbf8de1",
   "metadata": {},
   "source": [
    "With no v, eta is selected out."
   ]
  },
  {
   "cell_type": "code",
   "execution_count": 47,
   "id": "af78eb70",
   "metadata": {},
   "outputs": [
    {
     "name": "stdout",
     "output_type": "stream",
     "text": [
      "Could not open/read the selected file: not given\n",
      "Using variables numbers instead of names.\n",
      "Selecting global variables via B4 method..\n",
      "[3, 0, 2]\n"
     ]
    }
   ],
   "source": [
    "PVs = model_order_reduction.variables_selection(cu4_no_v, settings)\n",
    "labels, numbers = PVs.fit()\n",
    "print(labels)"
   ]
  },
  {
   "cell_type": "markdown",
   "id": "28738e47",
   "metadata": {},
   "source": [
    "With no pressure, eta is selected out."
   ]
  },
  {
   "cell_type": "code",
   "execution_count": 48,
   "id": "8228dd78",
   "metadata": {},
   "outputs": [
    {
     "name": "stdout",
     "output_type": "stream",
     "text": [
      "Could not open/read the selected file: not given\n",
      "Using variables numbers instead of names.\n",
      "Selecting global variables via B4 method..\n",
      "[3, 2, 0]\n"
     ]
    }
   ],
   "source": [
    "PVs = model_order_reduction.variables_selection(cu4_no_pressure, settings)\n",
    "labels, numbers = PVs.fit()\n",
    "print(labels)"
   ]
  },
  {
   "cell_type": "markdown",
   "id": "70a86919",
   "metadata": {},
   "source": [
    "#### Algorithm: B2\n",
    "\n",
    "With all the data still there, u is selected out. Very surprising!"
   ]
  },
  {
   "cell_type": "code",
   "execution_count": 50,
   "id": "2556fa2e",
   "metadata": {},
   "outputs": [
    {
     "name": "stdout",
     "output_type": "stream",
     "text": [
      "Could not open/read the selected file: not given\n",
      "Using variables numbers instead of names.\n",
      "Selecting global variables via B2 method..\n",
      "Current number of variables: 4\n",
      "[0 1 3 4]\n"
     ]
    }
   ],
   "source": [
    "# Dictionary with the instructions for PCA feature selection class:\n",
    "settings = {\n",
    "    #centering and scaling options\n",
    "    \"center\"                    : True,\n",
    "    \"centering_method\"          : \"mean\",\n",
    "    \"scale\"                     : True,\n",
    "    \"scaling_method\"            : \"auto\",\n",
    "\n",
    "    #variables selection options\n",
    "    \"method\"                    : \"B2\",\n",
    "    \"number_of_eigenvectors\"    : 4,\n",
    "    \"number_of_variables\"       : 4\n",
    "}\n",
    "\n",
    "PVs = model_order_reduction.variables_selection(cu4_concat, settings)\n",
    "labels, numbers = PVs.fit()\n",
    "print(labels)"
   ]
  },
  {
   "cell_type": "markdown",
   "id": "64898ef6",
   "metadata": {},
   "source": [
    "For removal of one variable at a time, specify feature selection class settings."
   ]
  },
  {
   "cell_type": "code",
   "execution_count": 52,
   "id": "83947f5b",
   "metadata": {},
   "outputs": [],
   "source": [
    "# Dictionary with the instructions for PCA feature selection class:\n",
    "settings = {\n",
    "    #centering and scaling options\n",
    "    \"center\"                    : True,\n",
    "    \"centering_method\"          : \"mean\",\n",
    "    \"scale\"                     : True,\n",
    "    \"scaling_method\"            : \"auto\",\n",
    "\n",
    "    #variables selection options\n",
    "    \"method\"                    : \"B4\",\n",
    "    \"number_of_eigenvectors\"    : 3,\n",
    "    \"number_of_variables\"       : 3\n",
    "}"
   ]
  },
  {
   "cell_type": "markdown",
   "id": "0ac22f74",
   "metadata": {},
   "source": [
    "With no x, pressure is selected out."
   ]
  },
  {
   "cell_type": "code",
   "execution_count": 53,
   "id": "99b9709e",
   "metadata": {},
   "outputs": [
    {
     "name": "stdout",
     "output_type": "stream",
     "text": [
      "Could not open/read the selected file: not given\n",
      "Using variables numbers instead of names.\n",
      "Selecting global variables via B4 method..\n",
      "[0, 2, 1]\n"
     ]
    }
   ],
   "source": [
    "PVs = model_order_reduction.variables_selection(cu4_no_x, settings)\n",
    "labels, numbers = PVs.fit()\n",
    "print(labels)"
   ]
  },
  {
   "cell_type": "markdown",
   "id": "a47e65d8",
   "metadata": {},
   "source": [
    "With no u, v is selected out."
   ]
  },
  {
   "cell_type": "code",
   "execution_count": 54,
   "id": "5618507b",
   "metadata": {},
   "outputs": [
    {
     "name": "stdout",
     "output_type": "stream",
     "text": [
      "Could not open/read the selected file: not given\n",
      "Using variables numbers instead of names.\n",
      "Selecting global variables via B4 method..\n",
      "[1, 0, 3]\n"
     ]
    }
   ],
   "source": [
    "PVs = model_order_reduction.variables_selection(cu4_no_u, settings)\n",
    "labels, numbers = PVs.fit()\n",
    "print(labels)"
   ]
  },
  {
   "cell_type": "markdown",
   "id": "4423bdda",
   "metadata": {},
   "source": [
    "With no v, eta is selected out."
   ]
  },
  {
   "cell_type": "code",
   "execution_count": 55,
   "id": "84f9dbcf",
   "metadata": {},
   "outputs": [
    {
     "name": "stdout",
     "output_type": "stream",
     "text": [
      "Could not open/read the selected file: not given\n",
      "Using variables numbers instead of names.\n",
      "Selecting global variables via B4 method..\n",
      "[3, 0, 2]\n"
     ]
    }
   ],
   "source": [
    "PVs = model_order_reduction.variables_selection(cu4_no_v, settings)\n",
    "labels, numbers = PVs.fit()\n",
    "print(labels)"
   ]
  },
  {
   "cell_type": "markdown",
   "id": "e855a229",
   "metadata": {},
   "source": [
    "With no pressure, eta is selected out."
   ]
  },
  {
   "cell_type": "code",
   "execution_count": 56,
   "id": "4bc556aa",
   "metadata": {},
   "outputs": [
    {
     "name": "stdout",
     "output_type": "stream",
     "text": [
      "Could not open/read the selected file: not given\n",
      "Using variables numbers instead of names.\n",
      "Selecting global variables via B4 method..\n",
      "[3, 2, 0]\n"
     ]
    }
   ],
   "source": [
    "PVs = model_order_reduction.variables_selection(cu4_no_pressure, settings)\n",
    "labels, numbers = PVs.fit()\n",
    "print(labels)"
   ]
  },
  {
   "cell_type": "markdown",
   "id": "9f57540a",
   "metadata": {},
   "source": [
    "### Results summary"
   ]
  },
  {
   "cell_type": "code",
   "execution_count": 71,
   "id": "a20da968",
   "metadata": {},
   "outputs": [],
   "source": [
    "table = [['Variable Removed', 'Algorithm', 'Feature Selected Out'], \n",
    "         ['None', 'Procrustes', 'eta'],\n",
    "         ['','Procrustes_rotation', 'eta'],\n",
    "        ['','B4','pressure'],\n",
    "        ['','B2','u'],\n",
    "        ['x','Procrustes','eta'],\n",
    "        ['','Procrustes_rotation','eta'],\n",
    "        ['','B4','pressure'],\n",
    "        ['','B2', 'pressure'],\n",
    "        ['u','Procrustes','eta'],\n",
    "        ['','Procrustes_rotation','eta'],\n",
    "        ['','B2','v'],\n",
    "        ['','B4','v'],\n",
    "        ['v','Procrustes','u'],\n",
    "        ['','Procrustes_rotation','u'],\n",
    "        ['','B4','eta'],\n",
    "        ['','B2','eta'],\n",
    "        ['pressure','Procrustes','x'],\n",
    "        ['','Procrustes_rotation','x'],\n",
    "        ['','B4','eta'],\n",
    "        ['','B2','eta']]"
   ]
  },
  {
   "cell_type": "code",
   "execution_count": 72,
   "id": "28fa088b",
   "metadata": {},
   "outputs": [
    {
     "name": "stdout",
     "output_type": "stream",
     "text": [
      "╒════════════════════╤═════════════════════╤════════════════════════╕\n",
      "│ Variable Removed   │ Algorithm           │ Feature Selected Out   │\n",
      "╞════════════════════╪═════════════════════╪════════════════════════╡\n",
      "│ None               │ Procrustes          │ eta                    │\n",
      "├────────────────────┼─────────────────────┼────────────────────────┤\n",
      "│                    │ Procrustes_rotation │ eta                    │\n",
      "├────────────────────┼─────────────────────┼────────────────────────┤\n",
      "│                    │ B4                  │ pressure               │\n",
      "├────────────────────┼─────────────────────┼────────────────────────┤\n",
      "│                    │ B2                  │ u                      │\n",
      "├────────────────────┼─────────────────────┼────────────────────────┤\n",
      "│ x                  │ Procrustes          │ eta                    │\n",
      "├────────────────────┼─────────────────────┼────────────────────────┤\n",
      "│                    │ Procrustes_rotation │ eta                    │\n",
      "├────────────────────┼─────────────────────┼────────────────────────┤\n",
      "│                    │ B4                  │ pressure               │\n",
      "├────────────────────┼─────────────────────┼────────────────────────┤\n",
      "│                    │ B2                  │ pressure               │\n",
      "├────────────────────┼─────────────────────┼────────────────────────┤\n",
      "│ u                  │ Procrustes          │ eta                    │\n",
      "├────────────────────┼─────────────────────┼────────────────────────┤\n",
      "│                    │ Procrustes_rotation │ eta                    │\n",
      "├────────────────────┼─────────────────────┼────────────────────────┤\n",
      "│                    │ B2                  │ v                      │\n",
      "├────────────────────┼─────────────────────┼────────────────────────┤\n",
      "│                    │ B4                  │ v                      │\n",
      "├────────────────────┼─────────────────────┼────────────────────────┤\n",
      "│ v                  │ Procrustes          │ u                      │\n",
      "├────────────────────┼─────────────────────┼────────────────────────┤\n",
      "│                    │ Procrustes_rotation │ u                      │\n",
      "├────────────────────┼─────────────────────┼────────────────────────┤\n",
      "│                    │ B4                  │ eta                    │\n",
      "├────────────────────┼─────────────────────┼────────────────────────┤\n",
      "│                    │ B2                  │ eta                    │\n",
      "├────────────────────┼─────────────────────┼────────────────────────┤\n",
      "│ pressure           │ Procrustes          │ x                      │\n",
      "├────────────────────┼─────────────────────┼────────────────────────┤\n",
      "│                    │ Procrustes_rotation │ x                      │\n",
      "├────────────────────┼─────────────────────┼────────────────────────┤\n",
      "│                    │ B4                  │ eta                    │\n",
      "├────────────────────┼─────────────────────┼────────────────────────┤\n",
      "│                    │ B2                  │ eta                    │\n",
      "╘════════════════════╧═════════════════════╧════════════════════════╛\n"
     ]
    }
   ],
   "source": [
    "print(tabulate(table, headers=\"firstrow\", tablefmt='fancy_grid'))"
   ]
  },
  {
   "cell_type": "markdown",
   "id": "5228db87",
   "metadata": {},
   "source": [
    "**Interpretation**: This table indicates a suggested relationship between eta and v. Why? With the Procrustes/Procrustes_rotation algorithms, eta is always selected out, except for when v is removed. Then, v is kept in (possibly because it has eta values baked into it). (Ignoring the pressure result for this one, btw). We will test this hypothesis in the next section by looking at the relationship and correlation coefficient. And when u is selected out, the different algorithms either select our v or eta."
   ]
  },
  {
   "cell_type": "markdown",
   "id": "b952d889",
   "metadata": {},
   "source": [
    "It looks like the feature that gets selected out relies heavily on the PCA feature selection algorithm that is used. In fact, with no data subset do we see an agreement across all algorithms! Knowing more about the steps of each algorithm may inform the differences in output*. Also note that Procrustes and Procrustes_rotation have the exact same selections, and that B4 and B2 have almost exactly the same selections as well (except in the case where no variables are removed).\n",
    "\n",
    "Procrustes was the algorithm used in the example code for Giuseppe's library. It is the one that we used in the data exploration notebook as well. Let's analyze its results first. Clearly, we see that eta was removed when all of the data was present. When x and u were removed, we see that eta is still selected as the feature that explained the least variance in the data. This suggests that **eta information is baked into x and u data? But not as much for v or pressure?**.\n",
    "\n",
    "\n",
    "*For instance, Procrustes is a backward elimination algorithm and does the following operations:\n",
    "\n",
    "for j = 1 to n_variables in X:\n",
    "1. Project the matrix X whose dimensions are (n x p) onto a PCA manifold, and obtain the matrix Z whose dimensions are (n x q).\n",
    "2. Remove the j-th variable from the matrix X, and obtain a matrix X* whose dimensions are (n x (p-1)).\n",
    "3. Project X* onto a reduced PCA basis, and obtain the matrix Z* whose dimensions are (n x q). A necessary condition is that “q” is lower than the original dimensionality “p” as well as than “p-1”, since PCA is a dimensionality reduction algorithm (this is important with respect to what is happening to you).\n",
    "4. Perform a Procrustes analysis to compare Z and Z*.\n",
    "5. Delete the variable which minimizes the Procrustes coefficient from X."
   ]
  },
  {
   "cell_type": "markdown",
   "id": "80fe9e38",
   "metadata": {},
   "source": [
    "Would it be useful to add overall variance explained for each set? Couldn't find the functionality in the docs but I could ask Pepe."
   ]
  },
  {
   "cell_type": "markdown",
   "id": "e3d75f11",
   "metadata": {},
   "source": [
    "### Correlations and Relationships"
   ]
  },
  {
   "cell_type": "markdown",
   "id": "7553dd37",
   "metadata": {},
   "source": [
    "#### Relationship between eta and v\n",
    "\n",
    "First, we will plot them against one another. Recall that the order of variables is: x, eta, u, v, pressure."
   ]
  },
  {
   "cell_type": "code",
   "execution_count": 32,
   "id": "f6feddd6",
   "metadata": {},
   "outputs": [
    {
     "data": {
      "text/html": [
       "<div>\n",
       "<style scoped>\n",
       "    .dataframe tbody tr th:only-of-type {\n",
       "        vertical-align: middle;\n",
       "    }\n",
       "\n",
       "    .dataframe tbody tr th {\n",
       "        vertical-align: top;\n",
       "    }\n",
       "\n",
       "    .dataframe thead th {\n",
       "        text-align: right;\n",
       "    }\n",
       "</style>\n",
       "<table border=\"1\" class=\"dataframe\">\n",
       "  <thead>\n",
       "    <tr style=\"text-align: right;\">\n",
       "      <th></th>\n",
       "      <th>x</th>\n",
       "      <th>eta</th>\n",
       "      <th>u</th>\n",
       "      <th>v</th>\n",
       "      <th>pressure</th>\n",
       "    </tr>\n",
       "  </thead>\n",
       "  <tbody>\n",
       "    <tr>\n",
       "      <th>0</th>\n",
       "      <td>-1.728670</td>\n",
       "      <td>1.594456</td>\n",
       "      <td>0.183840</td>\n",
       "      <td>0.726587</td>\n",
       "      <td>0.725233</td>\n",
       "    </tr>\n",
       "    <tr>\n",
       "      <th>1</th>\n",
       "      <td>-1.721907</td>\n",
       "      <td>1.592266</td>\n",
       "      <td>0.258540</td>\n",
       "      <td>0.806480</td>\n",
       "      <td>0.648305</td>\n",
       "    </tr>\n",
       "    <tr>\n",
       "      <th>2</th>\n",
       "      <td>-1.715139</td>\n",
       "      <td>1.582960</td>\n",
       "      <td>0.269511</td>\n",
       "      <td>0.808270</td>\n",
       "      <td>0.614005</td>\n",
       "    </tr>\n",
       "    <tr>\n",
       "      <th>3</th>\n",
       "      <td>-1.708376</td>\n",
       "      <td>1.568179</td>\n",
       "      <td>0.290845</td>\n",
       "      <td>0.924656</td>\n",
       "      <td>0.542222</td>\n",
       "    </tr>\n",
       "    <tr>\n",
       "      <th>4</th>\n",
       "      <td>-1.701608</td>\n",
       "      <td>1.536428</td>\n",
       "      <td>0.301410</td>\n",
       "      <td>0.924826</td>\n",
       "      <td>0.508903</td>\n",
       "    </tr>\n",
       "    <tr>\n",
       "      <th>...</th>\n",
       "      <td>...</td>\n",
       "      <td>...</td>\n",
       "      <td>...</td>\n",
       "      <td>...</td>\n",
       "      <td>...</td>\n",
       "    </tr>\n",
       "    <tr>\n",
       "      <th>10235</th>\n",
       "      <td>1.701608</td>\n",
       "      <td>1.513993</td>\n",
       "      <td>-1.130897</td>\n",
       "      <td>0.205433</td>\n",
       "      <td>1.193493</td>\n",
       "    </tr>\n",
       "    <tr>\n",
       "      <th>10236</th>\n",
       "      <td>1.708376</td>\n",
       "      <td>1.543437</td>\n",
       "      <td>-1.123716</td>\n",
       "      <td>0.359496</td>\n",
       "      <td>1.148804</td>\n",
       "    </tr>\n",
       "    <tr>\n",
       "      <th>10237</th>\n",
       "      <td>1.715139</td>\n",
       "      <td>1.580311</td>\n",
       "      <td>-1.125836</td>\n",
       "      <td>0.372134</td>\n",
       "      <td>1.124256</td>\n",
       "    </tr>\n",
       "    <tr>\n",
       "      <th>10238</th>\n",
       "      <td>1.721907</td>\n",
       "      <td>1.589667</td>\n",
       "      <td>-1.117356</td>\n",
       "      <td>0.447627</td>\n",
       "      <td>1.075160</td>\n",
       "    </tr>\n",
       "    <tr>\n",
       "      <th>10239</th>\n",
       "      <td>1.728670</td>\n",
       "      <td>1.608379</td>\n",
       "      <td>-1.107235</td>\n",
       "      <td>0.460704</td>\n",
       "      <td>1.040856</td>\n",
       "    </tr>\n",
       "  </tbody>\n",
       "</table>\n",
       "<p>10240 rows × 5 columns</p>\n",
       "</div>"
      ],
      "text/plain": [
       "              x       eta         u         v  pressure\n",
       "0     -1.728670  1.594456  0.183840  0.726587  0.725233\n",
       "1     -1.721907  1.592266  0.258540  0.806480  0.648305\n",
       "2     -1.715139  1.582960  0.269511  0.808270  0.614005\n",
       "3     -1.708376  1.568179  0.290845  0.924656  0.542222\n",
       "4     -1.701608  1.536428  0.301410  0.924826  0.508903\n",
       "...         ...       ...       ...       ...       ...\n",
       "10235  1.701608  1.513993 -1.130897  0.205433  1.193493\n",
       "10236  1.708376  1.543437 -1.123716  0.359496  1.148804\n",
       "10237  1.715139  1.580311 -1.125836  0.372134  1.124256\n",
       "10238  1.721907  1.589667 -1.117356  0.447627  1.075160\n",
       "10239  1.728670  1.608379 -1.107235  0.460704  1.040856\n",
       "\n",
       "[10240 rows x 5 columns]"
      ]
     },
     "execution_count": 32,
     "metadata": {},
     "output_type": "execute_result"
    }
   ],
   "source": [
    "cu4_concat = pd.DataFrame(cu4_concat, columns = ['x','eta','u','v','pressure'])\n",
    "cu4_concat"
   ]
  },
  {
   "cell_type": "code",
   "execution_count": 63,
   "id": "b0a416bb",
   "metadata": {},
   "outputs": [
    {
     "data": {
      "text/plain": [
       "<AxesSubplot:xlabel='eta', ylabel='v'>"
      ]
     },
     "execution_count": 63,
     "metadata": {},
     "output_type": "execute_result"
    },
    {
     "data": {
      "image/png": "[encoded data removed]",
      "text/plain": [
       "<Figure size 432x288 with 1 Axes>"
      ]
     },
     "metadata": {
      "needs_background": "light"
     },
     "output_type": "display_data"
    }
   ],
   "source": [
    "cu4_concat.plot.scatter(x=\"eta\", y=\"v\")"
   ]
  },
  {
   "cell_type": "markdown",
   "id": "63a3a911",
   "metadata": {},
   "source": [
    "is it a plane between v, eta, p"
   ]
  },
  {
   "cell_type": "code",
   "execution_count": 38,
   "id": "3f515c8c",
   "metadata": {},
   "outputs": [
    {
     "name": "stdout",
     "output_type": "stream",
     "text": [
      "Pearsons correlation: 0.673\n"
     ]
    }
   ],
   "source": [
    "corr, _ = pearsonr(cu4_concat['eta'], cu4_concat['v'])\n",
    "print('Pearsons correlation: %.3f' % corr)"
   ]
  },
  {
   "cell_type": "markdown",
   "id": "2bfdf2f0",
   "metadata": {},
   "source": [
    "Since the Pearson's correlation coefficient lies between 0.5 and 1, it is considered a strong correlation!"
   ]
  },
  {
   "cell_type": "markdown",
   "id": "4270fa79",
   "metadata": {},
   "source": [
    "#### Calculating all Pearson's correlation coefficients"
   ]
  },
  {
   "cell_type": "code",
   "execution_count": 55,
   "id": "4f5bd417",
   "metadata": {},
   "outputs": [],
   "source": [
    "names = ['x','eta','u','v','pressure']"
   ]
  },
  {
   "cell_type": "code",
   "execution_count": 56,
   "id": "7159a612",
   "metadata": {},
   "outputs": [
    {
     "name": "stdout",
     "output_type": "stream",
     "text": [
      "Pearsons correlation: 0.673\n"
     ]
    }
   ],
   "source": [
    "corr = pearsonr(cu4_concat['eta'], cu4_concat['v'])[0]\n",
    "print('Pearsons correlation: %.3f' % corr)"
   ]
  },
  {
   "cell_type": "code",
   "execution_count": 57,
   "id": "055fff91",
   "metadata": {},
   "outputs": [],
   "source": [
    "x_corr = [None] * 5\n",
    "eta_corr = [None] * 5\n",
    "u_corr = [None] * 5\n",
    "v_corr = [None] * 5\n",
    "pressure_corr = [None] * 5\n",
    "\n",
    "for i in range (0, len(columns)):\n",
    "    x_corr[i] = pearsonr(cu4_concat['x'], cu4_concat[names[i]])[0]\n",
    "    eta_corr[i] = pearsonr(cu4_concat['eta'], cu4_concat[names[i]])[0]\n",
    "    u_corr[i] = pearsonr(cu4_concat['u'], cu4_concat[names[i]])[0]\n",
    "    v_corr[i] = pearsonr(cu4_concat['v'], cu4_concat[names[i]])[0]\n",
    "    pressure_corr[i] = pearsonr(cu4_concat['pressure'], cu4_concat[names[i]])[0]"
   ]
  },
  {
   "cell_type": "code",
   "execution_count": 58,
   "id": "3df3b87e",
   "metadata": {},
   "outputs": [
    {
     "name": "stdout",
     "output_type": "stream",
     "text": [
      "                 x       eta         u         v  pressure\n",
      "x         1.000000 -0.005145 -0.072374 -0.130549  0.147836\n",
      "eta      -0.005145  1.000000 -0.201046  0.673115  0.593997\n",
      "u        -0.072374 -0.201046  1.000000  0.303161 -0.486220\n",
      "v        -0.130549  0.673115  0.303161  1.000000 -0.022518\n",
      "pressure  0.147836  0.593997 -0.486220 -0.022518  1.000000\n"
     ]
    }
   ],
   "source": [
    "correlations = [x_corr, eta_corr, u_corr, v_corr, pressure_corr]\n",
    "print(pd.DataFrame(correlations, columns=names, index=names))"
   ]
  },
  {
   "cell_type": "markdown",
   "id": "ca6635f7",
   "metadata": {},
   "source": [
    "Why does it make sense for us to be examining linear correlations? As shown in the data_exploration notebook, all data seems to be roughly sinusoidal. Therefore, if the underlying shape of the data is the same, linear correlations make sense.\n",
    "\n",
    "From this matrix of correlations, you can see that there are the following linear correlations:\n",
    "- eta and v are *positively and strongly* correlated, with a coefficient of about 0.67 -> this is what we expected by looking at the output of feature selection!\n",
    "- eta and pressure are *positively and strongly* correlated, with a coefficient of about 0.59\n",
    "- u and pressure are *negatively and moderately* correlated, with a coefficient of about -0.49\n",
    "\n",
    "We were originally surprised that the eta variable was omitted during the first round of feature selection in the data exploration notebook. But looking at these correlations, now, it makes a bit more sense. Eta is more highly correlated to pressure than v is. But eta and v are strongly correlated to one another, and v is more highly correlated with all other variables than eta is. Therefore, by keeping v and omitting eta, you capture a lot of the pressure correlation and also capture more of the overall variance in the rest of the data than you would by keeping eta and omitting v. "
   ]
  },
  {
   "cell_type": "markdown",
   "id": "e826e06d",
   "metadata": {},
   "source": [
    "### Explaining previous DNN results"
   ]
  },
  {
   "cell_type": "markdown",
   "id": "171a55c2",
   "metadata": {},
   "source": [
    "Recall the error terms associated with our DNNs from the previous notebook. The model trained on feature selection did better than the model trained on feature extraction. Why? The feature selection model took out one variable that was still highly correlated with the other. The feature extraction model reduced the data to 3 principal components, which together explained about 95% of the overall variance in the data. When we observed how each of the variables affected the principal components, we see that eta and v actually influence the principal components in really similar ways! So it makes sense that if one is removed, then the model can still account for most of the variance."
   ]
  },
  {
   "cell_type": "markdown",
   "id": "fa52588f",
   "metadata": {},
   "source": [
    "Mean absolute error [MPG]\n",
    "dnn_model_concat: 0.222284\n",
    "dnn_model_feature_extraction: 0.304758\n",
    "dnn_model_feature_selection: 0.289820"
   ]
  }
 ],
 "metadata": {
  "kernelspec": {
   "display_name": "Python 3 (ipykernel)",
   "language": "python",
   "name": "python3"
  },
  "language_info": {
   "codemirror_mode": {
    "name": "ipython",
    "version": 3
   },
   "file_extension": ".py",
   "mimetype": "text/x-python",
   "name": "python",
   "nbconvert_exporter": "python",
   "pygments_lexer": "ipython3",
   "version": "3.8.5"
  }
 },
 "nbformat": 4,
 "nbformat_minor": 5
}
