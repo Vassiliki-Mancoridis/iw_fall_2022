{
 "cells": [
  {
   "cell_type": "markdown",
   "id": "00b86e40",
   "metadata": {},
   "source": [
    "# CU4 Simulation Regression Techniques\n",
    "\n",
    "- Load data and libraries\n",
    "- Split the data into testing and training sets\n",
    "- Normalize the data\n",
    "- Linear regression\n",
    "    - With one feature\n",
    "    - With all features\n",
    "- Regression with a deep neural network\n",
    "    - With one feature\n",
    "    - With all features\n",
    "- Performance\n",
    "- Predictions"
   ]
  },
  {
   "cell_type": "markdown",
   "id": "d22020c4",
   "metadata": {},
   "source": [
    "### Load data and libraries\n",
    "\n",
    "First, we must load the data and the prerequisite libraries. Recall that we explored the data in the previous notebook (cu4_data_exploration)."
   ]
  },
  {
   "cell_type": "code",
   "execution_count": 38,
   "id": "e69c4424",
   "metadata": {},
   "outputs": [
    {
     "name": "stdout",
     "output_type": "stream",
     "text": [
      "2.9.0\n"
     ]
    }
   ],
   "source": [
    "import pandas as pd\n",
    "import glob\n",
    "import os\n",
    "import numpy as np\n",
    "import matplotlib.pyplot as plt\n",
    "import pandas as pd\n",
    "import seaborn as sns\n",
    "import tensorflow as tf\n",
    "\n",
    "from tensorflow import keras\n",
    "from tensorflow.keras import layers\n",
    "from sklearn.preprocessing import StandardScaler\n",
    "\n",
    "print(tf.__version__)"
   ]
  },
  {
   "cell_type": "code",
   "execution_count": 39,
   "id": "3badad5c",
   "metadata": {},
   "outputs": [
    {
     "name": "stderr",
     "output_type": "stream",
     "text": [
      "WARNING: You are using pip version 21.2.4; however, version 22.2.2 is available.\n",
      "You should consider upgrading via the '/Library/Frameworks/Python.framework/Versions/3.8/bin/python3.8 -m pip install --upgrade pip' command.\n"
     ]
    }
   ],
   "source": [
    "%%bash\n",
    "\n",
    "pip install -q seaborn"
   ]
  },
  {
   "cell_type": "code",
   "execution_count": 40,
   "id": "c5e18f3f",
   "metadata": {},
   "outputs": [],
   "source": [
    "path = os.getcwd() + \"/CU4/\"\n",
    "csv_files = glob.glob(os.path.join(path, \"*.csv\"))\n",
    "\n",
    "cu4 = []\n",
    "\n",
    "for filename in csv_files:\n",
    "    df = pd.read_csv(filename, index_col=None, header=0)\n",
    "    cu4.append(df)"
   ]
  },
  {
   "cell_type": "code",
   "execution_count": 32,
   "id": "cc949de7",
   "metadata": {},
   "outputs": [],
   "source": [
    "# Make NumPy printouts easier to read.\n",
    "np.set_printoptions(precision=3, suppress=True)"
   ]
  },
  {
   "cell_type": "code",
   "execution_count": 1,
   "id": "cecc0435",
   "metadata": {},
   "outputs": [
    {
     "ename": "NameError",
     "evalue": "name 'np' is not defined",
     "output_type": "error",
     "traceback": [
      "\u001b[0;31m---------------------------------------------------------------------------\u001b[0m",
      "\u001b[0;31mNameError\u001b[0m                                 Traceback (most recent call last)",
      "\u001b[0;32m/var/folders/d9/5gccb_yx3td6t3hywwvhbq2h0000gn/T/ipykernel_59235/2586137863.py\u001b[0m in \u001b[0;36m<module>\u001b[0;34m\u001b[0m\n\u001b[0;32m----> 1\u001b[0;31m \u001b[0mcu4_nn\u001b[0m \u001b[0;34m=\u001b[0m \u001b[0mnp\u001b[0m\u001b[0;34m.\u001b[0m\u001b[0marray\u001b[0m\u001b[0;34m(\u001b[0m\u001b[0mcu4\u001b[0m\u001b[0;34m)\u001b[0m\u001b[0;34m\u001b[0m\u001b[0;34m\u001b[0m\u001b[0m\n\u001b[0m\u001b[1;32m      2\u001b[0m \u001b[0mcu4_concat\u001b[0m \u001b[0;34m=\u001b[0m \u001b[0mcu4_nn\u001b[0m\u001b[0;34m.\u001b[0m\u001b[0mreshape\u001b[0m\u001b[0;34m(\u001b[0m\u001b[0mcu4_nn\u001b[0m\u001b[0;34m.\u001b[0m\u001b[0mshape\u001b[0m\u001b[0;34m[\u001b[0m\u001b[0;36m0\u001b[0m\u001b[0;34m]\u001b[0m \u001b[0;34m*\u001b[0m \u001b[0mcu4_nn\u001b[0m\u001b[0;34m.\u001b[0m\u001b[0mshape\u001b[0m\u001b[0;34m[\u001b[0m\u001b[0;36m1\u001b[0m\u001b[0;34m]\u001b[0m\u001b[0;34m,\u001b[0m \u001b[0mcu4_nn\u001b[0m\u001b[0;34m.\u001b[0m\u001b[0mshape\u001b[0m\u001b[0;34m[\u001b[0m\u001b[0;36m2\u001b[0m\u001b[0;34m]\u001b[0m\u001b[0;34m)\u001b[0m\u001b[0;34m\u001b[0m\u001b[0;34m\u001b[0m\u001b[0m\n\u001b[1;32m      3\u001b[0m \u001b[0mcu4_concat\u001b[0m\u001b[0;34m.\u001b[0m\u001b[0mshape\u001b[0m\u001b[0;34m\u001b[0m\u001b[0;34m\u001b[0m\u001b[0m\n\u001b[1;32m      4\u001b[0m \u001b[0;34m\u001b[0m\u001b[0m\n\u001b[1;32m      5\u001b[0m \u001b[0mcu4_df\u001b[0m \u001b[0;34m=\u001b[0m \u001b[0mpd\u001b[0m\u001b[0;34m.\u001b[0m\u001b[0mDataFrame\u001b[0m\u001b[0;34m(\u001b[0m\u001b[0mcu4_concat\u001b[0m\u001b[0;34m,\u001b[0m \u001b[0mcolumns\u001b[0m \u001b[0;34m=\u001b[0m \u001b[0;34m[\u001b[0m\u001b[0;34m'x'\u001b[0m\u001b[0;34m,\u001b[0m \u001b[0;34m'eta'\u001b[0m\u001b[0;34m,\u001b[0m \u001b[0;34m'u'\u001b[0m\u001b[0;34m,\u001b[0m \u001b[0;34m'v'\u001b[0m\u001b[0;34m,\u001b[0m \u001b[0;34m'pressure'\u001b[0m\u001b[0;34m]\u001b[0m\u001b[0;34m)\u001b[0m\u001b[0;34m\u001b[0m\u001b[0;34m\u001b[0m\u001b[0m\n",
      "\u001b[0;31mNameError\u001b[0m: name 'np' is not defined"
     ]
    }
   ],
   "source": [
    "cu4_nn = np.array(cu4)\n",
    "cu4_concat = cu4_nn.reshape(cu4_nn.shape[0] * cu4_nn.shape[1], cu4_nn.shape[2])\n",
    "cu4_concat.shape\n",
    "\n",
    "cu4_df = pd.DataFrame(cu4_concat, columns = ['x', 'eta', 'u', 'v', 'pressure'])\n",
    "cu4_df"
   ]
  },
  {
   "cell_type": "markdown",
   "id": "53744800",
   "metadata": {},
   "source": [
    "### Split the data into testing and training sets"
   ]
  },
  {
   "cell_type": "code",
   "execution_count": 42,
   "id": "8b595444",
   "metadata": {},
   "outputs": [
    {
     "name": "stdout",
     "output_type": "stream",
     "text": [
      "shape of training dataset:  (8192, 5)\n",
      "shape of testing dataset:  (2048, 5)\n"
     ]
    }
   ],
   "source": [
    "dataset = cu4_df.copy()\n",
    "\n",
    "train_dataset = dataset.sample(frac=0.8, random_state=0)\n",
    "test_dataset = dataset.drop(train_dataset.index)\n",
    "\n",
    "print(\"shape of training dataset: \", train_dataset.shape)\n",
    "print(\"shape of testing dataset: \", test_dataset.shape)"
   ]
  },
  {
   "cell_type": "markdown",
   "id": "d2c5f15b",
   "metadata": {},
   "source": [
    "We are interested in predicting the \"pressure\" feature. Let us split this feature from the labels."
   ]
  },
  {
   "cell_type": "code",
   "execution_count": 43,
   "id": "3b84f53c",
   "metadata": {},
   "outputs": [],
   "source": [
    "train_features = train_dataset.copy()\n",
    "test_features = test_dataset.copy()\n",
    "\n",
    "train_labels = train_features.pop('pressure')\n",
    "test_labels = test_features.pop('pressure')"
   ]
  },
  {
   "cell_type": "markdown",
   "id": "871119c6",
   "metadata": {},
   "source": [
    "### Normalize the data\n",
    "\n",
    "Notice how each feature operates on its own scale. We need to normalize the data before performing any regression techniques so that the model weights do not favor one feature over the others solely based on its scale."
   ]
  },
  {
   "cell_type": "code",
   "execution_count": 121,
   "id": "3b3776ee",
   "metadata": {},
   "outputs": [
    {
     "data": {
      "text/html": [
       "<div>\n",
       "<style scoped>\n",
       "    .dataframe tbody tr th:only-of-type {\n",
       "        vertical-align: middle;\n",
       "    }\n",
       "\n",
       "    .dataframe tbody tr th {\n",
       "        vertical-align: top;\n",
       "    }\n",
       "\n",
       "    .dataframe thead th {\n",
       "        text-align: right;\n",
       "    }\n",
       "</style>\n",
       "<table border=\"1\" class=\"dataframe\">\n",
       "  <thead>\n",
       "    <tr style=\"text-align: right;\">\n",
       "      <th></th>\n",
       "      <th>mean</th>\n",
       "      <th>std</th>\n",
       "    </tr>\n",
       "  </thead>\n",
       "  <tbody>\n",
       "    <tr>\n",
       "      <th>x</th>\n",
       "      <td>0.009450</td>\n",
       "      <td>1.823730</td>\n",
       "    </tr>\n",
       "    <tr>\n",
       "      <th>eta</th>\n",
       "      <td>0.000020</td>\n",
       "      <td>0.036250</td>\n",
       "    </tr>\n",
       "    <tr>\n",
       "      <th>u</th>\n",
       "      <td>2.573791</td>\n",
       "      <td>0.145138</td>\n",
       "    </tr>\n",
       "    <tr>\n",
       "      <th>v</th>\n",
       "      <td>0.000864</td>\n",
       "      <td>0.095221</td>\n",
       "    </tr>\n",
       "    <tr>\n",
       "      <th>pressure</th>\n",
       "      <td>0.000055</td>\n",
       "      <td>0.000335</td>\n",
       "    </tr>\n",
       "  </tbody>\n",
       "</table>\n",
       "</div>"
      ],
      "text/plain": [
       "              mean       std\n",
       "x         0.009450  1.823730\n",
       "eta       0.000020  0.036250\n",
       "u         2.573791  0.145138\n",
       "v         0.000864  0.095221\n",
       "pressure  0.000055  0.000335"
      ]
     },
     "execution_count": 121,
     "metadata": {},
     "output_type": "execute_result"
    }
   ],
   "source": [
    "train_dataset.describe().transpose()[['mean', 'std']]"
   ]
  },
  {
   "cell_type": "code",
   "execution_count": 122,
   "id": "0565a566",
   "metadata": {},
   "outputs": [
    {
     "name": "stdout",
     "output_type": "stream",
     "text": [
      "First example: [[-1.05 -0.03  2.7   0.06]]\n",
      "\n",
      "Normalized: [[-0.58 -0.74  0.84  0.65]]\n"
     ]
    }
   ],
   "source": [
    "normalizer = tf.keras.layers.Normalization(axis=-1)\n",
    "normalizer.adapt(np.array(train_features))\n",
    "\n",
    "first = np.array(train_features[:1])\n",
    "\n",
    "with np.printoptions(precision=2, suppress=True):\n",
    "  print('First example:', first)\n",
    "  print()\n",
    "  print('Normalized:', normalizer(first).numpy())"
   ]
  },
  {
   "cell_type": "markdown",
   "id": "e579565d",
   "metadata": {},
   "source": [
    "### Linear Regression\n",
    "\n",
    "We will first explore how linear regression can be applied to our data."
   ]
  },
  {
   "cell_type": "markdown",
   "id": "6b431059",
   "metadata": {},
   "source": [
    "#### Linear Regression with one variable\n",
    "\n",
    "Here, we are trying to predict pressure from x alone.\n",
    "\n",
    "First, we will normalize the x input feature."
   ]
  },
  {
   "cell_type": "code",
   "execution_count": 124,
   "id": "2586087f",
   "metadata": {},
   "outputs": [],
   "source": [
    "x = np.array(train_features['x'])\n",
    "\n",
    "x_normalizer = layers.Normalization(input_shape=[1,], axis=None)\n",
    "x_normalizer.adapt(x)"
   ]
  },
  {
   "cell_type": "markdown",
   "id": "b636375f",
   "metadata": {},
   "source": [
    "Next, we will build a Keras Sequential model."
   ]
  },
  {
   "cell_type": "code",
   "execution_count": 127,
   "id": "011c9c1b",
   "metadata": {},
   "outputs": [
    {
     "name": "stdout",
     "output_type": "stream",
     "text": [
      "Model: \"sequential_4\"\n",
      "_________________________________________________________________\n",
      " Layer (type)                Output Shape              Param #   \n",
      "=================================================================\n",
      " normalization_8 (Normalizat  (None, 1)                3         \n",
      " ion)                                                            \n",
      "                                                                 \n",
      " dense_4 (Dense)             (None, 1)                 2         \n",
      "                                                                 \n",
      "=================================================================\n",
      "Total params: 5\n",
      "Trainable params: 2\n",
      "Non-trainable params: 3\n",
      "_________________________________________________________________\n"
     ]
    }
   ],
   "source": [
    "x_model = tf.keras.Sequential([\n",
    "    x_normalizer,\n",
    "    layers.Dense(units=1)\n",
    "])\n",
    "\n",
    "x_model.summary()"
   ]
  },
  {
   "cell_type": "markdown",
   "id": "990eb4d6",
   "metadata": {},
   "source": [
    "First, we run the untrained model on the first 10 x values. The output is not informative but it has the correct shape of (10,1)."
   ]
  },
  {
   "cell_type": "code",
   "execution_count": 128,
   "id": "b4a2e6c5",
   "metadata": {
    "scrolled": true
   },
   "outputs": [
    {
     "name": "stdout",
     "output_type": "stream",
     "text": [
      "1/1 [==============================] - 0s 46ms/step\n"
     ]
    },
    {
     "data": {
      "text/plain": [
       "array([[-0.111],\n",
       "       [-0.28 ],\n",
       "       [-0.31 ],\n",
       "       [-0.295],\n",
       "       [ 0.072],\n",
       "       [ 0.277],\n",
       "       [ 0.113],\n",
       "       [-0.044],\n",
       "       [-0.026],\n",
       "       [-0.156]], dtype=float32)"
      ]
     },
     "execution_count": 128,
     "metadata": {},
     "output_type": "execute_result"
    }
   ],
   "source": [
    "x_model.predict(x[:10])"
   ]
  },
  {
   "cell_type": "markdown",
   "id": "11663600",
   "metadata": {},
   "source": [
    "Now, we specify the training configuration of our model. Here, we are using the Adam optimizer and the mean absolute error as our loss metric."
   ]
  },
  {
   "cell_type": "code",
   "execution_count": 135,
   "id": "d48cd276",
   "metadata": {},
   "outputs": [],
   "source": [
    "x_model.compile(\n",
    "    optimizer=tf.keras.optimizers.Adam(learning_rate=0.01),\n",
    "    loss='mean_absolute_error')"
   ]
  },
  {
   "cell_type": "markdown",
   "id": "fc4a51cf",
   "metadata": {},
   "source": [
    "We now train for 100 epochs. This step should take about 30 seconds."
   ]
  },
  {
   "cell_type": "code",
   "execution_count": 136,
   "id": "fdb0c2cd",
   "metadata": {},
   "outputs": [
    {
     "name": "stdout",
     "output_type": "stream",
     "text": [
      "CPU times: user 31.8 s, sys: 4.13 s, total: 36 s\n",
      "Wall time: 26 s\n"
     ]
    }
   ],
   "source": [
    "%%time\n",
    "history = x_model.fit(\n",
    "    train_features['x'],\n",
    "    train_labels,\n",
    "    epochs=100,\n",
    "    # Suppress logging.\n",
    "    verbose=0,\n",
    "    # Calculate validation results on 20% of the training data.\n",
    "    validation_split = 0.2)"
   ]
  },
  {
   "cell_type": "markdown",
   "id": "468bf34d",
   "metadata": {},
   "source": [
    "We captured the training history of our model; now, we can visualize it. First, we will take a peek at the tail end of our loss calculations. Notice that our losses look really low!"
   ]
  },
  {
   "cell_type": "code",
   "execution_count": 110,
   "id": "3081add1",
   "metadata": {},
   "outputs": [
    {
     "data": {
      "text/html": [
       "<div>\n",
       "<style scoped>\n",
       "    .dataframe tbody tr th:only-of-type {\n",
       "        vertical-align: middle;\n",
       "    }\n",
       "\n",
       "    .dataframe tbody tr th {\n",
       "        vertical-align: top;\n",
       "    }\n",
       "\n",
       "    .dataframe thead th {\n",
       "        text-align: right;\n",
       "    }\n",
       "</style>\n",
       "<table border=\"1\" class=\"dataframe\">\n",
       "  <thead>\n",
       "    <tr style=\"text-align: right;\">\n",
       "      <th></th>\n",
       "      <th>loss</th>\n",
       "      <th>val_loss</th>\n",
       "      <th>epoch</th>\n",
       "    </tr>\n",
       "  </thead>\n",
       "  <tbody>\n",
       "    <tr>\n",
       "      <th>95</th>\n",
       "      <td>0.012693</td>\n",
       "      <td>0.013501</td>\n",
       "      <td>95</td>\n",
       "    </tr>\n",
       "    <tr>\n",
       "      <th>96</th>\n",
       "      <td>0.011560</td>\n",
       "      <td>0.017719</td>\n",
       "      <td>96</td>\n",
       "    </tr>\n",
       "    <tr>\n",
       "      <th>97</th>\n",
       "      <td>0.012369</td>\n",
       "      <td>0.007108</td>\n",
       "      <td>97</td>\n",
       "    </tr>\n",
       "    <tr>\n",
       "      <th>98</th>\n",
       "      <td>0.014149</td>\n",
       "      <td>0.022328</td>\n",
       "      <td>98</td>\n",
       "    </tr>\n",
       "    <tr>\n",
       "      <th>99</th>\n",
       "      <td>0.013274</td>\n",
       "      <td>0.004648</td>\n",
       "      <td>99</td>\n",
       "    </tr>\n",
       "  </tbody>\n",
       "</table>\n",
       "</div>"
      ],
      "text/plain": [
       "        loss  val_loss  epoch\n",
       "95  0.012693  0.013501     95\n",
       "96  0.011560  0.017719     96\n",
       "97  0.012369  0.007108     97\n",
       "98  0.014149  0.022328     98\n",
       "99  0.013274  0.004648     99"
      ]
     },
     "execution_count": 110,
     "metadata": {},
     "output_type": "execute_result"
    }
   ],
   "source": [
    "hist = pd.DataFrame(history.history)\n",
    "hist['epoch'] = history.epoch\n",
    "hist.tail()"
   ]
  },
  {
   "cell_type": "markdown",
   "id": "a79223eb",
   "metadata": {},
   "source": [
    "We can also visualize the overall training progress of the model."
   ]
  },
  {
   "cell_type": "code",
   "execution_count": 139,
   "id": "8a1ee8ac",
   "metadata": {},
   "outputs": [],
   "source": [
    "def plot_loss(history):\n",
    "  plt.plot(history.history['loss'], label='loss')\n",
    "  plt.plot(history.history['val_loss'], label='val_loss')\n",
    "  plt.ylim([0, 0.01])\n",
    "  plt.xlabel('Epoch')\n",
    "  plt.ylabel('Loss')\n",
    "  plt.legend()\n",
    "  plt.grid(True)"
   ]
  },
  {
   "cell_type": "code",
   "execution_count": 140,
   "id": "f9b27983",
   "metadata": {},
   "outputs": [
    {
     "data": {
      "image/png": "[encoded data removed]",
      "text/plain": [
       "<Figure size 432x288 with 1 Axes>"
      ]
     },
     "metadata": {
      "needs_background": "light"
     },
     "output_type": "display_data"
    }
   ],
   "source": [
    "plot_loss(history)"
   ]
  },
  {
   "cell_type": "markdown",
   "id": "7cd0d80c",
   "metadata": {},
   "source": [
    "We will store the results of this model so that we can compare models at the end of this notebook."
   ]
  },
  {
   "cell_type": "code",
   "execution_count": 113,
   "id": "2a4404ad",
   "metadata": {},
   "outputs": [],
   "source": [
    "test_results = {}\n",
    "\n",
    "test_results['x_model'] = x_model.evaluate(\n",
    "    test_features['x'],\n",
    "    test_labels, verbose=0)"
   ]
  },
  {
   "cell_type": "markdown",
   "id": "8c5beb33",
   "metadata": {},
   "source": [
    "We will also visualize our model's predictions of pressure as a function of x."
   ]
  },
  {
   "cell_type": "code",
   "execution_count": 141,
   "id": "9266b1db",
   "metadata": {},
   "outputs": [
    {
     "name": "stdout",
     "output_type": "stream",
     "text": [
      "256/256 [==============================] - 0s 1ms/step\n"
     ]
    }
   ],
   "source": [
    "x_vis = tf.linspace(1, 8191, 8192)\n",
    "y_vis = x_model.predict(x_vis)"
   ]
  },
  {
   "cell_type": "code",
   "execution_count": 142,
   "id": "b5875a32",
   "metadata": {},
   "outputs": [],
   "source": [
    "def plot_x(x_vis, y_vis):\n",
    "  plt.scatter(train_features['x'], train_labels, label='Data')\n",
    "  plt.scatter(x_vis, y_vis, color='k', label='Predictions')\n",
    "  plt.xlabel('x')\n",
    "  plt.ylabel('pressure')\n",
    "  plt.legend()"
   ]
  },
  {
   "cell_type": "code",
   "execution_count": 143,
   "id": "02b2267c",
   "metadata": {},
   "outputs": [
    {
     "data": {
      "image/png": "[encoded data removed]",
      "text/plain": [
       "<Figure size 432x288 with 1 Axes>"
      ]
     },
     "metadata": {
      "needs_background": "light"
     },
     "output_type": "display_data"
    }
   ],
   "source": [
    "plot_x(x_vis, y_vis)"
   ]
  },
  {
   "cell_type": "markdown",
   "id": "e52c8729",
   "metadata": {},
   "source": [
    "That model did atrociously and I'm not sure if it's my fault or not. Is the learning rate wrong? I tried to adjust it."
   ]
  },
  {
   "cell_type": "markdown",
   "id": "49e63d21",
   "metadata": {},
   "source": [
    "#### Linear Regression with all variables\n",
    "\n",
    "Now, we will train another linear model, this time using all of the features as opposed to just the x feature."
   ]
  },
  {
   "cell_type": "code",
   "execution_count": 144,
   "id": "d5beff48",
   "metadata": {},
   "outputs": [],
   "source": [
    "linear_model = tf.keras.Sequential([\n",
    "    normalizer,\n",
    "    layers.Dense(units=1)\n",
    "])"
   ]
  },
  {
   "cell_type": "markdown",
   "id": "2eb2d962",
   "metadata": {},
   "source": [
    "Our model predicts one output for each example."
   ]
  },
  {
   "cell_type": "code",
   "execution_count": 145,
   "id": "064ef0e4",
   "metadata": {},
   "outputs": [
    {
     "name": "stdout",
     "output_type": "stream",
     "text": [
      "1/1 [==============================] - 0s 46ms/step\n"
     ]
    },
    {
     "data": {
      "text/plain": [
       "array([[ 0.088],\n",
       "       [ 0.229],\n",
       "       [ 1.316],\n",
       "       [ 0.942],\n",
       "       [-0.966],\n",
       "       [-0.928],\n",
       "       [-0.724],\n",
       "       [-0.971],\n",
       "       [ 0.294],\n",
       "       [ 1.176]], dtype=float32)"
      ]
     },
     "execution_count": 145,
     "metadata": {},
     "output_type": "execute_result"
    }
   ],
   "source": [
    "linear_model.predict(train_features[:10])"
   ]
  },
  {
   "cell_type": "markdown",
   "id": "d68ccce5",
   "metadata": {},
   "source": [
    "These are the weight matrices for the model. Since we have 4 features, we expect the shape to be (4,1). "
   ]
  },
  {
   "cell_type": "code",
   "execution_count": 146,
   "id": "fff6c68c",
   "metadata": {},
   "outputs": [
    {
     "data": {
      "text/plain": [
       "<tf.Variable 'dense_5/kernel:0' shape=(4, 1) dtype=float32, numpy=\n",
       "array([[-0.245],\n",
       "       [ 0.397],\n",
       "       [-0.085],\n",
       "       [ 0.48 ]], dtype=float32)>"
      ]
     },
     "execution_count": 146,
     "metadata": {},
     "output_type": "execute_result"
    }
   ],
   "source": [
    "linear_model.layers[1].kernel"
   ]
  },
  {
   "cell_type": "markdown",
   "id": "67c8fbb7",
   "metadata": {},
   "source": [
    "Now, we will configure and train our model."
   ]
  },
  {
   "cell_type": "code",
   "execution_count": 147,
   "id": "e28312c3",
   "metadata": {},
   "outputs": [],
   "source": [
    "linear_model.compile(\n",
    "    optimizer=tf.keras.optimizers.Adam(learning_rate=0.1),\n",
    "    loss='mean_absolute_error')"
   ]
  },
  {
   "cell_type": "code",
   "execution_count": 148,
   "id": "e3859849",
   "metadata": {},
   "outputs": [
    {
     "name": "stdout",
     "output_type": "stream",
     "text": [
      "CPU times: user 32.5 s, sys: 3.96 s, total: 36.4 s\n",
      "Wall time: 26.9 s\n"
     ]
    }
   ],
   "source": [
    "%%time\n",
    "history = linear_model.fit(\n",
    "    train_features,\n",
    "    train_labels,\n",
    "    epochs=100,\n",
    "    # Suppress logging.\n",
    "    verbose=0,\n",
    "    # Calculate validation results on 20% of the training data.\n",
    "    validation_split = 0.2)"
   ]
  },
  {
   "cell_type": "markdown",
   "id": "134d7bdf",
   "metadata": {},
   "source": [
    "Again, we can plot our loss. We really want to see a lower training and validation error than the linear model with only one input. It'd be nice to have a graph that makes some sense, too :)."
   ]
  },
  {
   "cell_type": "code",
   "execution_count": 154,
   "id": "4798fc02",
   "metadata": {},
   "outputs": [
    {
     "data": {
      "image/png": "[encoded data removed]",
      "text/plain": [
       "<Figure size 432x288 with 1 Axes>"
      ]
     },
     "metadata": {
      "needs_background": "light"
     },
     "output_type": "display_data"
    }
   ],
   "source": [
    "def plot_new_loss(history):\n",
    "  plt.plot(history.history['loss'], label='loss')\n",
    "  plt.plot(history.history['val_loss'], label='val_loss')\n",
    "  plt.ylim([0, 0.1])\n",
    "  plt.xlabel('Epoch')\n",
    "  plt.ylabel('Loss')\n",
    "  plt.legend()\n",
    "  plt.grid(True)\n",
    "\n",
    "plot_new_loss(history)"
   ]
  },
  {
   "cell_type": "markdown",
   "id": "f3713cb6",
   "metadata": {},
   "source": [
    "Again, we will collect the results for analysis at the end of the notebook."
   ]
  },
  {
   "cell_type": "code",
   "execution_count": 155,
   "id": "d9b118bd",
   "metadata": {},
   "outputs": [],
   "source": [
    "test_results['linear_model'] = linear_model.evaluate(\n",
    "    test_features, test_labels, verbose=0)"
   ]
  },
  {
   "cell_type": "markdown",
   "id": "3e1edec2",
   "metadata": {},
   "source": [
    "### Regression with a Deep Neural Network"
   ]
  },
  {
   "cell_type": "markdown",
   "id": "bee908a1",
   "metadata": {},
   "source": [
    "Now, we build a slightly more complex model. We use the ReLU activation function, the Adam optimizer, and the mean absolute error as our loss function."
   ]
  },
  {
   "cell_type": "code",
   "execution_count": 156,
   "id": "f237fd06",
   "metadata": {},
   "outputs": [],
   "source": [
    "def build_and_compile_model(norm):\n",
    "  model = keras.Sequential([\n",
    "      norm,\n",
    "      layers.Dense(64, activation='relu'),\n",
    "      layers.Dense(64, activation='relu'),\n",
    "      layers.Dense(1)\n",
    "  ])\n",
    "\n",
    "  model.compile(loss='mean_absolute_error',\n",
    "                optimizer=tf.keras.optimizers.Adam(0.001))\n",
    "  return model"
   ]
  },
  {
   "cell_type": "markdown",
   "id": "832ba4e1",
   "metadata": {},
   "source": [
    "#### Regression with one variable"
   ]
  },
  {
   "cell_type": "markdown",
   "id": "560ead5e",
   "metadata": {},
   "source": [
    "Again, first we will perform regression with one variable and then we will perform regression using all of the variables. This section is devoted to regression with one variable (x) as the input."
   ]
  },
  {
   "cell_type": "code",
   "execution_count": 157,
   "id": "caf17b38",
   "metadata": {},
   "outputs": [],
   "source": [
    "dnn_x_model = build_and_compile_model(x_normalizer)"
   ]
  },
  {
   "cell_type": "markdown",
   "id": "94dbe6d2",
   "metadata": {},
   "source": [
    "Recall that the linear models had 5 trainable parameters each. This model has way more- 4,356!"
   ]
  },
  {
   "cell_type": "code",
   "execution_count": 159,
   "id": "6932640b",
   "metadata": {},
   "outputs": [
    {
     "name": "stdout",
     "output_type": "stream",
     "text": [
      "Model: \"sequential_6\"\n",
      "_________________________________________________________________\n",
      " Layer (type)                Output Shape              Param #   \n",
      "=================================================================\n",
      " normalization_8 (Normalizat  (None, 1)                3         \n",
      " ion)                                                            \n",
      "                                                                 \n",
      " dense_6 (Dense)             (None, 64)                128       \n",
      "                                                                 \n",
      " dense_7 (Dense)             (None, 64)                4160      \n",
      "                                                                 \n",
      " dense_8 (Dense)             (None, 1)                 65        \n",
      "                                                                 \n",
      "=================================================================\n",
      "Total params: 4,356\n",
      "Trainable params: 4,353\n",
      "Non-trainable params: 3\n",
      "_________________________________________________________________\n"
     ]
    }
   ],
   "source": [
    "dnn_x_model.summary()"
   ]
  },
  {
   "cell_type": "markdown",
   "id": "03a1299c",
   "metadata": {},
   "source": [
    "Now, we will train the model."
   ]
  },
  {
   "cell_type": "code",
   "execution_count": 161,
   "id": "1d300c1f",
   "metadata": {},
   "outputs": [
    {
     "name": "stdout",
     "output_type": "stream",
     "text": [
      "CPU times: user 39.3 s, sys: 7.08 s, total: 46.4 s\n",
      "Wall time: 30.1 s\n"
     ]
    }
   ],
   "source": [
    "%%time\n",
    "history = dnn_x_model.fit(\n",
    "    train_features['x'],\n",
    "    train_labels,\n",
    "    validation_split=0.2,\n",
    "    verbose=0, epochs=100)"
   ]
  },
  {
   "cell_type": "markdown",
   "id": "cf5113e4",
   "metadata": {},
   "source": [
    "Let's see how our model performed by plotting the loss. This looks like a more appropriate loss function- thank God!"
   ]
  },
  {
   "cell_type": "code",
   "execution_count": 162,
   "id": "456d31e5",
   "metadata": {},
   "outputs": [
    {
     "data": {
      "image/png": "[encoded data removed]",
      "text/plain": [
       "<Figure size 432x288 with 1 Axes>"
      ]
     },
     "metadata": {
      "needs_background": "light"
     },
     "output_type": "display_data"
    }
   ],
   "source": [
    "plot_loss(history)"
   ]
  },
  {
   "cell_type": "code",
   "execution_count": 163,
   "id": "cd0946f4",
   "metadata": {},
   "outputs": [
    {
     "name": "stdout",
     "output_type": "stream",
     "text": [
      "257/257 [==============================] - 0s 917us/step\n"
     ]
    }
   ],
   "source": [
    "x_vis = tf.linspace(0.0, 8192, 8193)\n",
    "y_vis = dnn_x_model.predict(x_vis)"
   ]
  },
  {
   "cell_type": "code",
   "execution_count": 166,
   "id": "add4bab8",
   "metadata": {},
   "outputs": [
    {
     "data": {
      "image/png": "[encoded data removed]",
      "text/plain": [
       "<Figure size 432x288 with 1 Axes>"
      ]
     },
     "metadata": {
      "needs_background": "light"
     },
     "output_type": "display_data"
    }
   ],
   "source": [
    "plot_x(x_vis, y_vis)"
   ]
  },
  {
   "cell_type": "markdown",
   "id": "f287a604",
   "metadata": {},
   "source": [
    "Again, we are saving the output of our model."
   ]
  },
  {
   "cell_type": "code",
   "execution_count": 167,
   "id": "fdb8a4fb",
   "metadata": {},
   "outputs": [],
   "source": [
    "test_results['dnn_x_model'] = dnn_x_model.evaluate(\n",
    "    test_features['x'], test_labels,\n",
    "    verbose=0)"
   ]
  },
  {
   "cell_type": "markdown",
   "id": "74f566c9",
   "metadata": {},
   "source": [
    "#### Regression with all features"
   ]
  },
  {
   "cell_type": "markdown",
   "id": "40397511",
   "metadata": {},
   "source": [
    "Finally, we will build a deep neural network that utilizes all of the input features. The hope is that this model performs the best out of all of them!"
   ]
  },
  {
   "cell_type": "code",
   "execution_count": 168,
   "id": "e2911c11",
   "metadata": {},
   "outputs": [
    {
     "name": "stdout",
     "output_type": "stream",
     "text": [
      "Model: \"sequential_7\"\n",
      "_________________________________________________________________\n",
      " Layer (type)                Output Shape              Param #   \n",
      "=================================================================\n",
      " normalization_7 (Normalizat  (None, 4)                9         \n",
      " ion)                                                            \n",
      "                                                                 \n",
      " dense_9 (Dense)             (None, 64)                320       \n",
      "                                                                 \n",
      " dense_10 (Dense)            (None, 64)                4160      \n",
      "                                                                 \n",
      " dense_11 (Dense)            (None, 1)                 65        \n",
      "                                                                 \n",
      "=================================================================\n",
      "Total params: 4,554\n",
      "Trainable params: 4,545\n",
      "Non-trainable params: 9\n",
      "_________________________________________________________________\n"
     ]
    }
   ],
   "source": [
    "dnn_model = build_and_compile_model(normalizer)\n",
    "dnn_model.summary()"
   ]
  },
  {
   "cell_type": "code",
   "execution_count": 169,
   "id": "210547e8",
   "metadata": {},
   "outputs": [
    {
     "name": "stdout",
     "output_type": "stream",
     "text": [
      "CPU times: user 39.8 s, sys: 7.07 s, total: 46.9 s\n",
      "Wall time: 30.6 s\n"
     ]
    }
   ],
   "source": [
    "%%time\n",
    "history = dnn_model.fit(\n",
    "    train_features,\n",
    "    train_labels,\n",
    "    validation_split=0.2,\n",
    "    verbose=0, epochs=100)"
   ]
  },
  {
   "cell_type": "markdown",
   "id": "39996397",
   "metadata": {},
   "source": [
    "We will continue to plot the loss. We see a more \"normal\" looking loss curve once again."
   ]
  },
  {
   "cell_type": "code",
   "execution_count": 170,
   "id": "8048cb04",
   "metadata": {},
   "outputs": [
    {
     "data": {
      "image/png": "[encoded data removed]",
      "text/plain": [
       "<Figure size 432x288 with 1 Axes>"
      ]
     },
     "metadata": {
      "needs_background": "light"
     },
     "output_type": "display_data"
    }
   ],
   "source": [
    "plot_loss(history)"
   ]
  },
  {
   "cell_type": "markdown",
   "id": "b7798609",
   "metadata": {},
   "source": [
    "We also save the results of this model."
   ]
  },
  {
   "cell_type": "code",
   "execution_count": 171,
   "id": "393d19ee",
   "metadata": {},
   "outputs": [],
   "source": [
    "test_results['dnn_model'] = dnn_model.evaluate(test_features, test_labels, verbose=0)"
   ]
  },
  {
   "cell_type": "markdown",
   "id": "ee20fb23",
   "metadata": {},
   "source": [
    "### Performance\n",
    "\n",
    "Throughout this notebook, we have been storing the results of our models. We created four models: linear regression with one feature, linear regression with all features, DNN with one feature, and DNN with all features. How did they compare to one another?"
   ]
  },
  {
   "cell_type": "code",
   "execution_count": 172,
   "id": "5ec5ba03",
   "metadata": {},
   "outputs": [
    {
     "data": {
      "text/html": [
       "<div>\n",
       "<style scoped>\n",
       "    .dataframe tbody tr th:only-of-type {\n",
       "        vertical-align: middle;\n",
       "    }\n",
       "\n",
       "    .dataframe tbody tr th {\n",
       "        vertical-align: top;\n",
       "    }\n",
       "\n",
       "    .dataframe thead th {\n",
       "        text-align: right;\n",
       "    }\n",
       "</style>\n",
       "<table border=\"1\" class=\"dataframe\">\n",
       "  <thead>\n",
       "    <tr style=\"text-align: right;\">\n",
       "      <th></th>\n",
       "      <th>Mean absolute error [MPG]</th>\n",
       "    </tr>\n",
       "  </thead>\n",
       "  <tbody>\n",
       "    <tr>\n",
       "      <th>x_model</th>\n",
       "      <td>0.004572</td>\n",
       "    </tr>\n",
       "    <tr>\n",
       "      <th>linear_model</th>\n",
       "      <td>0.016297</td>\n",
       "    </tr>\n",
       "    <tr>\n",
       "      <th>dnn_x_model</th>\n",
       "      <td>0.000229</td>\n",
       "    </tr>\n",
       "    <tr>\n",
       "      <th>dnn_model</th>\n",
       "      <td>0.000117</td>\n",
       "    </tr>\n",
       "  </tbody>\n",
       "</table>\n",
       "</div>"
      ],
      "text/plain": [
       "              Mean absolute error [MPG]\n",
       "x_model                        0.004572\n",
       "linear_model                   0.016297\n",
       "dnn_x_model                    0.000229\n",
       "dnn_model                      0.000117"
      ]
     },
     "execution_count": 172,
     "metadata": {},
     "output_type": "execute_result"
    }
   ],
   "source": [
    "pd.DataFrame(test_results, index=['Mean absolute error [MPG]']).T"
   ]
  },
  {
   "cell_type": "markdown",
   "id": "fbec06f9",
   "metadata": {},
   "source": [
    "We can see that the DNN model had the lowest error, by far. The DNN_x_model had the second lowest error. I wonder why the linear model performed worse than the x model!"
   ]
  },
  {
   "cell_type": "markdown",
   "id": "b082cea0",
   "metadata": {},
   "source": [
    "### Predictions\n",
    "\n",
    "Now, we can make predictions on the test set. We will be making predictions using the DNN model, since it performed the best."
   ]
  },
  {
   "cell_type": "code",
   "execution_count": 180,
   "id": "91384752",
   "metadata": {},
   "outputs": [
    {
     "name": "stdout",
     "output_type": "stream",
     "text": [
      "64/64 [==============================] - 0s 1ms/step\n"
     ]
    },
    {
     "data": {
      "image/png": "[encoded data removed]",
      "text/plain": [
       "<Figure size 432x288 with 1 Axes>"
      ]
     },
     "metadata": {
      "needs_background": "light"
     },
     "output_type": "display_data"
    }
   ],
   "source": [
    "test_predictions = dnn_model.predict(test_features).flatten()\n",
    "\n",
    "a = plt.axes(aspect='equal')\n",
    "plt.scatter(test_labels, test_predictions)\n",
    "plt.xlabel('True Values [pressure]')\n",
    "plt.ylabel('Predictions [pressure]')\n",
    "lims = [-0.001, 0.001]\n",
    "plt.xlim(lims)\n",
    "plt.ylim(lims)\n",
    "_ = plt.plot(lims, lims)"
   ]
  },
  {
   "cell_type": "markdown",
   "id": "75fa2f2b",
   "metadata": {},
   "source": [
    "We can see that the data roughly fits the line, which means that our predictions are pretty decent! Woopee! Here is the error distribution:"
   ]
  },
  {
   "cell_type": "code",
   "execution_count": 182,
   "id": "9e348003",
   "metadata": {},
   "outputs": [
    {
     "data": {
      "image/png": "[encoded data removed]",
      "text/plain": [
       "<Figure size 432x288 with 1 Axes>"
      ]
     },
     "metadata": {
      "needs_background": "light"
     },
     "output_type": "display_data"
    }
   ],
   "source": [
    "error = test_predictions - test_labels\n",
    "plt.hist(error, bins=25)\n",
    "plt.xlabel('Prediction Error [pressure]')\n",
    "_ = plt.ylabel('Count')"
   ]
  },
  {
   "cell_type": "markdown",
   "id": "d8fa2293",
   "metadata": {},
   "source": [
    "### Credit"
   ]
  },
  {
   "cell_type": "markdown",
   "id": "34a1ff4e",
   "metadata": {},
   "source": [
    "This whole notebook was inspired by the following tutorial: https://www.tensorflow.org/tutorials/keras/regression"
   ]
  }
 ],
 "metadata": {
  "kernelspec": {
   "display_name": "Python 3 (ipykernel)",
   "language": "python",
   "name": "python3"
  },
  "language_info": {
   "codemirror_mode": {
    "name": "ipython",
    "version": 3
   },
   "file_extension": ".py",
   "mimetype": "text/x-python",
   "name": "python",
   "nbconvert_exporter": "python",
   "pygments_lexer": "ipython3",
   "version": "3.8.5"
  }
 },
 "nbformat": 4,
 "nbformat_minor": 5
}
