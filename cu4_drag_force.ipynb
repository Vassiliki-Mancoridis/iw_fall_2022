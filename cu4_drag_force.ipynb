{
 "cells": [
  {
   "cell_type": "markdown",
   "id": "d80fa463",
   "metadata": {},
   "source": [
    "## CU4 Drag Force\n",
    "- Imports and data preparaton\n",
    "- Prepare the drag force blockouts for neural net training\n",
    "\n",
    "### Imports and Data Preparation\n",
    "\n",
    "First, we must prep our data.\n",
    "\n",
    "Import the data."
   ]
  },
  {
   "cell_type": "code",
   "execution_count": 1,
   "id": "f10653e0",
   "metadata": {},
   "outputs": [],
   "source": [
    "import OpenMORe.OpenMORe.model_order_reduction as model_order_reduction\n",
    "from OpenMORe.OpenMORe.utilities import *\n",
    "import pandas as pd\n",
    "from numpy import genfromtxt\n",
    "import tensorflow as tf\n",
    "from tensorflow import keras\n",
    "from tensorflow.keras import layers\n",
    "import matplotlib.pyplot as plt\n",
    "from tensorflow.keras import regularizers\n",
    "import numpy as np\n",
    "from scipy.stats import pearsonr\n",
    "from sklearn.preprocessing import StandardScaler\n",
    "import matplotlib"
   ]
  },
  {
   "cell_type": "code",
   "execution_count": 2,
   "id": "75555ae9",
   "metadata": {},
   "outputs": [],
   "source": [
    "cu4_concat = genfromtxt('cu4_concat.csv', delimiter=',')"
   ]
  },
  {
   "cell_type": "code",
   "execution_count": 3,
   "id": "746ac38b",
   "metadata": {},
   "outputs": [
    {
     "data": {
      "text/html": [
       "<div>\n",
       "<style scoped>\n",
       "    .dataframe tbody tr th:only-of-type {\n",
       "        vertical-align: middle;\n",
       "    }\n",
       "\n",
       "    .dataframe tbody tr th {\n",
       "        vertical-align: top;\n",
       "    }\n",
       "\n",
       "    .dataframe thead th {\n",
       "        text-align: right;\n",
       "    }\n",
       "</style>\n",
       "<table border=\"1\" class=\"dataframe\">\n",
       "  <thead>\n",
       "    <tr style=\"text-align: right;\">\n",
       "      <th></th>\n",
       "      <th>x</th>\n",
       "      <th>eta</th>\n",
       "      <th>u</th>\n",
       "      <th>v</th>\n",
       "      <th>pressure</th>\n",
       "    </tr>\n",
       "  </thead>\n",
       "  <tbody>\n",
       "    <tr>\n",
       "      <th>0</th>\n",
       "      <td>-1.728670</td>\n",
       "      <td>1.594456</td>\n",
       "      <td>0.183840</td>\n",
       "      <td>0.726587</td>\n",
       "      <td>0.725233</td>\n",
       "    </tr>\n",
       "    <tr>\n",
       "      <th>1</th>\n",
       "      <td>-1.721907</td>\n",
       "      <td>1.592266</td>\n",
       "      <td>0.258540</td>\n",
       "      <td>0.806480</td>\n",
       "      <td>0.648305</td>\n",
       "    </tr>\n",
       "    <tr>\n",
       "      <th>2</th>\n",
       "      <td>-1.715139</td>\n",
       "      <td>1.582960</td>\n",
       "      <td>0.269511</td>\n",
       "      <td>0.808270</td>\n",
       "      <td>0.614005</td>\n",
       "    </tr>\n",
       "    <tr>\n",
       "      <th>3</th>\n",
       "      <td>-1.708376</td>\n",
       "      <td>1.568179</td>\n",
       "      <td>0.290845</td>\n",
       "      <td>0.924656</td>\n",
       "      <td>0.542222</td>\n",
       "    </tr>\n",
       "    <tr>\n",
       "      <th>4</th>\n",
       "      <td>-1.701608</td>\n",
       "      <td>1.536428</td>\n",
       "      <td>0.301410</td>\n",
       "      <td>0.924826</td>\n",
       "      <td>0.508903</td>\n",
       "    </tr>\n",
       "    <tr>\n",
       "      <th>...</th>\n",
       "      <td>...</td>\n",
       "      <td>...</td>\n",
       "      <td>...</td>\n",
       "      <td>...</td>\n",
       "      <td>...</td>\n",
       "    </tr>\n",
       "    <tr>\n",
       "      <th>10235</th>\n",
       "      <td>1.701608</td>\n",
       "      <td>1.513993</td>\n",
       "      <td>-1.130897</td>\n",
       "      <td>0.205433</td>\n",
       "      <td>1.193493</td>\n",
       "    </tr>\n",
       "    <tr>\n",
       "      <th>10236</th>\n",
       "      <td>1.708376</td>\n",
       "      <td>1.543437</td>\n",
       "      <td>-1.123716</td>\n",
       "      <td>0.359496</td>\n",
       "      <td>1.148804</td>\n",
       "    </tr>\n",
       "    <tr>\n",
       "      <th>10237</th>\n",
       "      <td>1.715139</td>\n",
       "      <td>1.580311</td>\n",
       "      <td>-1.125836</td>\n",
       "      <td>0.372134</td>\n",
       "      <td>1.124256</td>\n",
       "    </tr>\n",
       "    <tr>\n",
       "      <th>10238</th>\n",
       "      <td>1.721907</td>\n",
       "      <td>1.589667</td>\n",
       "      <td>-1.117356</td>\n",
       "      <td>0.447627</td>\n",
       "      <td>1.075160</td>\n",
       "    </tr>\n",
       "    <tr>\n",
       "      <th>10239</th>\n",
       "      <td>1.728670</td>\n",
       "      <td>1.608379</td>\n",
       "      <td>-1.107235</td>\n",
       "      <td>0.460704</td>\n",
       "      <td>1.040856</td>\n",
       "    </tr>\n",
       "  </tbody>\n",
       "</table>\n",
       "<p>10240 rows × 5 columns</p>\n",
       "</div>"
      ],
      "text/plain": [
       "              x       eta         u         v  pressure\n",
       "0     -1.728670  1.594456  0.183840  0.726587  0.725233\n",
       "1     -1.721907  1.592266  0.258540  0.806480  0.648305\n",
       "2     -1.715139  1.582960  0.269511  0.808270  0.614005\n",
       "3     -1.708376  1.568179  0.290845  0.924656  0.542222\n",
       "4     -1.701608  1.536428  0.301410  0.924826  0.508903\n",
       "...         ...       ...       ...       ...       ...\n",
       "10235  1.701608  1.513993 -1.130897  0.205433  1.193493\n",
       "10236  1.708376  1.543437 -1.123716  0.359496  1.148804\n",
       "10237  1.715139  1.580311 -1.125836  0.372134  1.124256\n",
       "10238  1.721907  1.589667 -1.117356  0.447627  1.075160\n",
       "10239  1.728670  1.608379 -1.107235  0.460704  1.040856\n",
       "\n",
       "[10240 rows x 5 columns]"
      ]
     },
     "execution_count": 3,
     "metadata": {},
     "output_type": "execute_result"
    }
   ],
   "source": [
    "cu4_concat = pd.DataFrame(cu4_concat, columns = ['x','eta','u','v','pressure'])\n",
    "cu4_concat"
   ]
  },
  {
   "cell_type": "code",
   "execution_count": 4,
   "id": "b4f5a34e",
   "metadata": {},
   "outputs": [],
   "source": [
    "cu4_concat['deta_dx'] = cu4_concat['eta'].diff() / cu4_concat['x'].diff()"
   ]
  },
  {
   "cell_type": "code",
   "execution_count": 5,
   "id": "03d8b6fe",
   "metadata": {},
   "outputs": [
    {
     "data": {
      "text/html": [
       "<div>\n",
       "<style scoped>\n",
       "    .dataframe tbody tr th:only-of-type {\n",
       "        vertical-align: middle;\n",
       "    }\n",
       "\n",
       "    .dataframe tbody tr th {\n",
       "        vertical-align: top;\n",
       "    }\n",
       "\n",
       "    .dataframe thead th {\n",
       "        text-align: right;\n",
       "    }\n",
       "</style>\n",
       "<table border=\"1\" class=\"dataframe\">\n",
       "  <thead>\n",
       "    <tr style=\"text-align: right;\">\n",
       "      <th></th>\n",
       "      <th>x</th>\n",
       "      <th>eta</th>\n",
       "      <th>u</th>\n",
       "      <th>v</th>\n",
       "      <th>pressure</th>\n",
       "      <th>deta_dx</th>\n",
       "    </tr>\n",
       "  </thead>\n",
       "  <tbody>\n",
       "    <tr>\n",
       "      <th>0</th>\n",
       "      <td>-1.728670</td>\n",
       "      <td>1.594456</td>\n",
       "      <td>0.183840</td>\n",
       "      <td>0.726587</td>\n",
       "      <td>0.725233</td>\n",
       "      <td>NaN</td>\n",
       "    </tr>\n",
       "    <tr>\n",
       "      <th>1</th>\n",
       "      <td>-1.721907</td>\n",
       "      <td>1.592266</td>\n",
       "      <td>0.258540</td>\n",
       "      <td>0.806480</td>\n",
       "      <td>0.648305</td>\n",
       "      <td>-0.323798</td>\n",
       "    </tr>\n",
       "    <tr>\n",
       "      <th>2</th>\n",
       "      <td>-1.715139</td>\n",
       "      <td>1.582960</td>\n",
       "      <td>0.269511</td>\n",
       "      <td>0.808270</td>\n",
       "      <td>0.614005</td>\n",
       "      <td>-1.375024</td>\n",
       "    </tr>\n",
       "    <tr>\n",
       "      <th>3</th>\n",
       "      <td>-1.708376</td>\n",
       "      <td>1.568179</td>\n",
       "      <td>0.290845</td>\n",
       "      <td>0.924656</td>\n",
       "      <td>0.542222</td>\n",
       "      <td>-2.185638</td>\n",
       "    </tr>\n",
       "    <tr>\n",
       "      <th>4</th>\n",
       "      <td>-1.701608</td>\n",
       "      <td>1.536428</td>\n",
       "      <td>0.301410</td>\n",
       "      <td>0.924826</td>\n",
       "      <td>0.508903</td>\n",
       "      <td>-4.691257</td>\n",
       "    </tr>\n",
       "    <tr>\n",
       "      <th>...</th>\n",
       "      <td>...</td>\n",
       "      <td>...</td>\n",
       "      <td>...</td>\n",
       "      <td>...</td>\n",
       "      <td>...</td>\n",
       "      <td>...</td>\n",
       "    </tr>\n",
       "    <tr>\n",
       "      <th>10235</th>\n",
       "      <td>1.701608</td>\n",
       "      <td>1.513993</td>\n",
       "      <td>-1.130897</td>\n",
       "      <td>0.205433</td>\n",
       "      <td>1.193493</td>\n",
       "      <td>2.886742</td>\n",
       "    </tr>\n",
       "    <tr>\n",
       "      <th>10236</th>\n",
       "      <td>1.708376</td>\n",
       "      <td>1.543437</td>\n",
       "      <td>-1.123716</td>\n",
       "      <td>0.359496</td>\n",
       "      <td>1.148804</td>\n",
       "      <td>4.350442</td>\n",
       "    </tr>\n",
       "    <tr>\n",
       "      <th>10237</th>\n",
       "      <td>1.715139</td>\n",
       "      <td>1.580311</td>\n",
       "      <td>-1.125836</td>\n",
       "      <td>0.372134</td>\n",
       "      <td>1.124256</td>\n",
       "      <td>5.452650</td>\n",
       "    </tr>\n",
       "    <tr>\n",
       "      <th>10238</th>\n",
       "      <td>1.721907</td>\n",
       "      <td>1.589667</td>\n",
       "      <td>-1.117356</td>\n",
       "      <td>0.447627</td>\n",
       "      <td>1.075160</td>\n",
       "      <td>1.382383</td>\n",
       "    </tr>\n",
       "    <tr>\n",
       "      <th>10239</th>\n",
       "      <td>1.728670</td>\n",
       "      <td>1.608379</td>\n",
       "      <td>-1.107235</td>\n",
       "      <td>0.460704</td>\n",
       "      <td>1.040856</td>\n",
       "      <td>2.767016</td>\n",
       "    </tr>\n",
       "  </tbody>\n",
       "</table>\n",
       "<p>10240 rows × 6 columns</p>\n",
       "</div>"
      ],
      "text/plain": [
       "              x       eta         u         v  pressure   deta_dx\n",
       "0     -1.728670  1.594456  0.183840  0.726587  0.725233       NaN\n",
       "1     -1.721907  1.592266  0.258540  0.806480  0.648305 -0.323798\n",
       "2     -1.715139  1.582960  0.269511  0.808270  0.614005 -1.375024\n",
       "3     -1.708376  1.568179  0.290845  0.924656  0.542222 -2.185638\n",
       "4     -1.701608  1.536428  0.301410  0.924826  0.508903 -4.691257\n",
       "...         ...       ...       ...       ...       ...       ...\n",
       "10235  1.701608  1.513993 -1.130897  0.205433  1.193493  2.886742\n",
       "10236  1.708376  1.543437 -1.123716  0.359496  1.148804  4.350442\n",
       "10237  1.715139  1.580311 -1.125836  0.372134  1.124256  5.452650\n",
       "10238  1.721907  1.589667 -1.117356  0.447627  1.075160  1.382383\n",
       "10239  1.728670  1.608379 -1.107235  0.460704  1.040856  2.767016\n",
       "\n",
       "[10240 rows x 6 columns]"
      ]
     },
     "execution_count": 5,
     "metadata": {},
     "output_type": "execute_result"
    }
   ],
   "source": [
    "cu4_concat"
   ]
  },
  {
   "cell_type": "code",
   "execution_count": 6,
   "id": "9d0ced93",
   "metadata": {},
   "outputs": [
    {
     "data": {
      "text/plain": [
       "4.6837533851373795e-18"
      ]
     },
     "execution_count": 6,
     "metadata": {},
     "output_type": "execute_result"
    }
   ],
   "source": [
    "avg = cu4_concat['pressure'].mean()\n",
    "avg"
   ]
  },
  {
   "cell_type": "code",
   "execution_count": 7,
   "id": "73d054b6",
   "metadata": {},
   "outputs": [],
   "source": [
    "cu4_concat['drag_force'] = (cu4_concat['pressure'] - avg) * cu4_concat['deta_dx']"
   ]
  },
  {
   "cell_type": "markdown",
   "id": "f2940370",
   "metadata": {},
   "source": [
    "Equation for drag force: sum[(pressure-average(pressure))*deta/dx]. Sum is overall drag force. Which will be used in the loss.\n",
    "\n",
    "Now, we have a new set of features."
   ]
  },
  {
   "cell_type": "code",
   "execution_count": 8,
   "id": "91dcea3e",
   "metadata": {},
   "outputs": [
    {
     "data": {
      "text/html": [
       "<div>\n",
       "<style scoped>\n",
       "    .dataframe tbody tr th:only-of-type {\n",
       "        vertical-align: middle;\n",
       "    }\n",
       "\n",
       "    .dataframe tbody tr th {\n",
       "        vertical-align: top;\n",
       "    }\n",
       "\n",
       "    .dataframe thead th {\n",
       "        text-align: right;\n",
       "    }\n",
       "</style>\n",
       "<table border=\"1\" class=\"dataframe\">\n",
       "  <thead>\n",
       "    <tr style=\"text-align: right;\">\n",
       "      <th></th>\n",
       "      <th>x</th>\n",
       "      <th>eta</th>\n",
       "      <th>u</th>\n",
       "      <th>v</th>\n",
       "      <th>pressure</th>\n",
       "      <th>deta_dx</th>\n",
       "      <th>drag_force</th>\n",
       "    </tr>\n",
       "  </thead>\n",
       "  <tbody>\n",
       "    <tr>\n",
       "      <th>0</th>\n",
       "      <td>-1.728670</td>\n",
       "      <td>1.594456</td>\n",
       "      <td>0.183840</td>\n",
       "      <td>0.726587</td>\n",
       "      <td>0.725233</td>\n",
       "      <td>NaN</td>\n",
       "      <td>NaN</td>\n",
       "    </tr>\n",
       "    <tr>\n",
       "      <th>1</th>\n",
       "      <td>-1.721907</td>\n",
       "      <td>1.592266</td>\n",
       "      <td>0.258540</td>\n",
       "      <td>0.806480</td>\n",
       "      <td>0.648305</td>\n",
       "      <td>-0.323798</td>\n",
       "      <td>-0.209920</td>\n",
       "    </tr>\n",
       "    <tr>\n",
       "      <th>2</th>\n",
       "      <td>-1.715139</td>\n",
       "      <td>1.582960</td>\n",
       "      <td>0.269511</td>\n",
       "      <td>0.808270</td>\n",
       "      <td>0.614005</td>\n",
       "      <td>-1.375024</td>\n",
       "      <td>-0.844272</td>\n",
       "    </tr>\n",
       "    <tr>\n",
       "      <th>3</th>\n",
       "      <td>-1.708376</td>\n",
       "      <td>1.568179</td>\n",
       "      <td>0.290845</td>\n",
       "      <td>0.924656</td>\n",
       "      <td>0.542222</td>\n",
       "      <td>-2.185638</td>\n",
       "      <td>-1.185102</td>\n",
       "    </tr>\n",
       "    <tr>\n",
       "      <th>4</th>\n",
       "      <td>-1.701608</td>\n",
       "      <td>1.536428</td>\n",
       "      <td>0.301410</td>\n",
       "      <td>0.924826</td>\n",
       "      <td>0.508903</td>\n",
       "      <td>-4.691257</td>\n",
       "      <td>-2.387395</td>\n",
       "    </tr>\n",
       "    <tr>\n",
       "      <th>...</th>\n",
       "      <td>...</td>\n",
       "      <td>...</td>\n",
       "      <td>...</td>\n",
       "      <td>...</td>\n",
       "      <td>...</td>\n",
       "      <td>...</td>\n",
       "      <td>...</td>\n",
       "    </tr>\n",
       "    <tr>\n",
       "      <th>10235</th>\n",
       "      <td>1.701608</td>\n",
       "      <td>1.513993</td>\n",
       "      <td>-1.130897</td>\n",
       "      <td>0.205433</td>\n",
       "      <td>1.193493</td>\n",
       "      <td>2.886742</td>\n",
       "      <td>3.445307</td>\n",
       "    </tr>\n",
       "    <tr>\n",
       "      <th>10236</th>\n",
       "      <td>1.708376</td>\n",
       "      <td>1.543437</td>\n",
       "      <td>-1.123716</td>\n",
       "      <td>0.359496</td>\n",
       "      <td>1.148804</td>\n",
       "      <td>4.350442</td>\n",
       "      <td>4.997804</td>\n",
       "    </tr>\n",
       "    <tr>\n",
       "      <th>10237</th>\n",
       "      <td>1.715139</td>\n",
       "      <td>1.580311</td>\n",
       "      <td>-1.125836</td>\n",
       "      <td>0.372134</td>\n",
       "      <td>1.124256</td>\n",
       "      <td>5.452650</td>\n",
       "      <td>6.130174</td>\n",
       "    </tr>\n",
       "    <tr>\n",
       "      <th>10238</th>\n",
       "      <td>1.721907</td>\n",
       "      <td>1.589667</td>\n",
       "      <td>-1.117356</td>\n",
       "      <td>0.447627</td>\n",
       "      <td>1.075160</td>\n",
       "      <td>1.382383</td>\n",
       "      <td>1.486284</td>\n",
       "    </tr>\n",
       "    <tr>\n",
       "      <th>10239</th>\n",
       "      <td>1.728670</td>\n",
       "      <td>1.608379</td>\n",
       "      <td>-1.107235</td>\n",
       "      <td>0.460704</td>\n",
       "      <td>1.040856</td>\n",
       "      <td>2.767016</td>\n",
       "      <td>2.880067</td>\n",
       "    </tr>\n",
       "  </tbody>\n",
       "</table>\n",
       "<p>10240 rows × 7 columns</p>\n",
       "</div>"
      ],
      "text/plain": [
       "              x       eta         u         v  pressure   deta_dx  drag_force\n",
       "0     -1.728670  1.594456  0.183840  0.726587  0.725233       NaN         NaN\n",
       "1     -1.721907  1.592266  0.258540  0.806480  0.648305 -0.323798   -0.209920\n",
       "2     -1.715139  1.582960  0.269511  0.808270  0.614005 -1.375024   -0.844272\n",
       "3     -1.708376  1.568179  0.290845  0.924656  0.542222 -2.185638   -1.185102\n",
       "4     -1.701608  1.536428  0.301410  0.924826  0.508903 -4.691257   -2.387395\n",
       "...         ...       ...       ...       ...       ...       ...         ...\n",
       "10235  1.701608  1.513993 -1.130897  0.205433  1.193493  2.886742    3.445307\n",
       "10236  1.708376  1.543437 -1.123716  0.359496  1.148804  4.350442    4.997804\n",
       "10237  1.715139  1.580311 -1.125836  0.372134  1.124256  5.452650    6.130174\n",
       "10238  1.721907  1.589667 -1.117356  0.447627  1.075160  1.382383    1.486284\n",
       "10239  1.728670  1.608379 -1.107235  0.460704  1.040856  2.767016    2.880067\n",
       "\n",
       "[10240 rows x 7 columns]"
      ]
     },
     "execution_count": 8,
     "metadata": {},
     "output_type": "execute_result"
    }
   ],
   "source": [
    "cu4_concat"
   ]
  },
  {
   "cell_type": "markdown",
   "id": "415f5cf3",
   "metadata": {},
   "source": [
    "Save the data."
   ]
  },
  {
   "cell_type": "code",
   "execution_count": 44,
   "id": "9fbd70ec",
   "metadata": {},
   "outputs": [],
   "source": [
    "np.savetxt(\"cu4_drag_force.csv\", cu4_concat, delimiter=\",\")"
   ]
  },
  {
   "cell_type": "markdown",
   "id": "8534a09b",
   "metadata": {},
   "source": [
    "### Prepare the drag force blockouts training"
   ]
  },
  {
   "cell_type": "code",
   "execution_count": 54,
   "id": "f42dab2e",
   "metadata": {},
   "outputs": [],
   "source": [
    "cu4_pos_drag = cu4_concat.copy()\n",
    "cu4_neg_drag = cu4_concat.copy()\n",
    "\n",
    "# apply filters for drag force\n",
    "cu4_pos_drag[cu4_pos_drag['deta_dx'] < 0] = 0\n",
    "cu4_neg_drag[cu4_neg_drag['deta_dx'] > 0] = 0"
   ]
  },
  {
   "cell_type": "markdown",
   "id": "f71b828f",
   "metadata": {},
   "source": [
    "### Model performance with filtered drag force"
   ]
  },
  {
   "cell_type": "markdown",
   "id": "ecc6bc32",
   "metadata": {},
   "source": [
    "1. How well does the model do with predicting unaltered drag force?\n",
    "2. How well does the model do with predicting positively-filtered drag force?\n",
    "3. How well does the model do with predicting negatively-filtered drag force?"
   ]
  },
  {
   "cell_type": "code",
   "execution_count": 55,
   "id": "ddc9af71",
   "metadata": {},
   "outputs": [],
   "source": [
    "test_results = {}"
   ]
  },
  {
   "cell_type": "markdown",
   "id": "62fbeab5",
   "metadata": {},
   "source": [
    "#### Unaltered drag force"
   ]
  },
  {
   "cell_type": "markdown",
   "id": "1f8d5c28",
   "metadata": {},
   "source": [
    "First, prepare the data. I got rid of the first column because it contains NaN values."
   ]
  },
  {
   "cell_type": "code",
   "execution_count": 9,
   "id": "a4ede03d",
   "metadata": {},
   "outputs": [
    {
     "data": {
      "text/html": [
       "<div>\n",
       "<style scoped>\n",
       "    .dataframe tbody tr th:only-of-type {\n",
       "        vertical-align: middle;\n",
       "    }\n",
       "\n",
       "    .dataframe tbody tr th {\n",
       "        vertical-align: top;\n",
       "    }\n",
       "\n",
       "    .dataframe thead th {\n",
       "        text-align: right;\n",
       "    }\n",
       "</style>\n",
       "<table border=\"1\" class=\"dataframe\">\n",
       "  <thead>\n",
       "    <tr style=\"text-align: right;\">\n",
       "      <th></th>\n",
       "      <th>x</th>\n",
       "      <th>eta</th>\n",
       "      <th>u</th>\n",
       "      <th>v</th>\n",
       "      <th>pressure</th>\n",
       "      <th>deta_dx</th>\n",
       "      <th>drag_force</th>\n",
       "    </tr>\n",
       "  </thead>\n",
       "  <tbody>\n",
       "    <tr>\n",
       "      <th>1</th>\n",
       "      <td>-1.721907</td>\n",
       "      <td>1.592266</td>\n",
       "      <td>0.258540</td>\n",
       "      <td>0.806480</td>\n",
       "      <td>0.648305</td>\n",
       "      <td>-0.323798</td>\n",
       "      <td>-0.209920</td>\n",
       "    </tr>\n",
       "    <tr>\n",
       "      <th>2</th>\n",
       "      <td>-1.715139</td>\n",
       "      <td>1.582960</td>\n",
       "      <td>0.269511</td>\n",
       "      <td>0.808270</td>\n",
       "      <td>0.614005</td>\n",
       "      <td>-1.375024</td>\n",
       "      <td>-0.844272</td>\n",
       "    </tr>\n",
       "    <tr>\n",
       "      <th>3</th>\n",
       "      <td>-1.708376</td>\n",
       "      <td>1.568179</td>\n",
       "      <td>0.290845</td>\n",
       "      <td>0.924656</td>\n",
       "      <td>0.542222</td>\n",
       "      <td>-2.185638</td>\n",
       "      <td>-1.185102</td>\n",
       "    </tr>\n",
       "    <tr>\n",
       "      <th>4</th>\n",
       "      <td>-1.701608</td>\n",
       "      <td>1.536428</td>\n",
       "      <td>0.301410</td>\n",
       "      <td>0.924826</td>\n",
       "      <td>0.508903</td>\n",
       "      <td>-4.691257</td>\n",
       "      <td>-2.387395</td>\n",
       "    </tr>\n",
       "    <tr>\n",
       "      <th>5</th>\n",
       "      <td>-1.694840</td>\n",
       "      <td>1.508783</td>\n",
       "      <td>0.371505</td>\n",
       "      <td>0.989968</td>\n",
       "      <td>0.439815</td>\n",
       "      <td>-4.084629</td>\n",
       "      <td>-1.796480</td>\n",
       "    </tr>\n",
       "    <tr>\n",
       "      <th>...</th>\n",
       "      <td>...</td>\n",
       "      <td>...</td>\n",
       "      <td>...</td>\n",
       "      <td>...</td>\n",
       "      <td>...</td>\n",
       "      <td>...</td>\n",
       "      <td>...</td>\n",
       "    </tr>\n",
       "    <tr>\n",
       "      <th>10235</th>\n",
       "      <td>1.701608</td>\n",
       "      <td>1.513993</td>\n",
       "      <td>-1.130897</td>\n",
       "      <td>0.205433</td>\n",
       "      <td>1.193493</td>\n",
       "      <td>2.886742</td>\n",
       "      <td>3.445307</td>\n",
       "    </tr>\n",
       "    <tr>\n",
       "      <th>10236</th>\n",
       "      <td>1.708376</td>\n",
       "      <td>1.543437</td>\n",
       "      <td>-1.123716</td>\n",
       "      <td>0.359496</td>\n",
       "      <td>1.148804</td>\n",
       "      <td>4.350442</td>\n",
       "      <td>4.997804</td>\n",
       "    </tr>\n",
       "    <tr>\n",
       "      <th>10237</th>\n",
       "      <td>1.715139</td>\n",
       "      <td>1.580311</td>\n",
       "      <td>-1.125836</td>\n",
       "      <td>0.372134</td>\n",
       "      <td>1.124256</td>\n",
       "      <td>5.452650</td>\n",
       "      <td>6.130174</td>\n",
       "    </tr>\n",
       "    <tr>\n",
       "      <th>10238</th>\n",
       "      <td>1.721907</td>\n",
       "      <td>1.589667</td>\n",
       "      <td>-1.117356</td>\n",
       "      <td>0.447627</td>\n",
       "      <td>1.075160</td>\n",
       "      <td>1.382383</td>\n",
       "      <td>1.486284</td>\n",
       "    </tr>\n",
       "    <tr>\n",
       "      <th>10239</th>\n",
       "      <td>1.728670</td>\n",
       "      <td>1.608379</td>\n",
       "      <td>-1.107235</td>\n",
       "      <td>0.460704</td>\n",
       "      <td>1.040856</td>\n",
       "      <td>2.767016</td>\n",
       "      <td>2.880067</td>\n",
       "    </tr>\n",
       "  </tbody>\n",
       "</table>\n",
       "<p>10239 rows × 7 columns</p>\n",
       "</div>"
      ],
      "text/plain": [
       "              x       eta         u         v  pressure   deta_dx  drag_force\n",
       "1     -1.721907  1.592266  0.258540  0.806480  0.648305 -0.323798   -0.209920\n",
       "2     -1.715139  1.582960  0.269511  0.808270  0.614005 -1.375024   -0.844272\n",
       "3     -1.708376  1.568179  0.290845  0.924656  0.542222 -2.185638   -1.185102\n",
       "4     -1.701608  1.536428  0.301410  0.924826  0.508903 -4.691257   -2.387395\n",
       "5     -1.694840  1.508783  0.371505  0.989968  0.439815 -4.084629   -1.796480\n",
       "...         ...       ...       ...       ...       ...       ...         ...\n",
       "10235  1.701608  1.513993 -1.130897  0.205433  1.193493  2.886742    3.445307\n",
       "10236  1.708376  1.543437 -1.123716  0.359496  1.148804  4.350442    4.997804\n",
       "10237  1.715139  1.580311 -1.125836  0.372134  1.124256  5.452650    6.130174\n",
       "10238  1.721907  1.589667 -1.117356  0.447627  1.075160  1.382383    1.486284\n",
       "10239  1.728670  1.608379 -1.107235  0.460704  1.040856  2.767016    2.880067\n",
       "\n",
       "[10239 rows x 7 columns]"
      ]
     },
     "execution_count": 9,
     "metadata": {},
     "output_type": "execute_result"
    }
   ],
   "source": [
    "cu4_unaltered = cu4_concat.copy()[1:]\n",
    "cu4_unaltered"
   ]
  },
  {
   "cell_type": "code",
   "execution_count": 10,
   "id": "bf73abcc",
   "metadata": {},
   "outputs": [],
   "source": [
    "np.savetxt(\"viki_test.csv\", cu4_unaltered, delimiter=\",\")"
   ]
  },
  {
   "cell_type": "markdown",
   "id": "84da54fe",
   "metadata": {},
   "source": [
    "Next, split the data into train and test sets."
   ]
  },
  {
   "cell_type": "code",
   "execution_count": 57,
   "id": "37faf07b",
   "metadata": {},
   "outputs": [
    {
     "name": "stdout",
     "output_type": "stream",
     "text": [
      "shape of training dataset:  (8191, 5)\n",
      "shape of testing dataset:  (2048, 5)\n"
     ]
    }
   ],
   "source": [
    "train_dataset_cu4_unaltered = cu4_unaltered.sample(frac=0.8, random_state=0)\n",
    "test_dataset_cu4_unaltered = cu4_unaltered.drop(train_dataset_cu4_unaltered.index)\n",
    "\n",
    "train_dataset_cu4_unaltered.pop('pressure')\n",
    "test_dataset_cu4_unaltered.pop('pressure')\n",
    "\n",
    "train_dataset_cu4_unaltered.pop('deta_dx')\n",
    "test_dataset_cu4_unaltered.pop('deta_dx')\n",
    "\n",
    "print(\"shape of training dataset: \", train_dataset_cu4_unaltered.shape)\n",
    "print(\"shape of testing dataset: \", test_dataset_cu4_unaltered.shape)"
   ]
  },
  {
   "cell_type": "code",
   "execution_count": 58,
   "id": "79a7e9bc",
   "metadata": {},
   "outputs": [],
   "source": [
    "train_features_cu4_unaltered = train_dataset_cu4_unaltered.copy()\n",
    "test_features_cu4_unaltered = test_dataset_cu4_unaltered.copy()\n",
    "\n",
    "train_labels_cu4_unaltered = train_features_cu4_unaltered.pop('drag_force')\n",
    "test_labels_cu4_unaltered = test_features_cu4_unaltered.pop('drag_force')"
   ]
  },
  {
   "cell_type": "markdown",
   "id": "ac901955",
   "metadata": {},
   "source": [
    "Normalize the data."
   ]
  },
  {
   "cell_type": "code",
   "execution_count": 59,
   "id": "bc830317",
   "metadata": {},
   "outputs": [
    {
     "name": "stdout",
     "output_type": "stream",
     "text": [
      "First example: [[0.9  1.54 1.13 1.02]]\n",
      "\n",
      "Normalized: [[0.89 1.54 1.13 1.02]]\n"
     ]
    }
   ],
   "source": [
    "normalizer_cu4_unaltered = tf.keras.layers.Normalization(axis=-1)\n",
    "normalizer_cu4_unaltered.adapt(np.array(train_features_cu4_unaltered))\n",
    "\n",
    "first = np.array(train_features_cu4_unaltered[:1])\n",
    "\n",
    "with np.printoptions(precision=2, suppress=True):\n",
    "  print('First example:', first)\n",
    "  print()\n",
    "  print('Normalized:', normalizer_cu4_unaltered(first).numpy())"
   ]
  },
  {
   "cell_type": "markdown",
   "id": "14371432",
   "metadata": {},
   "source": [
    "Build the model."
   ]
  },
  {
   "cell_type": "code",
   "execution_count": 15,
   "id": "944aaeea",
   "metadata": {},
   "outputs": [],
   "source": [
    "def build_and_compile_model(norm):\n",
    "  model = keras.Sequential([\n",
    "      norm,\n",
    "      layers.Dense(64, activation='relu'),\n",
    "      layers.Dense(64, activation='relu'),\n",
    "      layers.Dense(1)\n",
    "  ])\n",
    "\n",
    "  model.compile(loss='mean_absolute_error',\n",
    "                optimizer=tf.keras.optimizers.Adam(0.001))\n",
    "  return model"
   ]
  },
  {
   "cell_type": "code",
   "execution_count": 16,
   "id": "a9315730",
   "metadata": {},
   "outputs": [
    {
     "name": "stdout",
     "output_type": "stream",
     "text": [
      "Model: \"sequential\"\n",
      "_________________________________________________________________\n",
      " Layer (type)                Output Shape              Param #   \n",
      "=================================================================\n",
      " normalization (Normalizatio  (None, 4)                9         \n",
      " n)                                                              \n",
      "                                                                 \n",
      " dense (Dense)               (None, 64)                320       \n",
      "                                                                 \n",
      " dense_1 (Dense)             (None, 64)                4160      \n",
      "                                                                 \n",
      " dense_2 (Dense)             (None, 1)                 65        \n",
      "                                                                 \n",
      "=================================================================\n",
      "Total params: 4,554\n",
      "Trainable params: 4,545\n",
      "Non-trainable params: 9\n",
      "_________________________________________________________________\n"
     ]
    }
   ],
   "source": [
    "dnn_model_cu4_unaltered = build_and_compile_model(normalizer_cu4_unaltered)\n",
    "dnn_model_cu4_unaltered.summary()"
   ]
  },
  {
   "cell_type": "markdown",
   "id": "0bc0bc4d",
   "metadata": {},
   "source": [
    "Train the model."
   ]
  },
  {
   "cell_type": "code",
   "execution_count": 17,
   "id": "df54d733",
   "metadata": {},
   "outputs": [
    {
     "name": "stdout",
     "output_type": "stream",
     "text": [
      "CPU times: user 36.4 s, sys: 6.35 s, total: 42.7 s\n",
      "Wall time: 27.2 s\n"
     ]
    }
   ],
   "source": [
    "%%time\n",
    "history_cu4_unaltered = dnn_model_cu4_unaltered.fit(\n",
    "    train_features_cu4_unaltered,\n",
    "    train_labels_cu4_unaltered,\n",
    "    validation_split=0.2,\n",
    "    verbose=0, epochs=100)"
   ]
  },
  {
   "cell_type": "markdown",
   "id": "4adc73f9",
   "metadata": {},
   "source": [
    "Plot the loss."
   ]
  },
  {
   "cell_type": "code",
   "execution_count": 18,
   "id": "be5c7fd7",
   "metadata": {},
   "outputs": [],
   "source": [
    "def plot_loss(history_concat):\n",
    "  plt.plot(history_concat.history['loss'], label='loss')\n",
    "  plt.plot(history_concat.history['val_loss'], label='val_loss')\n",
    "  plt.ylim([0, 6])\n",
    "  plt.xlabel('Epoch')\n",
    "  plt.ylabel('Loss')\n",
    "  plt.legend()\n",
    "  plt.grid(True)"
   ]
  },
  {
   "cell_type": "code",
   "execution_count": 19,
   "id": "9be6d279",
   "metadata": {},
   "outputs": [
    {
     "data": {
      "image/png": "[encoded data removed]",
      "text/plain": [
       "<Figure size 432x288 with 1 Axes>"
      ]
     },
     "metadata": {
      "needs_background": "light"
     },
     "output_type": "display_data"
    }
   ],
   "source": [
    "plot_loss(history_cu4_unaltered)"
   ]
  },
  {
   "cell_type": "markdown",
   "id": "7c7f42e3",
   "metadata": {},
   "source": [
    "Save the results of the model."
   ]
  },
  {
   "cell_type": "code",
   "execution_count": 20,
   "id": "ae62056f",
   "metadata": {},
   "outputs": [],
   "source": [
    "test_results['dnn_model_cu4_unaltered'] = dnn_model_cu4_unaltered.evaluate(test_features_cu4_unaltered, test_labels_cu4_unaltered, verbose=0)"
   ]
  },
  {
   "cell_type": "markdown",
   "id": "1d7fb91b",
   "metadata": {},
   "source": [
    "#### Positive drag force"
   ]
  },
  {
   "cell_type": "markdown",
   "id": "3f524cbb",
   "metadata": {},
   "source": [
    "First, prepare the data (including first row with NaN values)."
   ]
  },
  {
   "cell_type": "code",
   "execution_count": 109,
   "id": "7ec07d1b",
   "metadata": {},
   "outputs": [],
   "source": [
    "cu4_pos_drag = cu4_pos_drag.copy()[1:]"
   ]
  },
  {
   "cell_type": "markdown",
   "id": "38b728ad",
   "metadata": {},
   "source": [
    "Then, split the data into train and test sets."
   ]
  },
  {
   "cell_type": "code",
   "execution_count": 110,
   "id": "3f66ff03",
   "metadata": {},
   "outputs": [
    {
     "name": "stdout",
     "output_type": "stream",
     "text": [
      "shape of training dataset:  (8190, 6)\n",
      "shape of testing dataset:  (2047, 6)\n"
     ]
    }
   ],
   "source": [
    "train_dataset_cu4_pos_drag = cu4_pos_drag.sample(frac=0.8, random_state=0)\n",
    "test_dataset_cu4_pos_drag = cu4_pos_drag.drop(train_dataset_cu4_pos_drag.index)\n",
    "\n",
    "train_dataset_cu4_pos_drag.pop('pressure')\n",
    "test_dataset_cu4_pos_drag.pop('pressure')\n",
    "\n",
    "# train_dataset_cu4_pos_drag.pop('deta_dx')\n",
    "# test_dataset_cu4_pos_drag.pop('deta_dx')\n",
    "\n",
    "print(\"shape of training dataset: \", train_dataset_cu4_pos_drag.shape)\n",
    "print(\"shape of testing dataset: \", test_dataset_cu4_pos_drag.shape)"
   ]
  },
  {
   "cell_type": "code",
   "execution_count": 111,
   "id": "514edaa7",
   "metadata": {},
   "outputs": [],
   "source": [
    "train_features_cu4_pos_drag = train_dataset_cu4_pos_drag.copy()\n",
    "test_features_cu4_pos_drag = test_dataset_cu4_pos_drag.copy()\n",
    "\n",
    "train_labels_cu4_pos_drag = train_features_cu4_pos_drag.pop('drag_force')\n",
    "test_labels_cu4_pos_drag = test_features_cu4_pos_drag.pop('drag_force')"
   ]
  },
  {
   "cell_type": "markdown",
   "id": "0b8f3ae0",
   "metadata": {},
   "source": [
    "Normalize the data."
   ]
  },
  {
   "cell_type": "code",
   "execution_count": 112,
   "id": "cb8d6cd4",
   "metadata": {},
   "outputs": [
    {
     "name": "stdout",
     "output_type": "stream",
     "text": [
      "First example: [[0. 0. 0. 0. 0.]]\n",
      "\n",
      "Normalized: [[-0.16 -0.01  0.46  0.41 -0.74]]\n"
     ]
    }
   ],
   "source": [
    "normalizer_cu4_pos_drag = tf.keras.layers.Normalization(axis=-1)\n",
    "normalizer_cu4_pos_drag.adapt(np.array(train_features_cu4_pos_drag))\n",
    "\n",
    "first = np.array(train_features_cu4_pos_drag[:1])\n",
    "\n",
    "with np.printoptions(precision=2, suppress=True):\n",
    "  print('First example:', first)\n",
    "  print()\n",
    "  print('Normalized:', normalizer_cu4_pos_drag(first).numpy())"
   ]
  },
  {
   "cell_type": "markdown",
   "id": "0b753666",
   "metadata": {},
   "source": [
    "Build the model."
   ]
  },
  {
   "cell_type": "code",
   "execution_count": 113,
   "id": "a20f4178",
   "metadata": {},
   "outputs": [],
   "source": [
    "def build_and_compile_model(norm):\n",
    "  model = keras.Sequential([\n",
    "      norm,\n",
    "      layers.Dense(64, activation='relu'),\n",
    "      layers.Dense(64, activation='relu'),\n",
    "      layers.Dense(1)\n",
    "  ])\n",
    "\n",
    "  model.compile(loss='mean_absolute_error',\n",
    "                optimizer=tf.keras.optimizers.Adam(0.001))\n",
    "  return model"
   ]
  },
  {
   "cell_type": "code",
   "execution_count": 114,
   "id": "5c6d2a0d",
   "metadata": {},
   "outputs": [
    {
     "name": "stdout",
     "output_type": "stream",
     "text": [
      "Model: \"sequential_4\"\n",
      "_________________________________________________________________\n",
      " Layer (type)                Output Shape              Param #   \n",
      "=================================================================\n",
      " normalization_5 (Normalizat  (None, 5)                11        \n",
      " ion)                                                            \n",
      "                                                                 \n",
      " dense_12 (Dense)            (None, 64)                384       \n",
      "                                                                 \n",
      " dense_13 (Dense)            (None, 64)                4160      \n",
      "                                                                 \n",
      " dense_14 (Dense)            (None, 1)                 65        \n",
      "                                                                 \n",
      "=================================================================\n",
      "Total params: 4,620\n",
      "Trainable params: 4,609\n",
      "Non-trainable params: 11\n",
      "_________________________________________________________________\n"
     ]
    }
   ],
   "source": [
    "dnn_model_cu4_pos_drag = build_and_compile_model(normalizer_cu4_pos_drag)\n",
    "dnn_model_cu4_pos_drag.summary()"
   ]
  },
  {
   "cell_type": "markdown",
   "id": "cbf0f954",
   "metadata": {},
   "source": [
    "Train the model."
   ]
  },
  {
   "cell_type": "code",
   "execution_count": 115,
   "id": "b5a72542",
   "metadata": {},
   "outputs": [
    {
     "name": "stdout",
     "output_type": "stream",
     "text": [
      "CPU times: user 39.4 s, sys: 7.58 s, total: 47 s\n",
      "Wall time: 28.9 s\n"
     ]
    }
   ],
   "source": [
    "%%time\n",
    "history_cu4_pos_drag = dnn_model_cu4_pos_drag.fit(\n",
    "    train_features_cu4_pos_drag,\n",
    "    train_labels_cu4_pos_drag,\n",
    "    validation_split=0.2,\n",
    "    verbose=0, epochs=100)"
   ]
  },
  {
   "cell_type": "markdown",
   "id": "ff45f7db",
   "metadata": {},
   "source": [
    "Plot the loss."
   ]
  },
  {
   "cell_type": "code",
   "execution_count": 116,
   "id": "85d4b2c1",
   "metadata": {},
   "outputs": [
    {
     "data": {
      "image/png": "[encoded data removed]",
      "text/plain": [
       "<Figure size 432x288 with 1 Axes>"
      ]
     },
     "metadata": {
      "needs_background": "light"
     },
     "output_type": "display_data"
    }
   ],
   "source": [
    "plot_loss(history_cu4_pos_drag)"
   ]
  },
  {
   "cell_type": "markdown",
   "id": "dabe3e1f",
   "metadata": {},
   "source": [
    "Save the results of the model."
   ]
  },
  {
   "cell_type": "code",
   "execution_count": 117,
   "id": "41592af3",
   "metadata": {},
   "outputs": [],
   "source": [
    "test_results['dnn_model_cu4_pos_drag'] = dnn_model_cu4_pos_drag.evaluate(test_features_cu4_pos_drag,\n",
    "                                                                           test_labels_cu4_pos_drag, verbose=0)"
   ]
  },
  {
   "cell_type": "markdown",
   "id": "d268c2b0",
   "metadata": {},
   "source": [
    "#### Negative drag force"
   ]
  },
  {
   "cell_type": "markdown",
   "id": "23ebb8c0",
   "metadata": {},
   "source": [
    "I will combine all steps for ease."
   ]
  },
  {
   "cell_type": "code",
   "execution_count": 98,
   "id": "cfdecfec",
   "metadata": {},
   "outputs": [
    {
     "name": "stdout",
     "output_type": "stream",
     "text": [
      "shape of training dataset:  (8190, 6)\n",
      "shape of testing dataset:  (2048, 6)\n",
      "First example: [[ 0.9   1.5   1.32  1.12 -5.55]]\n",
      "\n",
      "Normalized: [[ 1.44  2.14  1.62  1.29 -0.48]]\n",
      "Model: \"sequential_3\"\n",
      "_________________________________________________________________\n",
      " Layer (type)                Output Shape              Param #   \n",
      "=================================================================\n",
      " normalization_3 (Normalizat  (None, 5)                11        \n",
      " ion)                                                            \n",
      "                                                                 \n",
      " dense_9 (Dense)             (None, 64)                384       \n",
      "                                                                 \n",
      " dense_10 (Dense)            (None, 64)                4160      \n",
      "                                                                 \n",
      " dense_11 (Dense)            (None, 1)                 65        \n",
      "                                                                 \n",
      "=================================================================\n",
      "Total params: 4,620\n",
      "Trainable params: 4,609\n",
      "Non-trainable params: 11\n",
      "_________________________________________________________________\n"
     ]
    }
   ],
   "source": [
    "# Prepare the data\n",
    "cu4_neg_drag = cu4_neg_drag.copy()[1:]\n",
    "\n",
    "# Split the data into train and test\n",
    "train_dataset_cu4_neg_drag = cu4_neg_drag.sample(frac=0.8, random_state=0)\n",
    "test_dataset_cu4_neg_drag = cu4_neg_drag.drop(train_dataset_cu4_neg_drag.index)\n",
    "\n",
    "train_dataset_cu4_neg_drag.pop('pressure')\n",
    "test_dataset_cu4_neg_drag.pop('pressure')\n",
    "\n",
    "train_dataset_cu4_neg_drag.pop('deta_dx')\n",
    "test_dataset_cu4_neg_drag.pop('deta_dx')\n",
    "\n",
    "print(\"shape of training dataset: \", train_dataset_cu4_neg_drag.shape)\n",
    "print(\"shape of testing dataset: \", test_dataset_cu4_neg_drag.shape)\n",
    "\n",
    "train_features_cu4_neg_drag = train_dataset_cu4_neg_drag.copy()\n",
    "test_features_cu4_neg_drag = test_dataset_cu4_neg_drag.copy()\n",
    "\n",
    "train_labels_cu4_neg_drag = train_features_cu4_neg_drag.pop('drag_force')\n",
    "test_labels_cu4_neg_drag = test_features_cu4_neg_drag.pop('drag_force')\n",
    "\n",
    "# Normalize the data\n",
    "normalizer_cu4_neg_drag = tf.keras.layers.Normalization(axis=-1)\n",
    "normalizer_cu4_neg_drag.adapt(np.array(train_features_cu4_neg_drag))\n",
    "\n",
    "first = np.array(train_features_cu4_neg_drag[:1])\n",
    "\n",
    "with np.printoptions(precision=2, suppress=True):\n",
    "  print('First example:', first)\n",
    "  print()\n",
    "  print('Normalized:', normalizer_cu4_neg_drag(first).numpy())\n",
    "\n",
    "# Build the model\n",
    "dnn_model_cu4_neg_drag = build_and_compile_model(normalizer_cu4_neg_drag)\n",
    "dnn_model_cu4_neg_drag.summary()"
   ]
  },
  {
   "cell_type": "markdown",
   "id": "67bcabf7",
   "metadata": {},
   "source": [
    "Train the model."
   ]
  },
  {
   "cell_type": "code",
   "execution_count": 99,
   "id": "19338d94",
   "metadata": {},
   "outputs": [
    {
     "name": "stdout",
     "output_type": "stream",
     "text": [
      "CPU times: user 35.7 s, sys: 6.54 s, total: 42.2 s\n",
      "Wall time: 26.3 s\n"
     ]
    }
   ],
   "source": [
    "%%time\n",
    "history_cu4_neg_drag = dnn_model_cu4_neg_drag.fit(\n",
    "    train_features_cu4_neg_drag,\n",
    "    train_labels_cu4_neg_drag,\n",
    "    validation_split=0.2,\n",
    "    verbose=0, epochs=100)"
   ]
  },
  {
   "cell_type": "markdown",
   "id": "9f7bf209",
   "metadata": {},
   "source": [
    "Plot the loss."
   ]
  },
  {
   "cell_type": "code",
   "execution_count": 101,
   "id": "e3c3b93c",
   "metadata": {},
   "outputs": [
    {
     "data": {
      "image/png": "[encoded data removed]",
      "text/plain": [
       "<Figure size 432x288 with 1 Axes>"
      ]
     },
     "metadata": {
      "needs_background": "light"
     },
     "output_type": "display_data"
    }
   ],
   "source": [
    "plot_loss(history_cu4_neg_drag)"
   ]
  },
  {
   "cell_type": "markdown",
   "id": "47a77198",
   "metadata": {},
   "source": [
    "Save the results of the model."
   ]
  },
  {
   "cell_type": "code",
   "execution_count": 103,
   "id": "2e1a136c",
   "metadata": {},
   "outputs": [],
   "source": [
    "test_results['dnn_model_cu4_neg_drag'] = dnn_model_cu4_neg_drag.evaluate(test_features_cu4_neg_drag,\n",
    "                                                                           test_labels_cu4_neg_drag, verbose=0)"
   ]
  },
  {
   "cell_type": "markdown",
   "id": "972670fd",
   "metadata": {},
   "source": [
    "### Analyzing the low loss."
   ]
  },
  {
   "cell_type": "markdown",
   "id": "bae07d4e",
   "metadata": {},
   "source": [
    "Why is the loss so low? What does the data look like? It's very predictable."
   ]
  },
  {
   "cell_type": "code",
   "execution_count": 110,
   "id": "60eacd09",
   "metadata": {},
   "outputs": [
    {
     "data": {
      "text/plain": [
       "<AxesSubplot:xlabel='x', ylabel='drag_force'>"
      ]
     },
     "execution_count": 110,
     "metadata": {},
     "output_type": "execute_result"
    },
    {
     "data": {
      "image/png": "[encoded data removed]",
      "text/plain": [
       "<Figure size 432x288 with 1 Axes>"
      ]
     },
     "metadata": {
      "needs_background": "light"
     },
     "output_type": "display_data"
    }
   ],
   "source": [
    "cu4_neg_drag.plot.scatter(x=\"x\", y=\"drag_force\")"
   ]
  },
  {
   "cell_type": "markdown",
   "id": "8d32a9bc",
   "metadata": {},
   "source": [
    "Let's compare this to the positive drag force alternative."
   ]
  },
  {
   "cell_type": "code",
   "execution_count": 111,
   "id": "2a02ae2b",
   "metadata": {},
   "outputs": [
    {
     "data": {
      "text/plain": [
       "<AxesSubplot:xlabel='x', ylabel='drag_force'>"
      ]
     },
     "execution_count": 111,
     "metadata": {},
     "output_type": "execute_result"
    },
    {
     "data": {
      "image/png": "[encoded data removed]",
      "text/plain": [
       "<Figure size 432x288 with 1 Axes>"
      ]
     },
     "metadata": {
      "needs_background": "light"
     },
     "output_type": "display_data"
    }
   ],
   "source": [
    "cu4_pos_drag.plot.scatter(x=\"x\", y=\"drag_force\")"
   ]
  },
  {
   "cell_type": "markdown",
   "id": "f8b9e9c6",
   "metadata": {},
   "source": [
    "This is also very predictable, so it is unclear why the model WAS doing so much better on the neg drag force than the pos drag force (when the drag force was literally just drag force is + vs -)... Mueller offered a physical explanation at last meeting, then we changed the criterion for +/- forces and the model performed much closer to what was expected :)"
   ]
  },
  {
   "cell_type": "markdown",
   "id": "106d2676",
   "metadata": {},
   "source": [
    "### Compare the DNNs for drag force"
   ]
  },
  {
   "cell_type": "code",
   "execution_count": 118,
   "id": "9e868bab",
   "metadata": {},
   "outputs": [
    {
     "data": {
      "text/html": [
       "<div>\n",
       "<style scoped>\n",
       "    .dataframe tbody tr th:only-of-type {\n",
       "        vertical-align: middle;\n",
       "    }\n",
       "\n",
       "    .dataframe tbody tr th {\n",
       "        vertical-align: top;\n",
       "    }\n",
       "\n",
       "    .dataframe thead th {\n",
       "        text-align: right;\n",
       "    }\n",
       "</style>\n",
       "<table border=\"1\" class=\"dataframe\">\n",
       "  <thead>\n",
       "    <tr style=\"text-align: right;\">\n",
       "      <th></th>\n",
       "      <th>Mean absolute error [MPG]</th>\n",
       "    </tr>\n",
       "  </thead>\n",
       "  <tbody>\n",
       "    <tr>\n",
       "      <th>dnn_model_cu4_unaltered</th>\n",
       "      <td>2.923618</td>\n",
       "    </tr>\n",
       "    <tr>\n",
       "      <th>dnn_model_cu4_pos_drag</th>\n",
       "      <td>0.790938</td>\n",
       "    </tr>\n",
       "    <tr>\n",
       "      <th>dnn_model_cu4_neg_drag</th>\n",
       "      <td>0.586595</td>\n",
       "    </tr>\n",
       "  </tbody>\n",
       "</table>\n",
       "</div>"
      ],
      "text/plain": [
       "                         Mean absolute error [MPG]\n",
       "dnn_model_cu4_unaltered                   2.923618\n",
       "dnn_model_cu4_pos_drag                    0.790938\n",
       "dnn_model_cu4_neg_drag                    0.586595"
      ]
     },
     "execution_count": 118,
     "metadata": {},
     "output_type": "execute_result"
    }
   ],
   "source": [
    "pd.DataFrame(test_results, index=['Mean absolute error [MPG]']).T"
   ]
  },
  {
   "cell_type": "markdown",
   "id": "eff41fa0",
   "metadata": {},
   "source": [
    "The model seems to be much better at predicting the negative drag than the alternatives. Our idea that negative drag is easier to predict than positive drag MAY still hold (MGS: 1.44 > 1.16), but who knows if the error is just from the way that the data was sampled, or if it's from an actual difference in the learnability of the function...\n",
    "\n",
    "Also, if you train and include the deta_dx feature, the mean absolute errors drop significantly!\n",
    "\n",
    "- dnn_model_cu4_pos_drag yields an error of 0.790938\n",
    "- dnn_model_cu4_neg_drag yields an error of 0.586595\n",
    "\n",
    "This makes me think that the model, for some reason, isn't learning the deta_dx relationship, even though it was given both eta and x! Strange because DNNs are supposedly a universal function approximator, and they were given all of the relevant information..."
   ]
  },
  {
   "cell_type": "markdown",
   "id": "8694ed21",
   "metadata": {},
   "source": [
    "### Correlation analysis"
   ]
  },
  {
   "cell_type": "markdown",
   "id": "0fde4fb3",
   "metadata": {},
   "source": [
    "Pressure vs. deta_dx. First, we will do a simple plot."
   ]
  },
  {
   "cell_type": "code",
   "execution_count": 76,
   "id": "6c3138ad",
   "metadata": {},
   "outputs": [
    {
     "data": {
      "text/plain": [
       "<AxesSubplot:xlabel='pressure', ylabel='deta_dx'>"
      ]
     },
     "execution_count": 76,
     "metadata": {},
     "output_type": "execute_result"
    },
    {
     "data": {
      "image/png": "[encoded data removed]",
      "text/plain": [
       "<Figure size 432x288 with 1 Axes>"
      ]
     },
     "metadata": {
      "needs_background": "light"
     },
     "output_type": "display_data"
    }
   ],
   "source": [
    "cu4_unaltered.plot.scatter(x=\"pressure\",y=\"deta_dx\")"
   ]
  },
  {
   "cell_type": "markdown",
   "id": "d63e5d13",
   "metadata": {},
   "source": [
    "Physical interpretation: agrees with Figure 1 from Nov 4 notes on Notability."
   ]
  },
  {
   "cell_type": "markdown",
   "id": "13a37efe",
   "metadata": {},
   "source": [
    "Correlation is 0.644. Since it is >0.5, we can say that they are positively/highly(?) correlated."
   ]
  },
  {
   "cell_type": "code",
   "execution_count": 77,
   "id": "a5d3c1b6",
   "metadata": {},
   "outputs": [
    {
     "name": "stdout",
     "output_type": "stream",
     "text": [
      "Pearsons correlation: 0.644\n"
     ]
    }
   ],
   "source": [
    "corr, _ = pearsonr(cu4_unaltered['deta_dx'], cu4_unaltered['pressure'])\n",
    "print('Pearsons correlation: %.3f' % corr)"
   ]
  },
  {
   "cell_type": "markdown",
   "id": "4b63659a",
   "metadata": {},
   "source": [
    "Drag force vs. deta_dx. Here is the simple plot:"
   ]
  },
  {
   "cell_type": "code",
   "execution_count": 78,
   "id": "f384ce0a",
   "metadata": {
    "scrolled": true
   },
   "outputs": [
    {
     "data": {
      "text/plain": [
       "<AxesSubplot:xlabel='deta_dx', ylabel='drag_force'>"
      ]
     },
     "execution_count": 78,
     "metadata": {},
     "output_type": "execute_result"
    },
    {
     "data": {
      "image/png": "[encoded data removed]",
      "text/plain": [
       "<Figure size 432x288 with 1 Axes>"
      ]
     },
     "metadata": {
      "needs_background": "light"
     },
     "output_type": "display_data"
    }
   ],
   "source": [
    "cu4_unaltered.plot.scatter(x=\"deta_dx\",y=\"drag_force\")"
   ]
  },
  {
   "cell_type": "markdown",
   "id": "96ea97fd",
   "metadata": {},
   "source": [
    "Different relationships for if deta_dx is positive vs. negative. That is why it is useful to apply the filter and learn the two different relationships."
   ]
  },
  {
   "cell_type": "markdown",
   "id": "b4a94e5f",
   "metadata": {},
   "source": [
    "Before, PCA feature selection removed eta. When you replace eta with deta_dx, what gets selected out? deta_dx does. We will use the procrustes algorithm."
   ]
  },
  {
   "cell_type": "code",
   "execution_count": 79,
   "id": "1ca247fb",
   "metadata": {},
   "outputs": [],
   "source": [
    "pressure_feat_sel = cu4_concat[['x','deta_dx','u','v','pressure']][1:]"
   ]
  },
  {
   "cell_type": "code",
   "execution_count": 80,
   "id": "09776b38",
   "metadata": {},
   "outputs": [
    {
     "data": {
      "text/plain": [
       "(10239, 5)"
      ]
     },
     "execution_count": 80,
     "metadata": {},
     "output_type": "execute_result"
    }
   ],
   "source": [
    "# Standardize the dataset; This is very important before you apply PCA\n",
    "sc = StandardScaler()\n",
    "sc.fit(pressure_feat_sel)\n",
    "pressure_feat_sel_std = sc.transform(pressure_feat_sel)\n",
    "pressure_feat_sel_std.shape"
   ]
  },
  {
   "cell_type": "code",
   "execution_count": 81,
   "id": "e5bf17bf",
   "metadata": {},
   "outputs": [],
   "source": [
    "# Dictionary with the instructions for PCA feature selection class:\n",
    "settings = {\n",
    "    #centering and scaling options\n",
    "    \"center\"                    : True,\n",
    "    \"centering_method\"          : \"mean\",\n",
    "    \"scale\"                     : True,\n",
    "    \"scaling_method\"            : \"auto\",\n",
    "\n",
    "    #variables selection options\n",
    "    \"method\"                    : \"procrustes\",\n",
    "    \"number_of_eigenvectors\"    : 3,\n",
    "    \"number_of_variables\"       : 4\n",
    "}"
   ]
  },
  {
   "cell_type": "code",
   "execution_count": 82,
   "id": "78eb6419",
   "metadata": {},
   "outputs": [
    {
     "name": "stdout",
     "output_type": "stream",
     "text": [
      "Could not open/read the selected file: not given\n",
      "Using variables numbers instead of names.\n",
      "Selecting global variables via PCA and procrustes Analysis...\n",
      "Current number of variables: 4\n",
      "[0 2 3 4]\n"
     ]
    }
   ],
   "source": [
    "PVs = model_order_reduction.variables_selection(pressure_feat_sel_std, settings)\n",
    "labels, numbers = PVs.fit()\n",
    "print(labels)"
   ]
  },
  {
   "cell_type": "markdown",
   "id": "2b7a919a",
   "metadata": {},
   "source": [
    "Recall that the index 1 corresponds to deta_dx (as verified in the following printout). That means that deta_dx is still selected out, which is surprising to me. Why could it be? Before, we saw a roughly linear relationship between pressure and deta_dx, and a Pearson's correlation coefficient that could be considered strong. Let's see what's selected out when we do feature selection using drag force instead of pressure."
   ]
  },
  {
   "cell_type": "code",
   "execution_count": 87,
   "id": "7f47caaa",
   "metadata": {},
   "outputs": [
    {
     "data": {
      "text/html": [
       "<div>\n",
       "<style scoped>\n",
       "    .dataframe tbody tr th:only-of-type {\n",
       "        vertical-align: middle;\n",
       "    }\n",
       "\n",
       "    .dataframe tbody tr th {\n",
       "        vertical-align: top;\n",
       "    }\n",
       "\n",
       "    .dataframe thead th {\n",
       "        text-align: right;\n",
       "    }\n",
       "</style>\n",
       "<table border=\"1\" class=\"dataframe\">\n",
       "  <thead>\n",
       "    <tr style=\"text-align: right;\">\n",
       "      <th></th>\n",
       "      <th>x</th>\n",
       "      <th>deta_dx</th>\n",
       "      <th>u</th>\n",
       "      <th>v</th>\n",
       "      <th>pressure</th>\n",
       "    </tr>\n",
       "  </thead>\n",
       "  <tbody>\n",
       "    <tr>\n",
       "      <th>1</th>\n",
       "      <td>-1.721907</td>\n",
       "      <td>-0.323798</td>\n",
       "      <td>0.258540</td>\n",
       "      <td>0.806480</td>\n",
       "      <td>0.648305</td>\n",
       "    </tr>\n",
       "    <tr>\n",
       "      <th>2</th>\n",
       "      <td>-1.715139</td>\n",
       "      <td>-1.375024</td>\n",
       "      <td>0.269511</td>\n",
       "      <td>0.808270</td>\n",
       "      <td>0.614005</td>\n",
       "    </tr>\n",
       "    <tr>\n",
       "      <th>3</th>\n",
       "      <td>-1.708376</td>\n",
       "      <td>-2.185638</td>\n",
       "      <td>0.290845</td>\n",
       "      <td>0.924656</td>\n",
       "      <td>0.542222</td>\n",
       "    </tr>\n",
       "    <tr>\n",
       "      <th>4</th>\n",
       "      <td>-1.701608</td>\n",
       "      <td>-4.691257</td>\n",
       "      <td>0.301410</td>\n",
       "      <td>0.924826</td>\n",
       "      <td>0.508903</td>\n",
       "    </tr>\n",
       "    <tr>\n",
       "      <th>5</th>\n",
       "      <td>-1.694840</td>\n",
       "      <td>-4.084629</td>\n",
       "      <td>0.371505</td>\n",
       "      <td>0.989968</td>\n",
       "      <td>0.439815</td>\n",
       "    </tr>\n",
       "    <tr>\n",
       "      <th>...</th>\n",
       "      <td>...</td>\n",
       "      <td>...</td>\n",
       "      <td>...</td>\n",
       "      <td>...</td>\n",
       "      <td>...</td>\n",
       "    </tr>\n",
       "    <tr>\n",
       "      <th>10235</th>\n",
       "      <td>1.701608</td>\n",
       "      <td>2.886742</td>\n",
       "      <td>-1.130897</td>\n",
       "      <td>0.205433</td>\n",
       "      <td>1.193493</td>\n",
       "    </tr>\n",
       "    <tr>\n",
       "      <th>10236</th>\n",
       "      <td>1.708376</td>\n",
       "      <td>4.350442</td>\n",
       "      <td>-1.123716</td>\n",
       "      <td>0.359496</td>\n",
       "      <td>1.148804</td>\n",
       "    </tr>\n",
       "    <tr>\n",
       "      <th>10237</th>\n",
       "      <td>1.715139</td>\n",
       "      <td>5.452650</td>\n",
       "      <td>-1.125836</td>\n",
       "      <td>0.372134</td>\n",
       "      <td>1.124256</td>\n",
       "    </tr>\n",
       "    <tr>\n",
       "      <th>10238</th>\n",
       "      <td>1.721907</td>\n",
       "      <td>1.382383</td>\n",
       "      <td>-1.117356</td>\n",
       "      <td>0.447627</td>\n",
       "      <td>1.075160</td>\n",
       "    </tr>\n",
       "    <tr>\n",
       "      <th>10239</th>\n",
       "      <td>1.728670</td>\n",
       "      <td>2.767016</td>\n",
       "      <td>-1.107235</td>\n",
       "      <td>0.460704</td>\n",
       "      <td>1.040856</td>\n",
       "    </tr>\n",
       "  </tbody>\n",
       "</table>\n",
       "<p>10239 rows × 5 columns</p>\n",
       "</div>"
      ],
      "text/plain": [
       "              x   deta_dx         u         v  pressure\n",
       "1     -1.721907 -0.323798  0.258540  0.806480  0.648305\n",
       "2     -1.715139 -1.375024  0.269511  0.808270  0.614005\n",
       "3     -1.708376 -2.185638  0.290845  0.924656  0.542222\n",
       "4     -1.701608 -4.691257  0.301410  0.924826  0.508903\n",
       "5     -1.694840 -4.084629  0.371505  0.989968  0.439815\n",
       "...         ...       ...       ...       ...       ...\n",
       "10235  1.701608  2.886742 -1.130897  0.205433  1.193493\n",
       "10236  1.708376  4.350442 -1.123716  0.359496  1.148804\n",
       "10237  1.715139  5.452650 -1.125836  0.372134  1.124256\n",
       "10238  1.721907  1.382383 -1.117356  0.447627  1.075160\n",
       "10239  1.728670  2.767016 -1.107235  0.460704  1.040856\n",
       "\n",
       "[10239 rows x 5 columns]"
      ]
     },
     "execution_count": 87,
     "metadata": {},
     "output_type": "execute_result"
    }
   ],
   "source": [
    "pressure_feat_sel"
   ]
  },
  {
   "cell_type": "code",
   "execution_count": 85,
   "id": "8c701a0e",
   "metadata": {},
   "outputs": [
    {
     "data": {
      "text/plain": [
       "(10239, 5)"
      ]
     },
     "execution_count": 85,
     "metadata": {},
     "output_type": "execute_result"
    }
   ],
   "source": [
    "drag_force_feat_sel = cu4_concat[['x','deta_dx','u','v','drag_force']][1:]\n",
    "\n",
    "# Standardize the dataset; This is very important before you apply PCA\n",
    "sc = StandardScaler()\n",
    "sc.fit(drag_force_feat_sel)\n",
    "drag_force_feat_sel_std = sc.transform(drag_force_feat_sel)\n",
    "drag_force_feat_sel_std.shape"
   ]
  },
  {
   "cell_type": "code",
   "execution_count": 86,
   "id": "8076c2ef",
   "metadata": {},
   "outputs": [
    {
     "name": "stdout",
     "output_type": "stream",
     "text": [
      "Could not open/read the selected file: not given\n",
      "Using variables numbers instead of names.\n",
      "Selecting global variables via PCA and procrustes Analysis...\n",
      "Current number of variables: 4\n",
      "[0 2 3 4]\n"
     ]
    }
   ],
   "source": [
    "PVs = model_order_reduction.variables_selection(drag_force_feat_sel_std, settings)\n",
    "labels, numbers = PVs.fit()\n",
    "print(labels)"
   ]
  },
  {
   "cell_type": "markdown",
   "id": "d762efa6",
   "metadata": {},
   "source": [
    "Interestingly enough, deta_dx is selected out here! I would have expected it not to be, since we hypothesized that it is so important for the drag force predictions. Let's take drag force and pressure out and see if deta_dx is still selected out."
   ]
  },
  {
   "cell_type": "code",
   "execution_count": 90,
   "id": "435a37b7",
   "metadata": {},
   "outputs": [
    {
     "name": "stdout",
     "output_type": "stream",
     "text": [
      "Could not open/read the selected file: not given\n",
      "Using variables numbers instead of names.\n",
      "Selecting global variables via PCA and procrustes Analysis...\n",
      "Current number of variables: 3\n",
      "[0 1 2]\n"
     ]
    }
   ],
   "source": [
    "feat_sel = cu4_concat[['x','deta_dx','u','v']][1:]\n",
    "\n",
    "# Standardize the dataset; This is very important before you apply PCA\n",
    "sc = StandardScaler()\n",
    "sc.fit(feat_sel)\n",
    "feat_sel_std = sc.transform(feat_sel)\n",
    "feat_sel_std.shape\n",
    "\n",
    "# Dictionary with the instructions for PCA feature selection class:\n",
    "settings = {\n",
    "    #centering and scaling options\n",
    "    \"center\"                    : True,\n",
    "    \"centering_method\"          : \"mean\",\n",
    "    \"scale\"                     : True,\n",
    "    \"scaling_method\"            : \"auto\",\n",
    "\n",
    "    #variables selection options\n",
    "    \"method\"                    : \"procrustes\",\n",
    "    \"number_of_eigenvectors\"    : 2,\n",
    "    \"number_of_variables\"       : 3\n",
    "}\n",
    "\n",
    "PVs = model_order_reduction.variables_selection(feat_sel_std, settings)\n",
    "labels, numbers = PVs.fit()\n",
    "print(labels)"
   ]
  },
  {
   "cell_type": "markdown",
   "id": "1cfa0d70",
   "metadata": {},
   "source": [
    "Here, v is selected out. That must mean that deta_dx captures relatively more variance in the data. So when you put drag force/pressure back in, the face that deta_dx is selected out must mean that they are highly correlated, since most of the information can be retained after removing deta_dx."
   ]
  },
  {
   "cell_type": "markdown",
   "id": "33fdcd7b",
   "metadata": {},
   "source": [
    "### Thought experiment: training solely on deta_dx information."
   ]
  },
  {
   "cell_type": "code",
   "execution_count": 12,
   "id": "28858b13",
   "metadata": {},
   "outputs": [
    {
     "data": {
      "text/html": [
       "<div>\n",
       "<style scoped>\n",
       "    .dataframe tbody tr th:only-of-type {\n",
       "        vertical-align: middle;\n",
       "    }\n",
       "\n",
       "    .dataframe tbody tr th {\n",
       "        vertical-align: top;\n",
       "    }\n",
       "\n",
       "    .dataframe thead th {\n",
       "        text-align: right;\n",
       "    }\n",
       "</style>\n",
       "<table border=\"1\" class=\"dataframe\">\n",
       "  <thead>\n",
       "    <tr style=\"text-align: right;\">\n",
       "      <th></th>\n",
       "      <th>x</th>\n",
       "      <th>eta</th>\n",
       "      <th>u</th>\n",
       "      <th>v</th>\n",
       "      <th>pressure</th>\n",
       "      <th>deta_dx</th>\n",
       "      <th>drag_force</th>\n",
       "    </tr>\n",
       "  </thead>\n",
       "  <tbody>\n",
       "    <tr>\n",
       "      <th>0</th>\n",
       "      <td>-1.728670</td>\n",
       "      <td>1.594456</td>\n",
       "      <td>0.183840</td>\n",
       "      <td>0.726587</td>\n",
       "      <td>0.725233</td>\n",
       "      <td>NaN</td>\n",
       "      <td>NaN</td>\n",
       "    </tr>\n",
       "    <tr>\n",
       "      <th>1</th>\n",
       "      <td>-1.721907</td>\n",
       "      <td>1.592266</td>\n",
       "      <td>0.258540</td>\n",
       "      <td>0.806480</td>\n",
       "      <td>0.648305</td>\n",
       "      <td>-0.323798</td>\n",
       "      <td>-0.209920</td>\n",
       "    </tr>\n",
       "    <tr>\n",
       "      <th>2</th>\n",
       "      <td>-1.715139</td>\n",
       "      <td>1.582960</td>\n",
       "      <td>0.269511</td>\n",
       "      <td>0.808270</td>\n",
       "      <td>0.614005</td>\n",
       "      <td>-1.375024</td>\n",
       "      <td>-0.844272</td>\n",
       "    </tr>\n",
       "    <tr>\n",
       "      <th>3</th>\n",
       "      <td>-1.708376</td>\n",
       "      <td>1.568179</td>\n",
       "      <td>0.290845</td>\n",
       "      <td>0.924656</td>\n",
       "      <td>0.542222</td>\n",
       "      <td>-2.185638</td>\n",
       "      <td>-1.185102</td>\n",
       "    </tr>\n",
       "    <tr>\n",
       "      <th>4</th>\n",
       "      <td>-1.701608</td>\n",
       "      <td>1.536428</td>\n",
       "      <td>0.301410</td>\n",
       "      <td>0.924826</td>\n",
       "      <td>0.508903</td>\n",
       "      <td>-4.691257</td>\n",
       "      <td>-2.387395</td>\n",
       "    </tr>\n",
       "    <tr>\n",
       "      <th>...</th>\n",
       "      <td>...</td>\n",
       "      <td>...</td>\n",
       "      <td>...</td>\n",
       "      <td>...</td>\n",
       "      <td>...</td>\n",
       "      <td>...</td>\n",
       "      <td>...</td>\n",
       "    </tr>\n",
       "    <tr>\n",
       "      <th>10235</th>\n",
       "      <td>1.701608</td>\n",
       "      <td>1.513993</td>\n",
       "      <td>-1.130897</td>\n",
       "      <td>0.205433</td>\n",
       "      <td>1.193493</td>\n",
       "      <td>2.886742</td>\n",
       "      <td>3.445307</td>\n",
       "    </tr>\n",
       "    <tr>\n",
       "      <th>10236</th>\n",
       "      <td>1.708376</td>\n",
       "      <td>1.543437</td>\n",
       "      <td>-1.123716</td>\n",
       "      <td>0.359496</td>\n",
       "      <td>1.148804</td>\n",
       "      <td>4.350442</td>\n",
       "      <td>4.997804</td>\n",
       "    </tr>\n",
       "    <tr>\n",
       "      <th>10237</th>\n",
       "      <td>1.715139</td>\n",
       "      <td>1.580311</td>\n",
       "      <td>-1.125836</td>\n",
       "      <td>0.372134</td>\n",
       "      <td>1.124256</td>\n",
       "      <td>5.452650</td>\n",
       "      <td>6.130174</td>\n",
       "    </tr>\n",
       "    <tr>\n",
       "      <th>10238</th>\n",
       "      <td>1.721907</td>\n",
       "      <td>1.589667</td>\n",
       "      <td>-1.117356</td>\n",
       "      <td>0.447627</td>\n",
       "      <td>1.075160</td>\n",
       "      <td>1.382383</td>\n",
       "      <td>1.486284</td>\n",
       "    </tr>\n",
       "    <tr>\n",
       "      <th>10239</th>\n",
       "      <td>1.728670</td>\n",
       "      <td>1.608379</td>\n",
       "      <td>-1.107235</td>\n",
       "      <td>0.460704</td>\n",
       "      <td>1.040856</td>\n",
       "      <td>2.767016</td>\n",
       "      <td>2.880067</td>\n",
       "    </tr>\n",
       "  </tbody>\n",
       "</table>\n",
       "<p>10240 rows × 7 columns</p>\n",
       "</div>"
      ],
      "text/plain": [
       "              x       eta         u         v  pressure   deta_dx  drag_force\n",
       "0     -1.728670  1.594456  0.183840  0.726587  0.725233       NaN         NaN\n",
       "1     -1.721907  1.592266  0.258540  0.806480  0.648305 -0.323798   -0.209920\n",
       "2     -1.715139  1.582960  0.269511  0.808270  0.614005 -1.375024   -0.844272\n",
       "3     -1.708376  1.568179  0.290845  0.924656  0.542222 -2.185638   -1.185102\n",
       "4     -1.701608  1.536428  0.301410  0.924826  0.508903 -4.691257   -2.387395\n",
       "...         ...       ...       ...       ...       ...       ...         ...\n",
       "10235  1.701608  1.513993 -1.130897  0.205433  1.193493  2.886742    3.445307\n",
       "10236  1.708376  1.543437 -1.123716  0.359496  1.148804  4.350442    4.997804\n",
       "10237  1.715139  1.580311 -1.125836  0.372134  1.124256  5.452650    6.130174\n",
       "10238  1.721907  1.589667 -1.117356  0.447627  1.075160  1.382383    1.486284\n",
       "10239  1.728670  1.608379 -1.107235  0.460704  1.040856  2.767016    2.880067\n",
       "\n",
       "[10240 rows x 7 columns]"
      ]
     },
     "execution_count": 12,
     "metadata": {},
     "output_type": "execute_result"
    }
   ],
   "source": [
    "cu4_concat"
   ]
  },
  {
   "cell_type": "code",
   "execution_count": 14,
   "id": "db976735",
   "metadata": {},
   "outputs": [
    {
     "name": "stdout",
     "output_type": "stream",
     "text": [
      "shape of training dataset:  (8192, 7)\n",
      "shape of testing dataset:  (2048, 7)\n"
     ]
    }
   ],
   "source": [
    "dataset = cu4_concat.copy()\n",
    "\n",
    "train_dataset = dataset.sample(frac=0.8, random_state=0)\n",
    "test_dataset = dataset.drop(train_dataset.index)\n",
    "\n",
    "print(\"shape of training dataset: \", train_dataset.shape)\n",
    "print(\"shape of testing dataset: \", test_dataset.shape)"
   ]
  },
  {
   "cell_type": "code",
   "execution_count": 15,
   "id": "2a81deda",
   "metadata": {},
   "outputs": [],
   "source": [
    "train_features = train_dataset.copy()\n",
    "test_features = test_dataset.copy()\n",
    "\n",
    "train_labels = train_features.pop('drag_force')\n",
    "test_labels = test_features.pop('drag_force')"
   ]
  },
  {
   "cell_type": "code",
   "execution_count": 18,
   "id": "d0fbf515",
   "metadata": {},
   "outputs": [
    {
     "name": "stderr",
     "output_type": "stream",
     "text": [
      "2022-11-07 08:34:36.796250: I tensorflow/core/platform/cpu_feature_guard.cc:193] This TensorFlow binary is optimized with oneAPI Deep Neural Network Library (oneDNN) to use the following CPU instructions in performance-critical operations:  AVX2 FMA\n",
      "To enable them in other operations, rebuild TensorFlow with the appropriate compiler flags.\n"
     ]
    },
    {
     "name": "stdout",
     "output_type": "stream",
     "text": [
      "First example: [[ -0.58  -0.73   1.     0.6   -1.54 -14.4 ]]\n",
      "\n",
      "Normalized: [[-0.58 -0.73  1.    0.6  -1.55 -1.81]]\n"
     ]
    }
   ],
   "source": [
    "normalizer = tf.keras.layers.Normalization(axis=-1)\n",
    "normalizer.adapt(np.array(train_features))\n",
    "\n",
    "first = np.array(train_features[:1])\n",
    "\n",
    "with np.printoptions(precision=2, suppress=True):\n",
    "  print('First example:', first)\n",
    "  print()\n",
    "  print('Normalized:', normalizer(first).numpy())"
   ]
  },
  {
   "cell_type": "code",
   "execution_count": 19,
   "id": "bdf2aa2c",
   "metadata": {},
   "outputs": [],
   "source": [
    "x = np.array(train_features['deta_dx'])\n",
    "\n",
    "x_normalizer = layers.Normalization(input_shape=[1,], axis=None)\n",
    "x_normalizer.adapt(x)"
   ]
  },
  {
   "cell_type": "code",
   "execution_count": 20,
   "id": "f458eb46",
   "metadata": {},
   "outputs": [
    {
     "name": "stdout",
     "output_type": "stream",
     "text": [
      "Model: \"sequential\"\n",
      "_________________________________________________________________\n",
      " Layer (type)                Output Shape              Param #   \n",
      "=================================================================\n",
      " normalization_1 (Normalizat  (None, 1)                3         \n",
      " ion)                                                            \n",
      "                                                                 \n",
      " dense (Dense)               (None, 1)                 2         \n",
      "                                                                 \n",
      "=================================================================\n",
      "Total params: 5\n",
      "Trainable params: 2\n",
      "Non-trainable params: 3\n",
      "_________________________________________________________________\n"
     ]
    }
   ],
   "source": [
    "x_model = tf.keras.Sequential([\n",
    "    x_normalizer,\n",
    "    layers.Dense(units=1)\n",
    "])\n",
    "\n",
    "x_model.summary()"
   ]
  },
  {
   "cell_type": "code",
   "execution_count": 21,
   "id": "0d8d8cd2",
   "metadata": {},
   "outputs": [
    {
     "name": "stdout",
     "output_type": "stream",
     "text": [
      "1/1 [==============================] - 0s 84ms/step\n"
     ]
    },
    {
     "data": {
      "text/plain": [
       "array([[-0.17651953],\n",
       "       [-0.10570055],\n",
       "       [-0.05949053],\n",
       "       [-0.06468363],\n",
       "       [-0.02050079],\n",
       "       [ 0.14711009],\n",
       "       [ 0.08906706],\n",
       "       [ 0.10864361],\n",
       "       [ 0.10547416],\n",
       "       [-0.07440124]], dtype=float32)"
      ]
     },
     "execution_count": 21,
     "metadata": {},
     "output_type": "execute_result"
    }
   ],
   "source": [
    "x_model.predict(x[:10])"
   ]
  },
  {
   "cell_type": "code",
   "execution_count": 22,
   "id": "a1432b90",
   "metadata": {},
   "outputs": [],
   "source": [
    "x_model.compile(\n",
    "    optimizer=tf.keras.optimizers.Adam(learning_rate=0.01),\n",
    "    loss='mean_absolute_error')"
   ]
  },
  {
   "cell_type": "code",
   "execution_count": 24,
   "id": "a27871d2",
   "metadata": {},
   "outputs": [
    {
     "name": "stdout",
     "output_type": "stream",
     "text": [
      "CPU times: user 29.1 s, sys: 3.27 s, total: 32.4 s\n",
      "Wall time: 24.3 s\n"
     ]
    }
   ],
   "source": [
    "%%time\n",
    "history = x_model.fit(\n",
    "    train_features['deta_dx'],\n",
    "    train_labels,\n",
    "    epochs=100,\n",
    "    # Suppress logging.\n",
    "    verbose=0,\n",
    "    # Calculate validation results on 20% of the training data.\n",
    "    validation_split = 0.2)"
   ]
  },
  {
   "cell_type": "code",
   "execution_count": 25,
   "id": "fb1b5ab8",
   "metadata": {},
   "outputs": [
    {
     "data": {
      "text/html": [
       "<div>\n",
       "<style scoped>\n",
       "    .dataframe tbody tr th:only-of-type {\n",
       "        vertical-align: middle;\n",
       "    }\n",
       "\n",
       "    .dataframe tbody tr th {\n",
       "        vertical-align: top;\n",
       "    }\n",
       "\n",
       "    .dataframe thead th {\n",
       "        text-align: right;\n",
       "    }\n",
       "</style>\n",
       "<table border=\"1\" class=\"dataframe\">\n",
       "  <thead>\n",
       "    <tr style=\"text-align: right;\">\n",
       "      <th></th>\n",
       "      <th>loss</th>\n",
       "      <th>val_loss</th>\n",
       "      <th>epoch</th>\n",
       "    </tr>\n",
       "  </thead>\n",
       "  <tbody>\n",
       "    <tr>\n",
       "      <th>95</th>\n",
       "      <td>4.727084</td>\n",
       "      <td>4.737648</td>\n",
       "      <td>95</td>\n",
       "    </tr>\n",
       "    <tr>\n",
       "      <th>96</th>\n",
       "      <td>4.726821</td>\n",
       "      <td>4.738096</td>\n",
       "      <td>96</td>\n",
       "    </tr>\n",
       "    <tr>\n",
       "      <th>97</th>\n",
       "      <td>4.727800</td>\n",
       "      <td>4.738259</td>\n",
       "      <td>97</td>\n",
       "    </tr>\n",
       "    <tr>\n",
       "      <th>98</th>\n",
       "      <td>4.726594</td>\n",
       "      <td>4.737060</td>\n",
       "      <td>98</td>\n",
       "    </tr>\n",
       "    <tr>\n",
       "      <th>99</th>\n",
       "      <td>4.726753</td>\n",
       "      <td>4.738211</td>\n",
       "      <td>99</td>\n",
       "    </tr>\n",
       "  </tbody>\n",
       "</table>\n",
       "</div>"
      ],
      "text/plain": [
       "        loss  val_loss  epoch\n",
       "95  4.727084  4.737648     95\n",
       "96  4.726821  4.738096     96\n",
       "97  4.727800  4.738259     97\n",
       "98  4.726594  4.737060     98\n",
       "99  4.726753  4.738211     99"
      ]
     },
     "execution_count": 25,
     "metadata": {},
     "output_type": "execute_result"
    }
   ],
   "source": [
    "hist = pd.DataFrame(history.history)\n",
    "hist['epoch'] = history.epoch\n",
    "hist.tail()"
   ]
  },
  {
   "cell_type": "code",
   "execution_count": 34,
   "id": "689ec686",
   "metadata": {},
   "outputs": [],
   "source": [
    "def plot_loss(history):\n",
    "  plt.plot(history.history['loss'], label='loss')\n",
    "  plt.plot(history.history['val_loss'], label='val_loss')\n",
    "  plt.ylim([4.7, 5])\n",
    "  plt.xlabel('Epoch')\n",
    "  plt.ylabel('Loss')\n",
    "  plt.legend()\n",
    "  plt.grid(True)"
   ]
  },
  {
   "cell_type": "code",
   "execution_count": 35,
   "id": "037c256c",
   "metadata": {},
   "outputs": [
    {
     "data": {
      "image/png": "[encoded data removed]",
      "text/plain": [
       "<Figure size 432x288 with 1 Axes>"
      ]
     },
     "metadata": {
      "needs_background": "light"
     },
     "output_type": "display_data"
    }
   ],
   "source": [
    "plot_loss(history)"
   ]
  },
  {
   "cell_type": "markdown",
   "id": "0d41778e",
   "metadata": {},
   "source": [
    "We can see that this model did not perform nearly as well as compared to the others! This is expected, since it's only linear regression on one variable. Similarly to the results in the cu4_regressions_technique notebook, the regression is pretty uninformative."
   ]
  },
  {
   "cell_type": "markdown",
   "id": "a67d7914",
   "metadata": {},
   "source": [
    "### PCA selection on filtered drag force data"
   ]
  },
  {
   "cell_type": "markdown",
   "id": "1eff146e",
   "metadata": {},
   "source": [
    "Before, we saw that deta_dx was selected out when PCA feature selection was run on all features (x, deta_dx, u, v, pressure/drag_force), where drag force was not filtered. Now, we will examine the PCA features selection results on the same features, but this time with drag force filtered out."
   ]
  },
  {
   "cell_type": "markdown",
   "id": "580850c5",
   "metadata": {},
   "source": [
    "The following code block shows that deta_dx is selected out when running PCA feature selection on the positive drag data."
   ]
  },
  {
   "cell_type": "code",
   "execution_count": 66,
   "id": "8753e7d0",
   "metadata": {},
   "outputs": [
    {
     "name": "stdout",
     "output_type": "stream",
     "text": [
      "Could not open/read the selected file: not given\n",
      "Using variables numbers instead of names.\n",
      "Selecting global variables via PCA and procrustes Analysis...\n",
      "Current number of variables: 4\n",
      "[0 2 3 4]\n"
     ]
    }
   ],
   "source": [
    "pos_drag_feat_sel = cu4_pos_drag[['x','deta_dx','u','v','drag_force']][1:]\n",
    "\n",
    "# Standardize the dataset; This is very important before you apply PCA\n",
    "sc = StandardScaler()\n",
    "sc.fit(pos_drag_feat_sel)\n",
    "pos_drag_feat_sel_std = sc.transform(pos_drag_feat_sel)\n",
    "pos_drag_feat_sel_std.shape\n",
    "\n",
    "# Dictionary with the instructions for PCA feature selection class:\n",
    "settings = {\n",
    "    #centering and scaling options\n",
    "    \"center\"                    : True,\n",
    "    \"centering_method\"          : \"mean\",\n",
    "    \"scale\"                     : True,\n",
    "    \"scaling_method\"            : \"auto\",\n",
    "\n",
    "    #variables selection options\n",
    "    \"method\"                    : \"procrustes\",\n",
    "    \"number_of_eigenvectors\"    : 3,\n",
    "    \"number_of_variables\"       : 4\n",
    "}\n",
    "\n",
    "PVs = model_order_reduction.variables_selection(pos_drag_feat_sel_std, settings)\n",
    "labels, numbers = PVs.fit()\n",
    "print(labels)"
   ]
  },
  {
   "cell_type": "markdown",
   "id": "b941d5c2",
   "metadata": {},
   "source": [
    "The following code block shows that deta_dx is also selected out when running PCA feature selection on the negative drag data."
   ]
  },
  {
   "cell_type": "code",
   "execution_count": 68,
   "id": "5db5ebb8",
   "metadata": {},
   "outputs": [
    {
     "name": "stdout",
     "output_type": "stream",
     "text": [
      "Could not open/read the selected file: not given\n",
      "Using variables numbers instead of names.\n",
      "Selecting global variables via PCA and procrustes Analysis...\n",
      "Current number of variables: 4\n",
      "[0 2 3 4]\n"
     ]
    }
   ],
   "source": [
    "neg_drag_feat_sel = cu4_neg_drag[['x','deta_dx','u','v','drag_force']][1:]\n",
    "\n",
    "# Standardize the dataset; This is very important before you apply PCA\n",
    "sc = StandardScaler()\n",
    "sc.fit(neg_drag_feat_sel)\n",
    "neg_drag_feat_sel_std = sc.transform(neg_drag_feat_sel)\n",
    "neg_drag_feat_sel_std.shape\n",
    "\n",
    "# Dictionary with the instructions for PCA feature selection class:\n",
    "settings = {\n",
    "    #centering and scaling options\n",
    "    \"center\"                    : True,\n",
    "    \"centering_method\"          : \"mean\",\n",
    "    \"scale\"                     : True,\n",
    "    \"scaling_method\"            : \"auto\",\n",
    "\n",
    "    #variables selection options\n",
    "    \"method\"                    : \"procrustes\",\n",
    "    \"number_of_eigenvectors\"    : 3,\n",
    "    \"number_of_variables\"       : 4\n",
    "}\n",
    "\n",
    "PVs = model_order_reduction.variables_selection(neg_drag_feat_sel_std, settings)\n",
    "labels, numbers = PVs.fit()\n",
    "print(labels)"
   ]
  },
  {
   "cell_type": "markdown",
   "id": "94a26b0f",
   "metadata": {},
   "source": [
    "What about when we replace deta_dx back with just eta? Eta is taken out in both cases as well."
   ]
  },
  {
   "cell_type": "code",
   "execution_count": 69,
   "id": "c676304b",
   "metadata": {},
   "outputs": [
    {
     "name": "stdout",
     "output_type": "stream",
     "text": [
      "Could not open/read the selected file: not given\n",
      "Using variables numbers instead of names.\n",
      "Selecting global variables via PCA and procrustes Analysis...\n",
      "Current number of variables: 4\n",
      "[0 2 3 4]\n"
     ]
    }
   ],
   "source": [
    "pos_drag_feat_sel = cu4_pos_drag[['x','eta','u','v','drag_force']][1:]\n",
    "\n",
    "# Standardize the dataset; This is very important before you apply PCA\n",
    "sc = StandardScaler()\n",
    "sc.fit(pos_drag_feat_sel)\n",
    "pos_drag_feat_sel_std = sc.transform(pos_drag_feat_sel)\n",
    "pos_drag_feat_sel_std.shape\n",
    "\n",
    "# Dictionary with the instructions for PCA feature selection class:\n",
    "settings = {\n",
    "    #centering and scaling options\n",
    "    \"center\"                    : True,\n",
    "    \"centering_method\"          : \"mean\",\n",
    "    \"scale\"                     : True,\n",
    "    \"scaling_method\"            : \"auto\",\n",
    "\n",
    "    #variables selection options\n",
    "    \"method\"                    : \"procrustes\",\n",
    "    \"number_of_eigenvectors\"    : 3,\n",
    "    \"number_of_variables\"       : 4\n",
    "}\n",
    "\n",
    "PVs = model_order_reduction.variables_selection(pos_drag_feat_sel_std, settings)\n",
    "labels, numbers = PVs.fit()\n",
    "print(labels)"
   ]
  },
  {
   "cell_type": "code",
   "execution_count": 70,
   "id": "88e1fa9a",
   "metadata": {},
   "outputs": [
    {
     "name": "stdout",
     "output_type": "stream",
     "text": [
      "Could not open/read the selected file: not given\n",
      "Using variables numbers instead of names.\n",
      "Selecting global variables via PCA and procrustes Analysis...\n",
      "Current number of variables: 4\n",
      "[0 2 3 4]\n"
     ]
    }
   ],
   "source": [
    "neg_drag_feat_sel = cu4_neg_drag[['x','eta','u','v','drag_force']][1:]\n",
    "\n",
    "# Standardize the dataset; This is very important before you apply PCA\n",
    "sc = StandardScaler()\n",
    "sc.fit(neg_drag_feat_sel)\n",
    "neg_drag_feat_sel_std = sc.transform(neg_drag_feat_sel)\n",
    "neg_drag_feat_sel_std.shape\n",
    "\n",
    "# Dictionary with the instructions for PCA feature selection class:\n",
    "settings = {\n",
    "    #centering and scaling options\n",
    "    \"center\"                    : True,\n",
    "    \"centering_method\"          : \"mean\",\n",
    "    \"scale\"                     : True,\n",
    "    \"scaling_method\"            : \"auto\",\n",
    "\n",
    "    #variables selection options\n",
    "    \"method\"                    : \"procrustes\",\n",
    "    \"number_of_eigenvectors\"    : 3,\n",
    "    \"number_of_variables\"       : 4\n",
    "}\n",
    "\n",
    "PVs = model_order_reduction.variables_selection(neg_drag_feat_sel_std, settings)\n",
    "labels, numbers = PVs.fit()\n",
    "print(labels)"
   ]
  },
  {
   "cell_type": "markdown",
   "id": "00fadda1",
   "metadata": {},
   "source": [
    "What about when drag_force is removed as a feature (we already know that drag force and eta have a high correlation)? In the case of positive drag force, x is removed as a feature. In the case of negative drag force, x is also removed as a feature. There doesn't seem to be a huge difference here."
   ]
  },
  {
   "cell_type": "code",
   "execution_count": 74,
   "id": "34b71a7e",
   "metadata": {},
   "outputs": [
    {
     "name": "stdout",
     "output_type": "stream",
     "text": [
      "Could not open/read the selected file: not given\n",
      "Using variables numbers instead of names.\n",
      "Selecting global variables via PCA and procrustes Analysis...\n",
      "Current number of variables: 3\n",
      "[1 2 3]\n"
     ]
    }
   ],
   "source": [
    "pos_drag_feat_sel = cu4_pos_drag[['x','eta','u','v']][1:]\n",
    "\n",
    "# Standardize the dataset; This is very important before you apply PCA\n",
    "sc = StandardScaler()\n",
    "sc.fit(pos_drag_feat_sel)\n",
    "pos_drag_feat_sel_std = sc.transform(pos_drag_feat_sel)\n",
    "pos_drag_feat_sel_std.shape\n",
    "\n",
    "# Dictionary with the instructions for PCA feature selection class:\n",
    "settings = {\n",
    "    #centering and scaling options\n",
    "    \"center\"                    : True,\n",
    "    \"centering_method\"          : \"mean\",\n",
    "    \"scale\"                     : True,\n",
    "    \"scaling_method\"            : \"auto\",\n",
    "\n",
    "    #variables selection options\n",
    "    \"method\"                    : \"procrustes\",\n",
    "    \"number_of_eigenvectors\"    : 2,\n",
    "    \"number_of_variables\"       : 3\n",
    "}\n",
    "\n",
    "PVs = model_order_reduction.variables_selection(pos_drag_feat_sel_std, settings)\n",
    "labels, numbers = PVs.fit()\n",
    "print(labels)"
   ]
  },
  {
   "cell_type": "code",
   "execution_count": 75,
   "id": "cf443b57",
   "metadata": {},
   "outputs": [
    {
     "name": "stdout",
     "output_type": "stream",
     "text": [
      "Could not open/read the selected file: not given\n",
      "Using variables numbers instead of names.\n",
      "Selecting global variables via PCA and procrustes Analysis...\n",
      "Current number of variables: 3\n",
      "[1 2 3]\n"
     ]
    }
   ],
   "source": [
    "neg_drag_feat_sel = cu4_neg_drag[['x','eta','u','v']][1:]\n",
    "\n",
    "# Standardize the dataset; This is very important before you apply PCA\n",
    "sc = StandardScaler()\n",
    "sc.fit(neg_drag_feat_sel)\n",
    "neg_drag_feat_sel_std = sc.transform(neg_drag_feat_sel)\n",
    "neg_drag_feat_sel_std.shape\n",
    "\n",
    "# Dictionary with the instructions for PCA feature selection class:\n",
    "settings = {\n",
    "    #centering and scaling options\n",
    "    \"center\"                    : True,\n",
    "    \"centering_method\"          : \"mean\",\n",
    "    \"scale\"                     : True,\n",
    "    \"scaling_method\"            : \"auto\",\n",
    "\n",
    "    #variables selection options\n",
    "    \"method\"                    : \"procrustes\",\n",
    "    \"number_of_eigenvectors\"    : 2,\n",
    "    \"number_of_variables\"       : 3\n",
    "}\n",
    "\n",
    "PVs = model_order_reduction.variables_selection(neg_drag_feat_sel_std, settings)\n",
    "labels, numbers = PVs.fit()\n",
    "print(labels)"
   ]
  },
  {
   "cell_type": "markdown",
   "id": "bba84796",
   "metadata": {},
   "source": [
    "The conclusion is that the same features get selected out in the two drag force filtering scenarios. Not much to be learned about any relationships here."
   ]
  },
  {
   "cell_type": "markdown",
   "id": "53bb2fbc",
   "metadata": {},
   "source": [
    "### PCA extraction on filtered drag force data"
   ]
  },
  {
   "cell_type": "markdown",
   "id": "41f16e05",
   "metadata": {},
   "source": [
    "I wonder if PCA extraction gives similar principal components. Are the features weighed the same in terms of principal components (between positive and negative drag force filters)?"
   ]
  },
  {
   "cell_type": "code",
   "execution_count": 85,
   "id": "d534bdf8",
   "metadata": {},
   "outputs": [],
   "source": [
    "feat_sel = cu4_pos_drag[['x','eta','u','v','drag_force']][1:]"
   ]
  },
  {
   "cell_type": "code",
   "execution_count": 86,
   "id": "c35ea7bb",
   "metadata": {},
   "outputs": [
    {
     "data": {
      "text/plain": [
       "(10239, 5)"
      ]
     },
     "execution_count": 86,
     "metadata": {},
     "output_type": "execute_result"
    }
   ],
   "source": [
    "sc = StandardScaler()\n",
    "sc.fit(feat_sel)\n",
    "feat_sel_std = sc.transform(feat_sel)\n",
    "feat_sel_std.shape"
   ]
  },
  {
   "cell_type": "code",
   "execution_count": 87,
   "id": "fd885183",
   "metadata": {},
   "outputs": [
    {
     "name": "stderr",
     "output_type": "stream",
     "text": [
      "The PostScript backend does not support transparency; partially transparent artists will be rendered opaque.\n",
      "The PostScript backend does not support transparency; partially transparent artists will be rendered opaque.\n"
     ]
    },
    {
     "data": {
      "image/png": "[encoded data removed]",
      "text/plain": [
       "<Figure size 432x288 with 1 Axes>"
      ]
     },
     "metadata": {
      "needs_background": "light"
     },
     "output_type": "display_data"
    },
    {
     "data": {
      "image/png": "[encoded data removed]",
      "text/plain": [
       "<Figure size 432x288 with 1 Axes>"
      ]
     },
     "metadata": {
      "needs_background": "light"
     },
     "output_type": "display_data"
    },
    {
     "data": {
      "image/png": "[encoded data removed]",
      "text/plain": [
       "<Figure size 432x288 with 1 Axes>"
      ]
     },
     "metadata": {
      "needs_background": "light"
     },
     "output_type": "display_data"
    }
   ],
   "source": [
    "# Dictionary with the instruction for the PCA algorithm:\n",
    "settings ={\n",
    "    #centering and scaling options\n",
    "    \"center\"                    : True,\n",
    "    \"centering_method\"          : \"mean\",\n",
    "    \"scale\"                     : True,\n",
    "    \"scaling_method\"            : \"auto\",\n",
    "\n",
    "    #set the final dimensionality\n",
    "    \"number_of_eigenvectors\"    : 3,\n",
    "    \n",
    "    #enable to plot the cumulative explained variance\n",
    "    \"enable_plot_variance\"      : True,\n",
    "    \n",
    "    #set the number of the variable whose reconstruction must be plotted\n",
    "    \"variable_to_plot\"          : 2,\n",
    "\n",
    "}\n",
    "\n",
    "# Start the dimensionality reduction and the feature extraction step:\n",
    "# call the PCA class and give in input X and the dictionary with the instructions\n",
    "model = model_order_reduction.PCA(feat_sel_std, settings)\n",
    "\n",
    "# Perform the dimensionality reduction via Principal Component Analysis,\n",
    "# and return the eigenvectors of the reduced manifold \n",
    "PCs = model.fit()\n",
    "\n",
    "# Compute the projection of the original points on the reduced\n",
    "# PCA manifold, obtaining the scores matrix Z\n",
    "Z = model.get_scores()\n",
    "\n",
    "# Assess the percentage of explained variance if the number of PCs has not\n",
    "# been set automatically, and plot the result\n",
    "model.get_explained()\n",
    "\n",
    "# Reconstruct the matrix from the reduced PCA manifold\n",
    "X_recovered = model.recover()\n",
    "\n",
    "# Compare the reconstructed chosen variable \"set_num_to_plot\" with the\n",
    "# original one, by means of a parity plot\n",
    "model.plot_parity()"
   ]
  },
  {
   "cell_type": "code",
   "execution_count": 90,
   "id": "2cd3e723",
   "metadata": {},
   "outputs": [
    {
     "data": {
      "image/png": "[encoded data removed]",
      "text/plain": [
       "<Figure size 432x288 with 1 Axes>"
      ]
     },
     "metadata": {
      "needs_background": "light"
     },
     "output_type": "display_data"
    },
    {
     "data": {
      "image/png": "[encoded data removed]",
      "text/plain": [
       "<Figure size 432x288 with 1 Axes>"
      ]
     },
     "metadata": {
      "needs_background": "light"
     },
     "output_type": "display_data"
    },
    {
     "data": {
      "image/png": "[encoded data removed]",
      "text/plain": [
       "<Figure size 432x288 with 1 Axes>"
      ]
     },
     "metadata": {
      "needs_background": "light"
     },
     "output_type": "display_data"
    }
   ],
   "source": [
    "for i in range (0, settings[\"number_of_eigenvectors\"]):\n",
    "    matplotlib.rcParams.update({'font.size' : 18, 'text.usetex' : True})\n",
    "    fig = plt.figure()\n",
    "    axes = fig.add_axes([0.15,0.15,0.7,0.7], frameon=True)\n",
    "    x = np.linspace(1, feat_sel_std.shape[1], feat_sel_std.shape[1])\n",
    "    axes.bar(x, PCs[0][:,i])\n",
    "    axes.set_xlabel('$Variables\\ [-]$')\n",
    "    axes.set_ylabel('$Associated\\ weight\\ on\\ PC:\\ {}\\ [-]$'.format(i + 1))\n",
    "    plt.show()"
   ]
  },
  {
   "cell_type": "markdown",
   "id": "781d4cbe",
   "metadata": {},
   "source": [
    "Now, we will produce the same output, but for negative-filtered drag."
   ]
  },
  {
   "cell_type": "code",
   "execution_count": 91,
   "id": "a36b402e",
   "metadata": {},
   "outputs": [],
   "source": [
    "feat_sel = cu4_neg_drag[['x','eta','u','v','drag_force']][1:]"
   ]
  },
  {
   "cell_type": "code",
   "execution_count": 93,
   "id": "9fc5c49c",
   "metadata": {},
   "outputs": [
    {
     "data": {
      "text/plain": [
       "(10239, 5)"
      ]
     },
     "execution_count": 93,
     "metadata": {},
     "output_type": "execute_result"
    }
   ],
   "source": [
    "sc = StandardScaler()\n",
    "sc.fit(feat_sel)\n",
    "feat_sel_std = sc.transform(feat_sel)\n",
    "feat_sel_std.shape"
   ]
  },
  {
   "cell_type": "code",
   "execution_count": 94,
   "id": "adbb811b",
   "metadata": {},
   "outputs": [
    {
     "name": "stderr",
     "output_type": "stream",
     "text": [
      "The PostScript backend does not support transparency; partially transparent artists will be rendered opaque.\n",
      "The PostScript backend does not support transparency; partially transparent artists will be rendered opaque.\n"
     ]
    },
    {
     "data": {
      "image/png": "[encoded data removed]",
      "text/plain": [
       "<Figure size 432x288 with 1 Axes>"
      ]
     },
     "metadata": {
      "needs_background": "light"
     },
     "output_type": "display_data"
    },
    {
     "data": {
      "image/png": "[encoded data removed]",
      "text/plain": [
       "<Figure size 432x288 with 1 Axes>"
      ]
     },
     "metadata": {
      "needs_background": "light"
     },
     "output_type": "display_data"
    },
    {
     "data": {
      "image/png": "[encoded data removed]",
      "text/plain": [
       "<Figure size 432x288 with 1 Axes>"
      ]
     },
     "metadata": {
      "needs_background": "light"
     },
     "output_type": "display_data"
    }
   ],
   "source": [
    "# Dictionary with the instruction for the PCA algorithm:\n",
    "settings ={\n",
    "    #centering and scaling options\n",
    "    \"center\"                    : True,\n",
    "    \"centering_method\"          : \"mean\",\n",
    "    \"scale\"                     : True,\n",
    "    \"scaling_method\"            : \"auto\",\n",
    "\n",
    "    #set the final dimensionality\n",
    "    \"number_of_eigenvectors\"    : 3,\n",
    "    \n",
    "    #enable to plot the cumulative explained variance\n",
    "    \"enable_plot_variance\"      : True,\n",
    "    \n",
    "    #set the number of the variable whose reconstruction must be plotted\n",
    "    \"variable_to_plot\"          : 2,\n",
    "\n",
    "}\n",
    "\n",
    "# Start the dimensionality reduction and the feature extraction step:\n",
    "# call the PCA class and give in input X and the dictionary with the instructions\n",
    "model = model_order_reduction.PCA(feat_sel_std, settings)\n",
    "\n",
    "# Perform the dimensionality reduction via Principal Component Analysis,\n",
    "# and return the eigenvectors of the reduced manifold \n",
    "PCs = model.fit()\n",
    "\n",
    "# Compute the projection of the original points on the reduced\n",
    "# PCA manifold, obtaining the scores matrix Z\n",
    "Z = model.get_scores()\n",
    "\n",
    "# Assess the percentage of explained variance if the number of PCs has not\n",
    "# been set automatically, and plot the result\n",
    "model.get_explained()\n",
    "\n",
    "# Reconstruct the matrix from the reduced PCA manifold\n",
    "X_recovered = model.recover()\n",
    "\n",
    "# Compare the reconstructed chosen variable \"set_num_to_plot\" with the\n",
    "# original one, by means of a parity plot\n",
    "model.plot_parity()"
   ]
  },
  {
   "cell_type": "markdown",
   "id": "a31c069c",
   "metadata": {},
   "source": [
    "The set of 5 principal components can explain slightly more variance in the overall data when drag force is negative than when its postive (83% versus 86%). This matches the output of our DNNs, which was that the MAE (mean absolute error) was slightly lower when predicting negative drag versus positive drag. This also matches a physical explanation. Let's say that the wind is going in the rightwards direction over the waves. Then, on the LHS of he waves, you have an easier relationship to learn (only negative drag forces are applied). On the RHS of the waves, the relationship is harder to learn because you have the eddies in the wind (positive and negative drag forces are applied).\n",
    "\n",
    "Let's see if the principal components are constructed in relatively the same way as well."
   ]
  },
  {
   "cell_type": "code",
   "execution_count": 95,
   "id": "5e717915",
   "metadata": {},
   "outputs": [
    {
     "data": {
      "image/png": "[encoded data removed]",
      "text/plain": [
       "<Figure size 432x288 with 1 Axes>"
      ]
     },
     "metadata": {
      "needs_background": "light"
     },
     "output_type": "display_data"
    },
    {
     "data": {
      "image/png": "[encoded data removed]",
      "text/plain": [
       "<Figure size 432x288 with 1 Axes>"
      ]
     },
     "metadata": {
      "needs_background": "light"
     },
     "output_type": "display_data"
    },
    {
     "data": {
      "image/png": "[encoded data removed]",
      "text/plain": [
       "<Figure size 432x288 with 1 Axes>"
      ]
     },
     "metadata": {
      "needs_background": "light"
     },
     "output_type": "display_data"
    }
   ],
   "source": [
    "for i in range (0, settings[\"number_of_eigenvectors\"]):\n",
    "    matplotlib.rcParams.update({'font.size' : 18, 'text.usetex' : True})\n",
    "    fig = plt.figure()\n",
    "    axes = fig.add_axes([0.15,0.15,0.7,0.7], frameon=True)\n",
    "    x = np.linspace(1, feat_sel_std.shape[1], feat_sel_std.shape[1])\n",
    "    axes.bar(x, PCs[0][:,i])\n",
    "    axes.set_xlabel('$Variables\\ [-]$')\n",
    "    axes.set_ylabel('$Associated\\ weight\\ on\\ PC:\\ {}\\ [-]$'.format(i + 1))\n",
    "    plt.show()"
   ]
  },
  {
   "cell_type": "markdown",
   "id": "45bca84a",
   "metadata": {},
   "source": [
    "Although not exactly the same, they look pretty similar! The difference is mostly in variable 5, which is drag force. The reason why the drag force is flipped between the two is because drag force is negative in one dataset and positive in the other, by construction. Therefore, if you consider the absolute value of the drag force, you can see that the principal components are constructed in relatively similar ways. I was hoping that this analysis would shed more light onto the physical difference between predicting the +/- drag forces, but ah well."
   ]
  }
 ],
 "metadata": {
  "kernelspec": {
   "display_name": "Python 3 (ipykernel)",
   "language": "python",
   "name": "python3"
  },
  "language_info": {
   "codemirror_mode": {
    "name": "ipython",
    "version": 3
   },
   "file_extension": ".py",
   "mimetype": "text/x-python",
   "name": "python",
   "nbconvert_exporter": "python",
   "pygments_lexer": "ipython3",
   "version": "3.8.5"
  }
 },
 "nbformat": 4,
 "nbformat_minor": 5
}
